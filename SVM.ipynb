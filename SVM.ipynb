e vindex, ::mlir::Value offset, ::mlir::Value glc, ::mlir::Value slc);
  static void build(::mlir::OpBuilder &odsBuilder, ::mlir::OperationState &odsState, ::mlir::TypeRange resultTypes, ::mlir::Value rsrc, ::mlir::Value vindex, ::mlir::Value offset, ::mlir::Value glc, ::mlir::Value slc);
  static void build(::mlir::OpBuilder &, ::mlir::OperationState &odsState, ::mlir::TypeRange resultTypes, ::mlir::ValueRange operands, ::llvm::ArrayRef<::mlir::NamedAttribute> attributes = {});
  static ::mlir::ParseResult parse(::mlir::OpAsmParser &parser, ::mlir::OperationState &result);
  void print(::mlir::OpAsmPrinter &p);
  ::mlir::LogicalResult verifyInvariantsImpl();
  ::mlir::LogicalResult verifyInvariants();
public:
};
} // namespace ROCDL
} // namespace mlir
MLIR_DECLARE_EXPLICIT_TYPE_ID(::mlir::ROCDL::MubufLoadOp)

namespace mlir {
namespace ROCDL {

//===----------------------------------------------------------------------===//
// ::mlir::ROCDL::MubufStoreOp declarations
//===----------------------------------------------------------------------===//

namespace detail {
class MubufStoreOpGenericAdaptorBase {
protected:
  ::mlir::DictionaryAttr odsAttrs;
  ::mlir::RegionRange odsRegions;
  ::std::optional<::mlir::OperationName> odsOpName;
public:
  MubufStoreOpGenericAdaptorBase(::mlir::DictionaryAttr attrs = nullptr, ::mlir::RegionRange regions = {});

  std::pair<unsigned, unsigned> getODSOperandIndexAndLength(unsigned index, unsigned odsOperandsSize);
  ::mlir::DictionaryAttr getAttributes();
};
} // namespace detail
template <typename RangeT>
class MubufStoreOpGenericAdaptor : public detail::MubufStoreOpGenericAdaptorBase {
  using ValueT = ::llvm::detail::ValueOfRange<RangeT>;
  using Base = detail::MubufStoreOpGenericAdaptorBase;
public:
  MubufStoreOpGenericAdaptor(RangeT values, ::mlir::DictionaryAttr attrs = nullptr, ::mlir::RegionRange regions = {}) : Base(attrs, regions), odsOperands(values) {}

  std::pair<unsigned, unsigned> getODSOperandIndexAndLength(unsigned index) {
    return Base::getODSOperandIndexAndLength(index, odsOperands.size());
  }

  RangeT getODSOperands(unsigned index) {
    auto valueRange = getODSOperandIndexAndLength(index);
    return {std::next(odsOperands.begin(), valueRange.first),
             std::next(odsOperands.begin(), valueRange.first + valueRange.second)};
  }

  ValueT getVdata() {
    return (*getODSOperands(0).begin());
  }

  ValueT getRsrc() {
    return (*getODSOperands(1).begin());
  }

  ValueT getVindex() {
    return (*getODSOperands(2).begin());
  }

  ValueT getOffset() {
    return (*getODSOperands(3).begin());
  }

  ValueT getGlc() {
    return (*getODSOperands(4).begin());
  }

  ValueT getSlc() {
    return (*getODSOperands(5).begin());
  }

  RangeT getOperands() {
    return odsOperands;
  }

private:
  RangeT odsOperands;
};
class MubufStoreOpAdaptor : public MubufStoreOpGenericAdaptor<::mlir::ValueRange> {
public:
  using MubufStoreOpGenericAdaptor::MubufStoreOpGenericAdaptor;
  MubufStoreOpAdaptor(MubufStoreOp op);

  ::mlir::LogicalResult verify(::mlir::Location loc);
};
class MubufStoreOp : public ::mlir::Op<MubufStoreOp, ::mlir::OpTrait::ZeroRegions, ::mlir::OpTrait::ZeroResults, ::mlir::OpTrait::ZeroSuccessors, ::mlir::OpTrait::NOperands<6>::Impl, ::mlir::OpTrait::OpInvariants> {
public:
  using Op::Op;
  using Op::print;
  using Adaptor = MubufStoreOpAdaptor;
  template <typename RangeT>
  using GenericAdaptor = MubufStoreOpGenericAdaptor<RangeT>;
  using FoldAdaptor = GenericAdaptor<::llvm::ArrayRef<::mlir::Attribute>>;
  static ::llvm::ArrayRef<::llvm::StringRef> getAttributeNames() {
    return {};
  }

  static constexpr ::llvm::StringLiteral getOperationName() {
    return ::llvm::StringLiteral("rocdl.buffer.store");
  }

  std::pair<unsigned, unsigned> getODSOperandIndexAndLength(unsigned index);
  ::mlir::Operation::operand_range getODSOperands(unsigned index);
  ::mlir::Value getVdata();
  ::mlir::Value getRsrc();
  ::mlir::Value getVindex();
  ::mlir::Value getOffset();
  ::mlir::Value getGlc();
  ::mlir::Value getSlc();
  ::mlir::MutableOperandRange getVdataMutable();
  ::mlir::MutableOperandRange getRsrcMutable();
  ::mlir::MutableOperandRange getVindexMutable();
  ::mlir::MutableOperandRange getOffsetMutable();
  ::mlir::MutableOperandRange getGlcMutable();
  ::mlir::MutableOperandRange getSlcMutable();
  std::pair<unsigned, unsigned> getODSResultIndexAndLength(unsigned index);
  ::mlir::Operation::result_range getODSResults(unsigned index);
  static void build(::mlir::OpBuilder &odsBuilder, ::mlir::OperationState &odsState, ::mlir::Value vdata, ::mlir::Value rsrc, ::mlir::Value vindex, ::mlir::Value offset, ::mlir::Value glc, ::mlir::Value slc);
  static void build(::mlir::OpBuilder &odsBuilder, ::mlir::OperationState &odsState, ::mlir::TypeRange resultTypes, ::mlir::Value vdata, ::mlir::Value rsrc, ::mlir::Value vindex, ::mlir::Value offset, ::mlir::Value glc, ::mlir::Value slc);
  static void build(::mlir::OpBuilder &, ::mlir::OperationState &odsState, ::mlir::TypeRange resultTypes, ::mlir::ValueRange operands, ::llvm::ArrayRef<::mlir::NamedAttribute> attributes = {});
  static ::mlir::ParseResult parse(::mlir::OpAsmParser &parser, ::mlir::OperationState &result);
  void print(::mlir::OpAsmPrinter &p);
  ::mlir::LogicalResult verifyInvariantsImpl();
  ::mlir::LogicalResult verifyInvariants();
public:
};
} // namespace ROCDL
} // namespace mlir
MLIR_DECLARE_EXPLICIT_TYPE_ID(::mlir::ROCDL::MubufStoreOp)

namespace mlir {
namespace ROCDL {

//===----------------------------------------------------------------------===//
// ::mlir::ROCDL::RawBufferAtomicFAddOp declarations
//===----------------------------------------------------------------------===//

namespace detail {
class RawBufferAtomicFAddOpGenericAdaptorBase {
protected:
  ::mlir::DictionaryAttr odsAttrs;
  ::mlir::RegionRange odsRegions;
  ::std::optional<::mlir::OperationName> odsOpName;
public:
  RawBufferAtomicFAddOpGenericAdaptorBase(::mlir::DictionaryAttr attrs = nullptr, ::mlir::RegionRange regions = {});

  std::pair<unsigned, unsigned> getODSOperandIndexAndLength(unsigned index, unsigned odsOperandsSize);
  ::mlir::DictionaryAttr getAttributes();
};
} // namespace detail
template <typename RangeT>
class RawBufferAtomicFAddOpGenericAdaptor : public detail::RawBufferAtomicFAddOpGenericAdaptorBase {
  using ValueT = ::llvm::detail::ValueOfRange<RangeT>;
  using Base = detail::RawBufferAtomicFAddOpGenericAdaptorBase;
public:
  RawBufferAtomicFAddOpGenericAdaptor(RangeT values, ::mlir::DictionaryAttr attrs = nullptr, ::mlir::RegionRange regions = {}) : Base(attrs, regions), odsOperands(values) {}

  std::pair<unsigned, unsigned> getODSOperandIndexAndLength(unsigned index) {
    return Base::getODSOperandIndexAndLength(index, odsOperands.size());
  }

  RangeT getODSOperands(unsigned index) {
    auto valueRange = getODSOperandIndexAndLength(index);
    return {std::next(odsOperands.begin(), valueRange.first),
             std::next(odsOperands.begin(), valueRange.first + valueRange.second)};
  }

  ValueT getVdata() {
    return (*getODSOperands(0).begin());
  }

  ValueT getRsrc() {
    return (*getODSOperands(1).begin());
  }

  ValueT getOffset() {
    return (*getODSOperands(2).begin());
  }

  ValueT getSoffset() {
    return (*getODSOperands(3).begin());
  }

  ValueT getAux() {
    return (*getODSOperands(4).begin());
  }

  RangeT getOperands() {
    return odsOperands;
  }

private:
  RangeT odsOperands;
};
class RawBufferAtomicFAddOpAdaptor : public RawBufferAtomicFAddOpGenericAdaptor<::mlir::ValueRange> {
public:
  using RawBufferAtomicFAddOpGenericAdaptor::RawBufferAtomicFAddOpGenericAdaptor;
  RawBufferAtomicFAddOpAdaptor(RawBufferAtomicFAddOp op);

  ::mlir::LogicalResult verify(::mlir::Location loc);
};
class RawBufferAtomicFAddOp : public ::mlir::Op<RawBufferAtomicFAddOp, ::mlir::OpTrait::ZeroRegions, ::mlir::OpTrait::ZeroResults, ::mlir::OpTrait::ZeroSuccessors, ::mlir::OpTrait::NOperands<5>::Impl, ::mlir::OpTrait::OpInvariants> {
public:
  using Op::Op;
  using Op::print;
  using Adaptor = RawBufferAtomicFAddOpAdaptor;
  template <typename RangeT>
  using GenericAdaptor = RawBufferAtomicFAddOpGenericAdaptor<RangeT>;
  using FoldAdaptor = GenericAdaptor<::llvm::ArrayRef<::mlir::Attribute>>;
  static ::llvm::ArrayRef<::llvm::StringRef> getAttributeNames() {
    return {};
  }

  static constexpr ::llvm::StringLiteral getOperationName() {
    return ::llvm::StringLiteral("rocdl.raw.buffer.atomic.fadd");
  }

  std::pair<unsigned, unsigned> getODSOperandIndexAndLength(unsigned index);
  ::mlir::Operation::operand_range getODSOperands(unsigned index);
  ::mlir::Value getVdata();
  ::mlir::Value getRsrc();
  ::mlir::Value getOffset();
  ::mlir::Value getSoffset();
  ::mlir::Value getAux();
  ::mlir::MutableOperandRange getVdataMutable();
  ::mlir::MutableOperandRange getRsrcMutable();
  ::mlir::MutableOperandRange getOffsetMutable();
  ::mlir::MutableOperandRange getSoffsetMutable();
  ::mlir::MutableOperandRange getAuxMutable();
  std::pair<unsigned, unsigned> getODSResultIndexAndLength(unsigned index);
  ::mlir::Operation::result_range getODSResults(unsigned index);
  static void build(::mlir::OpBuilder &odsBuilder, ::mlir::OperationState &odsState, ::mlir::Value vdata, ::mlir::Value rsrc, ::mlir::Value offset, ::mlir::Value soffset, ::mlir::Value aux);
  static void build(::mlir::OpBuilder &odsBuilder, ::mlir::OperationState &odsState, ::mlir::TypeRange resultTypes, ::mlir::Value vdata, ::mlir::Value rsrc, ::mlir::Value offset, ::mlir::Value soffset, ::mlir::Value aux);
  static void build(::mlir::OpBuilder &, ::mlir::OperationState &odsState, ::mlir::TypeRange resultTypes, ::mlir::ValueRange operands, ::llvm::ArrayRef<::mlir::NamedAttribute> attributes = {});
  static ::mlir::ParseResult parse(::mlir::OpAsmParser &parser, ::mlir::OperationState &result);
  void print(::mlir::OpAsmPrinter &p);
  ::mlir::LogicalResult verifyInvariantsImpl();
  ::mlir::LogicalResult verifyInvariants();
public:
};
} // namespace ROCDL
} // namespace mlir
MLIR_DECLARE_EXPLICIT_TYPE_ID(::mlir::ROCDL::RawBufferAtomicFAddOp)

namespace mlir {
namespace ROCDL {

//===----------------------------------------------------------------------===//
// ::mlir::ROCDL::RawBufferAtomicFMaxOp declarations
//===----------------------------------------------------------------------===//

namespace detail {
class RawBufferAtomicFMaxOpGenericAdaptorBase {
protected:
  ::mlir::DictionaryAttr odsAttrs;
  ::mlir::RegionRange odsRegions;
  ::std::optional<::mlir::OperationName> odsOpName;
public:
  RawBufferAtomicFMaxOpGenericAdaptorBase(::mlir::DictionaryAttr attrs = nullptr, ::mlir::RegionRange regions = {});

  std::pair<unsigned, unsigned> getODSOperandIndexAndLength(unsigned index, unsigned odsOperandsSize);
  ::mlir::DictionaryAttr getAttributes();
};
} // namespace detail
template <typename RangeT>
class RawBufferAtomicFMaxOpGenericAdaptor : public detail::RawBufferAtomicFMaxOpGenericAdaptorBase {
  using ValueT = ::llvm::detail::ValueOfRange<RangeT>;
  using Base = detail::RawBufferAtomicFMaxOpGenericAdaptorBase;
public:
  RawBufferAtomicFMaxOpGenericAdaptor(RangeT values, ::mlir::DictionaryAttr attrs = nullptr, ::mlir::RegionRange regions = {}) : Base(attrs, regions), odsOperands(values) {}

  std::pair<unsigned, unsigned> getODSOperandIndexAndLength(unsigned index) {
    return Base::getODSOperandIndexAndLength(index, odsOperands.size());
  }

  RangeT getODSOperands(unsigned index) {
    auto valueRange = getODSOperandIndexAndLength(index);
    return {std::next(odsOperands.begin(), valueRange.first),
             std::next(odsOperands.begin(), valueRange.first + valueRange.second)};
  }

  ValueT getVdata() {
    return (*getODSOperands(0).begin());
  }

  ValueT getRsrc() {
    return (*getODSOperands(1).begin());
  }

  ValueT getOffset() {
    return (*getODSOperands(2).begin());
  }

  ValueT getSoffset() {
    return (*getODSOperands(3).begin());
  }

  ValueT getAux() {
    return (*getODSOperands(4).begin());
  }

  RangeT getOperands() {
    return odsOperands;
  }

private:
  RangeT odsOperands;
};
class RawBufferAtomicFMaxOpAdaptor : public RawBufferAtomicFMaxOpGenericAdaptor<::mlir::ValueRange> {
public:
  using RawBufferAtomicFMaxOpGenericAdaptor::RawBufferAtomicFMaxOpGenericAdaptor;
  RawBufferAtomicFMaxOpAdaptor(RawBufferAtomicFMaxOp op);

  ::mlir::LogicalResult verify(::mlir::Location loc);
};
class RawBufferAtomicFMaxOp : public ::mlir::Op<RawBufferAtomicFMaxOp, ::mlir::OpTrait::ZeroRegions, ::mlir::OpTrait::ZeroResults, ::mlir::OpTrait::ZeroSuccessors, ::mlir::OpTrait::NOperands<5>::Impl, ::mlir::OpTrait::OpInvariants> {
public:
  using Op::Op;
  using Op::print;
  using Adaptor = RawBufferAtomicFMaxOpAdaptor;
  template <typename RangeT>
  using GenericAdaptor = RawBufferAtomicFMaxOpGenericAdaptor<RangeT>;
  using FoldAdaptor = GenericAdaptor<::llvm::ArrayRef<::mlir::Attribute>>;
  static ::llvm::ArrayRef<::llvm::StringRef> getAttributeNames() {
    return {};
  }

  static constexpr ::llvm::StringLiteral getOperationName() {
    return ::llvm::StringLiteral("rocdl.raw.buffer.atomic.fmax");
  }

  std::pair<unsigned, unsigned> getODSOperandIndexAndLength(unsigned index);
  ::mlir::Operation::operand_range getODSOperands(unsigned index);
  ::mlir::Value getVdata();
  ::mlir::Value getRsrc();
  ::mlir::Value getOffset();
  ::mlir::Value getSoffset();
  ::mlir::Value getAux();
  ::mlir::MutableOperandRange getVdataMutable();
  ::mlir::MutableOperandRange getRsrcMutable();
  ::mlir::MutableOperandRange getOffsetMutable();
  ::mlir::MutableOperandRange getSoffsetMutable();
  ::mlir::MutableOperandRange getAuxMutable();
  std::pair<unsigned, unsigned> getODSResultIndexAndLength(unsigned index);
  ::mlir::Operation::result_range getODSResults(unsigned index);
  static void build(::mlir::OpBuilder &odsBuilder, ::mlir::OperationState &odsState, ::mlir::Value vdata, ::mlir::Value rsrc, ::mlir::Value offset, ::mlir::Value soffset, ::mlir::Value aux);
  static void build(::mlir::OpBuilder &odsBuilder, ::mlir::OperationState &odsState, ::mlir::TypeRange resultTypes, ::mlir::Value vdata, ::mlir::Value rsrc, ::mlir::Value offset, ::mlir::Value soffset, ::mlir::Value aux);
  static void build(::mlir::OpBuilder &, ::mlir::OperationState &odsState, ::mlir::TypeRange resultTypes, ::mlir::ValueRange operands, ::llvm::ArrayRef<::mlir::NamedAttribute> attributes = {});
  static ::mlir::ParseResult parse(::mlir::OpAsmParser &parser, ::mlir::OperationState &result);
  void print(::mlir::OpAsmPrinter &p);
  ::mlir::LogicalResult verifyInvariantsImpl();
  ::mlir::LogicalResult verifyInvariants();
public:
};
} // namespace ROCDL
} // namespace mlir
MLIR_DECLARE_EXPLICIT_TYPE_ID(::mlir::ROCDL::RawBufferAtomicFMaxOp)

namespace mlir {
namespace ROCDL {

//===----------------------------------------------------------------------===//
// ::mlir::ROCDL::RawBufferAtomicSMaxOp declarations
//===----------------------------------------------------------------------===//

namespace detail {
class RawBufferAtomicSMaxOpGenericAdaptorBase {
protected:
  ::mlir::DictionaryAttr odsAttrs;
  ::mlir::RegionRange odsRegions;
  ::std::optional<::mlir::OperationName> odsOpName;
public:
  RawBufferAtomicSMaxOpGenericAdaptorBase(::mlir::DictionaryAttr attrs = nullptr, ::mlir::RegionRange regions = {});

  std::pair<unsigned, unsigned> getODSOperandIndexAndLength(unsigned index, unsigned odsOperandsSize);
  ::mlir::DictionaryAttr getAttributes();
};
} // namespace detail
template <typename RangeT>
class RawBufferAtomicSMaxOpGenericAdaptor : public detail::RawBufferAtomicSMaxOpGenericAdaptorBase {
  using ValueT = ::llvm::detail::ValueOfRange<RangeT>;
  using Base = detail::RawBufferAtomicSMaxOpGenericAdaptorBase;
public:
  RawBufferAtomicSMaxOpGenericAdaptor(RangeT values, ::mlir::DictionaryAttr attrs = nullptr, ::mlir::RegionRange regions = {}) : Base(attrs, regions), odsOperands(values) {}

  std::pair<unsigned, unsigned> getODSOperandIndexAndLength(unsigned index) {
    return Base::getODSOperandIndexAndLength(index, odsOperands.size());
  }

  RangeT getODSOperands(unsigned index) {
    auto valueRange = getODSOperandIndexAndLength(index);
    return {std::next(odsOperands.begin(), valueRange.first),
             std::next(odsOperands.begin(), valueRange.first + valueRange.second)};
  }

  ValueT getVdata() {
    return (*getODSOperands(0).begin());
  }

  ValueT getRsrc() {
    return (*getODSOperands(1).begin());
  }

  ValueT getOffset() {
    return (*getODSOperands(2).begin());
  }

  ValueT getSoffset() {
    return (*getODSOperands(3).begin());
  }

  ValueT getAux() {
    return (*getODSOperands(4).begin());
  }

  RangeT getOperands() {
    return odsOperands;
  }

private:
  RangeT odsOperands;
};
class RawBufferAtomicSMaxOpAdaptor : public RawBufferAtomicSMaxOpGenericAdaptor<::mlir::ValueRange> {
public:
  using RawBufferAtomicSMaxOpGenericAdaptor::RawBufferAtomicSMaxOpGenericAdaptor;
  RawBufferAtomicSMaxOpAdaptor(RawBufferAtomicSMaxOp op);

  ::mlir::LogicalResult verify(::mlir::Location loc);
};
class RawBufferAtomicSMaxOp : public ::mlir::Op<RawBufferAtomicSMaxOp, ::mlir::OpTrait::ZeroRegions, ::mlir::OpTrait::ZeroResults, ::mlir::OpTrait::ZeroSuccessors, ::mlir::OpTrait::NOperands<5>::Impl, ::mlir::OpTrait::OpInvariants> {
public:
  using Op::Op;
  using Op::print;
  using Adaptor = RawBufferAtomicSMaxOpAdaptor;
  template <typename RangeT>
  using GenericAdaptor = RawBufferAtomicSMaxOpGenericAdaptor<RangeT>;
  using FoldAdaptor = GenericAdaptor<::llvm::ArrayRef<::mlir::Attribute>>;
  static ::llvm::ArrayRef<::llvm::StringRef> getAttributeNames() {
    return {};
  }

  static constexpr ::llvm::StringLiteral getOperationName() {
    return ::llvm::StringLiteral("rocdl.raw.buffer.atomic.smax");
  }

  std::pair<unsigned, unsigned> getODSOperandIndexAndLength(unsigned index);
  ::mlir::Operation::operand_range getODSOperands(unsigned index);
  ::mlir::Value getVdata();
  ::mlir::Value getRsrc();
  ::mlir::Value getOffset();
  ::mlir::Value getSoffset();
  ::mlir::Value getAux();
  ::mlir::MutableOperandRange getVdataMutable();
  ::mlir::MutableOperandRange getRsrcMutable();
  ::mlir::MutableOperandRange getOffsetMutable();
  ::mlir::MutableOperandRange getSoffsetMutable();
  ::mlir::MutableOperandRange getAuxMutable();
  std::pair<unsigned, unsigned> getODSResultIndexAndLength(unsigned index);
  ::mlir::Operation::result_range getODSResults(unsigned index);
  static void build(::mlir::OpBuilder &odsBuilder, ::mlir::OperationState &odsState, ::mlir::Value vdata, ::mlir::Value rsrc, ::mlir::Value offset, ::mlir::Value soffset, ::mlir::Value aux);
  static void build(::mlir::OpBuilder &odsBuilder, ::mlir::OperationState &odsState, ::mlir::TypeRange resultTypes, ::mlir::Value vdata, ::mlir::Value rsrc, ::mlir::Value offset, ::mlir::Value soffset, ::mlir::Value aux);
  static void build(::mlir::OpBuilder &, ::mlir::OperationState &odsState, ::mlir::TypeRange resultTypes, ::mlir::ValueRange operands, ::llvm::ArrayRef<::mlir::NamedAttribute> attributes = {});
  static ::mlir::ParseResult parse(::mlir::OpAsmParser &parser, ::mlir::OperationState &result);
  void print(::mlir::OpAsmPrinter &p);
  ::mlir::LogicalResult verifyInvariantsImpl();
  ::mlir::LogicalResult verifyInvariants();
public:
};
} // namespace ROCDL
} // namespace mlir
MLIR_DECLARE_EXPLICIT_TYPE_ID(::mlir::ROCDL::RawBufferAtomicSMaxOp)

namespace mlir {
namespace ROCDL {

//===----------------------------------------------------------------------===//
// ::mlir::ROCDL::RawBufferAtomicUMinOp declarations
//===----------------------------------------------------------------------===//

namespace detail {
class RawBufferAtomicUMinOpGenericAdaptorBase {
protected:
  ::mlir::DictionaryAttr odsAttrs;
  ::mlir::RegionRange odsRegions;
  ::std::optional<::mlir::OperationName> odsOpName;
public:
  RawBufferAtomicUMinOpGenericAdaptorBase(::mlir::DictionaryAttr attrs = nullptr, ::mlir::RegionRange regions = {});

  std::pair<unsigned, unsigned> getODSOperandIndexAndLength(unsigned index, unsigned odsOperandsSize);
  ::mlir::DictionaryAttr getAttributes();
};
} // namespace detail
template <typename RangeT>
class RawBufferAtomicUMinOpGenericAdaptor : public detail::RawBufferAtomicUMinOpGenericAdaptorBase {
  using ValueT = ::llvm::detail::ValueOfRange<RangeT>;
  using Base = detail::RawBufferAtomicUMinOpGenericAdaptorBase;
public:
  RawBufferAtomicUMinOpGenericAdaptor(RangeT values, ::mlir::DictionaryAttr attrs = nullptr, ::mlir::RegionRange regions = {}) : Base(attrs, regions), odsOperands(values) {}

  std::pair<unsigned, unsigned> getODSOperandIndexAndLength(unsigned index) {
    return Base::getODSOperandIndexAndLength(index, odsOperands.size());
  }

  RangeT getODSOperands(unsigned index) {
    auto valueRange = getODSOperandIndexAndLength(index);
    return {std::next(odsOperands.begin(), valueRange.first),
             std::next(odsOperands.begin(), valueRange.first + valueRange.second)};
  }

  ValueT getVdata() {
    return (*getODSOperands(0).begin());
  }

  ValueT getRsrc() {
    return (*getODSOperands(1).begin());
  }

  ValueT getOffset() {
    return (*getODSOperands(2).begin());
  }

  ValueT getSoffset() {
    return (*getODSOperands(3).begin());
  }

  ValueT getAux() {
    return (*getODSOperands(4).begin());
  }

  RangeT getOperands() {
    return odsOperands;
  }

private:
  RangeT odsOperands;
};
class RawBufferAtomicUMinOpAdaptor : public RawBufferAtomicUMinOpGenericAdaptor<::mlir::ValueRange> {
public:
  using RawBufferAtomicUMinOpGenericAdaptor::RawBufferAtomicUMinOpGenericAdaptor;
  RawBufferAtomicUMinOpAdaptor(RawBufferAtomicUMinOp op);

  ::mlir::LogicalResult verify(::mlir::Location loc);
};
class RawBufferAtomicUMinOp : public ::mlir::Op<RawBufferAtomicUMinOp, ::mlir::OpTrait::ZeroRegions, ::mlir::OpTrait::ZeroResults, ::mlir::OpTrait::ZeroSuccessors, ::mlir::OpTrait::NOperands<5>::Impl, ::mlir::OpTrait::OpInvariants> {
public:
  using Op::Op;
  using Op::print;
  using Adaptor = RawBufferAtomicUMinOpAdaptor;
  template <typename RangeT>
  using GenericAdaptor = RawBufferAtomicUMinOpGenericAdaptor<RangeT>;
  using FoldAdaptor = GenericAdaptor<::llvm::ArrayRef<::mlir::Attribute>>;
  static ::llvm::ArrayRef<::llvm::StringRef> getAttributeNames() {
    return {};
  }

  static constexpr ::llvm::StringLiteral getOperationName() {
    return ::llvm::StringLiteral("rocdl.raw.buffer.atomic.umin");
  }

  std::pair<unsigned, unsigned> getODSOperandIndexAndLength(unsigned index);
  ::mlir::Operation::operand_range getODSOperands(unsigned index);
  ::mlir::Value getVdata();
  ::mlir::Value getRsrc();
  ::mlir::Value getOffset();
  ::mlir::Value getSoffset();
  ::mlir::Value getAux();
  ::mlir::MutableOperandRange getVdataMutable();
  ::mlir::MutableOperandRange getRsrcMutable();
  ::mlir::MutableOperandRange getOffsetMutable();
  ::mlir::MutableOperandRange getSoffsetMutable();
  ::mlir::MutableOperandRange getAuxMutable();
  std::pair<unsigned, unsigned> getODSResultIndexAndLength(unsigned index);
  ::mlir::Operation::result_range getODSResults(unsigned index);
  static void build(::mlir::OpBuilder &odsBuilder, ::mlir::OperationState &odsState, ::mlir::Value vdata, ::mlir::Value rsrc, ::mlir::Value offset, ::mlir::Value soffset, ::mlir::Value aux);
  static void build(::mlir::OpBuilder &odsBuilder, ::mlir::OperationState &odsState, ::mlir::TypeRange resultTypes, ::mlir::Value vdata, ::mlir::Value rsrc, ::mlir::Value offset, ::mlir::Value soffset, ::mlir::Value aux);
  static void build(::mlir::OpBuilder &, ::mlir::OperationState &odsState, ::mlir::TypeRange resultTypes, ::mlir::ValueRange operands, ::llvm::ArrayRef<::mlir::NamedAttribute> attributes = {});
  static ::mlir::ParseResult parse(::mlir::OpAsmParser &parser, ::mlir::OperationState &result);
  void print(::mlir::OpAsmPrinter &p);
  ::mlir::LogicalResult verifyInvariantsImpl();
  ::mlir::LogicalResult verifyInvariants();
public:
};
} // namespace ROCDL
} // namespace mlir
MLIR_DECLARE_EXPLICIT_TYPE_ID(::mlir::ROCDL::RawBufferAtomicUMinOp)

namespace mlir {
namespace ROCDL {

//===----------------------------------------------------------------------===//
// ::mlir::ROCDL::RawBufferLoadOp declarations
//===----------------------------------------------------------------------===//

namespace detail {
class RawBufferLoadOpGenericAdaptorBase {
protected:
  ::mlir::DictionaryAttr odsAttrs;
  ::mlir::RegionRange odsRegions;
  ::std::optional<::mlir::OperationName> odsOpName;
public:
  RawBufferLoadOpGenericAdaptorBase(::mlir::DictionaryAttr attrs = nullptr, ::mlir::RegionRange regions = {});

  std::pair<unsigned, unsigned> getODSOperandIndexAndLength(unsigned index, unsigned odsOperandsSize);
  ::mlir::DictionaryAttr getAttributes();
};
} // namespace detail
template <typename RangeT>
class RawBufferLoadOpGenericAdaptor : public detail::RawBufferLoadOpGenericAdaptorBase {
  using ValueT = ::llvm::detail::ValueOfRange<RangeT>;
  using Base = detail::RawBufferLoadOpGenericAdaptorBase;
public:
  RawBufferLoadOpGenericAdaptor(RangeT values, ::mlir::DictionaryAttr attrs = nullptr, ::mlir::RegionRange regions = {}) : Base(attrs, regions), odsOperands(values) {}

  std::pair<unsigned, unsigned> getODSOperandIndexAndLength(unsigned index) {
    return Base::getODSOperandIndexAndLength(index, odsOperands.size());
  }

  RangeT getODSOperands(unsigned index) {
    auto valueRange = getODSOperandIndexAndLength(index);
    return {std::next(odsOperands.begin(), valueRange.first),
             std::next(odsOperands.begin(), valueRange.first + valueRange.second)};
  }

  ValueT getRsrc() {
    return (*getODSOperands(0).begin());
  }

  ValueT getOffset() {
    return (*getODSOperands(1).begin());
  }

  ValueT getSoffset() {
    return (*getODSOperands(2).begin());
  }

  ValueT getAux() {
    return (*getODSOperands(3).begin());
  }

  RangeT getOperands() {
    return odsOperands;
  }

private:
  RangeT odsOperands;
};
class RawBufferLoadOpAdaptor : public RawBufferLoadOpGenericAdaptor<::mlir::ValueRange> {
public:
  using RawBufferLoadOpGenericAdaptor::RawBufferLoadOpGenericAdaptor;
  RawBufferLoadOpAdaptor(RawBufferLoadOp op);

  ::mlir::LogicalResult verify(::mlir::Location loc);
};
class RawBufferLoadOp : public ::mlir::Op<RawBufferLoadOp, ::mlir::OpTrait::ZeroRegions, ::mlir::OpTrait::OneResult, ::mlir::OpTrait::OneTypedResult<::mlir::Type>::Impl, ::mlir::OpTrait::ZeroSuccessors, ::mlir::OpTrait::NOperands<4>::Impl, ::mlir::OpTrait::OpInvariants> {
public:
  using Op::Op;
  using Op::print;
  using Adaptor = RawBufferLoadOpAdaptor;
  template <typename RangeT>
  using GenericAdaptor = RawBufferLoadOpGenericAdaptor<RangeT>;
  using FoldAdaptor = GenericAdaptor<::llvm::ArrayRef<::mlir::Attribute>>;
  static ::llvm::ArrayRef<::llvm::StringRef> getAttributeNames() {
    return {};
  }

  static constexpr ::llvm::StringLiteral getOperationName() {
    return ::llvm::StringLiteral("rocdl.raw.buffer.load");
  }

  std::pair<unsigned, unsigned> getODSOperandIndexAndLength(unsigned index);
  ::mlir::Operation::operand_range getODSOperands(unsigned index);
  ::mlir::Value getRsrc();
  ::mlir::Value getOffset();
  ::mlir::Value getSoffset();
  ::mlir::Value getAux();
  ::mlir::MutableOperandRange getRsrcMutable();
  ::mlir::MutableOperandRange getOffsetMutable();
  ::mlir::MutableOperandRange getSoffsetMutable();
  ::mlir::MutableOperandRange getAuxMutable();
  std::pair<unsigned, unsigned> getODSResultIndexAndLength(unsigned index);
  ::mlir::Operation::result_range getODSResults(unsigned index);
  ::mlir::Value getRes();
  static void build(::mlir::OpBuilder &odsBuilder, ::mlir::OperationState &odsState, ::mlir::Type res, ::mlir::Value rsrc, ::mlir::Value offset, ::mlir::Value soffset, ::mlir::Value aux);
  static void build(::mlir::OpBuilder &odsBuilder, ::mlir::OperationState &odsState, ::mlir::TypeRange resultTypes, ::mlir::Value rsrc, ::mlir::Value offset, ::mlir::Value soffset, ::mlir::Value aux);
  static void build(::mlir::OpBuilder &, ::mlir::OperationState &odsState, ::mlir::TypeRange resultTypes, ::mlir::ValueRange operands, ::llvm::ArrayRef<::mlir::NamedAttribute> attributes = {});
  static ::mlir::ParseResult parse(::mlir::OpAsmParser &parser, ::mlir::OperationState &result);
  void print(::mlir::OpAsmPrinter &p);
  ::mlir::LogicalResult verifyInvariantsImpl();
  ::mlir::LogicalResult verifyInvariants();
public:
};
} // namespace ROCDL
} // namespace mlir
MLIR_DECLARE_EXPLICIT_TYPE_ID(::mlir::ROCDL::RawBufferLoadOp)

namespace mlir {
namespace ROCDL {

//===----------------------------------------------------------------------===//
// ::mlir::ROCDL::RawBufferStoreOp declarations
//===----------------------------------------------------------------------===//

namespace detail {
class RawBufferStoreOpGenericAdaptorBase {
protected:
  ::mlir::DictionaryAttr odsAttrs;
  ::mlir::RegionRange odsRegions;
  ::std::optional<::mlir::OperationName> odsOpName;
public:
  RawBufferStoreOpGenericAdaptorBase(::mlir::DictionaryAttr attrs = nullptr, ::mlir::RegionRange regions = {});

  std::pair<unsigned, unsigned> getODSOperandIndexAndLength(unsigned index, unsigned odsOperandsSize);
  ::mlir::DictionaryAttr getAttributes();
};
} // namespace detail
template <typename RangeT>
class RawBufferStoreOpGenericAdaptor : public detail::RawBufferStoreOpGenericAdaptorBase {
  using ValueT = ::llvm::detail::ValueOfRange<RangeT>;
  using Base = detail::RawBufferStoreOpGenericAdaptorBase;
public:
  RawBufferStoreOpGenericAdaptor(RangeT values, ::mlir::DictionaryAttr attrs = nullptr, ::mlir::RegionRange regions = {}) : Base(attrs, regions), odsOperands(values) {}

  std::pair<unsigned, unsigned> getODSOperandIndexAndLength(unsigned index) {
    return Base::getODSOperandIndexAndLength(index, odsOperands.size());
  }

  RangeT getODSOperands(unsigned index) {
    auto valueRange = getODSOperandIndexAndLength(index);
    return {std::next(odsOperands.begin(), valueRange.first),
             std::next(odsOperands.begin(), valueRange.first + valueRange.second)};
  }

  ValueT getVdata() {
    return (*getODSOperands(0).begin());
  }

  ValueT getRsrc() {
    return (*getODSOperands(1).begin());
  }

  ValueT getOffset() {
    return (*getODSOperands(2).begin());
  }

  ValueT getSoffset() {
    return (*getODSOperands(3).begin());
  }

  ValueT getAux() {
    return (*getODSOperands(4).begin());
  }

  RangeT getOperands() {
    return odsOperands;
  }

private:
  RangeT odsOperands;
};
class RawBufferStoreOpAdaptor : public RawBufferStoreOpGenericAdaptor<::mlir::ValueRange> {
public:
  using RawBufferStoreOpGenericAdaptor::RawBufferStoreOpGenericAdaptor;
  RawBufferStoreOpAdaptor(RawBufferStoreOp op);

  ::mlir::LogicalResult verify(::mlir::Location loc);
};
class RawBufferStoreOp : public ::mlir::Op<RawBufferStoreOp, ::mlir::OpTrait::ZeroRegions, ::mlir::OpTrait::ZeroResults, ::mlir::OpTrait::ZeroSuccessors, ::mlir::OpTrait::NOperands<5>::Impl, ::mlir::OpTrait::OpInvariants> {
public:
  using Op::Op;
  using Op::print;
  using Adaptor = RawBufferStoreOpAdaptor;
  template <typename RangeT>
  using GenericAdaptor = RawBufferStoreOpGenericAdaptor<RangeT>;
  using FoldAdaptor = GenericAdaptor<::llvm::ArrayRef<::mlir::Attribute>>;
  static ::llvm::ArrayRef<::llvm::StringRef> getAttributeNames() {
    return {};
  }

  static constexpr ::llvm::StringLiteral getOperationName() {
    return ::llvm::StringLiteral("rocdl.raw.buffer.store");
  }

  std::pair<unsigned, unsigned> getODSOperandIndexAndLength(unsigned index);
  ::mlir::Operation::operand_range getODSOperands(unsigned index);
  ::mlir::Value getVdata();
  ::mlir::Value getRsrc();
  ::mlir::Value getOffset();
  ::mlir::Value getSoffset();
  ::mlir::Value getAux();
  ::mlir::MutableOperandRange getVdataMutable();
  ::mlir::MutableOperandRange getRsrcMutable();
  ::mlir::MutableOperandRange getOffsetMutable();
  ::mlir::MutableOperandRange getSoffsetMutable();
  ::mlir::MutableOperandRange getAuxMutable();
  std::pair<unsigned, unsigned> getODSResultIndexAndLength(unsigned index);
  ::mlir::Operation::result_range getODSResults(unsigned index);
  static void build(::mlir::OpBuilder &odsBuilder, ::mlir::OperationState &odsState, ::mlir::Value vdata, ::mlir::Value rsrc, ::mlir::Value offset, ::mlir::Value soffset, ::mlir::Value aux);
  static void build(::mlir::OpBuilder &odsBuilder, ::mlir::OperationState &odsState, ::mlir::TypeRange resultTypes, ::mlir::Value vdata, ::mlir::Value rsrc, ::mlir::Value offset, ::mlir::Value soffset, ::mlir::Value aux);
  static void build(::mlir::OpBuilder &, ::mlir::OperationState &odsState, ::mlir::TypeRange resultTypes, ::mlir::ValueRange operands, ::llvm::ArrayRef<::mlir::NamedAttribute> attributes = {});
  static ::mlir::ParseResult parse(::mlir::OpAsmParser &parser, ::mlir::OperationState &result);
  void print(::mlir::OpAsmPrinter &p);
  ::mlir::LogicalResult verifyInvariantsImpl();
  ::mlir::LogicalResult verifyInvariants();
public:
};
} // namespace ROCDL
} // namespace mlir
MLIR_DECLARE_EXPLICIT_TYPE_ID(::mlir::ROCDL::RawBufferStoreOp)

namespace mlir {
namespace ROCDL {

//===----------------------------------------------------------------------===//
// ::mlir::ROCDL::ThreadIdXOp declarations
//===----------------------------------------------------------------------===//

namespace detail {
class ThreadIdXOpGenericAdaptorBase {
protected:
  ::mlir::DictionaryAttr odsAttrs;
  ::mlir::RegionRange odsRegions;
  ::std::optional<::mlir::OperationName> odsOpName;
public:
  ThreadIdXOpGenericAdaptorBase(::mlir::DictionaryAttr attrs = nullptr, ::mlir::RegionRange regions = {});

  std::pair<unsigned, unsigned> getODSOperandIndexAndLength(unsigned index, unsigned odsOperandsSize);
  ::mlir::DictionaryAttr getAttributes();
};
} // namespace detail
template <typename RangeT>
class ThreadIdXOpGenericAdaptor : public detail::ThreadIdXOpGenericAdaptorBase {
  using ValueT = ::llvm::detail::ValueOfRange<RangeT>;
  using Base = detail::ThreadIdXOpGenericAdaptorBase;
public:
  ThreadIdXOpGenericAdaptor(RangeT values, ::mlir::DictionaryAttr attrs = nullptr, ::mlir::RegionRange regions = {}) : Base(attrs, regions), odsOperands(values) {}

  std::pair<unsigned, unsigned> getODSOperandIndexAndLength(unsigned index) {
    return Base::getODSOperandIndexAndLength(index, odsOperands.size());
  }

  RangeT getODSOperands(unsigned index) {
    auto valueRange = getODSOperandIndexAndLength(index);
    return {std::next(odsOperands.begin(), valueRange.first),
             std::next(odsOperands.begin(), valueRange.first + valueRange.second)};
  }

  RangeT getOperands() {
    return odsOperands;
  }

private:
  RangeT odsOperands;
};
class ThreadIdXOpAdaptor : public ThreadIdXOpGenericAdaptor<::mlir::ValueRange> {
public:
  using ThreadIdXOpGenericAdaptor::ThreadIdXOpGenericAdaptor;
  ThreadIdXOpAdaptor(ThreadIdXOp op);

  ::mlir::LogicalResult verify(::mlir::Location loc);
};
class ThreadIdXOp : public ::mlir::Op<ThreadIdXOp, ::mlir::OpTrait::ZeroRegions, ::mlir::OpTrait::OneResult, ::mlir::OpTrait::OneTypedResult<::mlir::Type>::Impl, ::mlir::OpTrait::ZeroSuccessors, ::mlir::OpTrait::ZeroOperands, ::mlir::OpTrait::OpInvariants, ::mlir::ConditionallySpeculatable::Trait, ::mlir::OpTrait::AlwaysSpeculatableImplTrait, ::mlir::MemoryEffectOpInterface::Trait> {
public:
  using Op::Op;
  using Op::print;
  using Adaptor = ThreadIdXOpAdaptor;
  template <typename RangeT>
  using GenericAdaptor = ThreadIdXOpGenericAdaptor<RangeT>;
  using FoldAdaptor = GenericAdaptor<::llvm::ArrayRef<::mlir::Attribute>>;
  static ::llvm::ArrayRef<::llvm::StringRef> getAttributeNames() {
    return {};
  }

  static constexpr ::llvm::StringLiteral getOperationName() {
    return ::llvm::StringLiteral("rocdl.workitem.id.x");
  }

  std::pair<unsigned, unsigned> getODSOperandIndexAndLength(unsigned index);
  ::mlir::Operation::operand_range getODSOperands(unsigned index);
  std::pair<unsigned, unsigned> getODSResultIndexAndLength(unsigned index);
  ::mlir::Operation::result_range getODSResults(unsigned index);
  ::mlir::Value getRes();
  static void build(::mlir::OpBuilder &odsBuilder, ::mlir::OperationState &odsState, ::mlir::Type res);
  static void build(::mlir::OpBuilder &odsBuilder, ::mlir::OperationState &odsState, ::mlir::TypeRange resultTypes);
  static void build(::mlir::OpBuilder &, ::mlir::OperationState &odsState, ::mlir::TypeRange resultTypes, ::mlir::ValueRange operands, ::llvm::ArrayRef<::mlir::NamedAttribute> attributes = {});
  ::mlir::LogicalResult verifyInvariantsImpl();
  ::mlir::LogicalResult verifyInvariants();
  static ::mlir::ParseResult parse(::mlir::OpAsmParser &parser, ::mlir::OperationState &result);
  void print(::mlir::OpAsmPrinter &_odsPrinter);
  void getEffects(::llvm::SmallVectorImpl<::mlir::SideEffects::EffectInstance<::mlir::MemoryEffects::Effect>> &effects);
public:
};
} // namespace ROCDL
} // namespace mlir
MLIR_DECLARE_EXPLICIT_TYPE_ID(::mlir::ROCDL::ThreadIdXOp)

namespace mlir {
namespace ROCDL {

//===----------------------------------------------------------------------===//
// ::mlir::ROCDL::ThreadIdYOp declarations
//===----------------------------------------------------------------------===//

namespace detail {
class ThreadIdYOpGenericAdaptorBase {
protected:
  ::mlir::DictionaryAttr odsAttrs;
  ::mlir::RegionRange odsRegions;
  ::std::optional<::mlir::OperationName> odsOpName;
public:
  ThreadIdYOpGenericAdaptorBase(::mlir::DictionaryAttr attrs = nullptr, ::mlir::RegionRange regions = {});

  std::pair<unsigned, unsigned> getODSOperandIndexAndLength(unsigned index, unsigned odsOperandsSize);
  ::mlir::DictionaryAttr getAttributes();
};
} // namespace detail
template <typename RangeT>
class ThreadIdYOpGenericAdaptor : public detail::ThreadIdYOpGenericAdaptorBase {
  using ValueT = ::llvm::detail::ValueOfRange<RangeT>;
  using Base = detail::ThreadIdYOpGenericAdaptorBase;
public:
  ThreadIdYOpGenericAdaptor(RangeT values, ::mlir::DictionaryAttr attrs = nullptr, ::mlir::RegionRange regions = {}) : Base(attrs, regions), odsOperands(values) {}

  std::pair<unsigned, unsigned> getODSOperandIndexAndLength(unsigned index) {
    return Base::getODSOperandIndexAndLength(index, odsOperands.size());
  }

  RangeT getODSOperands(unsigned index) {
    auto valueRange = getODSOperandIndexAndLength(index);
    return {std::next(odsOperands.begin(), valueRange.first),
             std::next(odsOperands.begin(), valueRange.first + valueRange.second)};
  }

  RangeT getOperands() {
    return odsOperands;
  }

private:
  RangeT odsOperands;
};
class ThreadIdYOpAdaptor : public ThreadIdYOpGenericAdaptor<::mlir::ValueRange> {
public:
  using ThreadIdYOpGenericAdaptor::ThreadIdYOpGenericAdaptor;
  ThreadIdYOpAdaptor(ThreadIdYOp op);

  ::mlir::LogicalResult verify(::mlir::Location loc);
};
class ThreadIdYOp : public ::mlir::Op<ThreadIdYOp, ::mlir::OpTrait::ZeroRegions, ::mlir::OpTrait::OneResult, ::mlir::OpTrait::OneTypedResult<::mlir::Type>::Impl, ::mlir::OpTrait::ZeroSuccessors, ::mlir::OpTrait::ZeroOperands, ::mlir::OpTrait::OpInvariants, ::mlir::ConditionallySpeculatable::Trait, ::mlir::OpTrait::AlwaysSpeculatableImplTrait, ::mlir::MemoryEffectOpInterface::Trait> {
public:
  using Op::Op;
  using Op::print;
  using Adaptor = ThreadIdYOpAdaptor;
  template <typename RangeT>
  using GenericAdaptor = ThreadIdYOpGenericAdaptor<RangeT>;
  using FoldAdaptor = GenericAdaptor<::llvm::ArrayRef<::mlir::Attribute>>;
  static ::llvm::ArrayRef<::llvm::StringRef> getAttributeNames() {
    return {};
  }

  static constexpr ::llvm::StringLiteral getOperationName() {
    return ::llvm::StringLiteral("rocdl.workitem.id.y");
  }

  std::pair<unsigned, unsigned> getODSOperandIndexAndLength(unsigned index);
  ::mlir::Operation::operand_range getODSOperands(unsigned index);
  std::pair<unsigned, unsigned> getODSResultIndexAndLength(unsigned index);
  ::mlir::Operation::result_range getODSResults(unsigned index);
  ::mlir::Value getRes();
  static void build(::mlir::OpBuilder &odsBuilder, ::mlir::OperationState &odsState, ::mlir::Type res);
  static void build(::mlir::OpBuilder &odsBuilder, ::mlir::OperationState &odsState, ::mlir::TypeRange resultTypes);
  static void build(::mlir::OpBuilder &, ::mlir::OperationState &odsState, ::mlir::TypeRange resultTypes, ::mlir::ValueRange operands, ::llvm::ArrayRef<::mlir::NamedAttribute> attributes = {});
  ::mlir::LogicalResult verifyInvariantsImpl();
  ::mlir::LogicalResult verifyInvariants();
  static ::mlir::ParseResult parse(::mlir::OpAsmParser &parser, ::mlir::OperationState &result);
  void print(::mlir::OpAsmPrinter &_odsPrinter);
  void getEffects(::llvm::SmallVectorImpl<::mlir::SideEffects::EffectInstance<::mlir::MemoryEffects::Effect>> &effects);
public:
};
} // namespace ROCDL
} // namespace mlir
MLIR_DECLARE_EXPLICIT_TYPE_ID(::mlir::ROCDL::ThreadIdYOp)

namespace mlir {
namespace ROCDL {

//===----------------------------------------------------------------------===//
// ::mlir::ROCDL::ThreadIdZOp declarations
//===----------------------------------------------------------------------===//

namespace detail {
class ThreadIdZOpGenericAdaptorBase {
protected:
  ::mlir::DictionaryAttr odsAttrs;
  ::mlir::RegionRange odsRegions;
  ::std::optional<::mlir::OperationName> odsOpName;
public:
  ThreadIdZOpGenericAdaptorBase(::mlir::DictionaryAttr attrs = nullptr, ::mlir::RegionRange regions = {});

  std::pair<unsigned, unsigned> getODSOperandIndexAndLength(unsigned index, unsigned odsOperandsSize);
  ::mlir::DictionaryAttr getAttributes();
};
} // namespace detail
template <typename RangeT>
class ThreadIdZOpGenericAdaptor : public detail::ThreadIdZOpGenericAdaptorBase {
  using ValueT = ::llvm::detail::ValueOfRange<RangeT>;
  using Base = detail::ThreadIdZOpGenericAdaptorBase;
public:
  ThreadIdZOpGenericAdaptor(RangeT values, ::mlir::DictionaryAttr attrs = nullptr, ::mlir::RegionRange regions = {}) : Base(attrs, regions), odsOperands(values) {}

  std::pair<unsigned, unsigned> getODSOperandIndexAndLength(unsigned index) {
    return Base::getODSOperandIndexAndLength(index, odsOperands.size());
  }

  RangeT getODSOperands(unsigned index) {
    auto valueRange = getODSOperandIndexAndLength(index);
    return {std::next(odsOperands.begin(), valueRange.first),
             std::next(odsOperands.begin(), valueRange.first + valueRange.second)};
  }

  RangeT getOperands() {
    return odsOperands;
  }

private:
  RangeT odsOperands;
};
class ThreadIdZOpAdaptor : public ThreadIdZOpGenericAdaptor<::mlir::ValueRange> {
public:
  using ThreadIdZOpGenericAdaptor::ThreadIdZOpGenericAdaptor;
  ThreadIdZOpAdaptor(ThreadIdZOp op);

  ::mlir::LogicalResult verify(::mlir::Location loc);
};
class ThreadIdZOp : public ::mlir::Op<ThreadIdZOp, ::mlir::OpTrait::ZeroRegions, ::mlir::OpTrait::OneResult, ::mlir::OpTrait::OneTypedResult<::mlir::Type>::Impl, ::mlir::OpTrait::ZeroSuccessors, ::mlir::OpTrait::ZeroOperands, ::mlir::OpTrait::OpInvariants, ::mlir::ConditionallySpeculatable::Trait, ::mlir::OpTrait::AlwaysSpeculatableImplTrait, ::mlir::MemoryEffectOpInterface::Trait> {
public:
  using Op::Op;
  using Op::print;
  using Adaptor = ThreadIdZOpAdaptor;
  template <typename RangeT>
  using GenericAdaptor = ThreadIdZOpGenericAdaptor<RangeT>;
  using FoldAdaptor = GenericAdaptor<::llvm::ArrayRef<::mlir::Attribute>>;
  static ::llvm::ArrayRef<::llvm::StringRef> getAttributeNames() {
    return {};
  }

  static constexpr ::llvm::StringLiteral getOperationName() {
    return ::llvm::StringLiteral("rocdl.workitem.id.z");
  }

  std::pair<unsigned, unsigned> getODSOperandIndexAndLength(unsigned index);
  ::mlir::Operation::operand_range getODSOperands(unsigned index);
  std::pair<unsigned, unsigned> getODSResultIndexAndLength(unsigned index);
  ::mlir::Operation::result_range getODSResults(unsigned index);
  ::mlir::Value getRes();
  static void build(::mlir::OpBuilder &odsBuilder, ::mlir::OperationState &odsState, ::mlir::Type res);
  static void build(::mlir::OpBuilder &odsBuilder, ::mlir::OperationState &odsState, ::mlir::TypeRange resultTypes);
  static void build(::mlir::OpBuilder &, ::mlir::OperationState &odsState, ::mlir::TypeRange resultTypes, ::mlir::ValueRange operands, ::llvm::ArrayRef<::mlir::NamedAttribute> attributes = {});
  ::mlir::LogicalResult verifyInvariantsImpl();
  ::mlir::LogicalResult verifyInvariants();
  static ::mlir::ParseResult parse(::mlir::OpAsmParser &parser, ::mlir::OperationState &result);
  void print(::mlir::OpAsmPrinter &_odsPrinter);
  void getEffects(::llvm::SmallVectorImpl<::mlir::SideEffects::EffectInstance<::mlir::MemoryEffects::Effect>> &effects);
public:
};
} // namespace ROCDL
} // namespace mlir
MLIR_DECLARE_EXPLICIT_TYPE_ID(::mlir::ROCDL::ThreadIdZOp)

namespace mlir {
namespace ROCDL {

//===----------------------------------------------------------------------===//
// ::mlir::ROCDL::mfma_f32_16x16x16bf16_1k declarations
//===----------------------------------------------------------------------===//

namespace detail {
class mfma_f32_16x16x16bf16_1kGenericAdaptorBase {
protected:
  ::mlir::DictionaryAttr odsAttrs;
  ::mlir::RegionRange odsRegions;
  ::std::optional<::mlir::OperationName> odsOpName;
public:
  mfma_f32_16x16x16bf16_1kGenericAdaptorBase(::mlir::DictionaryAttr attrs = nullptr, ::mlir::RegionRange regions = {});

  std::pair<unsigned, unsigned> getODSOperandIndexAndLength(unsigned index, unsigned odsOperandsSize);
  ::mlir::DictionaryAttr getAttributes();
};
} // namespace detail
template <typename RangeT>
class mfma_f32_16x16x16bf16_1kGenericAdaptor : public detail::mfma_f32_16x16x16bf16_1kGenericAdaptorBase {
  using ValueT = ::llvm::detail::ValueOfRange<RangeT>;
  using Base = detail::mfma_f32_16x16x16bf16_1kGenericAdaptorBase;
public:
  mfma_f32_16x16x16bf16_1kGenericAdaptor(RangeT values, ::mlir::DictionaryAttr attrs = nullptr, ::mlir::RegionRange regions = {}) : Base(attrs, regions), odsOperands(values) {}

  std::pair<unsigned, unsigned> getODSOperandIndexAndLength(unsigned index) {
    return Base::getODSOperandIndexAndLength(index, odsOperands.size());
  }

  RangeT getODSOperands(unsigned index) {
    auto valueRange = getODSOperandIndexAndLength(index);
    return {std::next(odsOperands.begin(), valueRange.first),
             std::next(odsOperands.begin(), valueRange.first + valueRange.second)};
  }

  RangeT getArgs() {
    return getODSOperands(0);
  }

  RangeT getOperands() {
    return odsOperands;
  }

private:
  RangeT odsOperands;
};
class mfma_f32_16x16x16bf16_1kAdaptor : public mfma_f32_16x16x16bf16_1kGenericAdaptor<::mlir::ValueRange> {
public:
  using mfma_f32_16x16x16bf16_1kGenericAdaptor::mfma_f32_16x16x16bf16_1kGenericAdaptor;
  mfma_f32_16x16x16bf16_1kAdaptor(mfma_f32_16x16x16bf16_1k op);

  ::mlir::LogicalResult verify(::mlir::Location loc);
};
class mfma_f32_16x16x16bf16_1k : public ::mlir::Op<mfma_f32_16x16x16bf16_1k, ::mlir::OpTrait::ZeroRegions, ::mlir::OpTrait::OneResult, ::mlir::OpTrait::OneTypedResult<::mlir::Type>::Impl, ::mlir::OpTrait::ZeroSuccessors, ::mlir::OpTrait::VariadicOperands, ::mlir::OpTrait::OpInvariants> {
public:
  using Op::Op;
  using Op::print;
  using Adaptor = mfma_f32_16x16x16bf16_1kAdaptor;
  template <typename RangeT>
  using GenericAdaptor = mfma_f32_16x16x16bf16_1kGenericAdaptor<RangeT>;
  using FoldAdaptor = GenericAdaptor<::llvm::ArrayRef<::mlir::Attribute>>;
  static ::llvm::ArrayRef<::llvm::StringRef> getAttributeNames() {
    return {};
  }

  static constexpr ::llvm::StringLiteral getOperationName() {
    return ::llvm::StringLiteral("rocdl.mfma.f32.16x16x16bf16.1k");
  }

  std::pair<unsigned, unsigned> getODSOperandIndexAndLength(unsigned index);
  ::mlir::Operation::operand_range getODSOperands(unsigned index);
  ::mlir::Operation::operand_range getArgs();
  ::mlir::MutableOperandRange getArgsMutable();
  std::pair<unsigned, unsigned> getODSResultIndexAndLength(unsigned index);
  ::mlir::Operation::result_range getODSResults(unsigned index);
  ::mlir::Value getRes();
  static void build(::mlir::OpBuilder &odsBuilder, ::mlir::OperationState &odsState, ::mlir::Type res, ::mlir::ValueRange args);
  static void build(::mlir::OpBuilder &, ::mlir::OperationState &odsState, ::mlir::TypeRange resultTypes, ::mlir::ValueRange operands, ::llvm::ArrayRef<::mlir::NamedAttribute> attributes = {});
  ::mlir::LogicalResult verifyInvariantsImpl();
  ::mlir::LogicalResult verifyInvariants();
  static ::mlir::ParseResult parse(::mlir::OpAsmParser &parser, ::mlir::OperationState &result);
  void print(::mlir::OpAsmPrinter &_odsPrinter);
public:
};
} // namespace ROCDL
} // namespace mlir
MLIR_DECLARE_EXPLICIT_TYPE_ID(::mlir::ROCDL::mfma_f32_16x16x16bf16_1k)

namespace mlir {
namespace ROCDL {

//===----------------------------------------------------------------------===//
// ::mlir::ROCDL::mfma_f32_16x16x16f16 declarations
//===----------------------------------------------------------------------===//

namespace detail {
class mfma_f32_16x16x16f16GenericAdaptorBase {
protected:
  ::mlir::DictionaryAttr odsAttrs;
  ::mlir::RegionRange odsRegions;
  ::std::optional<::mlir::OperationName> odsOpName;
public:
  mfma_f32_16x16x16f16GenericAdaptorBase(::mlir::DictionaryAttr attrs = nullptr, ::mlir::RegionRange regions = {});

  std::pair<unsigned, unsigned> getODSOperandIndexAndLength(unsigned index, unsigned odsOperandsSize);
  ::mlir::DictionaryAttr getAttributes();
};
} // namespace detail
template <typename RangeT>
class mfma_f32_16x16x16f16GenericAdaptor : public detail::mfma_f32_16x16x16f16GenericAdaptorBase {
  using ValueT = ::llvm::detail::ValueOfRange<RangeT>;
  using Base = detail::mfma_f32_16x16x16f16GenericAdaptorBase;
public:
  mfma_f32_16x16x16f16GenericAdaptor(RangeT values, ::mlir::DictionaryAttr attrs = nullptr, ::mlir::RegionRange regions = {}) : Base(attrs, regions), odsOperands(values) {}

  std::pair<unsigned, unsigned> getODSOperandIndexAndLength(unsigned index) {
    return Base::getODSOperandIndexAndLength(index, odsOperands.size());
  }

  RangeT getODSOperands(unsigned index) {
    auto valueRange = getODSOperandIndexAndLength(index);
    return {std::next(odsOperands.begin(), valueRange.first),
             std::next(odsOperands.begin(), valueRange.first + valueRange.second)};
  }

  RangeT getArgs() {
    return getODSOperands(0);
  }

  RangeT getOperands() {
    return odsOperands;
  }

private:
  RangeT odsOperands;
};
class mfma_f32_16x16x16f16Adaptor : public mfma_f32_16x16x16f16GenericAdaptor<::mlir::ValueRange> {
public:
  using mfma_f32_16x16x16f16GenericAdaptor::mfma_f32_16x16x16f16GenericAdaptor;
  mfma_f32_16x16x16f16Adaptor(mfma_f32_16x16x16f16 op);

  ::mlir::LogicalResult verify(::mlir::Location loc);
};
class mfma_f32_16x16x16f16 : public ::mlir::Op<mfma_f32_16x16x16f16, ::mlir::OpTrait::ZeroRegions, ::mlir::OpTrait::OneResult, ::mlir::OpTrait::OneTypedResult<::mlir::Type>::Impl, ::mlir::OpTrait::ZeroSuccessors, ::mlir::OpTrait::VariadicOperands, ::mlir::OpTrait::OpInvariants> {
public:
  using Op::Op;
  using Op::print;
  using Adaptor = mfma_f32_16x16x16f16Adaptor;
  template <typename RangeT>
  using GenericAdaptor = mfma_f32_16x16x16f16GenericAdaptor<RangeT>;
  using FoldAdaptor = GenericAdaptor<::llvm::ArrayRef<::mlir::Attribute>>;
  static ::llvm::ArrayRef<::llvm::StringRef> getAttributeNames() {
    return {};
  }

  static constexpr ::llvm::StringLiteral getOperationName() {
    return ::llvm::StringLiteral("rocdl.mfma.f32.16x16x16f16");
  }

  std::pair<unsigned, unsigned> getODSOperandIndexAndLength(unsigned index);
  ::mlir::Operation::operand_range getODSOperands(unsigned index);
  ::mlir::Operation::operand_range getArgs();
  ::mlir::MutableOperandRange getArgsMutable();
  std::pair<unsigned, unsigned> getODSResultIndexAndLength(unsigned index);
  ::mlir::Operation::result_range getODSResults(unsigned index);
  ::mlir::Value getRes();
  static void build(::mlir::OpBuilder &odsBuilder, ::mlir::OperationState &odsState, ::mlir::Type res, ::mlir::ValueRange args);
  static void build(::mlir::OpBuilder &, ::mlir::OperationState &odsState, ::mlir::TypeRange resultTypes, ::mlir::ValueRange operands, ::llvm::ArrayRef<::mlir::NamedAttribute> attributes = {});
  ::mlir::LogicalResult verifyInvariantsImpl();
  ::mlir::LogicalResult verifyInvariants();
  static ::mlir::ParseResult parse(::mlir::OpAsmParser &parser, ::mlir::OperationState &result);
  void print(::mlir::OpAsmPrinter &_odsPrinter);
public:
};
} // namespace ROCDL
} // namespace mlir
MLIR_DECLARE_EXPLICIT_TYPE_ID(::mlir::ROCDL::mfma_f32_16x16x16f16)

namespace mlir {
namespace ROCDL {

//===----------------------------------------------------------------------===//
// ::mlir::ROCDL::mfma_f32_16x16x1f32 declarations
//===----------------------------------------------------------------------===//

namespace detail {
class mfma_f32_16x16x1f32GenericAdaptorBase {
protected:
  ::mlir::DictionaryAttr odsAttrs;
  ::mlir::RegionRange odsRegions;
  ::std::optional<::mlir::OperationName> odsOpName;
public:
  mfma_f32_16x16x1f32GenericAdaptorBase(::mlir::DictionaryAttr attrs = nullptr, ::mlir::RegionRange regions = {});

  std::pair<unsigned, unsigned> getODSOperandIndexAndLength(unsigned index, unsigned odsOperandsSize);
  ::mlir::DictionaryAttr getAttributes();
};
} // namespace detail
template <typename RangeT>
class mfma_f32_16x16x1f32GenericAdaptor : public detail::mfma_f32_16x16x1f32GenericAdaptorBase {
  using ValueT = ::llvm::detail::ValueOfRange<RangeT>;
  using Base = detail::mfma_f32_16x16x1f32GenericAdaptorBase;
public:
  mfma_f32_16x16x1f32GenericAdaptor(RangeT values, ::mlir::DictionaryAttr attrs = nullptr, ::mlir::RegionRange regions = {}) : Base(attrs, regions), odsOperands(values) {}

  std::pair<unsigned, unsigned> getODSOperandIndexAndLength(unsigned index) {
    return Base::getODSOperandIndexAndLength(index, odsOperands.size());
  }

  RangeT getODSOperands(unsigned index) {
    auto valueRange = getODSOperandIndexAndLength(index);
    return {std::next(odsOperands.begin(), valueRange.first),
             std::next(odsOperands.begin(), valueRange.first + valueRange.second)};
  }

  RangeT getArgs() {
    return getODSOperands(0);
  }

  RangeT getOperands() {
    return odsOperands;
  }

private:
  RangeT odsOperands;
};
class mfma_f32_16x16x1f32Adaptor : public mfma_f32_16x16x1f32GenericAdaptor<::mlir::ValueRange> {
public:
  using mfma_f32_16x16x1f32GenericAdaptor::mfma_f32_16x16x1f32GenericAdaptor;
  mfma_f32_16x16x1f32Adaptor(mfma_f32_16x16x1f32 op);

  ::mlir::LogicalResult verify(::mlir::Location loc);
};
class mfma_f32_16x16x1f32 : public ::mlir::Op<mfma_f32_16x16x1f32, ::mlir::OpTrait::ZeroRegions, ::mlir::OpTrait::OneResult, ::mlir::OpTrait::OneTypedResult<::mlir::Type>::Impl, ::mlir::OpTrait::ZeroSuccessors, ::mlir::OpTrait::VariadicOperands, ::mlir::OpTrait::OpInvariants> {
public:
  using Op::Op;
  using Op::print;
  using Adaptor = mfma_f32_16x16x1f32Adaptor;
  template <typename RangeT>
  using GenericAdaptor = mfma_f32_16x16x1f32GenericAdaptor<RangeT>;
  using FoldAdaptor = GenericAdaptor<::llvm::ArrayRef<::mlir::Attribute>>;
  static ::llvm::ArrayRef<::llvm::StringRef> getAttributeNames() {
    return {};
  }

  static constexpr ::llvm::StringLiteral getOperationName() {
    return ::llvm::StringLiteral("rocdl.mfma.f32.16x16x1f32");
  }

  std::pair<unsigned, unsigned> getODSOperandIndexAndLength(unsigned index);
  ::mlir::Operation::operand_range getODSOperands(unsigned index);
  ::mlir::Operation::operand_range getArgs();
  ::mlir::MutableOperandRange getArgsMutable();
  std::pair<unsigned, unsigned> getODSResultIndexAndLength(unsigned index);
  ::mlir::Operation::result_range getODSResults(unsigned index);
  ::mlir::Value getRes();
  static void build(::mlir::OpBuilder &odsBuilder, ::mlir::OperationState &odsState, ::mlir::Type res, ::mlir::ValueRange args);
  static void build(::mlir::OpBuilder &, ::mlir::OperationState &odsState, ::mlir::TypeRange resultTypes, ::mlir::ValueRange operands, ::llvm::ArrayRef<::mlir::NamedAttribute> attributes = {});
  ::mlir::LogicalResult verifyInvariantsImpl();
  ::mlir::LogicalResult verifyInvariants();
  static ::mlir::ParseResult parse(::mlir::OpAsmParser &parser, ::mlir::OperationState &result);
  void print(::mlir::OpAsmPrinter &_odsPrinter);
public:
};
} // namespace ROCDL
} // namespace mlir
MLIR_DECLARE_EXPLICIT_TYPE_ID(::mlir::ROCDL::mfma_f32_16x16x1f32)

namespace mlir {
namespace ROCDL {

//===----------------------------------------------------------------------===//
// ::mlir::ROCDL::mfma_f32_16x16x2bf16 declarations
//===----------------------------------------------------------------------===//

namespace detail {
class mfma_f32_16x16x2bf16GenericAdaptorBase {
protected:
  ::mlir::DictionaryAttr odsAttrs;
  ::mlir::RegionRange odsRegions;
  ::std::optional<::mlir::OperationName> odsOpName;
public:
  mfma_f32_16x16x2bf16GenericAdaptorBase(::mlir::DictionaryAttr attrs = nullptr, ::mlir::RegionRange regions = {});

  std::pair<unsigned, unsigned> getODSOperandIndexAndLength(unsigned index, unsigned odsOperandsSize);
  ::mlir::DictionaryAttr getAttributes();
};
} // namespace detail
template <typename RangeT>
class mfma_f32_16x16x2bf16GenericAdaptor : public detail::mfma_f32_16x16x2bf16GenericAdaptorBase {
  using ValueT = ::llvm::detail::ValueOfRange<RangeT>;
  using Base = detail::mfma_f32_16x16x2bf16GenericAdaptorBase;
public:
  mfma_f32_16x16x2bf16GenericAdaptor(RangeT values, ::mlir::DictionaryAttr attrs = nullptr, ::mlir::RegionRange regions = {}) : Base(attrs, regions), odsOperands(values) {}

  std::pair<unsigned, unsigned> getODSOperandIndexAndLength(unsigned index) {
    return Base::getODSOperandIndexAndLength(index, odsOperands.size());
  }

  RangeT getODSOperands(unsigned index) {
    auto valueRange = getODSOperandIndexAndLength(index);
    return {std::next(odsOperands.begin(), valueRange.first),
             std::next(odsOperands.begin(), valueRange.first + valueRange.second)};
  }

  RangeT getArgs() {
    return getODSOperands(0);
  }

  RangeT getOperands() {
    return odsOperands;
  }

private:
  RangeT odsOperands;
};
class mfma_f32_16x16x2bf16Adaptor : public mfma_f32_16x16x2bf16GenericAdaptor<::mlir::ValueRange> {
public:
  using mfma_f32_16x16x2bf16GenericAdaptor::mfma_f32_16x16x2bf16GenericAdaptor;
  mfma_f32_16x16x2bf16Adaptor(mfma_f32_16x16x2bf16 op);

  ::mlir::LogicalResult verify(::mlir::Location loc);
};
class mfma_f32_16x16x2bf16 : public ::mlir::Op<mfma_f32_16x16x2bf16, ::mlir::OpTrait::ZeroRegions, ::mlir::OpTrait::OneResult, ::mlir::OpTrait::OneTypedResult<::mlir::Type>::Impl, ::mlir::OpTrait::ZeroSuccessors, ::mlir::OpTrait::VariadicOperands, ::mlir::OpTrait::OpInvariants> {
public:
  using Op::Op;
  using Op::print;
  using Adaptor = mfma_f32_16x16x2bf16Adaptor;
  template <typename RangeT>
  using GenericAdaptor = mfma_f32_16x16x2bf16GenericAdaptor<RangeT>;
  using FoldAdaptor = GenericAdaptor<::llvm::ArrayRef<::mlir::Attribute>>;
  static ::llvm::ArrayRef<::llvm::StringRef> getAttributeNames() {
    return {};
  }

  static constexpr ::llvm::StringLiteral getOperationName() {
    return ::llvm::StringLiteral("rocdl.mfma.f32.16x16x2bf16");
  }

  std::pair<unsigned, unsigned> getODSOperandIndexAndLength(unsigned index);
  ::mlir::Operation::operand_range getODSOperands(unsigned index);
  ::mlir::Operation::operand_range getArgs();
  ::mlir::MutableOperandRange getArgsMutable();
  std::pair<unsigned, unsigned> getODSResultIndexAndLength(unsigned index);
  ::mlir::Operation::result_range getODSResults(unsigned index);
  ::mlir::Value getRes();
  static void build(::mlir::OpBuilder &odsBuilder, ::mlir::OperationState &odsState, ::mlir::Type res, ::mlir::ValueRange args);
  static void build(::mlir::OpBuilder &, ::mlir::OperationState &odsState, ::mlir::TypeRange resultTypes, ::mlir::ValueRange operands, ::llvm::ArrayRef<::mlir::NamedAttribute> attributes = {});
  ::mlir::LogicalResult verifyInvariantsImpl();
  ::mlir::LogicalResult verifyInvariants();
  static ::mlir::ParseResult parse(::mlir::OpAsmParser &parser, ::mlir::OperationState &result);
  void print(::mlir::OpAsmPrinter &_odsPrinter);
public:
};
} // namespace ROCDL
} // namespace mlir
MLIR_DECLARE_EXPLICIT_TYPE_ID(::mlir::ROCDL::mfma_f32_16x16x2bf16)

namespace mlir {
namespace ROCDL {

//===----------------------------------------------------------------------===//
// ::mlir::ROCDL::mfma_f32_16x16x32_bf8_bf8 declarations
//===----------------------------------------------------------------------===//

namespace detail {
class mfma_f32_16x16x32_bf8_bf8GenericAdaptorBase {
protected:
  ::mlir::DictionaryAttr odsAttrs;
  ::mlir::RegionRange odsRegions;
  ::std::optional<::mlir::OperationName> odsOpName;
public:
  mfma_f32_16x16x32_bf8_bf8GenericAdaptorBase(::mlir::DictionaryAttr attrs = nullptr, ::mlir::RegionRange regions = {});

  std::pair<unsigned, unsigned> getODSOperandIndexAndLength(unsigned index, unsigned odsOperandsSize);
  ::mlir::DictionaryAttr getAttributes();
};
} // namespace detail
template <typename RangeT>
class mfma_f32_16x16x32_bf8_bf8GenericAdaptor : public detail::mfma_f32_16x16x32_bf8_bf8GenericAdaptorBase {
  using ValueT = ::llvm::detail::ValueOfRange<RangeT>;
  using Base = detail::mfma_f32_16x16x32_bf8_bf8GenericAdaptorBase;
public:
  mfma_f32_16x16x32_bf8_bf8GenericAdaptor(RangeT values, ::mlir::DictionaryAttr attrs = nullptr, ::mlir::RegionRange regions = {}) : Base(attrs, regions), odsOperands(values) {}

  std::pair<unsigned, unsigned> getODSOperandIndexAndLength(unsigned index) {
    return Base::getODSOperandIndexAndLength(index, odsOperands.size());
  }

  RangeT getODSOperands(unsigned index) {
    auto valueRange = getODSOperandIndexAndLength(index);
    return {std::next(odsOperands.begin(), valueRange.first),
             std::next(odsOperands.begin(), valueRange.first + valueRange.second)};
  }

  RangeT getArgs() {
    return getODSOperands(0);
  }

  RangeT getOperands() {
    return odsOperands;
  }

private:
  RangeT odsOperands;
};
class mfma_f32_16x16x32_bf8_bf8Adaptor : public mfma_f32_16x16x32_bf8_bf8GenericAdaptor<::mlir::ValueRange> {
public:
  using mfma_f32_16x16x32_bf8_bf8GenericAdaptor::mfma_f32_16x16x32_bf8_bf8GenericAdaptor;
  mfma_f32_16x16x32_bf8_bf8Adaptor(mfma_f32_16x16x32_bf8_bf8 op);

  ::mlir::LogicalResult verify(::mlir::Location loc);
};
class mfma_f32_16x16x32_bf8_bf8 : public ::mlir::Op<mfma_f32_16x16x32_bf8_bf8, ::mlir::OpTrait::ZeroRegions, ::mlir::OpTrait::OneResult, ::mlir::OpTrait::OneTypedResult<::mlir::Type>::Impl, ::mlir::OpTrait::ZeroSuccessors, ::mlir::OpTrait::VariadicOperands, ::mlir::OpTrait::OpInvariants> {
public:
  using Op::Op;
  using Op::print;
  using Adaptor = mfma_f32_16x16x32_bf8_bf8Adaptor;
  template <typename RangeT>
  using GenericAdaptor = mfma_f32_16x16x32_bf8_bf8GenericAdaptor<RangeT>;
  using FoldAdaptor = GenericAdaptor<::llvm::ArrayRef<::mlir::Attribute>>;
  static ::llvm::ArrayRef<::llvm::StringRef> getAttributeNames() {
    return {};
  }

  static constexpr ::llvm::StringLiteral getOperationName() {
    return ::llvm::StringLiteral("rocdl.mfma.f32.16x16x32.bf8.bf8");
  }

  std::pair<unsigned, unsigned> getODSOperandIndexAndLength(unsigned index);
  ::mlir::Operation::operand_range getODSOperands(unsigned index);
  ::mlir::Operation::operand_range getArgs();
  ::mlir::MutableOperandRange getArgsMutable();
  std::pair<unsigned, unsigned> getODSResultIndexAndLength(unsigned index);
  ::mlir::Operation::result_range getODSResults(unsigned index);
  ::mlir::Value getRes();
  static void build(::mlir::OpBuilder &odsBuilder, ::mlir::OperationState &odsState, ::mlir::Type res, ::mlir::ValueRange args);
  static void build(::mlir::OpBuilder &, ::mlir::OperationState &odsState, ::mlir::TypeRange resultTypes, ::mlir::ValueRange operands, ::llvm::ArrayRef<::mlir::NamedAttribute> attributes = {});
  ::mlir::LogicalResult verifyInvariantsImpl();
  ::mlir::LogicalResult verifyInvariants();
  static ::mlir::ParseResult parse(::mlir::OpAsmParser &parser, ::mlir::OperationState &result);
  void print(::mlir::OpAsmPrinter &_odsPrinter);
public:
};
} // namespace ROCDL
} // namespace mlir
MLIR_DECLARE_EXPLICIT_TYPE_ID(::mlir::ROCDL::mfma_f32_16x16x32_bf8_bf8)

namespace mlir {
namespace ROCDL {

//===----------------------------------------------------------------------===//
// ::mlir::ROCDL::mfma_f32_16x16x32_bf8_fp8 declarations
//===----------------------------------------------------------------------===//

namespace detail {
class mfma_f32_16x16x32_bf8_fp8GenericAdaptorBase {
protected:
  ::mlir::DictionaryAttr odsAttrs;
  ::mlir::RegionRange odsRegions;
  ::std::optional<::mlir::OperationName> odsOpName;
public:
  mfma_f32_16x16x32_bf8_fp8GenericAdaptorBase(::mlir::DictionaryAttr attrs = nullptr, ::mlir::RegionRange regions = {});

  std::pair<unsigned, unsigned> getODSOperandIndexAndLength(unsigned index, unsigned odsOperandsSize);
  ::mlir::DictionaryAttr getAttributes();
};
} // namespace detail
template <typename RangeT>
class mfma_f32_16x16x32_bf8_fp8GenericAdaptor : public detail::mfma_f32_16x16x32_bf8_fp8GenericAdaptorBase {
  using ValueT = ::llvm::detail::ValueOfRange<RangeT>;
  using Base = detail::mfma_f32_16x16x32_bf8_fp8GenericAdaptorBase;
public:
  mfma_f32_16x16x32_bf8_fp8GenericAdaptor(RangeT values, ::mlir::DictionaryAttr attrs = nullptr, ::mlir::RegionRange regions = {}) : Base(attrs, regions), odsOperands(values) {}

  std::pair<unsigned, unsigned> getODSOperandIndexAndLength(unsigned index) {
    return Base::getODSOperandIndexAndLength(index, odsOperands.size());
  }

  RangeT getODSOperands(unsigned index) {
    auto valueRange = getODSOperandIndexAndLength(index);
    return {std::next(odsOperands.begin(), valueRange.first),
             std::next(odsOperands.begin(), valueRange.first + valueRange.second)};
  }

  RangeT getArgs() {
    return getODSOperands(0);
  }

  RangeT getOperands() {
    return odsOperands;
  }

private:
  RangeT odsOperands;
};
class mfma_f32_16x16x32_bf8_fp8Adaptor : public mfma_f32_16x16x32_bf8_fp8GenericAdaptor<::mlir::ValueRange> {
public:
  using mfma_f32_16x16x32_bf8_fp8GenericAdaptor::mfma_f32_16x16x32_bf8_fp8GenericAdaptor;
  mfma_f32_16x16x32_bf8_fp8Adaptor(mfma_f32_16x16x32_bf8_fp8 op);

  ::mlir::LogicalResult verify(::mlir::Location loc);
};
class mfma_f32_16x16x32_bf8_fp8 : public ::mlir::Op<mfma_f32_16x16x32_bf8_fp8, ::mlir::OpTrait::ZeroRegions, ::mlir::OpTrait::OneResult, ::mlir::OpTrait::OneTypedResult<::mlir::Type>::Impl, ::mlir::OpTrait::ZeroSuccessors, ::mlir::OpTrait::VariadicOperands, ::mlir::OpTrait::OpInvariants> {
public:
  using Op::Op;
  using Op::print;
  using Adaptor = mfma_f32_16x16x32_bf8_fp8Adaptor;
  template <typename RangeT>
  using GenericAdaptor = mfma_f32_16x16x32_bf8_fp8GenericAdaptor<RangeT>;
  using FoldAdaptor = GenericAdaptor<::llvm::ArrayRef<::mlir::Attribute>>;
  static ::llvm::ArrayRef<::llvm::StringRef> getAttributeNames() {
    return {};
  }

  static constexpr ::llvm::StringLiteral getOperationName() {
    return ::llvm::StringLiteral("rocdl.mfma.f32.16x16x32.bf8.fp8");
  }

  std::pair<unsigned, unsigned> getODSOperandIndexAndLength(unsigned index);
  ::mlir::Operation::operand_range getODSOperands(unsigned index);
  ::mlir::Operation::operand_range getArgs();
  ::mlir::MutableOperandRange getArgsMutable();
  std::pair<unsigned, unsigned> getODSResultIndexAndLength(unsigned index);
  ::mlir::Operation::result_range getODSResults(unsigned index);
  ::mlir::Value getRes();
  static void build(::mlir::OpBuilder &odsBuilder, ::mlir::OperationState &odsState, ::mlir::Type res, ::mlir::ValueRange args);
  static void build(::mlir::OpBuilder &, ::mlir::OperationState &odsState, ::mlir::TypeRange resultTypes, ::mlir::ValueRange operands, ::llvm::ArrayRef<::mlir::NamedAttribute> attributes = {});
  ::mlir::LogicalResult verifyInvariantsImpl();
  ::mlir::LogicalResult verifyInvariants();
  static ::mlir::ParseResult parse(::mlir::OpAsmParser &parser, ::mlir::OperationState &result);
  void print(::mlir::OpAsmPrinter &_odsPrinter);
public:
};
} // namespace ROCDL
} // namespace mlir
MLIR_DECLARE_EXPLICIT_TYPE_ID(::mlir::ROCDL::mfma_f32_16x16x32_bf8_fp8)

namespace mlir {
namespace ROCDL {

//===----------------------------------------------------------------------===//
// ::mlir::ROCDL::mfma_f32_16x16x32_fp8_bf8 declarations
//===----------------------------------------------------------------------===//

namespace detail {
class mfma_f32_16x16x32_fp8_bf8GenericAdaptorBase {
protected:
  ::mlir::DictionaryAttr odsAttrs;
  ::mlir::RegionRange odsRegions;
  ::std::optional<::mlir::OperationName> odsOpName;
public:
  mfma_f32_16x16x32_fp8_bf8GenericAdaptorBase(::mlir::DictionaryAttr attrs = nullptr, ::mlir::RegionRange regions = {});

  std::pair<unsigned, unsigned> getODSOperandIndexAndLength(unsigned index, unsigned odsOperandsSize);
  ::mlir::DictionaryAttr getAttributes();
};
} // namespace detail
template <typename RangeT>
class mfma_f32_16x16x32_fp8_bf8GenericAdaptor : public detail::mfma_f32_16x16x32_fp8_bf8GenericAdaptorBase {
  using ValueT = ::llvm::detail::ValueOfRange<RangeT>;
  using Base = detail::mfma_f32_16x16x32_fp8_bf8GenericAdaptorBase;
public:
  mfma_f32_16x16x32_fp8_bf8GenericAdaptor(RangeT values, ::mlir::DictionaryAttr attrs = nullptr, ::mlir::RegionRange regions = {}) : Base(attrs, regions), odsOperands(values) {}

  std::pair<unsigned, unsigned> getODSOperandIndexAndLength(unsigned index) {
    return Base::getODSOperandIndexAndLength(index, odsOperands.size());
  }

  RangeT getODSOperands(unsigned index) {
    auto valueRange = getODSOperandIndexAndLength(index);
    return {std::next(odsOperands.begin(), valueRange.first),
             std::next(odsOperands.begin(), valueRange.first + valueRange.second)};
  }

  RangeT getArgs() {
    return getODSOperands(0);
  }

  RangeT getOperands() {
    return odsOperands;
  }

private:
  RangeT odsOperands;
};
class mfma_f32_16x16x32_fp8_bf8Adaptor : public mfma_f32_16x16x32_fp8_bf8GenericAdaptor<::mlir::ValueRange> {
public:
  using mfma_f32_16x16x32_fp8_bf8GenericAdaptor::mfma_f32_16x16x32_fp8_bf8GenericAdaptor;
  mfma_f32_16x16x32_fp8_bf8Adaptor(mfma_f32_16x16x32_fp8_bf8 op);

  ::mlir::LogicalResult verify(::mlir::Location loc);
};
class mfma_f32_16x16x32_fp8_bf8 : public ::mlir::Op<mfma_f32_16x16x32_fp8_bf8, ::mlir::OpTrait::ZeroRegions, ::mlir::OpTrait::OneResult, ::mlir::OpTrait::OneTypedResult<::mlir::Type>::Impl, ::mlir::OpTrait::ZeroSuccessors, ::mlir::OpTrait::VariadicOperands, ::mlir::OpTrait::OpInvariants> {
public:
  using Op::Op;
  using Op::print;
  using Adaptor = mfma_f32_16x16x32_fp8_bf8Adaptor;
  template <typename RangeT>
  using GenericAdaptor = mfma_f32_16x16x32_fp8_bf8GenericAdaptor<RangeT>;
  using FoldAdaptor = GenericAdaptor<::llvm::ArrayRef<::mlir::Attribute>>;
  static ::llvm::ArrayRef<::llvm::StringRef> getAttributeNames() {
    return {};
  }

  static constexpr ::llvm::StringLiteral getOperationName() {
    return ::llvm::StringLiteral("rocdl.mfma.f32.16x16x32.fp8.bf8");
  }

  std::pair<unsigned, unsigned> getODSOperandIndexAndLength(unsigned index);
  ::mlir::Operation::operand_range getODSOperands(unsigned index);
  ::mlir::Operation::operand_range getArgs();
  ::mlir::MutableOperandRange getArgsMutable();
  std::pair<unsigned, unsigned> getODSResultIndexAndLength(unsigned index);
  ::mlir::Operation::result_range getODSResults(unsigned index);
  ::mlir::Value getRes();
  static void build(::mlir::OpBuilder &odsBuilder, ::mlir::OperationState &odsState, ::mlir::Type res, ::mlir::ValueRange args);
  static void build(::mlir::OpBuilder &, ::mlir::OperationState &odsState, ::mlir::TypeRange resultTypes, ::mlir::ValueRange operands, ::llvm::ArrayRef<::mlir::NamedAttribute> attributes = {});
  ::mlir::LogicalResult verifyInvariantsImpl();
  ::mlir::LogicalResult verifyInvariants();
  static ::mlir::ParseResult parse(::mlir::OpAsmParser &parser, ::mlir::OperationState &result);
  void print(::mlir::OpAsmPrinter &_odsPrinter);
public:
};
} // namespace ROCDL
} // namespace mlir
MLIR_DECLARE_EXPLICIT_TYPE_ID(::mlir::ROCDL::mfma_f32_16x16x32_fp8_bf8)

namespace mlir {
namespace ROCDL {

//===----------------------------------------------------------------------===//
// ::mlir::ROCDL::mfma_f32_16x16x32_fp8_fp8 declarations
//===----------------------------------------------------------------------===//

namespace detail {
class mfma_f32_16x16x32_fp8_fp8GenericAdaptorBase {
protected:
  ::mlir::DictionaryAttr odsAttrs;
  ::mlir::RegionRange odsRegions;
  ::std::optional<::mlir::OperationName> odsOpName;
public:
  mfma_f32_16x16x32_fp8_fp8GenericAdaptorBase(::mlir::DictionaryAttr attrs = nullptr, ::mlir::RegionRange regions = {});

  std::pair<unsigned, unsigned> getODSOperandIndexAndLength(unsigned index, unsigned odsOperandsSize);
  ::mlir::DictionaryAttr getAttributes();
};
} // namespace detail
template <typename RangeT>
class mfma_f32_16x16x32_fp8_fp8GenericAdaptor : public detail::mfma_f32_16x16x32_fp8_fp8GenericAdaptorBase {
  using ValueT = ::llvm::detail::ValueOfRange<RangeT>;
  using Base = detail::mfma_f32_16x16x32_fp8_fp8GenericAdaptorBase;
public:
  mfma_f32_16x16x32_fp8_fp8GenericAdaptor(RangeT values, ::mlir::DictionaryAttr attrs = nullptr, ::mlir::RegionRange regions = {}) : Base(attrs, regions), odsOperands(values) {}

  std::pair<unsigned, unsigned> getODSOperandIndexAndLength(unsigned index) {
    return Base::getODSOperandIndexAndLength(index, odsOperands.size());
  }

  RangeT getODSOperands(unsigned index) {
    auto valueRange = getODSOperandIndexAndLength(index);
    return {std::next(odsOperands.begin(), valueRange.first),
             std::next(odsOperands.begin(), valueRange.first + valueRange.second)};
  }

  RangeT getArgs() {
    return getODSOperands(0);
  }

  RangeT getOperands() {
    return odsOperands;
  }

private:
  RangeT odsOperands;
};
class mfma_f32_16x16x32_fp8_fp8Adaptor : public mfma_f32_16x16x32_fp8_fp8GenericAdaptor<::mlir::ValueRange> {
public:
  using mfma_f32_16x16x32_fp8_fp8GenericAdaptor::mfma_f32_16x16x32_fp8_fp8GenericAdaptor;
  mfma_f32_16x16x32_fp8_fp8Adaptor(mfma_f32_16x16x32_fp8_fp8 op);

  ::mlir::LogicalResult verify(::mlir::Location loc);
};
class mfma_f32_16x16x32_fp8_fp8 : public ::mlir::Op<mfma_f32_16x16x32_fp8_fp8, ::mlir::OpTrait::ZeroRegions, ::mlir::OpTrait::OneResult, ::mlir::OpTrait::OneTypedResult<::mlir::Type>::Impl, ::mlir::OpTrait::ZeroSuccessors, ::mlir::OpTrait::VariadicOperands, ::mlir::OpTrait::OpInvariants> {
public:
  using Op::Op;
  using Op::print;
  using Adaptor = mfma_f32_16x16x32_fp8_fp8Adaptor;
  template <typename RangeT>
  using GenericAdaptor = mfma_f32_16x16x32_fp8_fp8GenericAdaptor<RangeT>;
  using FoldAdaptor = GenericAdaptor<::llvm::ArrayRef<::mlir::Attribute>>;
  static ::llvm::ArrayRef<::llvm::StringRef> getAttributeNames() {
    return {};
  }

  static constexpr ::llvm::StringLiteral getOperationName() {
    return ::llvm::StringLiteral("rocdl.mfma.f32.16x16x32.fp8.fp8");
  }

  std::pair<unsigned, unsigned> getODSOperandIndexAndLength(unsigned index);
  ::mlir::Operation::operand_range getODSOperands(unsigned index);
  ::mlir::Operation::operand_range getArgs();
  ::mlir::MutableOperandRange getArgsMutable();
  std::pair<unsigned, unsigned> getODSResultIndexAndLength(unsigned index);
  ::mlir::Operation::result_range getODSResults(unsigned index);
  ::mlir::Value getRes();
  static void build(::mlir::OpBuilder &odsBuilder, ::mlir::OperationState &odsState, ::mlir::Type res, ::mlir::ValueRange args);
  static void build(::mlir::OpBuilder &, ::mlir::OperationState &odsState, ::mlir::TypeRange resultTypes, ::mlir::ValueRange operands, ::llvm::ArrayRef<::mlir::NamedAttribute> attributes = {});
  ::mlir::LogicalResult verifyInvariantsImpl();
  ::mlir::LogicalResult verifyInvariants();
  static ::mlir::ParseResult parse(::mlir::OpAsmParser &parser, ::mlir::OperationState &result);
  void print(::mlir::OpAsmPrinter &_odsPrinter);
public:
};
} // namespace ROCDL
} // namespace mlir
MLIR_DECLARE_EXPLICIT_TYPE_ID(::mlir::ROCDL::mfma_f32_16x16x32_fp8_fp8)

namespace mlir {
namespace ROCDL {

//===----------------------------------------------------------------------===//
// ::mlir::ROCDL::mfma_f32_16x16x4bf16_1k declarations
//===----------------------------------------------------------------------===//

namespace detail {
class mfma_f32_16x16x4bf16_1kGenericAdaptorBase {
protected:
  ::mlir::DictionaryAttr odsAttrs;
  ::mlir::RegionRange odsRegions;
  ::std::optional<::mlir::OperationName> odsOpName;
public:
  mfma_f32_16x16x4bf16_1kGenericAdaptorBase(::mlir::DictionaryAttr attrs = nullptr, ::mlir::RegionRange regions = {});

  std::pair<unsigned, unsigned> getODSOperandIndexAndLength(unsigned index, unsigned odsOperandsSize);
  ::mlir::DictionaryAttr getAttributes();
};
} // namespace detail
template <typename RangeT>
class mfma_f32_16x16x4bf16_1kGenericAdaptor : public detail::mfma_f32_16x16x4bf16_1kGenericAdaptorBase {
  using ValueT = ::llvm::detail::ValueOfRange<RangeT>;
  using Base = detail::mfma_f32_16x16x4bf16_1kGenericAdaptorBase;
public:
  mfma_f32_16x16x4bf16_1kGenericAdaptor(RangeT values, ::mlir::DictionaryAttr attrs = nullptr, ::mlir::RegionRange regions = {}) : Base(attrs, regions), odsOperands(values) {}

  std::pair<unsigned, unsigned> getODSOperandIndexAndLength(unsigned index) {
    return Base::getODSOperandIndexAndLength(index, odsOperands.size());
  }

  RangeT getODSOperands(unsigned index) {
    auto valueRange = getODSOperandIndexAndLength(index);
    return {std::next(odsOperands.begin(), valueRange.first),
             std::next(odsOperands.begin(), valueRange.first + valueRange.second)};
  }

  RangeT getArgs() {
    return getODSOperands(0);
  }

  RangeT getOperands() {
    return odsOperands;
  }

private:
  RangeT odsOperands;
};
class mfma_f32_16x16x4bf16_1kAdaptor : public mfma_f32_16x16x4bf16_1kGenericAdaptor<::mlir::ValueRange> {
public:
  using mfma_f32_16x16x4bf16_1kGenericAdaptor::mfma_f32_16x16x4bf16_1kGenericAdaptor;
  mfma_f32_16x16x4bf16_1kAdaptor(mfma_f32_16x16x4bf16_1k op);

  ::mlir::LogicalResult verify(::mlir::Location loc);
};
class mfma_f32_16x16x4bf16_1k : public ::mlir::Op<mfma_f32_16x16x4bf16_1k, ::mlir::OpTrait::ZeroRegions, ::mlir::OpTrait::OneResult, ::mlir::OpTrait::OneTypedResult<::mlir::Type>::Impl, ::mlir::OpTrait::ZeroSuccessors, ::mlir::OpTrait::VariadicOperands, ::mlir::OpTrait::OpInvariants> {
public:
  using Op::Op;
  using Op::print;
  using Adaptor = mfma_f32_16x16x4bf16_1kAdaptor;
  template <typename RangeT>
  using GenericAdaptor = mfma_f32_16x16x4bf16_1kGenericAdaptor<RangeT>;
  using FoldAdaptor = GenericAdaptor<::llvm::ArrayRef<::mlir::Attribute>>;
  static ::llvm::ArrayRef<::llvm::StringRef> getAttributeNames() {
    return {};
  }

  static constexpr ::llvm::StringLiteral getOperationName() {
    return ::llvm::StringLiteral("rocdl.mfma.f32.16x16x4bf16.1k");
  }

  std::pair<unsigned, unsigned> getODSOperandIndexAndLength(unsigned index);
  ::mlir::Operation::operand_range getODSOperands(unsigned index);
  ::mlir::Operation::operand_range getArgs();
  ::mlir::MutableOperandRange getArgsMutable();
  std::pair<unsigned, unsigned> getODSResultIndexAndLength(unsigned index);
  ::mlir::Operation::result_range getODSResults(unsigned index);
  ::mlir::Value getRes();
  static void build(::mlir::OpBuilder &odsBuilder, ::mlir::OperationState &odsState, ::mlir::Type res, ::mlir::ValueRange args);
  static void build(::mlir::OpBuilder &, ::mlir::OperationState &odsState, ::mlir::TypeRange resultTypes, ::mlir::ValueRange operands, ::llvm::ArrayRef<::mlir::NamedAttribute> attributes = {});
  ::mlir::LogicalResult verifyInvariantsImpl();
  ::mlir::LogicalResult verifyInvariants();
  static ::mlir::ParseResult parse(::mlir::OpAsmParser &parser, ::mlir::OperationState &result);
  void print(::mlir::OpAsmPrinter &_odsPrinter);
public:
};
} // namespace ROCDL
} // namespace mlir
MLIR_DECLARE_EXPLICIT_TYPE_ID(::mlir::ROCDL::mfma_f32_16x16x4bf16_1k)

namespace mlir {
namespace ROCDL {

//===----------------------------------------------------------------------===//
// ::mlir::ROCDL::mfma_f32_16x16x4f16 declarations
//===----------------------------------------------------------------------===//

namespace detail {
class mfma_f32_16x16x4f16GenericAdaptorBase {
protected:
  ::mlir::DictionaryAttr odsAttrs;
  ::mlir::RegionRange odsRegions;
  ::std::optional<::mlir::OperationName> odsOpName;
public:
  mfma_f32_16x16x4f16GenericAdaptorBase(::mlir::DictionaryAttr attrs = nullptr, ::mlir::RegionRange regions = {});

  std::pair<unsigned, unsigned> getODSOperandIndexAndLength(unsigned index, unsigned odsOperandsSize);
  ::mlir::DictionaryAttr getAttributes();
};
} // namespace detail
template <typename RangeT>
class mfma_f32_16x16x4f16GenericAdaptor : public detail::mfma_f32_16x16x4f16GenericAdaptorBase {
  using ValueT = ::llvm::detail::ValueOfRange<RangeT>;
  using Base = detail::mfma_f32_16x16x4f16GenericAdaptorBase;
public:
  mfma_f32_16x16x4f16GenericAdaptor(RangeT values, ::mlir::DictionaryAttr attrs = nullptr, ::mlir::RegionRange regions = {}) : Base(attrs, regions), odsOperands(values) {}

  std::pair<unsigned, unsigned> getODSOperandIndexAndLength(unsigned index) {
    return Base::getODSOperandIndexAndLength(index, odsOperands.size());
  }

  RangeT getODSOperands(unsigned index) {
    auto valueRange = getODSOperandIndexAndLength(index);
    return {std::next(odsOperands.begin(), valueRange.first),
             std::next(odsOperands.begin(), valueRange.first + valueRange.second)};
  }

  RangeT getArgs() {
    return getODSOperands(0);
  }

  RangeT getOperands() {
    return odsOperands;
  }

private:
  RangeT odsOperands;
};
class mfma_f32_16x16x4f16Adaptor : public mfma_f32_16x16x4f16GenericAdaptor<::mlir::ValueRange> {
public:
  using mfma_f32_16x16x4f16GenericAdaptor::mfma_f32_16x16x4f16GenericAdaptor;
  mfma_f32_16x16x4f16Adaptor(mfma_f32_16x16x4f16 op);

  ::mlir::LogicalResult verify(::mlir::Location loc);
};
class mfma_f32_16x16x4f16 : public ::mlir::Op<mfma_f32_16x16x4f16, ::mlir::OpTrait::ZeroRegions, ::mlir::OpTrait::OneResult, ::mlir::OpTrait::OneTypedResult<::mlir::Type>::Impl, ::mlir::OpTrait::ZeroSuccessors, ::mlir::OpTrait::VariadicOperands, ::mlir::OpTrait::OpInvariants> {
public:
  using Op::Op;
  using Op::print;
  using Adaptor = mfma_f32_16x16x4f16Adaptor;
  template <typename RangeT>
  using GenericAdaptor = mfma_f32_16x16x4f16GenericAdaptor<RangeT>;
  using FoldAdaptor = GenericAdaptor<::llvm::ArrayRef<::mlir::Attribute>>;
  static ::llvm::ArrayRef<::llvm::StringRef> getAttributeNames() {
    return {};
  }

  static constexpr ::llvm::StringLiteral getOperationName() {
    return ::llvm::StringLiteral("rocdl.mfma.f32.16x16x4f16");
  }

  std::pair<unsigned, unsigned> getODSOperandIndexAndLength(unsigned index);
  ::mlir::Operation::operand_range getODSOperands(unsigned index);
  ::mlir::Operation::operand_range getArgs();
  ::mlir::MutableOperandRange getArgsMutable();
  std::pair<unsigned, unsigned> getODSResultIndexAndLength(unsigned index);
  ::mlir::Operation::result_range getODSResults(unsigned index);
  ::mlir::Value getRes();
  static void build(::mlir::OpBuilder &odsBuilder, ::mlir::OperationState &odsState, ::mlir::Type res, ::mlir::ValueRange args);
  static void build(::mlir::OpBuilder &, ::mlir::OperationState &odsState, ::mlir::TypeRange resultTypes, ::mlir::ValueRange operands, ::llvm::ArrayRef<::mlir::NamedAttribute> attributes = {});
  ::mlir::LogicalResult verifyInvariantsImpl();
  ::mlir::LogicalResult verifyInvariants();
  static ::mlir::ParseResult parse(::mlir::OpAsmParser &parser, ::mlir::OperationState &result);
  void print(::mlir::OpAsmPrinter &_odsPrinter);
public:
};
} // namespace ROCDL
} // namespace mlir
MLIR_DECLARE_EXPLICIT_TYPE_ID(::mlir::ROCDL::mfma_f32_16x16x4f16)

namespace mlir {
namespace ROCDL {

//===----------------------------------------------------------------------===//
// ::mlir::ROCDL::mfma_f32_16x16x4f32 declarations
//===----------------------------------------------------------------------===//

namespace detail {
class mfma_f32_16x16x4f32GenericAdaptorBase {
protected:
  ::mlir::DictionaryAttr odsAttrs;
  ::mlir::RegionRange odsRegions;
  ::std::optional<::mlir::OperationName> odsOpName;
public:
  mfma_f32_16x16x4f32GenericAdaptorBase(::mlir::DictionaryAttr attrs = nullptr, ::mlir::RegionRange regions = {});

  std::pair<unsigned, unsigned> getODSOperandIndexAndLength(unsigned index, unsigned odsOperandsSize);
  ::mlir::DictionaryAttr getAttributes();
};
} // namespace detail
template <typename RangeT>
class mfma_f32_16x16x4f32GenericAdaptor : public detail::mfma_f32_16x16x4f32GenericAdaptorBase {
  using ValueT = ::llvm::detail::ValueOfRange<RangeT>;
  using Base = detail::mfma_f32_16x16x4f32GenericAdaptorBase;
public:
  mfma_f32_16x16x4f32GenericAdaptor(RangeT values, ::mlir::DictionaryAttr attrs = nullptr, ::mlir::RegionRange regions = {}) : Base(attrs, regions), odsOperands(values) {}

  std::pair<unsigned, unsigned> getODSOperandIndexAndLength(unsigned index) {
    return Base::getODSOperandIndexAndLength(index, odsOperands.size());
  }

  RangeT getODSOperands(unsigned index) {
    auto valueRange = getODSOperandIndexAndLength(index);
    return {std::next(odsOperands.begin(), valueRange.first),
             std::next(odsOperands.begin(), valueRange.first + valueRange.second)};
  }

  RangeT getArgs() {
    return getODSOperands(0);
  }

  RangeT getOperands() {
    return odsOperands;
  }

private:
  RangeT odsOperands;
};
class mfma_f32_16x16x4f32Adaptor : public mfma_f32_16x16x4f32GenericAdaptor<::mlir::ValueRange> {
public:
  using mfma_f32_16x16x4f32GenericAdaptor::mfma_f32_16x16x4f32GenericAdaptor;
  mfma_f32_16x16x4f32Adaptor(mfma_f32_16x16x4f32 op);

  ::mlir::LogicalResult verify(::mlir::Location loc);
};
class mfma_f32_16x16x4f32 : public ::mlir::Op<mfma_f32_16x16x4f32, ::mlir::OpTrait::ZeroRegions, ::mlir::OpTrait::OneResult, ::mlir::OpTrait::OneTypedResult<::mlir::Type>::Impl, ::mlir::OpTrait::ZeroSuccessors, ::mlir::OpTrait::VariadicOperands, ::mlir::OpTrait::OpInvariants> {
public:
  using Op::Op;
  using Op::print;
  using Adaptor = mfma_f32_16x16x4f32Adaptor;
  template <typename RangeT>
  using GenericAdaptor = mfma_f32_16x16x4f32GenericAdaptor<RangeT>;
  using FoldAdaptor = GenericAdaptor<::llvm::ArrayRef<::mlir::Attribute>>;
  static ::llvm::ArrayRef<::llvm::StringRef> getAttributeNames() {
    return {};
  }

  static constexpr ::llvm::StringLiteral getOperationName() {
    return ::llvm::StringLiteral("rocdl.mfma.f32.16x16x4f32");
  }

  std::pair<unsigned, unsigned> getODSOperandIndexAndLength(unsigned index);
  ::mlir::Operation::operand_range getODSOperands(unsigned index);
  ::mlir::Operation::operand_range getArgs();
  ::mlir::MutableOperandRange getArgsMutable();
  std::pair<unsigned, unsigned> getODSResultIndexAndLength(unsigned index);
  ::mlir::Operation::result_range getODSResults(unsigned index);
  ::mlir::Value getRes();
  static void build(::mlir::OpBuilder &odsBuilder, ::mlir::OperationState &odsState, ::mlir::Type res, ::mlir::ValueRange args);
  static void build(::mlir::OpBuilder &, ::mlir::OperationState &odsState, ::mlir::TypeRange resultTypes, ::mlir::ValueRange operands, ::llvm::ArrayRef<::mlir::NamedAttribute> attributes = {});
  ::mlir::LogicalResult verifyInvariantsImpl();
  ::mlir::LogicalResult verifyInvariants();
  static ::mlir::ParseResult parse(::mlir::OpAsmParser &parser, ::mlir::OperationState &result);
  void print(::mlir::OpAsmPrinter &_odsPrinter);
public:
};
} // namespace ROCDL
} // namespace mlir
MLIR_DECLARE_EXPLICIT_TYPE_ID(::mlir::ROCDL::mfma_f32_16x16x4f32)

namespace mlir {
namespace ROCDL {

//===----------------------------------------------------------------------===//
// ::mlir::ROCDL::mfma_f32_16x16x8_xf32 declarations
//===----------------------------------------------------------------------===//

namespace detail {
class mfma_f32_16x16x8_xf32GenericAdaptorBase {
protected:
  ::mlir::DictionaryAttr odsAttrs;
  ::mlir::RegionRange odsRegions;
  ::std::optional<::mlir::OperationName> odsOpName;
public:
  mfma_f32_16x16x8_xf32GenericAdaptorBase(::mlir::DictionaryAttr attrs = nullptr, ::mlir::RegionRange regions = {});

  std::pair<unsigned, unsigned> getODSOperandIndexAndLength(unsigned index, unsigned odsOperandsSize);
  ::mlir::DictionaryAttr getAttributes();
};
} // namespace detail
template <typename RangeT>
class mfma_f32_16x16x8_xf32GenericAdaptor : public detail::mfma_f32_16x16x8_xf32GenericAdaptorBase {
  using ValueT = ::llvm::detail::ValueOfRange<RangeT>;
  using Base = detail::mfma_f32_16x16x8_xf32GenericAdaptorBase;
public:
  mfma_f32_16x16x8_xf32GenericAdaptor(RangeT values, ::mlir::DictionaryAttr attrs = nullptr, ::mlir::RegionRange regions = {}) : Base(attrs, regions), odsOperands(values) {}

  std::pair<unsigned, unsigned> getODSOperandIndexAndLength(unsigned index) {
    return Base::getODSOperandIndexAndLength(index, odsOperands.size());
  }

  RangeT getODSOperands(unsigned index) {
    auto valueRange = getODSOperandIndexAndLength(index);
    return {std::next(odsOperands.begin(), valueRange.first),
             std::next(odsOperands.begin(), valueRange.first + valueRange.second)};
  }

  RangeT getArgs() {
    return getODSOperands(0);
  }

  RangeT getOperands() {
    return odsOperands;
  }

private:
  RangeT odsOperands;
};
class mfma_f32_16x16x8_xf32Adaptor : public mfma_f32_16x16x8_xf32GenericAdaptor<::mlir::ValueRange> {
public:
  using mfma_f32_16x16x8_xf32GenericAdaptor::mfma_f32_16x16x8_xf32GenericAdaptor;
  mfma_f32_16x16x8_xf32Adaptor(mfma_f32_16x16x8_xf32 op);

  ::mlir::LogicalResult verify(::mlir::Location loc);
};
class mfma_f32_16x16x8_xf32 : public ::mlir::Op<mfma_f32_16x16x8_xf32, ::mlir::OpTrait::ZeroRegions, ::mlir::OpTrait::OneResult, ::mlir::OpTrait::OneTypedResult<::mlir::Type>::Impl, ::mlir::OpTrait::ZeroSuccessors, ::mlir::OpTrait::VariadicOperands, ::mlir::OpTrait::OpInvariants> {
public:
  using Op::Op;
  using Op::print;
  using Adaptor = mfma_f32_16x16x8_xf32Adaptor;
  template <typename RangeT>
  using GenericAdaptor = mfma_f32_16x16x8_xf32GenericAdaptor<RangeT>;
  using FoldAdaptor = GenericAdaptor<::llvm::ArrayRef<::mlir::Attribute>>;
  static ::llvm::ArrayRef<::llvm::StringRef> getAttributeNames() {
    return {};
  }

  static constexpr ::llvm::StringLiteral getOperationName() {
    return ::llvm::StringLiteral("rocdl.mfma.f32.16x16x8.xf32");
  }

  std::pair<unsigned, unsigned> getODSOperandIndexAndLength(unsigned index);
  ::mlir::Operation::operand_range getODSOperands(unsigned index);
  ::mlir::Operation::operand_range getArgs();
  ::mlir::MutableOperandRange getArgsMutable();
  std::pair<unsigned, unsigned> getODSResultIndexAndLength(unsigned index);
  ::mlir::Operation::result_range getODSResults(unsigned index);
  ::mlir::Value getRes();
  static void build(::mlir::OpBuilder &odsBuilder, ::mlir::OperationState &odsState, ::mlir::Type res, ::mlir::ValueRange args);
  static void build(::mlir::OpBuilder &, ::mlir::OperationState &odsState, ::mlir::TypeRange resultTypes, ::mlir::ValueRange operands, ::llvm::ArrayRef<::mlir::NamedAttribute> attributes = {});
  ::mlir::LogicalResult verifyInvariantsImpl();
  ::mlir::LogicalResult verifyInvariants();
  static ::mlir::ParseResult parse(::mlir::OpAsmParser &parser, ::mlir::OperationState &result);
  void print(::mlir::OpAsmPrinter &_odsPrinter);
public:
};
} // namespace ROCDL
} // namespace mlir
MLIR_DECLARE_EXPLICIT_TYPE_ID(::mlir::ROCDL::mfma_f32_16x16x8_xf32)

namespace mlir {
namespace ROCDL {

//===----------------------------------------------------------------------===//
// ::mlir::ROCDL::mfma_f32_16x16x8bf16 declarations
//===----------------------------------------------------------------------===//

namespace detail {
class mfma_f32_16x16x8bf16GenericAdaptorBase {
protected:
  ::mlir::DictionaryAttr odsAttrs;
  ::mlir::RegionRange odsRegions;
  ::std::optional<::mlir::OperationName> odsOpName;
public:
  mfma_f32_16x16x8bf16GenericAdaptorBase(::mlir::DictionaryAttr attrs = nullptr, ::mlir::RegionRange regions = {});

  std::pair<unsigned, unsigned> getODSOperandIndexAndLength(unsigned index, unsigned odsOperandsSize);
  ::mlir::DictionaryAttr getAttributes();
};
} // namespace detail
template <typename RangeT>
class mfma_f32_16x16x8bf16GenericAdaptor : public detail::mfma_f32_16x16x8bf16GenericAdaptorBase {
  using ValueT = ::llvm::detail::ValueOfRange<RangeT>;
  using Base = detail::mfma_f32_16x16x8bf16GenericAdaptorBase;
public:
  mfma_f32_16x16x8bf16GenericAdaptor(RangeT values, ::mlir::DictionaryAttr attrs = nullptr, ::mlir::RegionRange regions = {}) : Base(attrs, regions), odsOperands(values) {}

  std::pair<unsigned, unsigned> getODSOperandIndexAndLength(unsigned index) {
    return Base::getODSOperandIndexAndLength(index, odsOperands.size());
  }

  RangeT getODSOperands(unsigned index) {
    auto valueRange = getODSOperandIndexAndLength(index);
    return {std::next(odsOperands.begin(), valueRange.first),
             std::next(odsOperands.begin(), valueRange.first + valueRange.second)};
  }

  RangeT getArgs() {
    return getODSOperands(0);
  }

  RangeT getOperands() {
    return odsOperands;
  }

private:
  RangeT odsOperands;
};
class mfma_f32_16x16x8bf16Adaptor : public mfma_f32_16x16x8bf16GenericAdaptor<::mlir::ValueRange> {
public:
  using mfma_f32_16x16x8bf16GenericAdaptor::mfma_f32_16x16x8bf16GenericAdaptor;
  mfma_f32_16x16x8bf16Adaptor(mfma_f32_16x16x8bf16 op);

  ::mlir::LogicalResult verify(::mlir::Location loc);
};
class mfma_f32_16x16x8bf16 : public ::mlir::Op<mfma_f32_16x16x8bf16, ::mlir::OpTrait::ZeroRegions, ::mlir::OpTrait::OneResult, ::mlir::OpTrait::OneTypedResult<::mlir::Type>::Impl, ::mlir::OpTrait::ZeroSuccessors, ::mlir::OpTrait::VariadicOperands, ::mlir::OpTrait::OpInvariants> {
public:
  using Op::Op;
  using Op::print;
  using Adaptor = mfma_f32_16x16x8bf16Adaptor;
  template <typename RangeT>
  using GenericAdaptor = mfma_f32_16x16x8bf16GenericAdaptor<RangeT>;
  using FoldAdaptor = GenericAdaptor<::llvm::ArrayRef<::mlir::Attribute>>;
  static ::llvm::ArrayRef<::llvm::StringRef> getAttributeNames() {
    return {};
  }

  static constexpr ::llvm::StringLiteral getOperationName() {
    return ::llvm::StringLiteral("rocdl.mfma.f32.16x16x8bf16");
  }

  std::pair<unsigned, unsigned> getODSOperandIndexAndLength(unsigned index);
  ::mlir::Operation::operand_range getODSOperands(unsigned index);
  ::mlir::Operation::operand_range getArgs();
  ::mlir::MutableOperandRange getArgsMutable();
  std::pair<unsigned, unsigned> getODSResultIndexAndLength(unsigned index);
  ::mlir::Operation::result_range getODSResults(unsigned index);
  ::mlir::Value getRes();
  static void build(::mlir::OpBuilder &odsBuilder, ::mlir::OperationState &odsState, ::mlir::Type res, ::mlir::ValueRange args);
  static void build(::mlir::OpBuilder &, ::mlir::OperationState &odsState, ::mlir::TypeRange resultTypes, ::mlir::ValueRange operands, ::llvm::ArrayRef<::mlir::NamedAttribute> attributes = {});
  ::mlir::LogicalResult verifyInvariantsImpl();
  ::mlir::LogicalResult verifyInvariants();
  static ::mlir::ParseResult parse(::mlir::OpAsmParser &parser, ::mlir::OperationState &result);
  void print(::mlir::OpAsmPrinter &_odsPrinter);
public:
};
} // namespace ROCDL
} // namespace mlir
MLIR_DECLARE_EXPLICIT_TYPE_ID(::mlir::ROCDL::mfma_f32_16x16x8bf16)

namespace mlir {
namespace ROCDL {

//===----------------------------------------------------------------------===//
// ::mlir::ROCDL::mfma_f32_32x32x16_bf8_bf8 declarations
//===----------------------------------------------------------------------===//

namespace detail {
class mfma_f32_32x32x16_bf8_bf8GenericAdaptorBase {
protected:
  ::mlir::DictionaryAttr odsAttrs;
  ::mlir::RegionRange odsRegions;
  ::std::optional<::mlir::OperationName> odsOpName;
public:
  mfma_f32_32x32x16_bf8_bf8GenericAdaptorBase(::mlir::DictionaryAttr attrs = nullptr, ::mlir::RegionRange regions = {});

  std::pair<unsigned, unsigned> getODSOperandIndexAndLength(unsigned index, unsigned odsOperandsSize);
  ::mlir::DictionaryAttr getAttributes();
};
} // namespace detail
template <typename RangeT>
class mfma_f32_32x32x16_bf8_bf8GenericAdaptor : public detail::mfma_f32_32x32x16_bf8_bf8GenericAdaptorBase {
  using ValueT = ::llvm::detail::ValueOfRange<RangeT>;
  using Base = detail::mfma_f32_32x32x16_bf8_bf8GenericAdaptorBase;
public:
  mfma_f32_32x32x16_bf8_bf8GenericAdaptor(RangeT values, ::mlir::DictionaryAttr attrs = nullptr, ::mlir::RegionRange regions = {}) : Base(attrs, regions), odsOperands(values) {}

  std::pair<unsigned, unsigned> getODSOperandIndexAndLength(unsigned index) {
    return Base::getODSOperandIndexAndLength(index, odsOperands.size());
  }

  RangeT getODSOperands(unsigned index) {
    auto valueRange = getODSOperandIndexAndLength(index);
    return {std::next(odsOperands.begin(), valueRange.first),
             std::next(odsOperands.begin(), valueRange.first + valueRange.second)};
  }

  RangeT getArgs() {
    return getODSOperands(0);
  }

  RangeT getOperands() {
    return odsOperands;
  }

private:
  RangeT odsOperands;
};
class mfma_f32_32x32x16_bf8_bf8Adaptor : public mfma_f32_32x32x16_bf8_bf8GenericAdaptor<::mlir::ValueRange> {
public:
  using mfma_f32_32x32x16_bf8_bf8GenericAdaptor::mfma_f32_32x32x16_bf8_bf8GenericAdaptor;
  mfma_f32_32x32x16_bf8_bf8Adaptor(mfma_f32_32x32x16_bf8_bf8 op);

  ::mlir::LogicalResult verify(::mlir::Location loc);
};
class mfma_f32_32x32x16_bf8_bf8 : public ::mlir::Op<mfma_f32_32x32x16_bf8_bf8, ::mlir::OpTrait::ZeroRegions, ::mlir::OpTrait::OneResult, ::mlir::OpTrait::OneTypedResult<::mlir::Type>::Impl, ::mlir::OpTrait::ZeroSuccessors, ::mlir::OpTrait::VariadicOperands, ::mlir::OpTrait::OpInvariants> {
public:
  using Op::Op;
  using Op::print;
  using Adaptor = mfma_f32_32x32x16_bf8_bf8Adaptor;
  template <typename RangeT>
  using GenericAdaptor = mfma_f32_32x32x16_bf8_bf8GenericAdaptor<RangeT>;
  using FoldAdaptor = GenericAdaptor<::llvm::ArrayRef<::mlir::Attribute>>;
  static ::llvm::ArrayRef<::llvm::StringRef> getAttributeNames() {
    return {};
  }

  static constexpr ::llvm::StringLiteral getOperationName() {
    return ::llvm::StringLiteral("rocdl.mfma.f32.32x32x16.bf8.bf8");
  }

  std::pair<unsigned, unsigned> getODSOperandIndexAndLength(unsigned index);
  ::mlir::Operation::operand_range getODSOperands(unsigned index);
  ::mlir::Operation::operand_range getArgs();
  ::mlir::MutableOperandRange getArgsMutable();
  std::pair<unsigned, unsigned> getODSResultIndexAndLength(unsigned index);
  ::mlir::Operation::result_range getODSResults(unsigned index);
  ::mlir::Value getRes();
  static void build(::mlir::OpBuilder &odsBuilder, ::mlir::OperationState &odsState, ::mlir::Type res, ::mlir::ValueRange args);
  static void build(::mlir::OpBuilder &, ::mlir::OperationState &odsState, ::mlir::TypeRange resultTypes, ::mlir::ValueRange operands, ::llvm::ArrayRef<::mlir::NamedAttribute> attributes = {});
  ::mlir::LogicalResult verifyInvariantsImpl();
  ::mlir::LogicalResult verifyInvariants();
  static ::mlir::ParseResult parse(::mlir::OpAsmParser &parser, ::mlir::OperationState &result);
  void print(::mlir::OpAsmPrinter &_odsPrinter);
public:
};
} // namespace ROCDL
} // namespace mlir
MLIR_DECLARE_EXPLICIT_TYPE_ID(::mlir::ROCDL::mfma_f32_32x32x16_bf8_bf8)

namespace mlir {
namespace ROCDL {

//===----------------------------------------------------------------------===//
// ::mlir::ROCDL::mfma_f32_32x32x16_bf8_fp8 declarations
//===----------------------------------------------------------------------===//

namespace detail {
class mfma_f32_32x32x16_bf8_fp8GenericAdaptorBase {
protected:
  ::mlir::DictionaryAttr odsAttrs;
  ::mlir::RegionRange odsRegions;
  ::std::optional<::mlir::OperationName> odsOpName;
public:
  mfma_f32_32x32x16_bf8_fp8GenericAdaptorBase(::mlir::DictionaryAttr attrs = nullptr, ::mlir::RegionRange regions = {});

  std::pair<unsigned, unsigned> getODSOperandIndexAndLength(unsigned index, unsigned odsOperandsSize);
  ::mlir::DictionaryAttr getAttributes();
};
} // namespace detail
template <typename RangeT>
class mfma_f32_32x32x16_bf8_fp8GenericAdaptor : public detail::mfma_f32_32x32x16_bf8_fp8GenericAdaptorBase {
  using ValueT = ::llvm::detail::ValueOfRange<RangeT>;
  using Base = detail::mfma_f32_32x32x16_bf8_fp8GenericAdaptorBase;
public:
  mfma_f32_32x32x16_bf8_fp8GenericAdaptor(RangeT values, ::mlir::DictionaryAttr attrs = nullptr, ::mlir::RegionRange regions = {}) : Base(attrs, regions), odsOperands(values) {}

  std::pair<unsigned, unsigned> getODSOperandIndexAndLength(unsigned index) {
    return Base::getODSOperandIndexAndLength(index, odsOperands.size());
  }

  RangeT getODSOperands(unsigned index) {
    auto valueRange = getODSOperandIndexAndLength(index);
    return {std::next(odsOperands.begin(), valueRange.first),
             std::next(odsOperands.begin(), valueRange.first + valueRange.second)};
  }

  RangeT getArgs() {
    return getODSOperands(0);
  }

  RangeT getOperands() {
    return odsOperands;
  }

private:
  RangeT odsOperands;
};
class mfma_f32_32x32x16_bf8_fp8Adaptor : public mfma_f32_32x32x16_bf8_fp8GenericAdaptor<::mlir::ValueRange> {
public:
  using mfma_f32_32x32x16_bf8_fp8GenericAdaptor::mfma_f32_32x32x16_bf8_fp8GenericAdaptor;
  mfma_f32_32x32x16_bf8_fp8Adaptor(mfma_f32_32x32x16_bf8_fp8 op);

  ::mlir::LogicalResult verify(::mlir::Location loc);
};
class mfma_f32_32x32x16_bf8_fp8 : public ::mlir::Op<mfma_f32_32x32x16_bf8_fp8, ::mlir::OpTrait::ZeroRegions, ::mlir::OpTrait::OneResult, ::mlir::OpTrait::OneTypedResult<::mlir::Type>::Impl, ::mlir::OpTrait::ZeroSuccessors, ::mlir::OpTrait::VariadicOperands, ::mlir::OpTrait::OpInvariants> {
public:
  using Op::Op;
  using Op::print;
  using Adaptor = mfma_f32_32x32x16_bf8_fp8Adaptor;
  template <typename RangeT>
  using GenericAdaptor = mfma_f32_32x32x16_bf8_fp8GenericAdaptor<RangeT>;
  using FoldAdaptor = GenericAdaptor<::llvm::ArrayRef<::mlir::Attribute>>;
  static ::llvm::ArrayRef<::llvm::StringRef> getAttributeNames() {
    return {};
  }

  static constexpr ::llvm::StringLiteral getOperationName() {
    return ::llvm::StringLiteral("rocdl.mfma.f32.32x32x16.bf8.fp8");
  }

  std::pair<unsigned, unsigned> getODSOperandIndexAndLength(unsigned index);
  ::mlir::Operation::operand_range getODSOperands(unsigned index);
  ::mlir::Operation::operand_range getArgs();
  ::mlir::MutableOperandRange getArgsMutable();
  std::pair<unsigned, unsigned> getODSResultIndexAndLength(unsigned index);
  ::mlir::Operation::result_range getODSResults(unsigned index);
  ::mlir::Value getRes();
  static void build(::mlir::OpBuilder &odsBuilder, ::mlir::OperationState &odsState, ::mlir::Type res, ::mlir::ValueRange args);
  static void build(::mlir::OpBuilder &, ::mlir::OperationState &odsState, ::mlir::TypeRange resultTypes, ::mlir::ValueRange operands, ::llvm::ArrayRef<::mlir::NamedAttribute> attributes = {});
  ::mlir::LogicalResult verifyInvariantsImpl();
  ::mlir::LogicalResult verifyInvariants();
  static ::mlir::ParseResult parse(::mlir::OpAsmParser &parser, ::mlir::OperationState &result);
  void print(::mlir::OpAsmPrinter &_odsPrinter);
public:
};
} // namespace ROCDL
} // namespace mlir
MLIR_DECLARE_EXPLICIT_TYPE_ID(::mlir::ROCDL::mfma_f32_32x32x16_bf8_fp8)

namespace mlir {
namespace ROCDL {

//===----------------------------------------------------------------------===//
// ::mlir::ROCDL::mfma_f32_32x32x16_fp8_bf8 declarations
//===----------------------------------------------------------------------===//

namespace detail {
class mfma_f32_32x32x16_fp8_bf8GenericAdaptorBase {
protected:
  ::mlir::DictionaryAttr odsAttrs;
  ::mlir::RegionRange odsRegions;
  ::std::optional<::mlir::OperationName> odsOpName;
public:
  mfma_f32_32x32x16_fp8_bf8GenericAdaptorBase(::mlir::DictionaryAttr attrs = nullptr, ::mlir::RegionRange regions = {});

  std::pair<unsigned, unsigned> getODSOperandIndexAndLength(unsigned index, unsigned odsOperandsSize);
  ::mlir::DictionaryAttr getAttributes();
};
} // namespace detail
template <typename RangeT>
class mfma_f32_32x32x16_fp8_bf8GenericAdaptor : public detail::mfma_f32_32x32x16_fp8_bf8GenericAdaptorBase {
  using ValueT = ::llvm::detail::ValueOfRange<RangeT>;
  using Base = detail::mfma_f32_32x32x16_fp8_bf8GenericAdaptorBase;
public:
  mfma_f32_32x32x16_fp8_bf8GenericAdaptor(RangeT values, ::mlir::DictionaryAttr attrs = nullptr, ::mlir::RegionRange regions = {}) : Base(attrs, regions), odsOperands(values) {}

  std::pair<unsigned, unsigned> getODSOperandIndexAndLength(unsigned index) {
    return Base::getODSOperandIndexAndLength(index, odsOperands.size());
  }

  RangeT getODSOperands(unsigned index) {
    auto valueRange = getODSOperandIndexAndLength(index);
    return {std::next(odsOperands.begin(), valueRange.first),
             std::next(odsOperands.begin(), valueRange.first + valueRange.second)};
  }

  RangeT getArgs() {
    return getODSOperands(0);
  }

  RangeT getOperands() {
    return odsOperands;
  }

private:
  RangeT odsOperands;
};
class mfma_f32_32x32x16_fp8_bf8Adaptor : public mfma_f32_32x32x16_fp8_bf8GenericAdaptor<::mlir::ValueRange> {
public:
  using mfma_f32_32x32x16_fp8_bf8GenericAdaptor::mfma_f32_32x32x16_fp8_bf8GenericAdaptor;
  mfma_f32_32x32x16_fp8_bf8Adaptor(mfma_f32_32x32x16_fp8_bf8 op);

  ::mlir::LogicalResult verify(::mlir::Location loc);
};
class mfma_f32_32x32x16_fp8_bf8 : public ::mlir::Op<mfma_f32_32x32x16_fp8_bf8, ::mlir::OpTrait::ZeroRegions, ::mlir::OpTrait::OneResult, ::mlir::OpTrait::OneTypedResult<::mlir::Type>::Impl, ::mlir::OpTrait::ZeroSuccessors, ::mlir::OpTrait::VariadicOperands, ::mlir::OpTrait::OpInvariants> {
public:
  using Op::Op;
  using Op::print;
  using Adaptor = mfma_f32_32x32x16_fp8_bf8Adaptor;
  template <typename RangeT>
  using GenericAdaptor = mfma_f32_32x32x16_fp8_bf8GenericAdaptor<RangeT>;
  using FoldAdaptor = GenericAdaptor<::llvm::ArrayRef<::mlir::Attribute>>;
  static ::llvm::ArrayRef<::llvm::StringRef> getAttributeNames() {
    return {};
  }

  static constexpr ::llvm::StringLiteral getOperationName() {
    return ::llvm::StringLiteral("rocdl.mfma.f32.32x32x16.fp8.bf8");
  }

  std::pair<unsigned, unsigned> getODSOperandIndexAndLength(unsigned index);
  ::mlir::Operation::operand_range getODSOperands(unsigned index);
  ::mlir::Operation::operand_range getArgs();
  ::mlir::MutableOperandRange getArgsMutable();
  std::pair<unsigned, unsigned> getODSResultIndexAndLength(unsigned index);
  ::mlir::Operation::result_range getODSResults(unsigned index);
  ::mlir::Value getRes();
  static void build(::mlir::OpBuilder &odsBuilder, ::mlir::OperationState &odsState, ::mlir::Type res, ::mlir::ValueRange args);
  static void build(::mlir::OpBuilder &, ::mlir::OperationState &odsState, ::mlir::TypeRange resultTypes, ::mlir::ValueRange operands, ::llvm::ArrayRef<::mlir::NamedAttribute> attributes = {});
  ::mlir::LogicalResult verifyInvariantsImpl();
  ::mlir::LogicalResult verifyInvariants();
  static ::mlir::ParseResult parse(::mlir::OpAsmParser &parser, ::mlir::OperationState &result);
  void print(::mlir::OpAsmPrinter &_odsPrinter);
public:
};
} // namespace ROCDL
} // namespace mlir
MLIR_DECLARE_EXPLICIT_TYPE_ID(::mlir::ROCDL::mfma_f32_32x32x16_fp8_bf8)

namespace mlir {
namespace ROCDL {

//===----------------------------------------------------------------------===//
// ::mlir::ROCDL::mfma_f32_32x32x16_fp8_fp8 declarations
//===----------------------------------------------------------------------===//

namespace detail {
class mfma_f32_32x32x16_fp8_fp8GenericAdaptorBase {
protected:
  ::mlir::DictionaryAttr odsAttrs;
  ::mlir::RegionRange odsRegions;
  ::std::optional<::mlir::OperationName> odsOpName;
public:
  mfma_f32_32x32x16_fp8_fp8GenericAdaptorBase(::mlir::DictionaryAttr attrs = nullptr, ::mlir::RegionRange regions = {});

  std::pair<unsigned, unsigned> getODSOperandIndexAndLength(unsigned index, unsigned odsOperandsSize);
  ::mlir::DictionaryAttr getAttributes();
};
} // namespace detail
template <typename RangeT>
class mfma_f32_32x32x16_fp8_fp8GenericAdaptor : public detail::mfma_f32_32x32x16_fp8_fp8GenericAdaptorBase {
  using ValueT = ::llvm::detail::ValueOfRange<RangeT>;
  using Base = detail::mfma_f32_32x32x16_fp8_fp8GenericAdaptorBase;
public:
  mfma_f32_32x32x16_fp8_fp8GenericAdaptor(RangeT values, ::mlir::DictionaryAttr attrs = nullptr, ::mlir::RegionRange regions = {}) : Base(attrs, regions), odsOperands(values) {}

  std::pair<unsigned, unsigned> getODSOperandIndexAndLength(unsigned index) {
    return Base::getODSOperandIndexAndLength(index, odsOperands.size());
  }

  RangeT getODSOperands(unsigned index) {
    auto valueRange = getODSOperandIndexAndLength(index);
    return {std::next(odsOperands.begin(), valueRange.first),
             std::next(odsOperands.begin(), valueRange.first + valueRange.second)};
  }

  RangeT getArgs() {
    return getODSOperands(0);
  }

  RangeT getOperands() {
    return odsOperands;
  }

private:
  RangeT odsOperands;
};
class mfma_f32_32x32x16_fp8_fp8Adaptor : public mfma_f32_32x32x16_fp8_fp8GenericAdaptor<::mlir::ValueRange> {
public:
  using mfma_f32_32x32x16_fp8_fp8GenericAdaptor::mfma_f32_32x32x16_fp8_fp8GenericAdaptor;
  mfma_f32_32x32x16_fp8_fp8Adaptor(mfma_f32_32x32x16_fp8_fp8 op);

  ::mlir::LogicalResult verify(::mlir::Location loc);
};
class mfma_f32_32x32x16_fp8_fp8 : public ::mlir::Op<mfma_f32_32x32x16_fp8_fp8, ::mlir::OpTrait::ZeroRegions, ::mlir::OpTrait::OneResult, ::mlir::OpTrait::OneTypedResult<::mlir::Type>::Impl, ::mlir::OpTrait::ZeroSuccessors, ::mlir::OpTrait::VariadicOperands, ::mlir::OpTrait::OpInvariants> {
public:
  using Op::Op;
  using Op::print;
  using Adaptor = mfma_f32_32x32x16_fp8_fp8Adaptor;
  template <typename RangeT>
  using GenericAdaptor = mfma_f32_32x32x16_fp8_fp8GenericAdaptor<RangeT>;
  using FoldAdaptor = GenericAdaptor<::llvm::ArrayRef<::mlir::Attribute>>;
  static ::llvm::ArrayRef<::llvm::StringRef> getAttributeNames() {
    return {};
  }

  static constexpr ::llvm::StringLiteral getOperationName() {
    return ::llvm::StringLiteral("rocdl.mfma.f32.32x32x16.fp8.fp8");
  }

  std::pair<unsigned, unsigned> getODSOperandIndexAndLength(unsigned index);
  ::mlir::Operation::operand_range getODSOperands(unsigned index);
  ::mlir::Operation::operand_range getArgs();
  ::mlir::MutableOperandRange getArgsMutable();
  std::pair<unsigned, unsigned> getODSResultIndexAndLength(unsigned index);
  ::mlir::Operation::result_range getODSResults(unsigned index);
  ::mlir::Value getRes();
  static void build(::mlir::OpBuilder &odsBuilder, ::mlir::OperationState &odsState, ::mlir::Type res, ::mlir::ValueRange args);
  static void build(::mlir::OpBuilder &, ::mlir::OperationState &odsState, ::mlir::TypeRange resultTypes, ::mlir::ValueRange operands, ::llvm::ArrayRef<::mlir::NamedAttribute> attributes = {});
  ::mlir::LogicalResult verifyInvariantsImpl();
  ::mlir::LogicalResult verifyInvariants();
  static ::mlir::ParseResult parse(::mlir::OpAsmParser &parser, ::mlir::OperationState &result);
  void print(::mlir::OpAsmPrinter &_odsPrinter);
public:
};
} // namespace ROCDL
} // namespace mlir
MLIR_DECLARE_EXPLICIT_TYPE_ID(::mlir::ROCDL::mfma_f32_32x32x16_fp8_fp8)

namespace mlir {
namespace ROCDL {

//===----------------------------------------------------------------------===//
// ::mlir::ROCDL::mfma_f32_32x32x1f32 declarations
//===----------------------------------------------------------------------===//

namespace detail {
class mfma_f32_32x32x1f32GenericAdaptorBase {
protected:
  ::mlir::DictionaryAttr odsAttrs;
  ::mlir::RegionRange odsRegions;
  ::std::optional<::mlir::OperationName> odsOpName;
public:
  mfma_f32_32x32x1f32GenericAdaptorBase(::mlir::DictionaryAttr attrs = nullptr, ::mlir::RegionRange regions = {});

  std::pair<unsigned, unsigned> getODSOperandIndexAndLength(unsigned index, unsigned odsOperandsSize);
  ::mlir::DictionaryAttr getAttributes();
};
} // namespace detail
template <typename RangeT>
class mfma_f32_32x32x1f32GenericAdaptor : public detail::mfma_f32_32x32x1f32GenericAdaptorBase {
  using ValueT = ::llvm::detail::ValueOfRange<RangeT>;
  using Base = detail::mfma_f32_32x32x1f32GenericAdaptorBase;
public:
  mfma_f32_32x32x1f32GenericAdaptor(RangeT values, ::mlir::DictionaryAttr attrs = nullptr, ::mlir::RegionRange regions = {}) : Base(attrs, regions), odsOperands(values) {}

  std::pair<unsigned, unsigned> getODSOperandIndexAndLength(unsigned index) {
    return Base::getODSOperandIndexAndLength(index, odsOperands.size());
  }

  RangeT getODSOperands(unsigned index) {
    auto valueRange = getODSOperandIndexAndLength(index);
    return {std::next(odsOperands.begin(), valueRange.first),
             std::next(odsOperands.begin(), valueRange.first + valueRange.second)};
  }

  RangeT getArgs() {
    return getODSOperands(0);
  }

  RangeT getOperands() {
    return odsOperands;
  }

private:
  RangeT odsOperands;
};
class mfma_f32_32x32x1f32Adaptor : public mfma_f32_32x32x1f32GenericAdaptor<::mlir::ValueRange> {
public:
  using mfma_f32_32x32x1f32GenericAdaptor::mfma_f32_32x32x1f32GenericAdaptor;
  mfma_f32_32x32x1f32Adaptor(mfma_f32_32x32x1f32 op);

  ::mlir::LogicalResult verify(::mlir::Location loc);
};
class mfma_f32_32x32x1f32 : public ::mlir::Op<mfma_f32_32x32x1f32, ::mlir::OpTrait::ZeroRegions, ::mlir::OpTrait::OneResult, ::mlir::OpTrait::OneTypedResult<::mlir::Type>::Impl, ::mlir::OpTrait::ZeroSuccessors, ::mlir::OpTrait::VariadicOperands, ::mlir::OpTrait::OpInvariants> {
public:
  using Op::Op;
  using Op::print;
  using Adaptor = mfma_f32_32x32x1f32Adaptor;
  template <typename RangeT>
  using GenericAdaptor = mfma_f32_32x32x1f32GenericAdaptor<RangeT>;
  using FoldAdaptor = GenericAdaptor<::llvm::ArrayRef<::mlir::Attribute>>;
  static ::llvm::ArrayRef<::llvm::StringRef> getAttributeNames() {
    return {};
  }

  static constexpr ::llvm::StringLiteral getOperationName() {
    return ::llvm::StringLiteral("rocdl.mfma.f32.32x32x1f32");
  }

  std::pair<unsigned, unsigned> getODSOperandIndexAndLength(unsigned index);
  ::mlir::Operation::operand_range getODSOperands(unsigned index);
  ::mlir::Operation::operand_range getArgs();
  ::mlir::MutableOperandRange getArgsMutable();
  std::pair<unsigned, unsigned> getODSResultIndexAndLength(unsigned index);
  ::mlir::Operation::result_range getODSResults(unsigned index);
  ::mlir::Value getRes();
  static void build(::mlir::OpBuilder &odsBuilder, ::mlir::OperationState &odsState, ::mlir::Type res, ::mlir::ValueRange args);
  static void build(::mlir::OpBuilder &, ::mlir::OperationState &odsState, ::mlir::TypeRange resultTypes, ::mlir::ValueRange operands, ::llvm::ArrayRef<::mlir::NamedAttribute> attributes = {});
  ::mlir::LogicalResult verifyInvariantsImpl();
  ::mlir::LogicalResult verifyInvariants();
  static ::mlir::ParseResult parse(::mlir::OpAsmParser &parser, ::mlir::OperationState &result);
  void print(::mlir::OpAsmPrinter &_odsPrinter);
public:
};
} // namespace ROCDL
} // namespace mlir
MLIR_DECLARE_EXPLICIT_TYPE_ID(::mlir::ROCDL::mfma_f32_32x32x1f32)

namespace mlir {
namespace ROCDL {

//===----------------------------------------------------------------------===//
// ::mlir::ROCDL::mfma_f32_32x32x2bf16 declarations
//===----------------------------------------------------------------------===//

namespace detail {
class mfma_f32_32x32x2bf16GenericAdaptorBase {
protected:
  ::mlir::DictionaryAttr odsAttrs;
  ::mlir::RegionRange odsRegions;
  ::std::optional<::mlir::OperationName> odsOpName;
public:
  mfma_f32_32x32x2bf16GenericAdaptorBase(::mlir::DictionaryAttr attrs = nullptr, ::mlir::RegionRange regions = {});

  std::pair<unsigned, unsigned> getODSOperandIndexAndLength(unsigned index, unsigned odsOperandsSize);
  ::mlir::DictionaryAttr getAttributes();
};
} // namespace detail
template <typename RangeT>
class mfma_f32_32x32x2bf16GenericAdaptor : public detail::mfma_f32_32x32x2bf16GenericAdaptorBase {
  using ValueT = ::llvm::detail::ValueOfRange<RangeT>;
  using Base = detail::mfma_f32_32x32x2bf16GenericAdaptorBase;
public:
  mfma_f32_32x32x2bf16GenericAdaptor(RangeT values, ::mlir::DictionaryAttr attrs = nullptr, ::mlir::RegionRange regions = {}) : Base(attrs, regions), odsOperands(values) {}

  std::pair<unsigned, unsigned> getODSOperandIndexAndLength(unsigned index) {
    return Base::getODSOperandIndexAndLength(index, odsOperands.size());
  }

  RangeT getODSOperands(unsigned index) {
    auto valueRange = getODSOperandIndexAndLength(index);
    return {std::next(odsOperands.begin(), valueRange.first),
             std::next(odsOperands.begin(), valueRange.first + valueRange.second)};
  }

  RangeT getArgs() {
    return getODSOperands(0);
  }

  RangeT getOperands() {
    return odsOperands;
  }

private:
  RangeT odsOperands;
};
class mfma_f32_32x32x2bf16Adaptor : public mfma_f32_32x32x2bf16GenericAdaptor<::mlir::ValueRange> {
public:
  using mfma_f32_32x32x2bf16GenericAdaptor::mfma_f32_32x32x2bf16GenericAdaptor;
  mfma_f32_32x32x2bf16Adaptor(mfma_f32_32x32x2bf16 op);

  ::mlir::LogicalResult verify(::mlir::Location loc);
};
class mfma_f32_32x32x2bf16 : public ::mlir::Op<mfma_f32_32x32x2bf16, ::mlir::OpTrait::ZeroRegions, ::mlir::OpTrait::OneResult, ::mlir::OpTrait::OneTypedResult<::mlir::Type>::Impl, ::mlir::OpTrait::ZeroSuccessors, ::mlir::OpTrait::VariadicOperands, ::mlir::OpTrait::OpInvariants> {
public:
  using Op::Op;
  using Op::print;
  using Adaptor = mfma_f32_32x32x2bf16Adaptor;
  template <typename RangeT>
  using GenericAdaptor = mfma_f32_32x32x2bf16GenericAdaptor<RangeT>;
  using FoldAdaptor = GenericAdaptor<::llvm::ArrayRef<::mlir::Attribute>>;
  static ::llvm::ArrayRef<::llvm::StringRef> getAttributeNames() {
    return {};
  }

  static constexpr ::llvm::StringLiteral getOperationName() {
    return ::llvm::StringLiteral("rocdl.mfma.f32.32x32x2bf16");
  }

  std::pair<unsigned, unsigned> getODSOperandIndexAndLength(unsigned index);
  ::mlir::Operation::operand_range getODSOperands(unsigned index);
  ::mlir::Operation::operand_range getArgs();
  ::mlir::MutableOperandRange getArgsMutable();
  std::pair<unsigned, unsigned> getODSResultIndexAndLength(unsigned index);
  ::mlir::Operation::result_range getODSResults(unsigned index);
  ::mlir::Value getRes();
  static void build(::mlir::OpBuilder &odsBuilder, ::mlir::OperationState &odsState, ::mlir::Type res, ::mlir::ValueRange args);
  static void build(::mlir::OpBuilder &, ::mlir::OperationState &odsState, ::mlir::TypeRange resultTypes, ::mlir::ValueRange operands, ::llvm::ArrayRef<::mlir::NamedAttribute> attributes = {});
  ::mlir::LogicalResult verifyInvariantsImpl();
  ::mlir::LogicalResult verifyInvariants();
  static ::mlir::ParseResult parse(::mlir::OpAsmParser &parser, ::mlir::OperationState &result);
  void print(::mlir::OpAsmPrinter &_odsPrinter);
public:
};
} // namespace ROCDL
} // namespace mlir
MLIR_DECLARE_EXPLICIT_TYPE_ID(::mlir::ROCDL::mfma_f32_32x32x2bf16)

namespace mlir {
namespace ROCDL {

//===----------------------------------------------------------------------===//
// ::mlir::ROCDL::mfma_f32_32x32x2f32 declarations
//===----------------------------------------------------------------------===//

namespace detail {
class mfma_f32_32x32x2f32GenericAdaptorBase {
protected:
  ::mlir::DictionaryAttr odsAttrs;
  ::mlir::RegionRange odsRegions;
  ::std::optional<::mlir::OperationName> odsOpName;
public:
  mfma_f32_32x32x2f32GenericAdaptorBase(::mlir::DictionaryAttr attrs = nullptr, ::mlir::RegionRange regions = {});

  std::pair<unsigned, unsigned> getODSOperandIndexAndLength(unsigned index, unsigned odsOperandsSize);
  ::mlir::DictionaryAttr getAttributes();
};
} // namespace detail
template <typename RangeT>
class mfma_f32_32x32x2f32GenericAdaptor : public detail::mfma_f32_32x32x2f32GenericAdaptorBase {
  using ValueT = ::llvm::detail::ValueOfRange<RangeT>;
  using Base = detail::mfma_f32_32x32x2f32GenericAdaptorBase;
public:
  mfma_f32_32x32x2f32GenericAdaptor(RangeT values, ::mlir::DictionaryAttr attrs = nullptr, ::mlir::RegionRange regions = {}) : Base(attrs, regions), odsOperands(values) {}

  std::pair<unsigned, unsigned> getODSOperandIndexAndLength(unsigned index) {
    return Base::getODSOperandIndexAndLength(index, odsOperands.size());
  }

  RangeT getODSOperands(unsigned index) {
    auto valueRange = getODSOperandIndexAndLength(index);
    return {std::next(odsOperands.begin(), valueRange.first),
             std::next(odsOperands.begin(), valueRange.first + valueRange.second)};
  }

  RangeT getArgs() {
    return getODSOperands(0);
  }

  RangeT getOperands() {
    return odsOperands;
  }

private:
  RangeT odsOperands;
};
class mfma_f32_32x32x2f32Adaptor : public mfma_f32_32x32x2f32GenericAdaptor<::mlir::ValueRange> {
public:
  using mfma_f32_32x32x2f32GenericAdaptor::mfma_f32_32x32x2f32GenericAdaptor;
  mfma_f32_32x32x2f32Adaptor(mfma_f32_32x32x2f32 op);

  ::mlir::LogicalResult verify(::mlir::Location loc);
};
class mfma_f32_32x32x2f32 : public ::mlir::Op<mfma_f32_32x32x2f32, ::mlir::OpTrait::ZeroRegions, ::mlir::OpTrait::OneResult, ::mlir::OpTrait::OneTypedResult<::mlir::Type>::Impl, ::mlir::OpTrait::ZeroSuccessors, ::mlir::OpTrait::VariadicOperands, ::mlir::OpTrait::OpInvariants> {
public:
  using Op::Op;
  using Op::print;
  using Adaptor = mfma_f32_32x32x2f32Adaptor;
  template <typename RangeT>
  using GenericAdaptor = mfma_f32_32x32x2f32GenericAdaptor<RangeT>;
  using FoldAdaptor = GenericAdaptor<::llvm::ArrayRef<::mlir::Attribute>>;
  static ::llvm::ArrayRef<::llvm::StringRef> getAttributeNames() {
    return {};
  }

  static constexpr ::llvm::StringLiteral getOperationName() {
    return ::llvm::StringLiteral("rocdl.mfma.f32.32x32x2f32");
  }

  std::pair<unsigned, unsigned> getODSOperandIndexAndLength(unsigned index);
  ::mlir::Operation::operand_range getODSOperands(unsigned index);
  ::mlir::Operation::operand_range getArgs();
  ::mlir::MutableOperandRange getArgsMutable();
  std::pair<unsigned, unsigned> getODSResultIndexAndLength(unsigned index);
  ::mlir::Operation::result_range getODSResults(unsigned index);
  ::mlir::Value getRes();
  static void build(::mlir::OpBuilder &odsBuilder, ::mlir::OperationState &odsState, ::mlir::Type res, ::mlir::ValueRange args);
  static void build(::mlir::OpBuilder &, ::mlir::OperationState &odsState, ::mlir::TypeRange resultTypes, ::mlir::ValueRange operands, ::llvm::ArrayRef<::mlir::NamedAttribute> attributes = {});
  ::mlir::LogicalResult verifyInvariantsImpl();
  ::mlir::LogicalResult verifyInvariants();
  static ::mlir::ParseResult parse(::mlir::OpAsmParser &parser, ::mlir::OperationState &result);
  void print(::mlir::OpAsmPrinter &_odsPrinter);
public:
};
} // namespace ROCDL
} // namespace mlir
MLIR_DECLARE_EXPLICIT_TYPE_ID(::mlir::ROCDL::mfma_f32_32x32x2f32)

namespace mlir {
namespace ROCDL {

//===----------------------------------------------------------------------===//
// ::mlir::ROCDL::mfma_f32_32x32x4_xf32 declarations
//===----------------------------------------------------------------------===//

namespace detail {
class mfma_f32_32x32x4_xf32GenericAdaptorBase {
protected:
  ::mlir::DictionaryAttr odsAttrs;
  ::mlir::RegionRange odsRegions;
  ::std::optional<::mlir::OperationName> odsOpName;
public:
  mfma_f32_32x32x4_xf32GenericAdaptorBase(::mlir::DictionaryAttr attrs = nullptr, ::mlir::RegionRange regions = {});

  std::pair<unsigned, unsigned> getODSOperandIndexAndLength(unsigned index, unsigned odsOperandsSize);
  ::mlir::DictionaryAttr getAttributes();
};
} // namespace detail
template <typename RangeT>
class mfma_f32_32x32x4_xf32GenericAdaptor : public detail::mfma_f32_32x32x4_xf32GenericAdaptorBase {
  using ValueT = ::llvm::detail::ValueOfRange<RangeT>;
  using Base = detail::mfma_f32_32x32x4_xf32GenericAdaptorBase;
public:
  mfma_f32_32x32x4_xf32GenericAdaptor(RangeT values, ::mlir::DictionaryAttr attrs = nullptr, ::mlir::RegionRange regions = {}) : Base(attrs, regions), odsOperands(values) {}

  std::pair<unsigned, unsigned> getODSOperandIndexAndLength(unsigned index) {
    return Base::getODSOperandIndexAndLength(index, odsOperands.size());
  }

  RangeT getODSOperands(unsigned index) {
    auto valueRange = getODSOperandIndexAndLength(index);
    return {std::next(odsOperands.begin(), valueRange.first),
             std::next(odsOperands.begin(), valueRange.first + valueRange.second)};
  }

  RangeT getArgs() {
    return getODSOperands(0);
  }

  RangeT getOperands() {
    return odsOperands;
  }

private:
  RangeT odsOperands;
};
class mfma_f32_32x32x4_xf32Adaptor : public mfma_f32_32x32x4_xf32GenericAdaptor<::mlir::ValueRange> {
public:
  using mfma_f32_32x32x4_xf32GenericAdaptor::mfma_f32_32x32x4_xf32GenericAdaptor;
  mfma_f32_32x32x4_xf32Adaptor(mfma_f32_32x32x4_xf32 op);

  ::mlir::LogicalResult verify(::mlir::Location loc);
};
class mfma_f32_32x32x4_xf32 : public ::mlir::Op<mfma_f32_32x32x4_xf32, ::mlir::OpTrait::ZeroRegions, ::mlir::OpTrait::OneResult, ::mlir::OpTrait::OneTypedResult<::mlir::Type>::Impl, ::mlir::OpTrait::ZeroSuccessors, ::mlir::OpTrait::VariadicOperands, ::mlir::OpTrait::OpInvariants> {
public:
  using Op::Op;
  using Op::print;
  using Adaptor = mfma_f32_32x32x4_xf32Adaptor;
  template <typename RangeT>
  using GenericAdaptor = mfma_f32_32x32x4_xf32GenericAdaptor<RangeT>;
  using FoldAdaptor = GenericAdaptor<::llvm::ArrayRef<::mlir::Attribute>>;
  static ::llvm::ArrayRef<::llvm::StringRef> getAttributeNames() {
    return {};
  }

  static constexpr ::llvm::StringLiteral getOperationName() {
    return ::llvm::StringLiteral("rocdl.mfma.f32.32x32x4.xf32");
  }

  std::pair<unsigned, unsigned> getODSOperandIndexAndLength(unsigned index);
  ::mlir::Operation::operand_range getODSOperands(unsigned index);
  ::mlir::Operation::operand_range getArgs();
  ::mlir::MutableOperandRange getArgsMutable();
  std::pair<unsigned, unsigned> getODSResultIndexAndLength(unsigned index);
  ::mlir::Operation::result_range getODSResults(unsigned index);
  ::mlir::Value getRes();
  static void build(::mlir::OpBuilder &odsBuilder, ::mlir::OperationState &odsState, ::mlir::Type res, ::mlir::ValueRange args);
  static void build(::mlir::OpBuilder &, ::mlir::OperationState &odsState, ::mlir::TypeRange resultTypes, ::mlir::ValueRange operands, ::llvm::ArrayRef<::mlir::NamedAttribute> attributes = {});
  ::mlir::LogicalResult verifyInvariantsImpl();
  ::mlir::LogicalResult verifyInvariants();
  static ::mlir::ParseResult parse(::mlir::OpAsmParser &parser, ::mlir::OperationState &result);
  void print(::mlir::OpAsmPrinter &_odsPrinter);
public:
};
} // namespace ROCDL
} // namespace mlir
MLIR_DECLARE_EXPLICIT_TYPE_ID(::mlir::ROCDL::mfma_f32_32x32x4_xf32)

namespace mlir {
namespace ROCDL {

//===----------------------------------------------------------------------===//
// ::mlir::ROCDL::mfma_f32_32x32x4bf16 declarations
//===----------------------------------------------------------------------===//

namespace detail {
class mfma_f32_32x32x4bf16GenericAdaptorBase {
protected:
  ::mlir::DictionaryAttr odsAttrs;
  ::mlir::RegionRange odsRegions;
  ::std::optional<::mlir::OperationName> odsOpName;
public:
  mfma_f32_32x32x4bf16GenericAdaptorBase(::mlir::DictionaryAttr attrs = nullptr, ::mlir::RegionRange regions = {});

  std::pair<unsigned, unsigned> getODSOperandIndexAndLength(unsigned index, unsigned odsOperandsSize);
  ::mlir::DictionaryAttr getAttributes();
};
} // namespace detail
template <typename RangeT>
class mfma_f32_32x32x4bf16GenericAdaptor : public detail::mfma_f32_32x32x4bf16GenericAdaptorBase {
  using ValueT = ::llvm::detail::ValueOfRange<RangeT>;
  using Base = detail::mfma_f32_32x32x4bf16GenericAdaptorBase;
public:
  mfma_f32_32x32x4bf16GenericAdaptor(RangeT values, ::mlir::DictionaryAttr attrs = nullptr, ::mlir::RegionRange regions = {}) : Base(attrs, regions), odsOperands(values) {}

  std::pair<unsigned, unsigned> getODSOperandIndexAndLength(unsigned index) {
    return Base::getODSOperandIndexAndLength(index, odsOperands.size());
  }

  RangeT getODSOperands(unsigned index) {
    auto valueRange = getODSOperandIndexAndLength(index);
    return {std::next(odsOperands.begin(), valueRange.first),
             std::next(odsOperands.begin(), valueRange.first + valueRange.second)};
  }

  RangeT getArgs() {
    return getODSOperands(0);
  }

  RangeT getOperands() {
    return odsOperands;
  }

private:
  RangeT odsOperands;
};
class mfma_f32_32x32x4bf16Adaptor : public mfma_f32_32x32x4bf16GenericAdaptor<::mlir::ValueRange> {
public:
  using mfma_f32_32x32x4bf16GenericAdaptor::mfma_f32_32x32x4bf16GenericAdaptor;
  mfma_f32_32x32x4bf16Adaptor(mfma_f32_32x32x4bf16 op);

  ::mlir::LogicalResult verify(::mlir::Location loc);
};
class mfma_f32_32x32x4bf16 : public ::mlir::Op<mfma_f32_32x32x4bf16, ::mlir::OpTrait::ZeroRegions, ::mlir::OpTrait::OneResult, ::mlir::OpTrait::OneTypedResult<::mlir::Type>::Impl, ::mlir::OpTrait::ZeroSuccessors, ::mlir::OpTrait::VariadicOperands, ::mlir::OpTrait::OpInvariants> {
public:
  using Op::Op;
  using Op::print;
  using Adaptor = mfma_f32_32x32x4bf16Adaptor;
  template <typename RangeT>
  using GenericAdaptor = mfma_f32_32x32x4bf16GenericAdaptor<RangeT>;
  using FoldAdaptor = GenericAdaptor<::llvm::ArrayRef<::mlir::Attribute>>;
  static ::llvm::ArrayRef<::llvm::StringRef> getAttributeNames() {
    return {};
  }

  static constexpr ::llvm::StringLiteral getOperationName() {
    return ::llvm::StringLiteral("rocdl.mfma.f32.32x32x4bf16");
  }

  std::pair<unsigned, unsigned> getODSOperandIndexAndLength(unsigned index);
  ::mlir::Operation::operand_range getODSOperands(unsigned index);
  ::mlir::Operation::operand_range getArgs();
  ::mlir::MutableOperandRange getArgsMutable();
  std::pair<unsigned, unsigned> getODSResultIndexAndLength(unsigned index);
  ::mlir::Operation::result_range getODSResults(unsigned index);
  ::mlir::Value getRes();
  static void build(::mlir::OpBuilder &odsBuilder, ::mlir::OperationState &odsState, ::mlir::Type res, ::mlir::ValueRange args);
  static void build(::mlir::OpBuilder &, ::mlir::OperationState &odsState, ::mlir::TypeRange resultTypes, ::mlir::ValueRange operands, ::llvm::ArrayRef<::mlir::NamedAttribute> attributes = {});
  ::mlir::LogicalResult verifyInvariantsImpl();
  ::mlir::LogicalResult verifyInvariants();
  static ::mlir::ParseResult parse(::mlir::OpAsmParser &parser, ::mlir::OperationState &result);
  void print(::mlir::OpAsmPrinter &_odsPrinter);
public:
};
} // namespace ROCDL
} // namespace mlir
MLIR_DECLARE_EXPLICIT_TYPE_ID(::mlir::ROCDL::mfma_f32_32x32x4bf16)

namespace mlir {
namespace ROCDL {

//===----------------------------------------------------------------------===//
// ::mlir::ROCDL::mfma_f32_32x32x4bf16_1k declarations
//===----------------------------------------------------------------------===//

namespace detail {
class mfma_f32_32x32x4bf16_1kGenericAdaptorBase {
protected:
  ::mlir::DictionaryAttr odsAttrs;
  ::mlir::RegionRange odsRegions;
  ::std::optional<::mlir::OperationName> odsOpName;
public:
  mfma_f32_32x32x4bf16_1kGenericAdaptorBase(::mlir::DictionaryAttr attrs = nullptr, ::mlir::RegionRange regions = {});

  std::pair<unsigned, unsigned> getODSOperandIndexAndLength(unsigned index, unsigned odsOperandsSize);
  ::mlir::DictionaryAttr getAttributes();
};
} // namespace detail
template <typename RangeT>
class mfma_f32_32x32x4bf16_1kGenericAdaptor : public detail::mfma_f32_32x32x4bf16_1kGenericAdaptorBase {
  using ValueT = ::llvm::detail::ValueOfRange<RangeT>;
  using Base = detail::mfma_f32_32x32x4bf16_1kGenericAdaptorBase;
public:
  mfma_f32_32x32x4bf16_1kGenericAdaptor(RangeT values, ::mlir::DictionaryAttr attrs = nullptr, ::mlir::RegionRange regions = {}) : Base(attrs, regions), odsOperands(values) {}

  std::pair<unsigned, unsigned> getODSOperandIndexAndLength(unsigned index) {
    return Base::getODSOperandIndexAndLength(index, odsOperands.size());
  }

  RangeT getODSOperands(unsigned index) {
    auto valueRange = getODSOperandIndexAndLength(index);
    return {std::next(odsOperands.begin(), valueRange.first),
             std::next(odsOperands.begin(), valueRange.first + valueRange.second)};
  }

  RangeT getArgs() {
    return getODSOperands(0);
  }

  RangeT getOperands() {
    return odsOperands;
  }

private:
  RangeT odsOperands;
};
class mfma_f32_32x32x4bf16_1kAdaptor : public mfma_f32_32x32x4bf16_1kGenericAdaptor<::mlir::ValueRange> {
public:
  using mfma_f32_32x32x4bf16_1kGenericAdaptor::mfma_f32_32x32x4bf16_1kGenericAdaptor;
  mfma_f32_32x32x4bf16_1kAdaptor(mfma_f32_32x32x4bf16_1k op);

  ::mlir::LogicalResult verify(::mlir::Location loc);
};
class mfma_f32_32x32x4bf16_1k : public ::mlir::Op<mfma_f32_32x32x4bf16_1k, ::mlir::OpTrait::ZeroRegions, ::mlir::OpTrait::OneResult, ::mlir::OpTrait::OneTypedResult<::mlir::Type>::Impl, ::mlir::OpTrait::ZeroSuccessors, ::mlir::OpTrait::VariadicOperands, ::mlir::OpTrait::OpInvariants> {
public:
  using Op::Op;
  using Op::print;
  using Adaptor = mfma_f32_32x32x4bf16_1kAdaptor;
  template <typename RangeT>
  using GenericAdaptor = mfma_f32_32x32x4bf16_1kGenericAdaptor<RangeT>;
  using FoldAdaptor = GenericAdaptor<::llvm::ArrayRef<::mlir::Attribute>>;
  static ::llvm::ArrayRef<::llvm::StringRef> getAttributeNames() {
    return {};
  }

  static constexpr ::llvm::StringLiteral getOperationName() {
    return ::llvm::StringLiteral("rocdl.mfma.f32.32x32x4bf16.1k");
  }

  std::pair<unsigned, unsigned> getODSOperandIndexAndLength(unsigned index);
  ::mlir::Operation::operand_range getODSOperands(unsigned index);
  ::mlir::Operation::operand_range getArgs();
  ::mlir::MutableOperandRange getArgsMutable();
  std::pair<unsigned, unsigned> getODSResultIndexAndLength(unsigned index);
  ::mlir::Operation::result_range getODSResults(unsigned index);
  ::mlir::Value getRes();
  static void build(::mlir::OpBuilder &odsBuilder, ::mlir::OperationState &odsState, ::mlir::Type res, ::mlir::ValueRange args);
  static void build(::mlir::OpBuilder &, ::mlir::OperationState &odsState, ::mlir::TypeRange resultTypes, ::mlir::ValueRange operands, ::llvm::ArrayRef<::mlir::NamedAttribute> attributes = {});
  ::mlir::LogicalResult verifyInvariantsImpl();
  ::mlir::LogicalResult verifyInvariants();
  static ::mlir::ParseResult parse(::mlir::OpAsmParser &parser, ::mlir::OperationState &result);
  void print(::mlir::OpAsmPrinter &_odsPrinter);
public:
};
} // namespace ROCDL
} // namespace mlir
MLIR_DECLARE_EXPLICIT_TYPE_ID(::mlir::ROCDL::mfma_f32_32x32x4bf16_1k)

namespace mlir {
namespace ROCDL {

//===----------------------------------------------------------------------===//
// ::mlir::ROCDL::mfma_f32_32x32x4f16 declarations
//===----------------------------------------------------------------------===//

namespace detail {
class mfma_f32_32x32x4f16GenericAdaptorBase {
protected:
  ::mlir::DictionaryAttr odsAttrs;
  ::mlir::RegionRange odsRegions;
  ::std::optional<::mlir::OperationName> odsOpName;
public:
  mfma_f32_32x32x4f16GenericAdaptorBase(::mlir::DictionaryAttr attrs = nullptr, ::mlir::RegionRange regions = {});

  std::pair<unsigned, unsigned> getODSOperandIndexAndLength(unsigned index, unsigned odsOperandsSize);
  ::mlir::DictionaryAttr getAttributes();
};
} // namespace detail
template <typename RangeT>
class mfma_f32_32x32x4f16GenericAdaptor : public detail::mfma_f32_32x32x4f16GenericAdaptorBase {
  using ValueT = ::llvm::detail::ValueOfRange<RangeT>;
  using Base = detail::mfma_f32_32x32x4f16GenericAdaptorBase;
public:
  mfma_f32_32x32x4f16GenericAdaptor(RangeT values, ::mlir::DictionaryAttr attrs = nullptr, ::mlir::RegionRange regions = {}) : Base(attrs, regions), odsOperands(values) {}

  std::pair<unsigned, unsigned> getODSOperandIndexAndLength(unsigned index) {
    return Base::getODSOperandIndexAndLength(index, odsOperands.size());
  }

  RangeT getODSOperands(unsigned index) {
    auto valueRange = getODSOperandIndexAndLength(index);
    return {std::next(odsOperands.begin(), valueRange.first),
             std::next(odsOperands.begin(), valueRange.first + valueRange.second)};
  }

  RangeT getArgs() {
    return getODSOperands(0);
  }

  RangeT getOperands() {
    return odsOperands;
  }

private:
  RangeT odsOperands;
};
class mfma_f32_32x32x4f16Adaptor : public mfma_f32_32x32x4f16GenericAdaptor<::mlir::ValueRange> {
public:
  using mfma_f32_32x32x4f16GenericAdaptor::mfma_f32_32x32x4f16GenericAdaptor;
  mfma_f32_32x32x4f16Adaptor(mfma_f32_32x32x4f16 op);

  ::mlir::LogicalResult verify(::mlir::Location loc);
};
class mfma_f32_32x32x4f16 : public ::mlir::Op<mfma_f32_32x32x4f16, ::mlir::OpTrait::ZeroRegions, ::mlir::OpTrait::OneResult, ::mlir::OpTrait::OneTypedResult<::mlir::Type>::Impl, ::mlir::OpTrait::ZeroSuccessors, ::mlir::OpTrait::VariadicOperands, ::mlir::OpTrait::OpInvariants> {
public:
  using Op::Op;
  using Op::print;
  using Adaptor = mfma_f32_32x32x4f16Adaptor;
  template <typename RangeT>
  using GenericAdaptor = mfma_f32_32x32x4f16GenericAdaptor<RangeT>;
  using FoldAdaptor = GenericAdaptor<::llvm::ArrayRef<::mlir::Attribute>>;
  static ::llvm::ArrayRef<::llvm::StringRef> getAttributeNames() {
    return {};
  }

  static constexpr ::llvm::StringLiteral getOperationName() {
    return ::llvm::StringLiteral("rocdl.mfma.f32.32x32x4f16");
  }

  std::pair<unsigned, unsigned> getODSOperandIndexAndLength(unsigned index);
  ::mlir::Operation::operand_range getODSOperands(unsigned index);
  ::mlir::Operation::operand_range getArgs();
  ::mlir::MutableOperandRange getArgsMutable();
  std::pair<unsigned, unsigned> getODSResultIndexAndLength(unsigned index);
  ::mlir::Operation::result_range getODSResults(unsigned index);
  ::mlir::Value getRes();
  static void build(::mlir::OpBuilder &odsBuilder, ::mlir::OperationState &odsState, ::mlir::Type res, ::mlir::ValueRange args);
  static void build(::mlir::OpBuilder &, ::mlir::OperationState &odsState, ::mlir::TypeRange resultTypes, ::mlir::ValueRange operands, ::llvm::ArrayRef<::mlir::NamedAttribute> attributes = {});
  ::mlir::LogicalResult verifyInvariantsImpl();
  ::mlir::LogicalResult verifyInvariants();
  static ::mlir::ParseResult parse(::mlir::OpAsmParser &parser, ::mlir::OperationState &result);
  void print(::mlir::OpAsmPrinter &_odsPrinter);
public:
};
} // namespace ROCDL
} // namespace mlir
MLIR_DECLARE_EXPLICIT_TYPE_ID(::mlir::ROCDL::mfma_f32_32x32x4f16)

namespace mlir {
namespace ROCDL {

//===----------------------------------------------------------------------===//
// ::mlir::ROCDL::mfma_f32_32x32x8bf16_1k declarations
//===----------------------------------------------------------------------===//

namespace detail {
class mfma_f32_32x32x8bf16_1kGenericAdaptorBase {
protected:
  ::mlir::DictionaryAttr odsAttrs;
  ::mlir::RegionRange odsRegions;
  ::std::optional<::mlir::OperationName> odsOpName;
public:
  mfma_f32_32x32x8bf16_1kGenericAdaptorBase(::mlir::DictionaryAttr attrs = nullptr, ::mlir::RegionRange regions = {});

  std::pair<unsigned, unsigned> getODSOperandIndexAndLength(unsigned index, unsigned odsOperandsSize);
  ::mlir::DictionaryAttr getAttributes();
};
} // namespace detail
template <typename RangeT>
class mfma_f32_32x32x8bf16_1kGenericAdaptor : public detail::mfma_f32_32x32x8bf16_1kGenericAdaptorBase {
  using ValueT = ::llvm::detail::ValueOfRange<RangeT>;
  using Base = detail::mfma_f32_32x32x8bf16_1kGenericAdaptorBase;
public:
  mfma_f32_32x32x8bf16_1kGenericAdaptor(RangeT values, ::mlir::DictionaryAttr attrs = nullptr, ::mlir::RegionRange regions = {}) : Base(attrs, regions), odsOperands(values) {}

  std::pair<unsigned, unsigned> getODSOperandIndexAndLength(unsigned index) {
    return Base::getODSOperandIndexAndLength(index, odsOperands.size());
  }

  RangeT getODSOperands(unsigned index) {
    auto valueRange = getODSOperandIndexAndLength(index);
    return {std::next(odsOperands.begin(), valueRange.first),
             std::next(odsOperands.begin(), valueRange.first + valueRange.second)};
  }

  RangeT getArgs() {
    return getODSOperands(0);
  }

  RangeT getOperands() {
    return odsOperands;
  }

private:
  RangeT odsOperands;
};
class mfma_f32_32x32x8bf16_1kAdaptor : public mfma_f32_32x32x8bf16_1kGenericAdaptor<::mlir::ValueRange> {
public:
  using mfma_f32_32x32x8bf16_1kGenericAdaptor::mfma_f32_32x32x8bf16_1kGenericAdaptor;
  mfma_f32_32x32x8bf16_1kAdaptor(mfma_f32_32x32x8bf16_1k op);

  ::mlir::LogicalResult verify(::mlir::Location loc);
};
class mfma_f32_32x32x8bf16_1k : public ::mlir::Op<mfma_f32_32x32x8bf16_1k, ::mlir::OpTrait::ZeroRegions, ::mlir::OpTrait::OneResult, ::mlir::OpTrait::OneTypedResult<::mlir::Type>::Impl, ::mlir::OpTrait::ZeroSuccessors, ::mlir::OpTrait::VariadicOperands, ::mlir::OpTrait::OpInvariants> {
public:
  using Op::Op;
  using Op::print;
  using Adaptor = mfma_f32_32x32x8bf16_1kAdaptor;
  template <typename RangeT>
  using GenericAdaptor = mfma_f32_32x32x8bf16_1kGenericAdaptor<RangeT>;
  using FoldAdaptor = GenericAdaptor<::llvm::ArrayRef<::mlir::Attribute>>;
  static ::llvm::ArrayRef<::llvm::StringRef> getAttributeNames() {
    return {};
  }

  static constexpr ::llvm::StringLiteral getOperationName() {
    return ::llvm::StringLiteral("rocdl.mfma.f32.32x32x8bf16.1k");
  }

  std::pair<unsigned, unsigned> getODSOperandIndexAndLength(unsigned index);
  ::mlir::Operation::operand_range getODSOperands(unsigned index);
  ::mlir::Operation::operand_range getArgs();
  ::mlir::MutableOperandRange getArgsMutable();
  std::pair<unsigned, unsigned> getODSResultIndexAndLength(unsigned index);
  ::mlir::Operation::result_range getODSResults(unsigned index);
  ::mlir::Value getRes();
  static void build(::mlir::OpBuilder &odsBuilder, ::mlir::OperationState &odsState, ::mlir::Type res, ::mlir::ValueRange args);
  static void build(::mlir::OpBuilder &, ::mlir::OperationState &odsState, ::mlir::TypeRange resultTypes, ::mlir::ValueRange operands, ::llvm::ArrayRef<::mlir::NamedAttribute> attributes = {});
  ::mlir::LogicalResult verifyInvariantsImpl();
  ::mlir::LogicalResult verifyInvariants();
  static ::mlir::ParseResult parse(::mlir::OpAsmParser &parser, ::mlir::OperationState &result);
  void print(::mlir::OpAsmPrinter &_odsPrinter);
public:
};
} // namespace ROCDL
} // namespace mlir
MLIR_DECLARE_EXPLICIT_TYPE_ID(::mlir::ROCDL::mfma_f32_32x32x8bf16_1k)

namespace mlir {
namespace ROCDL {

//===----------------------------------------------------------------------===//
// ::mlir::ROCDL::mfma_f32_32x32x8f16 declarations
//===----------------------------------------------------------------------===//

namespace detail {
class mfma_f32_32x32x8f16GenericAdaptorBase {
protected:
  ::mlir::DictionaryAttr odsAttrs;
  ::mlir::RegionRange odsRegions;
  ::std::optional<::mlir::OperationName> odsOpName;
public:
  mfma_f32_32x32x8f16GenericAdaptorBase(::mlir::DictionaryAttr attrs = nullptr, ::mlir::RegionRange regions = {});

  std::pair<unsigned, unsigned> getODSOperandIndexAndLength(unsigned index, unsigned odsOperandsSize);
  ::mlir::DictionaryAttr getAttributes();
};
} // namespace detail
template <typename RangeT>
class mfma_f32_32x32x8f16GenericAdaptor : public detail::mfma_f32_32x32x8f16GenericAdaptorBase {
  using ValueT = ::llvm::detail::ValueOfRange<RangeT>;
  using Base = detail::mfma_f32_32x32x8f16GenericAdaptorBase;
public:
  mfma_f32_32x32x8f16GenericAdaptor(RangeT values, ::mlir::DictionaryAttr attrs = nullptr, ::mlir::RegionRange regions = {}) : Base(attrs, regions), odsOperands(values) {}

  std::pair<unsigned, unsigned> getODSOperandIndexAndLength(unsigned index) {
    return Base::getODSOperandIndexAndLength(index, odsOperands.size());
  }

  RangeT getODSOperands(unsigned index) {
    auto valueRange = getODSOperandIndexAndLength(index);
    return {std::next(odsOperands.begin(), valueRange.first),
             std::next(odsOperands.begin(), valueRange.first + valueRange.second)};
  }

  RangeT getArgs() {
    return getODSOperands(0);
  }

  RangeT getOperands() {
    return odsOperands;
  }

private:
  RangeT odsOperands;
};
class mfma_f32_32x32x8f16Adaptor : public mfma_f32_32x32x8f16GenericAdaptor<::mlir::ValueRange> {
public:
  using mfma_f32_32x32x8f16GenericAdaptor::mfma_f32_32x32x8f16GenericAdaptor;
  mfma_f32_32x32x8f16Adaptor(mfma_f32_32x32x8f16 op);

  ::mlir::LogicalResult verify(::mlir::Location loc);
};
class mfma_f32_32x32x8f16 : public ::mlir::Op<mfma_f32_32x32x8f16, ::mlir::OpTrait::ZeroRegions, ::mlir::OpTrait::OneResult, ::mlir::OpTrait::OneTypedResult<::mlir::Type>::Impl, ::mlir::OpTrait::ZeroSuccessors, ::mlir::OpTrait::VariadicOperands, ::mlir::OpTrait::OpInvariants> {
public:
  using Op::Op;
  using Op::print;
  using Adaptor = mfma_f32_32x32x8f16Adaptor;
  template <typename RangeT>
  using GenericAdaptor = mfma_f32_32x32x8f16GenericAdaptor<RangeT>;
  using FoldAdaptor = GenericAdaptor<::llvm::ArrayRef<::mlir::Attribute>>;
  static ::llvm::ArrayRef<::llvm::StringRef> getAttributeNames() {
    return {};
  }

  static constexpr ::llvm::StringLiteral getOperationName() {
    return ::llvm::StringLiteral("rocdl.mfma.f32.32x32x8f16");
  }

  std::pair<unsigned, unsigned> getODSOperandIndexAndLength(unsigned index);
  ::mlir::Operation::operand_range getODSOperands(unsigned index);
  ::mlir::Operation::operand_range getArgs();
  ::mlir::MutableOperandRange getArgsMutable();
  std::pair<unsigned, unsigned> getODSResultIndexAndLength(unsigned index);
  ::mlir::Operation::result_range getODSResults(unsigned index);
  ::mlir::Value getRes();
  static void build(::mlir::OpBuilder &odsBuilder, ::mlir::OperationState &odsState, ::mlir::Type res, ::mlir::ValueRange args);
  static void build(::mlir::OpBuilder &, ::mlir::OperationState &odsState, ::mlir::TypeRange resultTypes, ::mlir::ValueRange operands, ::llvm::ArrayRef<::mlir::NamedAttribute> attributes = {});
  ::mlir::LogicalResult verifyInvariantsImpl();
  ::mlir::LogicalResult verifyInvariants();
  static ::mlir::ParseResult parse(::mlir::OpAsmParser &parser, ::mlir::OperationState &result);
  void print(::mlir::OpAsmPrinter &_odsPrinter);
public:
};
} // namespace ROCDL
} // namespace mlir
MLIR_DECLARE_EXPLICIT_TYPE_ID(::mlir::ROCDL::mfma_f32_32x32x8f16)

namespace mlir {
namespace ROCDL {

//===----------------------------------------------------------------------===//
// ::mlir::ROCDL::mfma_f32_4x4x1f32 declarations
//===----------------------------------------------------------------------===//

namespace detail {
class mfma_f32_4x4x1f32GenericAdaptorBase {
protected:
  ::mlir::DictionaryAttr odsAttrs;
  ::mlir::RegionRange odsRegions;
  ::std::optional<::mlir::OperationName> odsOpName;
public:
  mfma_f32_4x4x1f32GenericAdaptorBase(::mlir::DictionaryAttr attrs = nullptr, ::mlir::RegionRange regions = {});

  std::pair<unsigned, unsigned> getODSOperandIndexAndLength(unsigned index, unsigned odsOperandsSize);
  ::mlir::DictionaryAttr getAttributes();
};
} // namespace detail
template <typename RangeT>
class mfma_f32_4x4x1f32GenericAdaptor : public detail::mfma_f32_4x4x1f32GenericAdaptorBase {
  using ValueT = ::llvm::detail::ValueOfRange<RangeT>;
  using Base = detail::mfma_f32_4x4x1f32GenericAdaptorBase;
public:
  mfma_f32_4x4x1f32GenericAdaptor(RangeT values, ::mlir::DictionaryAttr attrs = nullptr, ::mlir::RegionRange regions = {}) : Base(attrs, regions), odsOperands(values) {}

  std::pair<unsigned, unsigned> getODSOperandIndexAndLength(unsigned index) {
    return Base::getODSOperandIndexAndLength(index, odsOperands.size());
  }

  RangeT getODSOperands(unsigned index) {
    auto valueRange = getODSOperandIndexAndLength(index);
    return {std::next(odsOperands.begin(), valueRange.first),
             std::next(odsOperands.begin(), valueRange.first + valueRange.second)};
  }

  RangeT getArgs() {
    return getODSOperands(0);
  }

  RangeT getOperands() {
    return odsOperands;
  }

private:
  RangeT odsOperands;
};
class mfma_f32_4x4x1f32Adaptor : public mfma_f32_4x4x1f32GenericAdaptor<::mlir::ValueRange> {
public:
  using mfma_f32_4x4x1f32GenericAdaptor::mfma_f32_4x4x1f32GenericAdaptor;
  mfma_f32_4x4x1f32Adaptor(mfma_f32_4x4x1f32 op);

  ::mlir::LogicalResult verify(::mlir::Location loc);
};
class mfma_f32_4x4x1f32 : public ::mlir::Op<mfma_f32_4x4x1f32, ::mlir::OpTrait::ZeroRegions, ::mlir::OpTrait::OneResult, ::mlir::OpTrait::OneTypedResult<::mlir::Type>::Impl, ::mlir::OpTrait::ZeroSuccessors, ::mlir::OpTrait::VariadicOperands, ::mlir::OpTrait::OpInvariants> {
public:
  using Op::Op;
  using Op::print;
  using Adaptor = mfma_f32_4x4x1f32Adaptor;
  template <typename RangeT>
  using GenericAdaptor = mfma_f32_4x4x1f32GenericAdaptor<RangeT>;
  using FoldAdaptor = GenericAdaptor<::llvm::ArrayRef<::mlir::Attribute>>;
  static ::llvm::ArrayRef<::llvm::StringRef> getAttributeNames() {
    return {};
  }

  static constexpr ::llvm::StringLiteral getOperationName() {
    return ::llvm::StringLiteral("rocdl.mfma.f32.4x4x1f32");
  }

  std::pair<unsigned, unsigned> getODSOperandIndexAndLength(unsigned index);
  ::mlir::Operation::operand_range getODSOperands(unsigned index);
  ::mlir::Operation::operand_range getArgs();
  ::mlir::MutableOperandRange getArgsMutable();
  std::pair<unsigned, unsigned> getODSResultIndexAndLength(unsigned index);
  ::mlir::Operation::result_range getODSResults(unsigned index);
  ::mlir::Value getRes();
  static void build(::mlir::OpBuilder &odsBuilder, ::mlir::OperationState &odsState, ::mlir::Type res, ::mlir::ValueRange args);
  static void build(::mlir::OpBuilder &, ::mlir::OperationState &odsState, ::mlir::TypeRange resultTypes, ::mlir::ValueRange operands, ::llvm::ArrayRef<::mlir::NamedAttribute> attributes = {});
  ::mlir::LogicalResult verifyInvariantsImpl();
  ::mlir::LogicalResult verifyInvariants();
  static ::mlir::ParseResult parse(::mlir::OpAsmParser &parser, ::mlir::OperationState &result);
  void print(::mlir::OpAsmPrinter &_odsPrinter);
public:
};
} // namespace ROCDL
} // namespace mlir
MLIR_DECLARE_EXPLICIT_TYPE_ID(::mlir::ROCDL::mfma_f32_4x4x1f32)

namespace mlir {
namespace ROCDL {

//===----------------------------------------------------------------------===//
// ::mlir::ROCDL::mfma_f32_4x4x2bf16 declarations
//===----------------------------------------------------------------------===//

namespace detail {
class mfma_f32_4x4x2bf16GenericAdaptorBase {
protected:
  ::mlir::DictionaryAttr odsAttrs;
  ::mlir::RegionRange odsRegions;
  ::std::optional<::mlir::OperationName> odsOpName;
public:
  mfma_f32_4x4x2bf16GenericAdaptorBase(::mlir::DictionaryAttr attrs = nullptr, ::mlir::RegionRange regions = {});

  std::pair<unsigned, unsigned> getODSOperandIndexAndLength(unsigned index, unsigned odsOperandsSize);
  ::mlir::DictionaryAttr getAttributes();
};
} // namespace detail
template <typename RangeT>
class mfma_f32_4x4x2bf16GenericAdaptor : public detail::mfma_f32_4x4x2bf16GenericAdaptorBase {
  using ValueT = ::llvm::detail::ValueOfRange<RangeT>;
  using Base = detail::mfma_f32_4x4x2bf16GenericAdaptorBase;
public:
  mfma_f32_4x4x2bf16GenericAdaptor(RangeT values, ::mlir::DictionaryAttr attrs = nullptr, ::mlir::RegionRange regions = {}) : Base(attrs, regions), odsOperands(values) {}

  std::pair<unsigned, unsigned> getODSOperandIndexAndLength(unsigned index) {
    return Base::getODSOperandIndexAndLength(index, odsOperands.size());
  }

  RangeT getODSOperands(unsigned index) {
    auto valueRange = getODSOperandIndexAndLength(index);
    return {std::next(odsOperands.begin(), valueRange.first),
             std::next(odsOperands.begin(), valueRange.first + valueRange.second)};
  }

  RangeT getArgs() {
    return getODSOperands(0);
  }

  RangeT getOperands() {
    return odsOperands;
  }

private:
  RangeT odsOperands;
};
class mfma_f32_4x4x2bf16Adaptor : public mfma_f32_4x4x2bf16GenericAdaptor<::mlir::ValueRange> {
public:
  using mfma_f32_4x4x2bf16GenericAdaptor::mfma_f32_4x4x2bf16GenericAdaptor;
  mfma_f32_4x4x2bf16Adaptor(mfma_f32_4x4x2bf16 op);

  ::mlir::LogicalResult verify(::mlir::Location loc);
};
class mfma_f32_4x4x2bf16 : public ::mlir::Op<mfma_f32_4x4x2bf16, ::mlir::OpTrait::ZeroRegions, ::mlir::OpTrait::OneResult, ::mlir::OpTrait::OneTypedResult<::mlir::Type>::Impl, ::mlir::OpTrait::ZeroSuccessors, ::mlir::OpTrait::VariadicOperands, ::mlir::OpTrait::OpInvariants> {
public:
  using Op::Op;
  using Op::print;
  using Adaptor = mfma_f32_4x4x2bf16Adaptor;
  template <typename RangeT>
  using GenericAdaptor = mfma_f32_4x4x2bf16GenericAdaptor<RangeT>;
  using FoldAdaptor = GenericAdaptor<::llvm::ArrayRef<::mlir::Attribute>>;
  static ::llvm::ArrayRef<::llvm::StringRef> getAttributeNames() {
    return {};
  }

  static constexpr ::llvm::StringLiteral getOperationName() {
    return ::llvm::StringLiteral("rocdl.mfma.f32.4x4x2bf16");
  }

  std::pair<unsigned, unsigned> getODSOperandIndexAndLength(unsigned index);
  ::mlir::Operation::operand_range getODSOperands(unsigned index);
  ::mlir::Operation::operand_range getArgs();
  ::mlir::MutableOperandRange getArgsMutable();
  std::pair<unsigned, unsigned> getODSResultIndexAndLength(unsigned index);
  ::mlir::Operation::result_range getODSResults(unsigned index);
  ::mlir::Value getRes();
  static void build(::mlir::OpBuilder &odsBuilder, ::mlir::OperationState &odsState, ::mlir::Type res, ::mlir::ValueRange args);
  static void build(::mlir::OpBuilder &, ::mlir::OperationState &odsState, ::mlir::TypeRange resultTypes, ::mlir::ValueRange operands, ::llvm::ArrayRef<::mlir::NamedAttribute> attributes = {});
  ::mlir::LogicalResult verifyInvariantsImpl();
  ::mlir::LogicalResult verifyInvariants();
  static ::mlir::ParseResult parse(::mlir::OpAsmParser &parser, ::mlir::OperationState &result);
  void print(::mlir::OpAsmPrinter &_odsPrinter);
public:
};
} // namespace ROCDL
} // namespace mlir
MLIR_DECLARE_EXPLICIT_TYPE_ID(::mlir::ROCDL::mfma_f32_4x4x2bf16)

namespace mlir {
namespace ROCDL {

//===----------------------------------------------------------------------===//
// ::mlir::ROCDL::mfma_f32_4x4x4bf16_1k declarations
//===----------------------------------------------------------------------===//

namespace detail {
class mfma_f32_4x4x4bf16_1kGenericAdaptorBase {
protected:
  ::mlir::DictionaryAttr odsAttrs;
  ::mlir::RegionRange odsRegions;
  ::std::optional<::mlir::OperationName> odsOpName;
public:
  mfma_f32_4x4x4bf16_1kGenericAdaptorBase(::mlir::DictionaryAttr attrs = nullptr, ::mlir::RegionRange regions = {});

  std::pair<unsigned, unsigned> getODSOperandIndexAndLength(unsigned index, unsigned odsOperandsSize);
  ::mlir::DictionaryAttr getAttributes();
};
} // namespace detail
template <typename RangeT>
class mfma_f32_4x4x4bf16_1kGenericAdaptor : public detail::mfma_f32_4x4x4bf16_1kGenericAdaptorBase {
  using ValueT = ::llvm::detail::ValueOfRange<RangeT>;
  using Base = detail::mfma_f32_4x4x4bf16_1kGenericAdaptorBase;
public:
  mfma_f32_4x4x4bf16_1kGenericAdaptor(RangeT values, ::mlir::DictionaryAttr attrs = nullptr, ::mlir::RegionRange regions = {}) : Base(attrs, regions), odsOperands(values) {}

  std::pair<unsigned, unsigned> getODSOperandIndexAndLength(unsigned index) {
    return Base::getODSOperandIndexAndLength(index, odsOperands.size());
  }

  RangeT getODSOperands(unsigned index) {
    auto valueRange = getODSOperandIndexAndLength(index);
    return {std::next(odsOperands.begin(), valueRange.first),
             std::next(odsOperands.begin(), valueRange.first + valueRange.second)};
  }

  RangeT getArgs() {
    return getODSOperands(0);
  }

  RangeT getOperands() {
    return odsOperands;
  }

private:
  RangeT odsOperands;
};
class mfma_f32_4x4x4bf16_1kAdaptor : public mfma_f32_4x4x4bf16_1kGenericAdaptor<::mlir::ValueRange> {
public:
  using mfma_f32_4x4x4bf16_1kGenericAdaptor::mfma_f32_4x4x4bf16_1kGenericAdaptor;
  mfma_f32_4x4x4bf16_1kAdaptor(mfma_f32_4x4x4bf16_1k op);

  ::mlir::LogicalResult verify(::mlir::Location loc);
};
class mfma_f32_4x4x4bf16_1k : public ::mlir::Op<mfma_f32_4x4x4bf16_1k, ::mlir::OpTrait::ZeroRegions, ::mlir::OpTrait::OneResult, ::mlir::OpTrait::OneTypedResult<::mlir::Type>::Impl, ::mlir::OpTrait::ZeroSuccessors, ::mlir::OpTrait::VariadicOperands, ::mlir::OpTrait::OpInvariants> {
public:
  using Op::Op;
  using Op::print;
  using Adaptor = mfma_f32_4x4x4bf16_1kAdaptor;
  template <typename RangeT>
  using GenericAdaptor = mfma_f32_4x4x4bf16_1kGenericAdaptor<RangeT>;
  using FoldAdaptor = GenericAdaptor<::llvm::ArrayRef<::mlir::Attribute>>;
  static ::llvm::ArrayRef<::llvm::StringRef> getAttributeNames() {
    return {};
  }

  static constexpr ::llvm::StringLiteral getOperationName() {
    return ::llvm::StringLiteral("rocdl.mfma.f32.4x4x4bf16.1k");
  }

  std::pair<unsigned, unsigned> getODSOperandIndexAndLength(unsigned index);
  ::mlir::Operation::operand_range getODSOperands(unsigned index);
  ::mlir::Operation::operand_range getArgs();
  ::mlir::MutableOperandRange getArgsMutable();
  std::pair<unsigned, unsigned> getODSResultIndexAndLength(unsigned index);
  ::mlir::Operation::result_range getODSResults(unsigned index);
  ::mlir::Value getRes();
  static void build(::mlir::OpBuilder &odsBuilder, ::mlir::OperationState &odsState, ::mlir::Type res, ::mlir::ValueRange args);
  static void build(::mlir::OpBuilder &, ::mlir::OperationState &odsState, ::mlir::TypeRange resultTypes, ::mlir::ValueRange operands, ::llvm::ArrayRef<::mlir::NamedAttribute> attributes = {});
  ::mlir::LogicalResult verifyInvariantsImpl();
  ::mlir::LogicalResult verifyInvariants();
  static ::mlir::ParseResult parse(::mlir::OpAsmParser &parser, ::mlir::OperationState &result);
  void print(::mlir::OpAsmPrinter &_odsPrinter);
public:
};
} // namespace ROCDL
} // namespace mlir
MLIR_DECLARE_EXPLICIT_TYPE_ID(::mlir::ROCDL::mfma_f32_4x4x4bf16_1k)

namespace mlir {
namespace ROCDL {

//===----------------------------------------------------------------------===//
// ::mlir::ROCDL::mfma_f32_4x4x4f16 declarations
//===----------------------------------------------------------------------===//

namespace detail {
class mfma_f32_4x4x4f16GenericAdaptorBase {
protected:
  ::mlir::DictionaryAttr odsAttrs;
  ::mlir::RegionRange odsRegions;
  ::std::optional<::mlir::OperationName> odsOpName;
public:
  mfma_f32_4x4x4f16GenericAdaptorBase(::mlir::DictionaryAttr attrs = nullptr, ::mlir::RegionRange regions = {});

  std::pair<unsigned, unsigned> getODSOperandIndexAndLength(unsigned index, unsigned odsOperandsSize);
  ::mlir::DictionaryAttr getAttributes();
};
} // namespace detail
template <typename RangeT>
class mfma_f32_4x4x4f16GenericAdaptor : public detail::mfma_f32_4x4x4f16GenericAdaptorBase {
  using ValueT = ::llvm::detail::ValueOfRange<RangeT>;
  using Base = detail::mfma_f32_4x4x4f16GenericAdaptorBase;
public:
  mfma_f32_4x4x4f16GenericAdaptor(RangeT values, ::mlir::DictionaryAttr attrs = nullptr, ::mlir::RegionRange regions = {}) : Base(attrs, regions), odsOperands(values) {}

  std::pair<unsigned, unsigned> getODSOperandIndexAndLength(unsigned index) {
    return Base::getODSOperandIndexAndLength(index, odsOperands.size());
  }

  RangeT getODSOperands(unsigned index) {
    auto valueRange = getODSOperandIndexAndLength(index);
    return {std::next(odsOperands.begin(), valueRange.first),
             std::next(odsOperands.begin(), valueRange.first + valueRange.second)};
  }

  RangeT getArgs() {
    return getODSOperands(0);
  }

  RangeT getOperands() {
    return odsOperands;
  }

private:
  RangeT odsOperands;
};
class mfma_f32_4x4x4f16Adaptor : public mfma_f32_4x4x4f16GenericAdaptor<::mlir::ValueRange> {
public:
  using mfma_f32_4x4x4f16GenericAdaptor::mfma_f32_4x4x4f16GenericAdaptor;
  mfma_f32_4x4x4f16Adaptor(mfma_f32_4x4x4f16 op);

  ::mlir::LogicalResult verify(::mlir::Location loc);
};
class mfma_f32_4x4x4f16 : public ::mlir::Op<mfma_f32_4x4x4f16, ::mlir::OpTrait::ZeroRegions, ::mlir::OpTrait::OneResult, ::mlir::OpTrait::OneTypedResult<::mlir::Type>::Impl, ::mlir::OpTrait::ZeroSuccessors, ::mlir::OpTrait::VariadicOperands, ::mlir::OpTrait::OpInvariants> {
public:
  using Op::Op;
  using Op::print;
  using Adaptor = mfma_f32_4x4x4f16Adaptor;
  template <typename RangeT>
  using GenericAdaptor = mfma_f32_4x4x4f16GenericAdaptor<RangeT>;
  using FoldAdaptor = GenericAdaptor<::llvm::ArrayRef<::mlir::Attribute>>;
  static ::llvm::ArrayRef<::llvm::StringRef> getAttributeNames() {
    return {};
  }

  static constexpr ::llvm::StringLiteral getOperationName() {
    return ::llvm::StringLiteral("rocdl.mfma.f32.4x4x4f16");
  }

  std::pair<unsigned, unsigned> getODSOperandIndexAndLength(unsigned index);
  ::mlir::Operation::operand_range getODSOperands(unsigned index);
  ::mlir::Operation::operand_range getArgs();
  ::mlir::MutableOperandRange getArgsMutable();
  std::pair<unsigned, unsigned> getODSResultIndexAndLength(unsigned index);
  ::mlir::Operation::result_range getODSResults(unsigned index);
  ::mlir::Value getRes();
  static void build(::mlir::OpBuilder &odsBuilder, ::mlir::OperationState &odsState, ::mlir::Type res, ::mlir::ValueRange args);
  static void build(::mlir::OpBuilder &, ::mlir::OperationState &odsState, ::mlir::TypeRange resultTypes, ::mlir::ValueRange operands, ::llvm::ArrayRef<::mlir::NamedAttribute> attributes = {});
  ::mlir::LogicalResult verifyInvariantsImpl();
  ::mlir::LogicalResult verifyInvariants();
  static ::mlir::ParseResult parse(::mlir::OpAsmParser &parser, ::mlir::OperationState &result);
  void print(::mlir::OpAsmPrinter &_odsPrinter);
public:
};
} // namespace ROCDL
} // namespace mlir
MLIR_DECLARE_EXPLICIT_TYPE_ID(::mlir::ROCDL::mfma_f32_4x4x4f16)

namespace mlir {
namespace ROCDL {

//===----------------------------------------------------------------------===//
// ::mlir::ROCDL::mfma_f64_16x16x4f64 declarations
//===----------------------------------------------------------------------===//

namespace detail {
class mfma_f64_16x16x4f64GenericAdaptorBase {
protected:
  ::mlir::DictionaryAttr odsAttrs;
  ::mlir::RegionRange odsRegions;
  ::std::optional<::mlir::OperationName> odsOpName;
public:
  mfma_f64_16x16x4f64GenericAdaptorBase(::mlir::DictionaryAttr attrs = nullptr, ::mlir::RegionRange regions = {});

  std::pair<unsigned, unsigned> getODSOperandIndexAndLength(unsigned index, unsigned odsOperandsSize);
  ::mlir::DictionaryAttr getAttributes();
};
} // namespace detail
template <typename RangeT>
class mfma_f64_16x16x4f64GenericAdaptor : public detail::mfma_f64_16x16x4f64GenericAdaptorBase {
  using ValueT = ::llvm::detail::ValueOfRange<RangeT>;
  using Base = detail::mfma_f64_16x16x4f64GenericAdaptorBase;
public:
  mfma_f64_16x16x4f64GenericAdaptor(RangeT values, ::mlir::DictionaryAttr attrs = nullptr, ::mlir::RegionRange regions = {}) : Base(attrs, regions), odsOperands(values) {}

  std::pair<unsigned, unsigned> getODSOperandIndexAndLength(unsigned index) {
    return Base::getODSOperandIndexAndLength(index, odsOperands.size());
  }

  RangeT getODSOperands(unsigned index) {
    auto valueRange = getODSOperandIndexAndLength(index);
    return {std::next(odsOperands.begin(), valueRange.first),
             std::next(odsOperands.begin(), valueRange.first + valueRange.second)};
  }

  RangeT getArgs() {
    return getODSOperands(0);
  }

  RangeT getOperands() {
    return odsOperands;
  }

private:
  RangeT odsOperands;
};
class mfma_f64_16x16x4f64Adaptor : public mfma_f64_16x16x4f64GenericAdaptor<::mlir::ValueRange> {
public:
  using mfma_f64_16x16x4f64GenericAdaptor::mfma_f64_16x16x4f64GenericAdaptor;
  mfma_f64_16x16x4f64Adaptor(mfma_f64_16x16x4f64 op);

  ::mlir::LogicalResult verify(::mlir::Location loc);
};
class mfma_f64_16x16x4f64 : public ::mlir::Op<mfma_f64_16x16x4f64, ::mlir::OpTrait::ZeroRegions, ::mlir::OpTrait::OneResult, ::mlir::OpTrait::OneTypedResult<::mlir::Type>::Impl, ::mlir::OpTrait::ZeroSuccessors, ::mlir::OpTrait::VariadicOperands, ::mlir::OpTrait::OpInvariants> {
public:
  using Op::Op;
  using Op::print;
  using Adaptor = mfma_f64_16x16x4f64Adaptor;
  template <typename RangeT>
  using GenericAdaptor = mfma_f64_16x16x4f64GenericAdaptor<RangeT>;
  using FoldAdaptor = GenericAdaptor<::llvm::ArrayRef<::mlir::Attribute>>;
  static ::llvm::ArrayRef<::llvm::StringRef> getAttributeNames() {
    return {};
  }

  static constexpr ::llvm::StringLiteral getOperationName() {
    return ::llvm::StringLiteral("rocdl.mfma.f64.16x16x4f64");
  }

  std::pair<unsigned, unsigned> getODSOperandIndexAndLength(unsigned index);
  ::mlir::Operation::operand_range getODSOperands(unsigned index);
  ::mlir::Operation::operand_range getArgs();
  ::mlir::MutableOperandRange getArgsMutable();
  std::pair<unsigned, unsigned> getODSResultIndexAndLength(unsigned index);
  ::mlir::Operation::result_range getODSResults(unsigned index);
  ::mlir::Value getRes();
  static void build(::mlir::OpBuilder &odsBuilder, ::mlir::OperationState &odsState, ::mlir::Type res, ::mlir::ValueRange args);
  static void build(::mlir::OpBuilder &, ::mlir::OperationState &odsState, ::mlir::TypeRange resultTypes, ::mlir::ValueRange operands, ::llvm::ArrayRef<::mlir::NamedAttribute> attributes = {});
  ::mlir::LogicalResult verifyInvariantsImpl();
  ::mlir::LogicalResult verifyInvariants();
  static ::mlir::ParseResult parse(::mlir::OpAsmParser &parser, ::mlir::OperationState &result);
  void print(::mlir::OpAsmPrinter &_odsPrinter);
public:
};
} // namespace ROCDL
} // namespace mlir
MLIR_DECLARE_EXPLICIT_TYPE_ID(::mlir::ROCDL::mfma_f64_16x16x4f64)

namespace mlir {
namespace ROCDL {

//===----------------------------------------------------------------------===//
// ::mlir::ROCDL::mfma_f64_4x4x4f64 declarations
//===----------------------------------------------------------------------===//

namespace detail {
class mfma_f64_4x4x4f64GenericAdaptorBase {
protected:
  ::mlir::DictionaryAttr odsAttrs;
  ::mlir::RegionRange odsRegions;
  ::std::optional<::mlir::OperationName> odsOpName;
public:
  mfma_f64_4x4x4f64GenericAdaptorBase(::mlir::DictionaryAttr attrs = nullptr, ::mlir::RegionRange regions = {});

  std::pair<unsigned, unsigned> getODSOperandIndexAndLength(unsigned index, unsigned odsOperandsSize);
  ::mlir::DictionaryAttr getAttributes();
};
} // namespace detail
template <typename RangeT>
class mfma_f64_4x4x4f64GenericAdaptor : public detail::mfma_f64_4x4x4f64GenericAdaptorBase {
  using ValueT = ::llvm::detail::ValueOfRange<RangeT>;
  using Base = detail::mfma_f64_4x4x4f64GenericAdaptorBase;
public:
  mfma_f64_4x4x4f64GenericAdaptor(RangeT values, ::mlir::DictionaryAttr attrs = nullptr, ::mlir::RegionRange regions = {}) : Base(attrs, regions), odsOperands(values) {}

  std::pair<unsigned, unsigned> getODSOperandIndexAndLength(unsigned index) {
    return Base::getODSOperandIndexAndLength(index, odsOperands.size());
  }

  RangeT getODSOperands(unsigned index) {
    auto valueRange = getODSOperandIndexAndLength(index);
    return {std::next(odsOperands.begin(), valueRange.first),
             std::next(odsOperands.begin(), valueRange.first + valueRange.second)};
  }

  RangeT getArgs() {
    return getODSOperands(0);
  }

  RangeT getOperands() {
    return odsOperands;
  }

private:
  RangeT odsOperands;
};
class mfma_f64_4x4x4f64Adaptor : public mfma_f64_4x4x4f64GenericAdaptor<::mlir::ValueRange> {
public:
  using mfma_f64_4x4x4f64GenericAdaptor::mfma_f64_4x4x4f64GenericAdaptor;
  mfma_f64_4x4x4f64Adaptor(mfma_f64_4x4x4f64 op);

  ::mlir::LogicalResult verify(::mlir::Location loc);
};
class mfma_f64_4x4x4f64 : public ::mlir::Op<mfma_f64_4x4x4f64, ::mlir::OpTrait::ZeroRegions, ::mlir::OpTrait::OneResult, ::mlir::OpTrait::OneTypedResult<::mlir::Type>::Impl, ::mlir::OpTrait::ZeroSuccessors, ::mlir::OpTrait::VariadicOperands, ::mlir::OpTrait::OpInvariants> {
public:
  using Op::Op;
  using Op::print;
  using Adaptor = mfma_f64_4x4x4f64Adaptor;
  template <typename RangeT>
  using GenericAdaptor = mfma_f64_4x4x4f64GenericAdaptor<RangeT>;
  using FoldAdaptor = GenericAdaptor<::llvm::ArrayRef<::mlir::Attribute>>;
  static ::llvm::ArrayRef<::llvm::StringRef> getAttributeNames() {
    return {};
  }

  static constexpr ::llvm::StringLiteral getOperationName() {
    return ::llvm::StringLiteral("rocdl.mfma.f64.4x4x4f64");
  }

  std::pair<unsigned, unsigned> getODSOperandIndexAndLength(unsigned index);
  ::mlir::Operation::operand_range getODSOperands(unsigned index);
  ::mlir::Operation::operand_range getArgs();
  ::mlir::MutableOperandRange getArgsMutable();
  std::pair<unsigned, unsigned> getODSResultIndexAndLength(unsigned index);
  ::mlir::Operation::result_range getODSResults(unsigned index);
  ::mlir::Value getRes();
  static void build(::mlir::OpBuilder &odsBuilder, ::mlir::OperationState &odsState, ::mlir::Type res, ::mlir::ValueRange args);
  static void build(::mlir::OpBuilder &, ::mlir::OperationState &odsState, ::mlir::TypeRange resultTypes, ::mlir::ValueRange operands, ::llvm::ArrayRef<::mlir::NamedAttribute> attributes = {});
  ::mlir::LogicalResult verifyInvariantsImpl();
  ::mlir::LogicalResult verifyInvariants();
  static ::mlir::ParseResult parse(::mlir::OpAsmParser &parser, ::mlir::OperationState &result);
  void print(::mlir::OpAsmPrinter &_odsPrinter);
public:
};
} // namespace ROCDL
} // namespace mlir
MLIR_DECLARE_EXPLICIT_TYPE_ID(::mlir::ROCDL::mfma_f64_4x4x4f64)

namespace mlir {
namespace ROCDL {

//===----------------------------------------------------------------------===//
// ::mlir::ROCDL::mfma_i32_16x16x16i8 declarations
//===----------------------------------------------------------------------===//

namespace detail {
class mfma_i32_16x16x16i8GenericAdaptorBase {
protected:
  ::mlir::DictionaryAttr odsAttrs;
  ::mlir::RegionRange odsRegions;
  ::std::optional<::mlir::OperationName> odsOpName;
public:
  mfma_i32_16x16x16i8GenericAdaptorBase(::mlir::DictionaryAttr attrs = nullptr, ::mlir::RegionRange regions = {});

  std::pair<unsigned, unsigned> getODSOperandIndexAndLength(unsigned index, unsigned odsOperandsSize);
  ::mlir::DictionaryAttr getAttributes();
};
} // namespace detail
template <typename RangeT>
class mfma_i32_16x16x16i8GenericAdaptor : public detail::mfma_i32_16x16x16i8GenericAdaptorBase {
  using ValueT = ::llvm::detail::ValueOfRange<RangeT>;
  using Base = detail::mfma_i32_16x16x16i8GenericAdaptorBase;
public:
  mfma_i32_16x16x16i8GenericAdaptor(RangeT values, ::mlir::DictionaryAttr attrs = nullptr, ::mlir::RegionRange regions = {}) : Base(attrs, regions), odsOperands(values) {}

  std::pair<unsigned, unsigned> getODSOperandIndexAndLength(unsigned index) {
    return Base::getODSOperandIndexAndLength(index, odsOperands.size());
  }

  RangeT getODSOperands(unsigned index) {
    auto valueRange = getODSOperandIndexAndLength(index);
    return {std::next(odsOperands.begin(), valueRange.first),
             std::next(odsOperands.begin(), valueRange.first + valueRange.second)};
  }

  RangeT getArgs() {
    return getODSOperands(0);
  }

  RangeT getOperands() {
    return odsOperands;
  }

private:
  RangeT odsOperands;
};
class mfma_i32_16x16x16i8Adaptor : public mfma_i32_16x16x16i8GenericAdaptor<::mlir::ValueRange> {
public:
  using mfma_i32_16x16x16i8GenericAdaptor::mfma_i32_16x16x16i8GenericAdaptor;
  mfma_i32_16x16x16i8Adaptor(mfma_i32_16x16x16i8 op);

  ::mlir::LogicalResult verify(::mlir::Location loc);
};
class mfma_i32_16x16x16i8 : public ::mlir::Op<mfma_i32_16x16x16i8, ::mlir::OpTrait::ZeroRegions, ::mlir::OpTrait::OneResult, ::mlir::OpTrait::OneTypedResult<::mlir::Type>::Impl, ::mlir::OpTrait::ZeroSuccessors, ::mlir::OpTrait::VariadicOperands, ::mlir::OpTrait::OpInvariants> {
public:
  using Op::Op;
  using Op::print;
  using Adaptor = mfma_i32_16x16x16i8Adaptor;
  template <typename RangeT>
  using GenericAdaptor = mfma_i32_16x16x16i8GenericAdaptor<RangeT>;
  using FoldAdaptor = GenericAdaptor<::llvm::ArrayRef<::mlir::Attribute>>;
  static ::llvm::ArrayRef<::llvm::StringRef> getAttributeNames() {
    return {};
  }

  static constexpr ::llvm::StringLiteral getOperationName() {
    return ::llvm::StringLiteral("rocdl.mfma.i32.16x16x16i8");
  }

  std::pair<unsigned, unsigned> getODSOperandIndexAndLength(unsigned index);
  ::mlir::Operation::operand_range getODSOperands(unsigned index);
  ::mlir::Operation::operand_range getArgs();
  ::mlir::MutableOperandRange getArgsMutable();
  std::pair<unsigned, unsigned> getODSResultIndexAndLength(unsigned index);
  ::mlir::Operation::result_range getODSResults(unsigned index);
  ::mlir::Value getRes();
  static void build(::mlir::OpBuilder &odsBuilder, ::mlir::OperationState &odsState, ::mlir::Type res, ::mlir::ValueRange args);
  static void build(::mlir::OpBuilder &, ::mlir::OperationState &odsState, ::mlir::TypeRange resultTypes, ::mlir::ValueRange operands, ::llvm::ArrayRef<::mlir::NamedAttribute> attributes = {});
  ::mlir::LogicalResult verifyInvariantsImpl();
  ::mlir::LogicalResult verifyInvariants();
  static ::mlir::ParseResult parse(::mlir::OpAsmParser &parser, ::mlir::OperationState &result);
  void print(::mlir::OpAsmPrinter &_odsPrinter);
public:
};
} // namespace ROCDL
} // namespace mlir
MLIR_DECLARE_EXPLICIT_TYPE_ID(::mlir::ROCDL::mfma_i32_16x16x16i8)

namespace mlir {
namespace ROCDL {

//===----------------------------------------------------------------------===//
// ::mlir::ROCDL::mfma_i32_16x16x32_i8 declarations
//===----------------------------------------------------------------------===//

namespace detail {
class mfma_i32_16x16x32_i8GenericAdaptorBase {
protected:
  ::mlir::DictionaryAttr odsAttrs;
  ::mlir::RegionRange odsRegions;
  ::std::optional<::mlir::OperationName> odsOpName;
public:
  mfma_i32_16x16x32_i8GenericAdaptorBase(::mlir::DictionaryAttr attrs = nullptr, ::mlir::RegionRange regions = {});

  std::pair<unsigned, unsigned> getODSOperandIndexAndLength(unsigned index, unsigned odsOperandsSize);
  ::mlir::DictionaryAttr getAttributes();
};
} // namespace detail
template <typename RangeT>
class mfma_i32_16x16x32_i8GenericAdaptor : public detail::mfma_i32_16x16x32_i8GenericAdaptorBase {
  using ValueT = ::llvm::detail::ValueOfRange<RangeT>;
  using Base = detail::mfma_i32_16x16x32_i8GenericAdaptorBase;
public:
  mfma_i32_16x16x32_i8GenericAdaptor(RangeT values, ::mlir::DictionaryAttr attrs = nullptr, ::mlir::RegionRange regions = {}) : Base(attrs, regions), odsOperands(values) {}

  std::pair<unsigned, unsigned> getODSOperandIndexAndLength(unsigned index) {
    return Base::getODSOperandIndexAndLength(index, odsOperands.size());
  }

  RangeT getODSOperands(unsigned index) {
    auto valueRange = getODSOperandIndexAndLength(index);
    return {std::next(odsOperands.begin(), valueRange.first),
             std::next(odsOperands.begin(), valueRange.first + valueRange.second)};
  }

  RangeT getArgs() {
    return getODSOperands(0);
  }

  RangeT getOperands() {
    return odsOperands;
  }

private:
  RangeT odsOperands;
};
class mfma_i32_16x16x32_i8Adaptor : public mfma_i32_16x16x32_i8GenericAdaptor<::mlir::ValueRange> {
public:
  using mfma_i32_16x16x32_i8GenericAdaptor::mfma_i32_16x16x32_i8GenericAdaptor;
  mfma_i32_16x16x32_i8Adaptor(mfma_i32_16x16x32_i8 op);

  ::mlir::LogicalResult verify(::mlir::Location loc);
};
class mfma_i32_16x16x32_i8 : public ::mlir::Op<mfma_i32_16x16x32_i8, ::mlir::OpTrait::ZeroRegions, ::mlir::OpTrait::OneResult, ::mlir::OpTrait::OneTypedResult<::mlir::Type>::Impl, ::mlir::OpTrait::ZeroSuccessors, ::mlir::OpTrait::VariadicOperands, ::mlir::OpTrait::OpInvariants> {
public:
  using Op::Op;
  using Op::print;
  using Adaptor = mfma_i32_16x16x32_i8Adaptor;
  template <typename RangeT>
  using GenericAdaptor = mfma_i32_16x16x32_i8GenericAdaptor<RangeT>;
  using FoldAdaptor = GenericAdaptor<::llvm::ArrayRef<::mlir::Attribute>>;
  static ::llvm::ArrayRef<::llvm::StringRef> getAttributeNames() {
    return {};
  }

  static constexpr ::llvm::StringLiteral getOperationName() {
    return ::llvm::StringLiteral("rocdl.mfma.i32.16x16x32.i8");
  }

  std::pair<unsigned, unsigned> getODSOperandIndexAndLength(unsigned index);
  ::mlir::Operation::operand_range getODSOperands(unsigned index);
  ::mlir::Operation::operand_range getArgs();
  ::mlir::MutableOperandRange getArgsMutable();
  std::pair<unsigned, unsigned> getODSResultIndexAndLength(unsigned index);
  ::mlir::Operation::result_range getODSResults(unsigned index);
  ::mlir::Value getRes();
  static void build(::mlir::OpBuilder &odsBuilder, ::mlir::OperationState &odsState, ::mlir::Type res, ::mlir::ValueRange args);
  static void build(::mlir::OpBuilder &, ::mlir::OperationState &odsState, ::mlir::TypeRange resultTypes, ::mlir::ValueRange operands, ::llvm::ArrayRef<::mlir::NamedAttribute> attributes = {});
  ::mlir::LogicalResult verifyInvariantsImpl();
  ::mlir::LogicalResult verifyInvariants();
  static ::mlir::ParseResult parse(::mlir::OpAsmParser &parser, ::mlir::OperationState &result);
  void print(::mlir::OpAsmPrinter &_odsPrinter);
public:
};
} // namespace ROCDL
} // namespace mlir
MLIR_DECLARE_EXPLICIT_TYPE_ID(::mlir::ROCDL::mfma_i32_16x16x32_i8)

namespace mlir {
namespace ROCDL {

//===----------------------------------------------------------------------===//
// ::mlir::ROCDL::mfma_i32_16x16x4i8 declarations
//===----------------------------------------------------------------------===//

namespace detail {
class mfma_i32_16x16x4i8GenericAdaptorBase {
protected:
  ::mlir::DictionaryAttr odsAttrs;
  ::mlir::RegionRange odsRegions;
  ::std::optional<::mlir::OperationName> odsOpName;
public:
  mfma_i32_16x16x4i8GenericAdaptorBase(::mlir::DictionaryAttr attrs = nullptr, ::mlir::RegionRange regions = {});

  std::pair<unsigned, unsigned> getODSOperandIndexAndLength(unsigned index, unsigned odsOperandsSize);
  ::mlir::DictionaryAttr getAttributes();
};
} // namespace detail
template <typename RangeT>
class mfma_i32_16x16x4i8GenericAdaptor : public detail::mfma_i32_16x16x4i8GenericAdaptorBase {
  using ValueT = ::llvm::detail::ValueOfRange<RangeT>;
  using Base = detail::mfma_i32_16x16x4i8GenericAdaptorBase;
public:
  mfma_i32_16x16x4i8GenericAdaptor(RangeT values, ::mlir::DictionaryAttr attrs = nullptr, ::mlir::RegionRange regions = {}) : Base(attrs, regions), odsOperands(values) {}

  std::pair<unsigned, unsigned> getODSOperandIndexAndLength(unsigned index) {
    return Base::getODSOperandIndexAndLength(index, odsOperands.size());
  }

  RangeT getODSOperands(unsigned index) {
    auto valueRange = getODSOperandIndexAndLength(index);
    return {std::next(odsOperands.begin(), valueRange.first),
             std::next(odsOperands.begin(), valueRange.first + valueRange.second)};
  }

  RangeT getArgs() {
    return getODSOperands(0);
  }

  RangeT getOperands() {
    return odsOperands;
  }

private:
  RangeT odsOperands;
};
class mfma_i32_16x16x4i8Adaptor : public mfma_i32_16x16x4i8GenericAdaptor<::mlir::ValueRange> {
public:
  using mfma_i32_16x16x4i8GenericAdaptor::mfma_i32_16x16x4i8GenericAdaptor;
  mfma_i32_16x16x4i8Adaptor(mfma_i32_16x16x4i8 op);

  ::mlir::LogicalResult verify(::mlir::Location loc);
};
class mfma_i32_16x16x4i8 : public ::mlir::Op<mfma_i32_16x16x4i8, ::mlir::OpTrait::ZeroRegions, ::mlir::OpTrait::OneResult, ::mlir::OpTrait::OneTypedResult<::mlir::Type>::Impl, ::mlir::OpTrait::ZeroSuccessors, ::mlir::OpTrait::VariadicOperands, ::mlir::OpTrait::OpInvariants> {
public:
  using Op::Op;
  using Op::print;
  using Adaptor = mfma_i32_16x16x4i8Adaptor;
  template <typename RangeT>
  using GenericAdaptor = mfma_i32_16x16x4i8GenericAdaptor<RangeT>;
  using FoldAdaptor = GenericAdaptor<::llvm::ArrayRef<::mlir::Attribute>>;
  static ::llvm::ArrayRef<::llvm::StringRef> getAttributeNames() {
    return {};
  }

  static constexpr ::llvm::StringLiteral getOperationName() {
    return ::llvm::StringLiteral("rocdl.mfma.i32.16x16x4i8");
  }

  std::pair<unsigned, unsigned> getODSOperandIndexAndLength(unsigned index);
  ::mlir::Operation::operand_range getODSOperands(unsigned index);
  ::mlir::Operation::operand_range getArgs();
  ::mlir::MutableOperandRange getArgsMutable();
  std::pair<unsigned, unsigned> getODSResultIndexAndLength(unsigned index);
  ::mlir::Operation::result_range getODSResults(unsigned index);
  ::mlir::Value getRes();
  static void build(::mlir::OpBuilder &odsBuilder, ::mlir::OperationState &odsState, ::mlir::Type res, ::mlir::ValueRange args);
  static void build(::mlir::OpBuilder &, ::mlir::OperationState &odsState, ::mlir::TypeRange resultTypes, ::mlir::ValueRange operands, ::llvm::ArrayRef<::mlir::NamedAttribute> attributes = {});
  ::mlir::LogicalResult verifyInvariantsImpl();
  ::mlir::LogicalResult verifyInvariants();
  static ::mlir::ParseResult parse(::mlir::OpAsmParser &parser, ::mlir::OperationState &result);
  void print(::mlir::OpAsmPrinter &_odsPrinter);
public:
};
} // namespace ROCDL
} // namespace mlir
MLIR_DECLARE_EXPLICIT_TYPE_ID(::mlir::ROCDL::mfma_i32_16x16x4i8)

namespace mlir {
namespace ROCDL {

//===----------------------------------------------------------------------===//
// ::mlir::ROCDL::mfma_i32_32x32x16_i8 declarations
//===----------------------------------------------------------------------===//

namespace detail {
class mfma_i32_32x32x16_i8GenericAdaptorBase {
protected:
  ::mlir::DictionaryAttr odsAttrs;
  ::mlir::RegionRange odsRegions;
  ::std::optional<::mlir::OperationName> odsOpName;
public:
  mfma_i32_32x32x16_i8GenericAdaptorBase(::mlir::DictionaryAttr attrs = nullptr, ::mlir::RegionRange regions = {});

  std::pair<unsigned, unsigned> getODSOperandIndexAndLength(unsigned index, unsigned odsOperandsSize);
  ::mlir::DictionaryAttr getAttributes();
};
} // namespace detail
template <typename RangeT>
class mfma_i32_32x32x16_i8GenericAdaptor : public detail::mfma_i32_32x32x16_i8GenericAdaptorBase {
  using ValueT = ::llvm::detail::ValueOfRange<RangeT>;
  using Base = detail::mfma_i32_32x32x16_i8GenericAdaptorBase;
public:
  mfma_i32_32x32x16_i8GenericAdaptor(RangeT values, ::mlir::DictionaryAttr attrs = nullptr, ::mlir::RegionRange regions = {}) : Base(attrs, regions), odsOperands(values) {}

  std::pair<unsigned, unsigned> getODSOperandIndexAndLength(unsigned index) {
    return Base::getODSOperandIndexAndLength(index, odsOperands.size());
  }

  RangeT getODSOperands(unsigned index) {
    auto valueRange = getODSOperandIndexAndLength(index);
    return {std::next(odsOperands.begin(), valueRange.first),
             std::next(odsOperands.begin(), valueRange.first + valueRange.second)};
  }

  RangeT getArgs() {
    return getODSOperands(0);
  }

  RangeT getOperands() {
    return odsOperands;
  }

private:
  RangeT odsOperands;
};
class mfma_i32_32x32x16_i8Adaptor : public mfma_i32_32x32x16_i8GenericAdaptor<::mlir::ValueRange> {
public:
  using mfma_i32_32x32x16_i8GenericAdaptor::mfma_i32_32x32x16_i8GenericAdaptor;
  mfma_i32_32x32x16_i8Adaptor(mfma_i32_32x32x16_i8 op);

  ::mlir::LogicalResult verify(::mlir::Location loc);
};
class mfma_i32_32x32x16_i8 : public ::mlir::Op<mfma_i32_32x32x16_i8, ::mlir::OpTrait::ZeroRegions, ::mlir::OpTrait::OneResult, ::mlir::OpTrait::OneTypedResult<::mlir::Type>::Impl, ::mlir::OpTrait::ZeroSuccessors, ::mlir::OpTrait::VariadicOperands, ::mlir::OpTrait::OpInvariants> {
public:
  using Op::Op;
  using Op::print;
  using Adaptor = mfma_i32_32x32x16_i8Adaptor;
  template <typename RangeT>
  using GenericAdaptor = mfma_i32_32x32x16_i8GenericAdaptor<RangeT>;
  using FoldAdaptor = GenericAdaptor<::llvm::ArrayRef<::mlir::Attribute>>;
  static ::llvm::ArrayRef<::llvm::StringRef> getAttributeNames() {
    return {};
  }

  static constexpr ::llvm::StringLiteral getOperationName() {
    return ::llvm::StringLiteral("rocdl.mfma.i32.32x32x16.i8");
  }

  std::pair<unsigned, unsigned> getODSOperandIndexAndLength(unsigned index);
  ::mlir::Operation::operand_range getODSOperands(unsigned index);
  ::mlir::Operation::operand_range getArgs();
  ::mlir::MutableOperandRange getArgsMutable();
  std::pair<unsigned, unsigned> getODSResultIndexAndLength(unsigned index);
  ::mlir::Operation::result_range getODSResults(unsigned index);
  ::mlir::Value getRes();
  static void build(::mlir::OpBuilder &odsBuilder, ::mlir::OperationState &odsState, ::mlir::Type res, ::mlir::ValueRange args);
  static void build(::mlir::OpBuilder &, ::mlir::OperationState &odsState, ::mlir::TypeRange resultTypes, ::mlir::ValueRange operands, ::llvm::ArrayRef<::mlir::NamedAttribute> attributes = {});
  ::mlir::LogicalResult verifyInvariantsImpl();
  ::mlir::LogicalResult verifyInvariants();
  static ::mlir::ParseResult parse(::mlir::OpAsmParser &parser, ::mlir::OperationState &result);
  void print(::mlir::OpAsmPrinter &_odsPrinter);
public:
};
} // namespace ROCDL
} // namespace mlir
MLIR_DECLARE_EXPLICIT_TYPE_ID(::mlir::ROCDL::mfma_i32_32x32x16_i8)

namespace mlir {
namespace ROCDL {

//===----------------------------------------------------------------------===//
// ::mlir::ROCDL::mfma_i32_32x32x4i8 declarations
//===----------------------------------------------------------------------===//

namespace detail {
class mfma_i32_32x32x4i8GenericAdaptorBase {
protected:
  ::mlir::DictionaryAttr odsAttrs;
  ::mlir::RegionRange odsRegions;
  ::std::optional<::mlir::OperationName> odsOpName;
public:
  mfma_i32_32x32x4i8GenericAdaptorBase(::mlir::DictionaryAttr attrs = nullptr, ::mlir::RegionRange regions = {});

  std::pair<unsigned, unsigned> getODSOperandIndexAndLength(unsigned index, unsigned odsOperandsSize);
  ::mlir::DictionaryAttr getAttributes();
};
} // namespace detail
template <typename RangeT>
class mfma_i32_32x32x4i8GenericAdaptor : public detail::mfma_i32_32x32x4i8GenericAdaptorBase {
  using ValueT = ::llvm::detail::ValueOfRange<RangeT>;
  using Base = detail::mfma_i32_32x32x4i8GenericAdaptorBase;
public:
  mfma_i32_32x32x4i8GenericAdaptor(RangeT values, ::mlir::DictionaryAttr attrs = nullptr, ::mlir::RegionRange regions = {}) : Base(attrs, regions), odsOperands(values) {}

  std::pair<unsigned, unsigned> getODSOperandIndexAndLength(unsigned index) {
    return Base::getODSOperandIndexAndLength(index, odsOperands.size());
  }

  RangeT getODSOperands(unsigned index) {
    auto valueRange = getODSOperandIndexAndLength(index);
    return {std::next(odsOperands.begin(), valueRange.first),
             std::next(odsOperands.begin(), valueRange.first + valueRange.second)};
  }

  RangeT getArgs() {
    return getODSOperands(0);
  }

  RangeT getOperands() {
    return odsOperands;
  }

private:
  RangeT odsOperands;
};
class mfma_i32_32x32x4i8Adaptor : public mfma_i32_32x32x4i8GenericAdaptor<::mlir::ValueRange> {
public:
  using mfma_i32_32x32x4i8GenericAdaptor::mfma_i32_32x32x4i8GenericAdaptor;
  mfma_i32_32x32x4i8Adaptor(mfma_i32_32x32x4i8 op);

  ::mlir::LogicalResult verify(::mlir::Location loc);
};
class mfma_i32_32x32x4i8 : public ::mlir::Op<mfma_i32_32x32x4i8, ::mlir::OpTrait::ZeroRegions, ::mlir::OpTrait::OneResult, ::mlir::OpTrait::OneTypedResult<::mlir::Type>::Impl, ::mlir::OpTrait::ZeroSuccessors, ::mlir::OpTrait::VariadicOperands, ::mlir::OpTrait::OpInvariants> {
public:
  using Op::Op;
  using Op::print;
  using Adaptor = mfma_i32_32x32x4i8Adaptor;
  template <typename RangeT>
  using GenericAdaptor = mfma_i32_32x32x4i8GenericAdaptor<RangeT>;
  using FoldAdaptor = GenericAdaptor<::llvm::ArrayRef<::mlir::Attribute>>;
  static ::llvm::ArrayRef<::llvm::StringRef> getAttributeNames() {
    return {};
  }

  static constexpr ::llvm::StringLiteral getOperationName() {
    return ::llvm::StringLiteral("rocdl.mfma.i32.32x32x4i8");
  }

  std::pair<unsigned, unsigned> getODSOperandIndexAndLength(unsigned index);
  ::mlir::Operation::operand_range getODSOperands(unsigned index);
  ::mlir::Operation::operand_range getArgs();
  ::mlir::MutableOperandRange getArgsMutable();
  std::pair<unsigned, unsigned> getODSResultIndexAndLength(unsigned index);
  ::mlir::Operation::result_range getODSResults(unsigned index);
  ::mlir::Value getRes();
  static void build(::mlir::OpBuilder &odsBuilder, ::mlir::OperationState &odsState, ::mlir::Type res, ::mlir::ValueRange args);
  static void build(::mlir::OpBuilder &, ::mlir::OperationState &odsState, ::mlir::TypeRange resultTypes, ::mlir::ValueRange operands, ::llvm::ArrayRef<::mlir::NamedAttribute> attributes = {});
  ::mlir::LogicalResult verifyInvariantsImpl();
  ::mlir::LogicalResult verifyInvariants();
  static ::mlir::ParseResult parse(::mlir::OpAsmParser &parser, ::mlir::OperationState &result);
  void print(::mlir::OpAsmPrinter &_odsPrinter);
public:
};
} // namespace ROCDL
} // namespace mlir
MLIR_DECLARE_EXPLICIT_TYPE_ID(::mlir::ROCDL::mfma_i32_32x32x4i8)

namespace mlir {
namespace ROCDL {

//===----------------------------------------------------------------------===//
// ::mlir::ROCDL::mfma_i32_32x32x8i8 declarations
//===----------------------------------------------------------------------===//

namespace detail {
class mfma_i32_32x32x8i8GenericAdaptorBase {
protected:
  ::mlir::DictionaryAttr odsAttrs;
  ::mlir::RegionRange odsRegions;
  ::std::optional<::mlir::OperationName> odsOpName;
public:
  mfma_i32_32x32x8i8GenericAdaptorBase(::mlir::DictionaryAttr attrs = nullptr, ::mlir::RegionRange regions = {});

  std::pair<unsigned, unsigned> getODSOperandIndexAndLength(unsigned index, unsigned odsOperandsSize);
  ::mlir::DictionaryAttr getAttributes();
};
} // namespace detail
template <typename RangeT>
class mfma_i32_32x32x8i8GenericAdaptor : public detail::mfma_i32_32x32x8i8GenericAdaptorBase {
  using ValueT = ::llvm::detail::ValueOfRange<RangeT>;
  using Base = detail::mfma_i32_32x32x8i8GenericAdaptorBase;
public:
  mfma_i32_32x32x8i8GenericAdaptor(RangeT values, ::mlir::DictionaryAttr attrs = nullptr, ::mlir::RegionRange regions = {}) : Base(attrs, regions), odsOperands(values) {}

  std::pair<unsigned, unsigned> getODSOperandIndexAndLength(unsigned index) {
    return Base::getODSOperandIndexAndLength(index, odsOperands.size());
  }

  RangeT getODSOperands(unsigned index) {
    auto valueRange = getODSOperandIndexAndLength(index);
    return {std::next(odsOperands.begin(), valueRange.first),
             std::next(odsOperands.begin(), valueRange.first + valueRange.second)};
  }

  RangeT getArgs() {
    return getODSOperands(0);
  }

  RangeT getOperands() {
    return odsOperands;
  }

private:
  RangeT odsOperands;
};
class mfma_i32_32x32x8i8Adaptor : public mfma_i32_32x32x8i8GenericAdaptor<::mlir::ValueRange> {
public:
  using mfma_i32_32x32x8i8GenericAdaptor::mfma_i32_32x32x8i8GenericAdaptor;
  mfma_i32_32x32x8i8Adaptor(mfma_i32_32x32x8i8 op);

  ::mlir::LogicalResult verify(::mlir::Location loc);
};
class mfma_i32_32x32x8i8 : public ::mlir::Op<mfma_i32_32x32x8i8, ::mlir::OpTrait::ZeroRegions, ::mlir::OpTrait::OneResult, ::mlir::OpTrait::OneTypedResult<::mlir::Type>::Impl, ::mlir::OpTrait::ZeroSuccessors, ::mlir::OpTrait::VariadicOperands, ::mlir::OpTrait::OpInvariants> {
public:
  using Op::Op;
  using Op::print;
  using Adaptor = mfma_i32_32x32x8i8Adaptor;
  template <typename RangeT>
  using GenericAdaptor = mfma_i32_32x32x8i8GenericAdaptor<RangeT>;
  using FoldAdaptor = GenericAdaptor<::llvm::ArrayRef<::mlir::Attribute>>;
  static ::llvm::ArrayRef<::llvm::StringRef> getAttributeNames() {
    return {};
  }

  static constexpr ::llvm::StringLiteral getOperationName() {
    return ::llvm::StringLiteral("rocdl.mfma.i32.32x32x8i8");
  }

  std::pair<unsigned, unsigned> getODSOperandIndexAndLength(unsigned index);
  ::mlir::Operation::operand_range getODSOperands(unsigned index);
  ::mlir::Operation::operand_range getArgs();
  ::mlir::MutableOperandRange getArgsMutable();
  std::pair<unsigned, unsigned> getODSResultIndexAndLength(unsigned index);
  ::mlir::Operation::result_range getODSResults(unsigned index);
  ::mlir::Value getRes();
  static void build(::mlir::OpBuilder &odsBuilder, ::mlir::OperationState &odsState, ::mlir::Type res, ::mlir::ValueRange args);
  static void build(::mlir::OpBuilder &, ::mlir::OperationState &odsState, ::mlir::TypeRange resultTypes, ::mlir::ValueRange operands, ::llvm::ArrayRef<::mlir::NamedAttribute> attributes = {});
  ::mlir::LogicalResult verifyInvariantsImpl();
  ::mlir::LogicalResult verifyInvariants();
  static ::mlir::ParseResult parse(::mlir::OpAsmParser &parser, ::mlir::OperationState &result);
  void print(::mlir::OpAsmPrinter &_odsPrinter);
public:
};
} // namespace ROCDL
} // namespace mlir
MLIR_DECLARE_EXPLICIT_TYPE_ID(::mlir::ROCDL::mfma_i32_32x32x8i8)

namespace mlir {
namespace ROCDL {

//===----------------------------------------------------------------------===//
// ::mlir::ROCDL::mfma_i32_4x4x4i8 declarations
//===----------------------------------------------------------------------===//

namespace detail {
class mfma_i32_4x4x4i8GenericAdaptorBase {
protected:
  ::mlir::DictionaryAttr odsAttrs;
  ::mlir::RegionRange odsRegions;
  ::std::optional<::mlir::OperationName> odsOpName;
public:
  mfma_i32_4x4x4i8GenericAdaptorBase(::mlir::DictionaryAttr attrs = nullptr, ::mlir::RegionRange regions = {});

  std::pair<unsigned, unsigned> getODSOperandIndexAndLength(unsigned index, unsigned odsOperandsSize);
  ::mlir::DictionaryAttr getAttributes();
};
} // namespace detail
template <typename RangeT>
class mfma_i32_4x4x4i8GenericAdaptor : public detail::mfma_i32_4x4x4i8GenericAdaptorBase {
  using ValueT = ::llvm::detail::ValueOfRange<RangeT>;
  using Base = detail::mfma_i32_4x4x4i8GenericAdaptorBase;
public:
  mfma_i32_4x4x4i8GenericAdaptor(RangeT values, ::mlir::DictionaryAttr attrs = nullptr, ::mlir::RegionRange regions = {}) : Base(attrs, regions), odsOperands(values) {}

  std::pair<unsigned, unsigned> getODSOperandIndexAndLength(unsigned index) {
    return Base::getODSOperandIndexAndLength(index, odsOperands.size());
  }

  RangeT getODSOperands(unsigned index) {
    auto valueRange = getODSOperandIndexAndLength(index);
    return {std::next(odsOperands.begin(), valueRange.first),
             std::next(odsOperands.begin(), valueRange.first + valueRange.second)};
  }

  RangeT getArgs() {
    return getODSOperands(0);
  }

  RangeT getOperands() {
    return odsOperands;
  }

private:
  RangeT odsOperands;
};
class mfma_i32_4x4x4i8Adaptor : public mfma_i32_4x4x4i8GenericAdaptor<::mlir::ValueRange> {
public:
  using mfma_i32_4x4x4i8GenericAdaptor::mfma_i32_4x4x4i8GenericAdaptor;
  mfma_i32_4x4x4i8Adaptor(mfma_i32_4x4x4i8 op);

  ::mlir::LogicalResult verify(::mlir::Location loc);
};
class mfma_i32_4x4x4i8 : public ::mlir::Op<mfma_i32_4x4x4i8, ::mlir::OpTrait::ZeroRegions, ::mlir::OpTrait::OneResult, ::mlir::OpTrait::OneTypedResult<::mlir::Type>::Impl, ::mlir::OpTrait::ZeroSuccessors, ::mlir::OpTrait::VariadicOperands, ::mlir::OpTrait::OpInvariants> {
public:
  using Op::Op;
  using Op::print;
  using Adaptor = mfma_i32_4x4x4i8Adaptor;
  template <typename RangeT>
  using GenericAdaptor = mfma_i32_4x4x4i8GenericAdaptor<RangeT>;
  using FoldAdaptor = GenericAdaptor<::llvm::ArrayRef<::mlir::Attribute>>;
  static ::llvm::ArrayRef<::llvm::StringRef> getAttributeNames() {
    return {};
  }

  static constexpr ::llvm::StringLiteral getOperationName() {
    return ::llvm::StringLiteral("rocdl.mfma.i32.4x4x4i8");
  }

  std::pair<unsigned, unsigned> getODSOperandIndexAndLength(unsigned index);
  ::mlir::Operation::operand_range getODSOperands(unsigned index);
  ::mlir::Operation::operand_range getArgs();
  ::mlir::MutableOperandRange getArgsMutable();
  std::pair<unsigned, unsigned> getODSResultIndexAndLength(unsigned index);
  ::mlir::Operation::result_range getODSResults(unsigned index);
  ::mlir::Value getRes();
  static void build(::mlir::OpBuilder &odsBuilder, ::mlir::OperationState &odsState, ::mlir::Type res, ::mlir::ValueRange args);
  static void build(::mlir::OpBuilder &, ::mlir::OperationState &odsState, ::mlir::TypeRange resultTypes, ::mlir::ValueRange operands, ::llvm::ArrayRef<::mlir::NamedAttribute> attributes = {});
  ::mlir::LogicalResult verifyInvariantsImpl();
  ::mlir::LogicalResult verifyInvariants();
  static ::mlir::ParseResult parse(::mlir::OpAsmParser &parser, ::mlir::OperationState &result);
  void print(::mlir::OpAsmPrinter &_odsPrinter);
public:
};
} // namespace ROCDL
} // namespace mlir
MLIR_DECLARE_EXPLICIT_TYPE_ID(::mlir::ROCDL::mfma_i32_4x4x4i8)


#endif  // GET_OP_CLASSES

                                                                                                                                                                                                                                                                                   �
�����y��[&  H�@  ��!� 3Ʌ�y*H�� A��  H�D$8H�*& H�D$0H��'& �  �|� ��v*H��c A�  H�D$8H��,& H�D$0H��(& ��   H��u*H�qc A�  H�D$8H��,& H�D$0H��(& �   �   H����I H��u'H�Ec A�
  H�D$8H�K,& H�D$0H�W(& �jL�Ë�H�������H��uH�$c A�  H�D$8H�*& �1A�H�й   ��I H��H��yUH�	O A�  H�D$8H�G*& H�D$0H�(& 3�H�D$(L�mb H��&& H�M H�D$ �E� H������@�覨 @��t��:� H�l$XH��H�\$PH�t$`H��@_���@SH��@H�|$P@2�@8=�W& u>��W& ��u:�	�����y*H��  H�D$8A�|  H�,(& H�D$0H�@&& ��   ��W& �=�Y&  u$��u ��Y& ������y��Y&  H�!� ��� 3Ʌ�y*H�}  A�|  H�D$8H��'& H�D$0H��%& �   �]� H�~�% �!* H��H��u'H�J A��  H�D$8H� '& H�D$0H��%& �B�����H��A��   �-H H��H��yUH��a A��  H�D$8H��(& H�D$0H�p&& 3�H�D$(L�Za H�3%& H��K H�D$ �� @�H�������� @��H�|$Pt��� H��H��@[��H�\$H�l$H�t$H�|$ AVH��p3�@2�8GV& M��H��H��ul�6V& ��uh�`�����yXH�� H�D$8H��&& H�D$0A�  H��$& H�D$(L��b H�|$& H�-K 3�H�D$ ��� @�������'  ��U& 8�W& u&��u"��W& ������y��W& H�L� �z����*� ��yH��� H�D$8H�&& �e���H��uEH��x& M��H�T$@H���r� ��ymH�b A�  H�D$8H��%& H�D$0H��$& �-���3��M� �   H���F H��u�H��` A�  H�D$8H�z(& H�D$0H��$& �����8\$Du1�|$@u*H��a A�$  H�D$8H�S%& H�D$0H�o$& ����H��tH�L$PH��(� @��t��� L�\$p��I�[I�kI�s I�{(I��A^����������������@SH��@H�|$P@2�@8=WT& u>�OT& ��u:�y�����y*H�6� H�D$8H��$& H�D$0A��  H��"& �   �T& �='V&  u$��u �V& �[�����y�
V&  H��� ��r� ��yH��� H�D$8H�[$& �贤��H��uH�p^ A��  H�D$8H�&%& �1A�H�й   ��D H��H��yUH�=^ A��  H�D$8H�S%& H�D$0H�#& H�D$(L�3^ H��!& H��H 3�H�D$ �Q� @�H������貣 @��H�|$Pt��A� H��H��@[���������H�\$H�l$H�t$WH��@3�@2�8�R& H��H��u>��R& ��u:�	�����y*H��� H�D$8H�2#& H�D$0A��  H�@!& �   ��R& 8�T& u#��u��T& ������y��T& H�#� ��� ��yH��� H�D$8H��"& �H����   H�[u& E3�H��H���� ��ySH��^ A��  H�D$8H��%& H�D$0H��!& H�D$(L�p^ H�� & H�:G 3�H�D$ ��� @�������a� @��t���� H�l$X��H�\$PH�t$`H��@_�3���� �   H���B H���V���H�] A��  H�D$8H� %& H�D$0H�!& �c����������@SUVWAVAWH��X3�@2�8TQ& A��M��H�\$@L��H��u>�;Q& ��u:�e�����y*H�"� H�D$8H��!& H�D$0A�C  H��& �N  ��P& 8S& u#��u�S& �H�����y��R& H�� ��`� ��yH��� H�D$8H�I!& �H��uKH��H��$�   L��$�   H�L$@�S ��ymH�� A�\  H�D$8H�h & H�D$0H�T& �   3��� �   H���CA H��H��u�H��[ A�N  H�D$8H��#& H�D$0H��& �kH�D$@D��H�D$8M��H��$�   I��H�D$0H��H��$�   H�D$(H��$�   H�D$ �b� ��ySH��[ A�`  H�D$8H�U & H�D$0H�i& H�D$(L��[ H�.& H��D 3�H�D$ �� �����@�H�L$@H��t�c� ��� @��t��� ��H��XA_A^_^][������������H�\$H�l$H�t$WH��@@2�I��@8=+O& H��H��u>�O& ��u:�G�����y*H�� H�D$8A��  H�j& H�D$0H�~& �  ��N& �=�P&  u$��u ��P& �)�����y��P&  H�_� ��@� 3Ʌ�y*H��� A��  H�D$8H�!& H�D$0H�& �   �� H����   H��t~H��tyL��H��H���z���H��u'H��V A��  H�D$8H��& H�D$0H��& �dA�H�й   �^? H��H��y|H��C A��  H�D$8H��& H�D$0H��& �%H��V A��  H�D$8H�^!& H�D$0H�Z& 3�H�D$(L�<V H�=& H��B H�D$ �� H������@��� @��t��� H�l$XH��H�\$PH�t$`H��@_��H�\$H�l$H�t$H�|$ AVH��p3�@2�8GM& M��H��H��u>�6M& ��u:�`�����y*H�� H�D$8H��& H�D$0A�L  H��& �!  ��L& 8O& u#��u�O& �C�����y��N& H�z� ��[� ��yH��� H�D$8H�D& �H��u9H�=�o& E3�H�T$@H���� ��yaH�KY A�_  H�D$8H�& �   3��� �   H���P= H��H��u�H��W A�Y  H�D$8H��& H�D$0H��& �PH;l$`H�T$@M���D$@   H��H�l$P�D$D��� ��ySH�'Y A�n  H�D$8H�}& H�D$0H��& H�D$(L��X H�V& H�A 3�H�D$ ��� �����@��.� @��t���� L�\$p��I�[I�kI�s I�{(I��A^������H�\$H�t$WH��@3�@2�8bK& H��u>�WK& ��u:聑����y*H�>� H�D$8A�  H��& H�D$0H��& �  �K& 80M& u#��u�#M& �d�����y�M& H��� ��|� 3Ʌ�y*H��� A�  H�D$8H�]& H�D$0H�Q& �   ��� H����   �   H���; H��u'H�V A�  H�D$8H��& H�D$0H�& �XH���-�����yH��U A�  H�D$8H��& �%H���f/ ��ySH��U A�#  H�D$8H�& H�D$0H��& 3�H�D$(L�wU H��& H�A? H�D$ �� �����@��j� @��t���� H�t$X��H�\$PH��@_�������������H�\$H�t$WH��@3�@2�8�I& H��u>��I& ��u:�������y*H�~� H�D$8A�  H��& H�D$0H��& ��   �YI& 8pK& u#��u�cK& 褝����y�TK& H��� �輚 3Ʌ�y'H�7� A�  H�D$8H��& H�D$0H��& �l�� H���26 ��t'H��Q A�  H�D$8H�L& H�D$0H�X& �1H����- ��ySH��Q A�  H�D$8H��& H�D$0H�E& 3�H�D$(L��Q H�& H��= H�D$ �� @�������� @��t��v� H�t$X��H�\$PH��@_�����H�\$H�l$H�t$WH��p3�@2�8H& H��H��ul�H& ��uh�9�����yXH��� H�D$8A�W  H�\& H�D$0H�p& 3�H�D$(H�2U H�S& L�|U H�D$ ��� @��������   ��G& 8�I& u&��u"��I& ������y��I& H�%� �z����� 3Ʌ�y*H�~� A�W  H�D$8H��& H�D$0H��& �e����^� L��H�T$@H�?j& �:� ��y*H��S A�a  H�D$8H��& H�D$0H��& ����8\$Du1�|$@u*H��T A�e  H�D$8H�^& H�D$0H�z& �����H��tH�L$HH��3� @��t���� L�\$p��I�[I�kI�s I��_����������������H�\$H�t$WH��@3�@2�8bF& H��u>�WF& ��u:职����y*H�>� H�D$8H��& H�D$0A�
  H��& �   �F& 80H& u#��u�#H& �d�����y�H& H��� ��|� ��yH��� H�D$8H�e& �A�H��h& H���!� ��ySH�.R A�  H�D$8H�t& H�D$0H�H& H�D$(L�4S H�& H��R 3�H�D$ �� �����@��� @��t��y� H�t$X��H�\$PH��@_��������H�\$H�l$H�t$WH��p3�@2�8E& H��H��u>�E& ��u:�9�����y*H��� H�D$8H�b& H�D$0A��  H�p& ��   ��D& 8�F& u#��u��F& ������y��F& H�S� ��4� ��yH��� H�D$8H�& �E3�H�T$@H��g& 臿 ��yH�,Q A��  H�D$8H��& �HH;t$XH�T$@L���D$@   H�Lg& H�t$H�D$D��� ��ySH�JQ A��  H�D$8H��& H�D$0H��& H�D$(L��Q H�y& H�JQ 3�H�D$ ��� @�������Q� @��t���� L�\$p��I�[I�kI�s I��_��������������@SWH��   H���~% 3�H�D$pH�\$x�=| 8�C& H��$�   H��$�   u8\C& ��  H�\$`H��  H�D$XL�QS H�\$PH��  H�\$HH��X H�D$@A��  H��  H��H�D$8H�\$0H�\$(H�\$ �k� ��y\H��� A�  H�D$8L��X H��& H��X H�D$03�H�"& H�D$(H�>& H�D$ �� �������H�Ĩ   _[�H�\$`L��R H�\$XH��X H�\$PA�   H�\$HH��L��$�   L�%a� L�d$@L��$�   L�-� L�l$8H�\$0H�\$(H�\$ 褎 ��yA�  �   H�\$`L��V H�\$XH�MX H�\$PA�   H�\$HH��L�d$@L�l$8H�\$0H�\$(H�\$ �L� ��yA�$  �aH�\$`H�4� H�\$XL��V H�\$PH��W H�\$HA�   H�D$@H��H�r� H�D$8H�\$0H�\$(H�\$ �� ��yUA�*  H� � 3�H�D$8L�2W H�& H�<W H�D$0H��& H�D$(H��& H�D$ �:� ������?  H�\$`L��U H�\$XH�`W H�\$PA�   H�\$HH��H��$�   H�-�� H��$�   H�5�� H�t$@H�l$8H�\$0H�\$(H�\$ �)� ��yA�0  �X  H�\$`L�~U H�\$XH��V H�\$PA�   H�\$HH��H�t$@H�l$8H�\$0H�\$(H�\$ �ь ��yA�5  �   H�\$`L�.U H�\$XH��V H�\$PA�   H�\$HH��H�t$@H�l$8H�\$0H�\$(H�\$ �y� ��yA�;  �   H�\$`L��T H�\$XH�bV H�\$PA�   H�\$HH��L�d$@L�l$8H�\$0H�\$(H�\$ �!� ��yA�A  �SH�\$`L��T H�\$XH�V H�\$PA�   H�\$HH��H�t$@H�l$8H�\$0H�\$(H�\$ �̋ ��yUA�G  H��� 3�H�D$8L�U H��& H�U H�D$0H��& H�D$(H��& H�D$ �� ������  H�\$`L��S H�\$XH��U H�\$PA�   H�\$HH��L��$�   L�5i� L�t$@L��$�   L�=� L�|$8H�\$0H�\$(H�\$ �� ��yA�M  �B
  H��'  A�   H�D$`L�L$pH��'  H��H�D$XH�U H��(  H�D$PH��)  H�D$HH�1*  H�\$@H�\$8H�D$0H��*  H�D$(H�)  H�D$ 腊 ��yA�U  �	  H�\$`H�ʶ��H�\$XL��R H�\$PH��T H�\$HA�   H�D$@H��H�ȶ��H�D$8H�\$0H�\$(H�\$ �� ��yA�[  �U	  H�\$`L��R H�\$XH�XT H�\$PA�   H�\$HH��H�t$@H�l$8H�\$0H�\$(H�\$ �ǉ ��yA�a  ��  H�\$`L�LR H�\$XH�T H�\$PA�   H�\$HH��H�\$@H�\$8H�\$0H�\$(H�\$ �o� ��yA�h  �  H�\$`L��Q H�\$XH��S H�\$PA�   H�\$HH��H�\$@H�\$8H�\$0H�\$(H�\$ �� ��yA�p  �M  H�\$`H�\���H�\$XL��Q H�\$PH�|S H�\$HA�   H�D$@H��H�Z���H�D$8H�\$0H�\$(H�\$ 豈 ��yA�v  ��  H�\$`H�5����H�\$XH�-���H�\$PL�.Q H�\$HH�S H�t$@A�   H�l$8H��H�\$0H�\$(H�\$ �K� ��yA�|  �  H�\$`L��P H�\$XH��R H�\$PA�   H�\$HH��H�t$@H�l$8H�\$0H�\$(H�\$ �� ��yA��  �)  H�\$`L��P H�\$XH��R H�\$PA�   H�\$HH��H�\$@H�\$8H�\$0H�\$(H�\$ 蛇 ��yA��  ��  H�\$`L�8P H�\$XH�\R H�\$PA�   H�\$HH��L�t$@L�|$8H�\$0H�\$(H�\$ �C� ��yA��  �y  H��'  A�H   H�D$`L��O H�(  H��H�D$XH��Q H��(  H�D$PH�2)  H�D$HH��)  H�\$@H�\$8H�D$0H�*  H�D$(H�\$ ��� ��yA��  ��  H�\$`L�bO H�\$XH��Q H�\$PA�   H�\$HH��L�t$@L�|$8H�\$0H�\$(H�\$ �i� ��yA��  �  H�\$`L�VO H�\$XH�bQ H�\$PA�   H�\$HH��H�\$@H�\$8H�\$0H�\$(H�\$ �� ��yA��  �G  H�\$`L��N H�\$XH�Q H�\$PA�   H�\$HH��H�\$@H�\$8H�\$0H�\$(H�\$ 蹅 ��yA��  ��  H�\$`L�IN H�\$XH��P H�\$PA�   H�\$HH��H�\$@H�\$8H�\$0H�\$(H�\$ �a� ��yA��  �  H�\$`L�^N H�\$XH��P H�\$PA�   H�\$HH��H�\$@H�\$8H�\$0H�\$(H�\$ �	� ��yA��  �?  H�\$`H�5N� H�\$XH�-r���H�\$PL��M H�\$HH�2P H�t$@A�   H�l$8H��H�\$0H�\$(H�\$ 裄 ��yA��  ��  H�M(  A�   H�D$`L�+:& H�d(  H��H�D$XH��O H��(  H�D$PH�*  H�D$HH��(  H�D$@H�*  H�D$8H�\$0H�\$(H�\$ �!� ��yA��  �W  H�\$`L� M H�\$XH��O H�\$PA�   H�\$HH��H�t$@H�l$8H�\$0H�\$(H�\$ �Ƀ ��yA��  ��  H�\$`L��L H�\$XH�JO H�\$PA�   H�\$HH��H�t$@H�l$8H�\$0H�\$(H�\$ �q� ��yA��  �  H�\$`H��  H�D$XL�jL H�\$PH�  H�\$HH��N H�D$@A�   H��  H��H�D$8H�\$0H�\$(H�\$ �� ��yA��  �:  H�\$`L�L H�\$XH��N H�\$PA�   H�\$HH��L�d$@L�l$8H�\$0H�\$(H�\$ 謂 ��yA�  ��  H�\$`L��K H�\$XH�uN H�\$PA�   H�\$HH��L�t$@L�|$8H�\$0H�\$(H�\$ �T� ��yA�	  �  H�\$`L�eK H�\$XH�=N H�\$PA�   H�\$HH��L�t$@L�|$8H�\$0H�\$(H�\$ ��� ��yA�  �2  H��(  A�   H�D$`L��$�   H�)  H��H�D$XH��� H��)  H�D$PH��*  H�D$HH�.+  H�\$@H�\$8H�D$0H��+  H�D$(H�*  H�D$ �r� ��yA�  �   H�\$`L��J H�\$XH�{M H�\$PA�   H�\$HH��H�t$@H�l$8H�\$0H�\$(H�\$ �� ��yA�  �SH�\$`L�;J H�\$XH�>M H�\$PA�   H�\$HH��H�t$@H�l$8H�\$0H�\$(H�\$ �ŀ ��yPA�%  H��� 3�H�D$8L�J H��& H�J H�D$0H�|& H�D$(H��& H�D$ �� �����L��$�   L��$�   H��$�   H��$�   L��$�   L��$�   ��H�Ĩ   _[������3�8�3& u8�3& �#  H��uH��t������H��u�   �D�D�
E;�|��D�AD�JE:�r�w�D��  D��  E:�r�w�D��	  D��	  E:�r�w�L��  L;�  r�w���  ��  f/��w���f/��x���L��   L;�   �Y����^���L��(  L;�(  �?����D���D��0  D;�0  �%����*���D��4  D��4  E;�����������8  ��8  f/������f/��������@  ��@  f/������f/������D��H  D��H  E:�����������L��P  L;�P  ����������D��X  D;�X  �m����r�����`  ��`  f/��M���f/��N�����h  ��h  f/��)���f/��*���D��p  D��p  E;�����������x  ��x  f/������f/���������  ���  f/������f/������D���  D���  E:�����������L���  L;��  ����������D���  D���  E;��j����o���D���  D���  E:��K����P������  ���  f/��+���f/��,���L���  L;��  ��������D���  D;��  ������ȸ   Oȋ��������H�\$H�t$H�|$ UH��H��@3�H��@85i0& H��u@85N0& ��  A��  H�N@ H���f� H��H�PH���tUH��� A��  H�D$8L��P H��& H��E H�D$03�H�O�% H�D$(H�k�% H�D$ �� ������G  �H��H�<tH�SP A��  ���H�H����	H�H����	H�H����	H�H�@80���GH�H���G������GH�H���G������GH�H���G������GH�H�@80���GH�H���G������GH�H���G������GH�H���G������GH�H�@80���GH�H�H�W��G������GH�H���G������GH�H���G������GH�H�D  �H�I�H�R��u�H�  H��H�@80����  H�H����  �������  H�H����  �������  H�H����  �������  H�H�@80����	  H�H����	  �������	  H�H����	  �������	  H�H����	  ���H������	  H�H�D�L�@M�L�E��t@ H�H��L�H��A� H�I;�r�H�uK�H�A�   H��  H�H��H��H�H�H�UH��H��H�H�UH��H�H���H�H�UH��H�H���H�H�UH��H�H���H�H�UH��H�H���H�H�UH��H�H���H�H�A�H�UH��  H��H�� H�H�UH�U谤 H�H��H�H��D�L�@M�L�E��tH�H��L�H��A� H�I;�r�K�H��H�H��   H��H�D�L�@M�L�E��tH�H��L�H��A� H�I;�r�H�uK�H�H��(  H�H��H��H�H�H��H��H�H��H��H��H�H��H��H��H�H��H��H��H�H��H��H��H�H��H��H��H�H��H��H��H�H�AH���0  H����4  H�H��H��H�H�H�UH��H��H�H�UH��H�H���H�H�UH��H�H���H�H�UH��H�H���H�H��H�UH�H���A�   H�H�UH��H�H���H�H�A�H�UH��8  H��H�� H�H�UH�U�֢ H�A�   H��H�uH��H�H�H�UH��H��H�H�UH��H�H���H�H�UH��H�H���H�H�UH��H�H���H�H�UH��H�H���H�H�UH��H�H���H�H�A�H�UH��@  H��H�� H�H�UH�U�� H�H�@80����H  H�H����H  ���H������H  H�H����H  �������H  H�H����H  ���H������H  H�H�D�L�@M�L�E��t�H�H��L�H��A� H�I;�r�H�uK�H�A�   H��P  H����X  H�H��H��H�H�H�UH��H��H�H�UH��H�H���H�H�UH��H�H���H�H�UH��H�H���H�H�UH��H�H���H�H�UH��H�H���H�H�A�H�UH��`  H��H�� H�H�UH�U褠 H�H��H�uH��H�H�H�UH��H��H�H�UH��H�H���H�H��H�UH�H���H�H�UH��H�A�   H���H�H�UH��H�H���H�H�UH��H�H���H�H�A�H�UH��h  H��H�� H�H�UH�U�� H�H�H�u���p  H�H��H��H�H�H�UH��H��H�H�UH��H�H���H�H�UH��H�H���H�H�UH��H�H���H�H�UH��H�H���H�H�UH��H�H���H�H�A�H�UH�� H��H�H�UH��x  A�   H�U�"� H�A�   H��H�uH��H�H�H�UH��H��H�H�UH��H�H���H�H�UH��H�H���H�H�UH��H�H���H�H�UH��H�H���H�H�UH��H�H���H�H�A�H�UH���  H��H�� H�H�UH�U�i� H�H�@80�����  H�H�����  ��������  H�H�����  ��������  H�H�������  H���H�������  H�H�D�L�@M�L�E��tH�H��L�H��A� H�I;�r�H�uK�H�H���  H�����  H�H����	��  H�H����	��  H�H����	��  H�H�@80�����  H�H�����  ��������  H�H�����  ��������  H�H�����  ��������  H�H��H��H�H�H�UH��H��H�H�UH��H�H���H�H�UH��H�H���H�H�UH��H�H���H�H�UH��H�A�   �H��H�H�UH��H�H���H�H�A�H�UH���  H��H�� H�H�UH�U�O� H�H�� H���  H�H��H��H	��  H�H��H��H	��  H�H��H��H	��  H�H�� ���  H�H����	��  H�H����	��  H�H����	��  H���H�\$XH�t$`H�|$hH��@]����H�\$UVAVH��H�� �=e#&  M��H��H��u�=D#&  ��  H�H���g  � A�  H�H�H�|$H� H�H�
��H�H�
�F�H�H�
�F�H�H�
�F�H�H�
�F�H�H��  H�H��  H�H��  H�H�
�F�H�H��  H�H��  H�H��  H�H�
�F�H�H��  H�H��  H�H��  H�H�VH�蛚 H�  H���  �H�H��  H�H��  H�H��  H�H���	  �H�H��  H�H��  H�H��  H�L��  L�I����4  A� H�H��Ѕ�t#��@ f�     D�	H�II��H��u�H�H�<
A�   H��  H�;H�M �ߙ �E �H�E H��H�E �GH�E H��H�E �GH�E H��H�E �GH�E H��H�E �GH�E H��H�E �GH�E H��H�E �GH�E H���GH�L��   L�I����3  A� H�H��Ѕ�t#��@ f�     D�	H�II��H��u�H�L�
L�L��(  I���3  A� H�H��Ѕ�t��D  D�	H�II��H��u�H�H�A�   H�H��8  Hc�0  �H���AH���AH���AH���AH���AH���AH���AH�H���4  �H�M H�H�;耘 �E H��@  �H�M H�E A�   H��H�E �GH�E H��H�E �GH�E H��H�E �GH�E H��H�E �GH�E H��H�E �GH�E H��H�E �GH�E H���GH�H�;��� �E �H�E H��H�E �GH�E H��H�E �GH�E H��H�E �GH�E H��H�E �GH�E H��H�E �GH�E H��H�E �GH�E H���GH�H���H  �H�H��  H�H��  H�H��  H�L��P  L�I����1  A� H�H��Ѕ�t"��@ �     D�	H�II��H��u�H�H�A�   H�H��`  ��X  �H�M H�H�;�� �E H��h  �H�M H�E A�   H��H�E �GH�E H��H�E �GH�E H��H�E �GH�E H��H�E �GH�E H��H�E �GH�E H��H�E �GH�E H���GH�H�;�i� �E H��x  �H�E H��H�E �GH�E H��H�E �GH�E H��H�E �GH�E H��H�E �GH�E H��H�E �GH�E H��H�E �GH�E H���GH�H���p  �H�H�;A�   H�M �ҕ �E H���  �H�M H�E A�   H��H�E �GH�E H��H�E �GH�E H��H�E �GH�E H��H�E �GH�E H��H�E �GH�E H��H�E �GH�E H���GH�H�;�J� �E �H�E H��H�E �GH�E H��H�E �GH�E H��H�E �GH�E H��H�E �GH�E H��H�E �GH�E H��H�E �GH�E H���GH����  H��H�H��  H�H��  H�H��  H�L���  L�I���?/  A� H�H��Ѕ�t$��@ ff�     D�	H�II��H��u�H�H�A�   H�H���  ���  �H����  H��H����  H��H����  H��H�H����  �H�M H�H��  H�H��  H�H��  H�H�;�� �E �H�E H��H�E �GH�E H��H�E �GH�E H��H�E �GH�E H��H�E �GH�E H��H�E �GH�E H��H�E �GH�E H���GH�H����  �H�H����  �H�H����  �H�H����  �H�H����  H�|$H�H�H����  �H�H����  �H�H����  �H�H��  �-  ��IH��   �-  D�HMM�H��(  �k-  D�@M�M�H��P  �U-  D�HM�M�H���  �?-  �HH��~  I�I�H�\$P3�H�� A^^]����������������3�8D& u8-& u`H��uH��t������H��u�   �D�D�
E;�|��D�AD�JE:�r�w�D�AD�JE:�r�w�D�AD;B|��ȸ   Oȋ���������������H�\$WH��@�=�&  H��H��u�=�&  ��  A�   H�/ H��赑 H��H��H���t[H��� A�K  H�D$8L��8 H���% H�=/ H�D$03�H���% H�D$(H���% H�D$ �9� �����H�\$PH��@_�� �H�H����	H�H����	H�H����	H�H��8 ���GH�H���G������GH�H���G������GH�H���G������GH�H��8 ���GH�H���G������GH�H���G������GH�H���G������GH�H�� �GH�H����	OH�H����	OH�H����	OH�3�H�\$PH��@_���̀=�&  L��u�=�&  ��   H�H����   � H�A�H�
�H�A�AH�
�H�A�AH�
�H�A�AH�
�H�H�
A�A�H�H��  H�H��  H�H��  H�H�
A�A�H�H��  H�H��  H�H��  H�H�
A�A�H�H�
A�A	�H�H�
A�A
�H�H�
A�A�H�I� 3���������H��H�=&  u	�=�&  uaI����  ��yUH�w2 A��  H�D$8L��2 H�>�% H��, H�D$03�H�	�% H�D$(H�%�% H�D$ 裝 �����H��H�3�H��H���H�\$H�t$AVH�� 3�L��8q& H��u8W& ��   H�	H�|$0�� H��H��tmI��� L��H��tiH�I�H��u
H��t
�X��eH��tOH+�f��:uH����u��������t���;L�G8M;A8rwH�NI�VH��uH��t������H��u�   �
貖 ��E�H�|$0H�t$@��H�\$8H�� A^��������������H��H�=�&  u	�=y&  uaI���r  ��yUH��0 A�z  H�D$8L�51 H�N�% H�7+ H�D$03�H���% H�D$(H���% H�D$ �3� �����H��H�3�H��H���H��H�=&  u	�=�&  uaI����  ��yUH�0 A�  H�D$8L�0 H���% H��* H�D$03�H��% H�D$(H�5�% H�D$ 賛 �����H��H�3�H��H���H��H�=�&  u	�=y&  uaI���  ��yUH�0 A�^  H�D$8L�0 H���% H�7* H�D$03�H���% H�D$(H���% H�D$ �3� �����H��H�3�H��H���H��H�=&  u	�=�&  uaI����
  ��yUH�/ A�A  H�D$8L�U/ H���% H��) H�D$03�H��% H�D$(H�5�% H�D$ 賚 �����H��H�3�H��H���H��H�=�&  u	�=y&  uaI���r
  ��yUH��. A�!  H�D$8L��. H�N�% H�7) H�D$03�H���% H�D$(H���% H�D$ �3� �����H��H�3�H��H���H��H�=&  u	�=�&  uaI���R  ��yUH��2 A�2  H�D$8L�-3 H�N�% H��( H�D$03�H��% H�D$(H�5�% H�D$ 賙 �����H��H�3�H��H���H��(E3�D8�& uD8v& ��   H�AH;BsA�����A��H��(�wmH�BH9AucH�BH9Au�H�B H9A uOH�B(H9A(u�H�B0H9A0u;H�B8H9A8u�H�A@H;B@r�w%H�	H�H��tH��t�H���� D��H��(�H��tA�   A��H��(���������������H��H�=�&  u	�=�&  uaI���  ��yUH�?1 A��  H�D$8L��1 H���% H�w' H�D$03�H���% H�D$(H���% H�D$ �s� �����H��H�3�H��H���H��H�=Q&  u	�=9&  uaI���  ��yUH�1 A��  H�D$8L�-1 H���% H��& H�D$03�H�Y�% H�D$(H�u�% H�D$ �� �����H��H�3�H��H���H��H�=�&  u	�=�&  uaI���
  ��yUH�?0 A��  H�D$8L�m0 H���% H�w& H�D$03�H���% H�D$(H���% H�D$ �s� �����H��H�3�H��H���H��H�=Q&  u	�=9&  uaI���
  ��yUH��/ A�s  H�D$8L��/ H��% H��% H�D$03�H�Y�% H�D$(H�u�% H�D$ �� �����H��H�3�H��H���H��(�=�&  u	�=�&  uI��҈ 3�H��(������������L�3�8�& u8�& u9H�H��uM��t,�   �M��u������L+��B: u
H����u����҃�������������������@SH�� �=?&  I��u	�=$&  uI��]� H�3�H�� [���H�t$WH��@�=&  H��H��u�=�&  t3�H�t$XH��@_�H�H�\$P3�D�H�PI�H�3�E��tf�H�H��H�H���H�I;�r�I�H�H����   H�K识 H�H��u`H�X/ A�0  H�D$8L�n/ H���% H�P$ H�D$03�H�:�% H�D$(H���% H�D$ �L� H�\$P�����H�t$XH��@_�H�L��H���`� H�� HH�\$P3�H�t$XH��@_�H�\$P3�H�    H�t$XH��@_����H��(�=�&  u	�=�&  uI�	�� 3�H��(������������H�\$H�t$H�|$ AVH�� H�93�8�& M��H��u8& ��   H�l$0H��tH������H�À< u�H���*   H���H��tL@�)H��H�H���t#��@ ff�     �H�IH��H��u�H�H�H�H��tL��H���7� H�UH�l$0II�H��tH�I�H�\$83�H�t$@H�|$HH�� A^���H��H�=�&  u	�=�&  uaI����J ��yUH�_0 A�  H�D$8L��0 H��% H�w" H�D$03�H���% H�D$(H���% H�D$ �s� �����H��H�3�H��H���H�t$WH�� �=K&  H��H���D$0    u�=%&  t3�H�t$@H�� _�H�	H�\$8�� H��H��u�C�H�\$8H�t$@H�� _�H��� H��uH�\$8�   H�t$@H�� _�L��H�L$0H���G �D$0��uL�NH�T$0L�GH���� �D$0H�\$8H�t$@H�� _���������������H��H�=�&  u	�=i&  uaI���H ��yUH��. A��  H�D$8L�5/ H�>�% H�'! H�D$03�H���% H�D$(H���% H�D$ �#� �����H��H�3�H��H���H��H�=&  u	�=�
&  uaI���G ��yUH�'. A�Z  H�D$8L�5. H���% H��  H�D$03�H�	�% H�D$(H�%�% H�D$ 裑 �����H��H�3�H��H���H��H�=�
&  u	�=i
&  uaI���H ��yUH�. A��  H�D$8L�. H���% H�'  H�D$03�H���% H�D$(H���% H�D$ �#� �����H��H�3�H��H���H��H�=
&  u	�=�	&  uaI���F ��yUH�'- A��  H�D$8L�e- H���% H�� H�D$03�H�	�% H�D$(H�%�% H�D$ 裐 �����H��H�3�H��H���H��H�=�	&  u	�=i	&  uaI���F ��yUH��, A�w  H�D$8L��, H�>�% H�' H�D$03�H���% H�D$(H���% H�D$ �#� �����H��H�3�H��H���H�\$WH��@3�H��@8=�& u@8=�& ��  H����  H�	H����  3��/� ��y]H��" A��  H�D$8L��" H���% H�� H�D$03�H���% H�D$(H��% H�D$ 耏 �������H�\$`H��@_�H9{�O  H�H�l$P��� H��H��ubH��" A��  H�D$8L�f" H���% H� H�D$03�H�j�% H�D$(H���% H�D$ �� H�l$P�������H�\$`H��@_�H�@HH�t$XH��t)H�K��H��H��u\H�"" A��  H�D$8H���% �`H�M8H��t>� H��H��uH�	" A��  H�D$8H�o�% �/L�E8H��H�S� H�s�PH��! A��  H�D$8H���% H�D$0L�z! H���% H� H�D$(3�H���% H�D$ �$� �����H�t$XH�l$PH�\$`��H��@_���������@SH��@�=�&  H��u�=�&  ��   H����   H�	H����   H�SH��t_�� ��yVH�c! A��  H�D$8H���% H�D$0L�e! H���% H�g H�D$(3�H���% H�D$ �o� �����H��@[�H��l� ��yH�9! A��  H�D$8H��% �3�H��@[������@SH��@�=&  H��u�=&  t3�H��@[�H��t�H�|$PH�9H����   H�IH����   H�CH��t4L�C@�   ��H�H��H��uIH�$ A�j  H�D$8H���% �   �} H�H��H��uH�$ A�n  H�D$8H�l�% �rL�SH��L�CM��t2H�C@A�   H�D$ A��H9t H��# A�v  H�D$8H�2�% �0�[} H�K@H��tjH�C0H��u[H�2$ A��  H�D$8H���% H�D$0L��# H�M�% H�� H�D$(3�H�`�% H�D$ �ދ H�|$P�����H��@[���H�C@H�|$P3�H��@[������������@SH��@�=�&  H��u�=�&  ��   H����   H�	H��tzH�{ vsH�C(H��teL�C@�   �Ѕ�y[H��" A��  H�D$8H�@�% H�D$0L�d# H���% H� H�D$(3�H���% H�D$ �� �����H��@[��} H�K@H��t<H�C8H��uH�5# A��  H�D$8H�S�% ��Ѕ�yH��" A��  �m���3�H��@[����������@SH��P�=�&  H��uu�=�&  �#  ��& �UE ��yBH�� �o&  H�D$8A�I  H���% H�D$0H���% H�D$(H���% H�D$ �   �=4&  u�=&  ��   H�J�% H�K�	b ��u[L�D$@H��H�� � f ��y8H�� A�P  H�D$8H�[�% H�D$0H�'�% H�D$(H�C�% H�D$ �AH�D$HH��P[�H��% H�˲ H�D$8A�T  H�L$0H���% H�L$(H� �% H�L$ L�4 3�H�S �n� 3�H��P[�������H�\$WH��P�=K&  H��H����   �=)&  �
  �+& ��C ��ybH��� �&  H�D$8A��  H�f�% H�D$0H�z�% H�D$(L�&$ H�_�% H�� 3�H�D$ �Ԉ �����H�\$`H��P_À=�&  u�=�&  ��   L�D$@H��H�߱ �' ��y*H��# A��  H�D$8H���% H�D$0H���% �r���L��H��� H���
( ��y*H�_# A��  H�D$8H���% H�D$0H���% �2���3�H�\$`H��P_����������������H�\$H�t$WH��P�=� &  I��H��H��un�=� &  uS�� & �B ��y1H�g� �� &  H�D$8A��  H��% H�D$0H�*�% ��   �=� &  u�=� &  t3�H�\$`H�t$hH��P_ú	   H���T� H��uH�`" A��  �kH���% H�O�@_ ��uIL�D$@H�\$@H�z� H�t$HH���e ��y�H�2" A��  H�D$8H���% H�D$0H�T�% �%H�� A��  H�D$8H�Q�% H�D$0H�]�% H�D$(L��! H�B�% H�� 3�H�D$ 跆 �����H�\$`H�t$hH��P_���@SH��PH�|$hH��@2�@8=t�% un�l�% ��uj�E����yZH�S� H�D$83�H���% H�D$0H�1 H���% L�� H�D$(A�#  H���% H�D$ �'� @�H�������V  ���% �=�%  u'��u#���% ��@ ��y���%  H�~� �v����\P 3Ʌ�yH�ק H�D$8H�C�% �a���H�t$`�ă �   H���� H��H��u*H�(� A�'  H�D$8H���% H�D$0H���% �~  �=j�%  H��������   �=G�%  �3  �I�% �@ ��yWH�դ �2�%  H�D$8A��  H���% H�D$0H���% H�D$(L�t H�}�% H�� 3�H�D$ �� ��   �=��%  u�=��%  ��   H���% H�N�\ ��uVL�D$@H��H�S �` ��y*H� A��  H�D$8H�	�% H�D$0H���% �h���H�\$@H��uX�Q� H���KH��� A�   H�D$8L�� H���% H�% H�D$03�H���% H�D$(H���% H�D$ �!� H��yUH�� A�+  H�D$8H�{�% H�D$0H�G�% H�D$(L�{ H�\�% H�� 3�H�D$ �у H������@�H�t$`�-M @��H�|$ht�輂 H��H��P[����@SH��PH�|$pH��@2�@8=t�% ui�l�% ��ue�B����yUH�S� H�D$83�H���% H�D$0H�1 H���% L�+ H�D$(A�s  H���% H�D$ �'� 3�@��h  ��% �=�%  u'��u#���% ��= ��y���%  H��� �{����aM 3Ʌ�yH�ܤ H�D$8H�H�% �f���H�t$h�ɀ �   H���� H��H��uUH�-� A�w  H�D$8L�s H���% H�] H�D$03�H���% H�D$(H���% H�D$ �Y� 3�@��  3�H�l$`8>�% H�- ��   8�% �  ��% ��< ��yVH��� ��% H�D$8A�I  H�Z�% H�D$0H�n�% H�D$(L�� H�S�% H�� 3�H�D$ �ȁ �   8��% u8��% ��   H�П% H�N�Y ��uBL�D$@H��H�+ �] ��y#H���% A�P  H�l$8H�D$0H���% �q���H�\$H�KH�q� A�T  H�D$8L�� H���% H� H�D$03�H�s�% H�D$(H���% H�D$ �� H��uIH�y�% L�� H�l$8H�� H�D$0A�{  H�,�% 3�H�D$(H�F�% H�D$ �Ā 3�@�H�l$`H�t$h� J @��H�|$pt�� H��H��P[�������H�\$H�l$H�t$H�|$ AVH��@3�@2�8W�% M��H��H��u>�F�% ��u:�p?����y*H�-� H�D$8A�<  H���% H�D$0H���% �5  ��% 8�% u#��u��% ��: ��y���% H��� ��kJ 3Ʌ�y*H�� A�<  H�D$8H�L�% H�D$0H�@�% ��   ��} H�ם% H���W ��tH�� A�A  H�D$8H�Y�% �   H���� H��H��u'H��� A�E  H�D$8H��% H�D$0H���% �`L��H�� H���kU ��yH�� A�I  �#M��H�� H���FU ��ySH�� A�K  H�D$8H�q�% H�D$0H�=�% 3�H�D$(L� H�P�% H�� H�D$ ��~ @�������*H @��t��} H�l$X��H�\$PH�t$`H�|$hH��@A^��H�\$H�l$H�t$WH��@3�@2�8]�% H��H��u>�O�% ��u:�y=����y*H�6� H�D$8A�e  H���% H�D$0H���% �  ��% 8�% u#��u��% ��8 ��y���% H��� ��tH 3Ʌ�y*H�� A�e  H�D$8H�U�% H�D$0H�I�% �   ��{ H��u'H�� A�j  H�D$8H��% H�D$0H��% �{H���% H���W H��u'H��� A�l  H�D$8H�&�% H�D$0H���% �@H��tiL��H�A H���qS ��ySH�� A�q  H�D$8H���% H�D$0H�h�% 3�H�D$(L�B H�{�% H�� H�D$ ��| �����@��UF @��t���{ H�l$X��H�\$PH�t$`H��@_���H�\$H�t$H�|$ AVH��P3�@2�8��% L��H��u>�~�% ��u:�;����y*H�e� H�D$8A�   H���% H�D$0H���% �  �@�% 8I�% u#��u�<�% �7 ��y�-�% H� ��F 3Ʌ�y*H�� A�   H�D$8H���% H�D$0H�x�% �7  ��y �   H����� H��H��uH�b� A�%  ��   H��% H�H�S ����   L�D$@H�\$pH�ݤ H���W ��y*H�� A�.  H�D$8H���% H�D$0H���% �   H9\$HtsH�L$@��� H��u'H�B A�6  H�D$8H���% H�D$0H�|�% �lL�D$HH�T$pH���8� ��y'H�- A�:  H�D$8H���% H�D$0H�?�% �/H�D$pI��SH��� A�A  H�D$8H�2�% H�D$0H�>�% 3�H�D$(L�� H�!�% H��	 H�D$ �z �����@���C @��t��y H�t$h��H�\$`H�|$xH��PA^��������H�\$H�l$H�t$H�|$ AVH��P3�@2�8'�% M��H��H��u>��% ��u:�@9����y*H��� H�D$8A��  H�c�% H�D$0H�w�% �B  ���% 8��% u#��u���% �4 ��y���% H�Z� ��;D 3Ʌ�y*H��� A��  H�D$8H��% H�D$0H��% ��  �w �   H���Y� H��H��u*H��� A��  H�D$8H���% H�D$0H���% �  �   H���� H��u*H�6 A��  H�D$8H���% H�D$0H���% �[  8�% u`8��% �u  ���% �3 ��y0H�x� ���% H�D$8A��  H�(�% H�D$0H�<�% �   8��% u8��% �!  �   H���v� H��uH��
 A��  �oH���% H�N�bP ��uML�D$@H�l$@H�� L�t$HH���V ����   H�`
 A��  H�D$8H���% H�D$0H�r�% �%H�9� A��  H�D$8H�o�% H�D$0H�{�% H�D$(L��	 H�`�% H�� 3�H�D$ ��w H�
 A��  H�D$8H�<�% H�D$0H� �% 3�H�D$(L��	 H��% H�t H�D$ �w �����@���@ @��t��v H�l$h��H�\$`H�t$pH�|$xH��PA^�����H�\$H�l$H�t$H�|$ AVH��P3�@2�8�% M��H��H��u>��% ��u:�06����y*H�� H�D$8A��  H�S�% H�D$0H�g�% �B  ���% 8��% u#��u���% �1 ��y���% H�J� ��+A 3Ʌ�y*H��� A��  H�D$8H��% H�D$0H� �% ��  �t �   H���I� H��H��u*H�� A��  H�D$8H���% H�D$0H���% �  �	   H���
� H��u*H�� A��  H�D$8H�t�% H�D$0H���% �[  8��% u`8��% �u  ���% �0 ��y0H�h� ���% H�D$8A��  H��% H�D$0H�,�% �   8��% u8��% �!  �	   H���f� H��uH�r A��  �oH���% H�N�RM ��uML�D$@H�l$@H��� L�t$HH���S ����   H�@ A��  H�D$8H���% H�D$0H�b�% �%H�)� A��  H�D$8H�_�% H�D$0H�k�% H�D$(L�� H�P�% H�� 3�H�D$ ��t H�^ A��  H�D$8H�,�% H�D$0H��% 3�H�D$(L�
 H��% H�d H�D$ �zt �����@���= @��t��qs H�l$h��H�\$`H�t$pH�|$xH��PA^�����H��H��H�� ��tkH��0��t.H��8H�� ��t�����8����������0�����H��(��t��H��� ���(�������H��� ��� �����H��H��� ��t'H����t��������������������H��H����t����������������������������H�\$WH��@3�H��8c�% u]80�% ��   �N�% �  ��y-H��� �8�% H�D$8A��  H�n�% H�D$0H���% �`8�% u8��% ��   H���D` ��yH� A��  �H���9  ��yPH� A��  H�D$8H��% H�D$0H�p�% H�D$(L�� H��% H�� 3�H�D$ �zr �����H��H�C�% ��� ��H�\$PH��@_����������H�\$H�l$H�t$WH��@3�A��@8-G�% H��H��u@8-�% �s  �  ��yUH�j A�  H�D$8H�h�% H�D$0L�� H���% H�F H�D$(3�H�H�% H�D$ ��q ������  �C(�G(�C,�G,H�C0H�G0�C8�G8�K(��t
��t>��uH�o@H�oHH��H���~x ����   H�G� A��  H�D$8H�M�% �`���H9k@tH�S8H�H�% �s� H�G@D��9k8v1�    H�O@A��A��H��    H�C@H�H�
D;C8r��H�o@@���p���H9kH�f����S8H��% �� H�GHD��9k8�K���@ H�OHA��A��H��    H�CHH�H�
D;C8r�������H�\$PH�l$XH�t$`H��@_�@SH�� �=��%  H��u�=d�%  t3�H�� [Ãy(u2H�Q@H��tH�W�% 肭 H�C@H�SHH��tH�>�% �i� H�CH3��C8H�C0H�� [�������H��H�=-�%  u�=��%  ��   H�� �� ��yUH� A�w   H�D$8L�- H�6�% H�7 H�D$03�H���% H�D$(H�-�% H�D$ �o �����H��H�H�� �5� ��yH�2 A�|   ����% 3�H��H�����H�\$H�t$WH��@�=r�%  I��H��H����   �=1�%  ��   �O�% ������ygH��� �8�%  H�D$8A�[  H�n�% H�D$0H���% H�D$(L�> H�g�% H�P 3�H�D$ ��n �����H�\$PH�t$XH��@_À=��%  u	�=��%  uME3�H�\$(H���D$     H��E�A�= ��y*H�� A�d  H�D$8H�ٷ% H�D$0H�=�% �f���3�H�\$PH�t$XH��@_�������H�l$H�t$WH��@�=R�%  A����H����   �=�%  ub�2�% �������ydH��� ��%  H�D$8L�� H�P�% H�Q H�D$0A��  H�W�% 3�H�D$(H�A�% H�D$ �m 3�H�l$XH�t$`H��@_À=��%  u	�=��%  u�H�l�% H�\$P�j� H��H��uRH��� A��  H�D$8L�i H�B�% H�� H�D$03�H�%�% H�D$(H���% H�D$ �7m 3��   D��H��H���������y8H�� A��  H�D$8H���% H�D$0H�ȴ% H�D$(H�d�% H�D$ �ID��H��H���&? ��y^H�C�% H�� H�D$8A��  H���% H�D$0H�v�% H�D$(H�T$ L�� 3�H�� �l H��H�U�% �� 3��H��H�\$PH�l$XH�t$`H��@_�������������H�t$WH��@3���@85S�% ��   @85�% ub�=�% � �����y`H��� @�5&�% H�D$8L�� H�[�% H�\ H�D$0A�)  H�b�% 3�H�D$(H�L�% H�D$ ��k H��H�t$XH��@_�@85��% u	@85��% u�H�{�% H�\$P�y� H��H��u;H��� A�-  H�D$8H�X�% H�D$0H�D�% H�D$(H�ز% H�D$ �  �x(���������C,�s8H�sHH�s@��t�G���wH�s0�H�C0   3�H���'� ��yH�� A�J  H�D$8H�z�% �5H��H��h  �   ��[ ����   H�� A�Q  H�D$8H���% H�D$0L�? H���% H� H�D$(3�H��% H�D$ �j H���)�����yKH�^ A�Y  H�L$8H�ܳ% H�L$0H�0�% H�L$(H�̱% H�L$ L�� 3�H�� �:j H�\$PH��H�t$XH��@_�H�t$XH��H�\$PH��@_�����H�l$H�t$WH��@�=�%  I��H�����   �=��%  ub���% ������ydH�d� ���%  H�D$8L�) H��% H� H�D$0A��  H��% 3�H�D$(H��% H�D$ �i 3�H�l$XH�t$`H��@_À=��%  u	�=L�%  uܹ   H�\$P�����H��H��u8H�o A��  H�D$8H���% H�D$0H��% H�D$(H���% H�D$ �JL��L�Ƌ�H���  ��yOH�S�% H�t H�D$8A��  H�L$0H���% H�L$(H�A�% H�L$ L�- 3�H� �h 3��H��H�\$PH�l$XH�t$`H��@_����@WH��P�=��%  H��u�=d�%  t3�H��P_�H�\$hH��;tH�� A�  H�D$8H��% ��{ tXH�� A��  H�D$8H�ޱ% H�D$0L�� H��% H�t
 H�D$(3�H�v�% H�D$ ��g H�\$h3�H��P_��KL�t$@�~ L��H��u;H�ʱ A��  H�D$8H���% H�D$0H�|�% H�D$(H��% H�D$ �  �C3�H��I��H�l$pH�t$H�sD�BH��CH��H��CH��H��H�H�\$ L���-? H��H��uRH�&� A��  H�D$8H�ĳ% H�D$0H��% H�D$(L�� H���% H�n	 3�H�D$ ��f 3��  H�ā% �ǲ H�D$`H��u'H�� A��  H�D$8H���% H�D$0H���% �L��H�չ   �8 H��uH�� A��  H�D$8H�x�% �W���H���������y*H�x A��  H�D$8H�.�% H�D$0H�*�% �-���H��H��% �β H�L$`3��B� ��yH��	 A��  H�D$8H���% �����H�H��H�L$`H��: ��yH�! A��  ����H�\$`I���)~ H�t$HH�l$p��y]H�,� A��  H�L$8H�"�% H�L$0H�v�% H�L$(H��% H�L$ L� 3�H�� �e L�t$@3�H�\$hH��P_�L�t$@H��H�\$hH��P_������������H�t$ WATAWH��@3�M��@8=N�% L��H��u@8=�% t��H�t$xH��@A_A\_�3�H�l$h��{ H��H��u;H��� A�
  H�D$8H�ϭ% H�D$0H���% H�D$(H�G�% H�D$ ��  L��L�t$pA��   H���}J L��H��uUH�N A�  H�D$8L�, H�e�% H�� H�D$03�H�@�% H�D$(H�ܫ% H�D$ �Zd ������  H�FPH���P H��yH�
 A�  �H�\$`J�0I�H����   H�AI9$��   H��f� �z �CA�D�sI��H���   �CH��I��H�t$ H���CI��H���CH��L���> ��yH�� A�*  �%J�3I��I�H��H�FP�P(��yZH�� A�0  H�D$8L� H��% H�� H�D$03�H�1�% H�D$(H�ͪ% H�D$ �Kc ������H�AI�$H�\$`H���{ L�t$p��yRH���% H��� H�D$8A�6  H�L$0H�Ѫ% H�L$(H�m�% H�L$ L��
 3�H�H ��b ��������H�l$hH�t$xH��@A_A\_���������������H�\$WH��@�=��%  H��H����   �=y�%  �  ���% �Z�����ybH�� ���%  H�D$8A�V  H���% H�D$0H�ʩ% H�D$(L�� H���% H�� 3�H�D$ �$b �����H�\$PH��@_À=%�%  u	�=��%  u}A�H��H��������y*H�� A�]  H�D$8H�Ǫ% H�D$0H���% �|���H�CP�8u83�H����� ��y*H�x A�c  H�D$8H�f�% H�D$0H�Z�% �;���3�H�\$PH��@_���������H���=}�%  L��L��A�   u�==�%  ��   �B(9A(tE3�A��H���D�A8D;B8u�E����   H�\$3�H�Y@H�<$I�z@�H��    H�9H9u]��A;�r�M�[HM�RHM��tDM��tD3�E��t@@ ff�     H��    J�J9u��A;�r�H�\$A��H�<$H���M��tE3�H�\$H�<$A��H����������������H�\$H�t$WH��@�=��%  I��H��H����   �=A�%  ub�c�% �&�����ygH�� �L�%  H�D$8A��  H���% H�D$0H���% H�D$(H���% H�D$ L�� 3�H�] ��_ �����H�\$PH�t$XH��@_À=��%  u	�=��%  uًK(����   ��tD����   H�	�% H� H�D$8A�  H�L$0H�[�% H�L$(H���% H�L$ �p���LcS8E��~@E3�H��tH�C@J��J��H��tH�CHH��t
J��J���H�K@J��J��I��M;�|�A��H�\$PH�t$XH��@_�E3�A��H�\$PH�t$XH��@_����H�A0������������H�\$H�t$WH��@3�H���8��% ��   8��% �X  ���% ������ydH�C~ ���% H�D$8A�9  H��% H�D$0H��% H�D$(L�� H��% H��  3�H�D$ �a^ H��H�\$PH�t$XH��@_�8`�% u8-�% ��   �N(����   ��t3����   H�z A�Z  H�D$8H�h�% H�D$0H�̥% �p���L�FH�   �V8M��tI��txf���I��H���tH����;�r�H��H�\$PH�t$XH��@_�H������H��H�\$PH�t$XH��@_Å�t/H�F@H��f�H�H�@H��u�H��H�\$PH�t$XH��@_û   H�t$XH��H�\$PH��@_��������H�\$H�t$AVH��@�Q�% I��L��H�ل���   8�% ub�1�% �������yhH��| ��%  H�D$8L�� H�O�% H�P� H�D$0A�  H�V�% 3�H�D$(H�@�% H�D$ �\ �����H�\$XH�t$`H��@A^����% ��u!���% ��t�����H�\$XH�t$`H��@A^��b�% H�|$P���������   ���  �l�% �/�����yWH��{ �U�%  H�D$8A��  H���% H�D$0H���% H�D$(L�� H���% H�m� 3�H�D$ ��[ �   �=�%  u�=��%  ��   �K(��tz��t,��tpH�& A�  H�D$8H��% H�D$0H�x�% �Hc{8��~G3�M��tH�C@H��I��H��tH�CHH��t
H��H���H�C@H��H��H��H;�|��3ҋ���yRH�6 A�#  H�L$8L� H���% H��� H�L$0H��% H�L$(H���% H�L$ 3��
[ ��������H�|$PH�\$XH�t$`H��@A^������������@SH��@�=��%  H��un�=��%  ��   ���% ������y?H�Bz ���%  H�D$8A��  H��% H�D$0H��% H�D$(H��% H�D$ �W�=��%  u	�=O�%  uZ�{(w	�C8H��@[�H���% H��� H�D$8A��  H�L$0H���% H�L$(H���% H�L$ L��� 3�H�s� �Z �����H��@[������������@SH��@�=��%  H����   �=��%  ub���% ������y_H�Ry ���%  H�L$8L��� H� �% H�� H�L$0A��  H��% H�L$(H��% H�L$ 3��oY H������H��@[À=s�%  u	�=?�%  u�H�C0H��@[�������@SH��@�=K�%  H����   �=�%  ub�2�% �������y]H��x ��%  H�L$8L�G H�P�% H�Q� H�L$0A��  H�W�% H�L$(H�C�% H�L$ 3��X �����H��@[À=��%  u	�=��%  u�C(H��@[����������H�\$WH��@�=��%  H��H����   �=Y�%  ��   �w�% �:�����ybH��w �`�%  H�D$8A��   H���% H�D$0H���% H�D$(L�� H���% H�x� 3�H�D$ �X �����H�\$PH��@_À=�%  u	�=��%  u5H��y'H��� A��   H�D$8H�,�% H�D$0H�8�% �uH�    3�H�\$PH��@_ú   H���s� H�H��H��u*H��� A�  H�D$8H�ף% H�D$0H��% �4���H�@P�P��t�H��� A�
  H�D$8H���% H�D$0H���% ������������̀=1�%  u	�=��%  u�y8 uH�y0 u	�y(t2�ð������@WH��@�=��%  H����   �=��%  ub���% ������yZH�Rv ���%  H�D$8L�'� H� �% H�� H�D$0A�~  H��% 3�H�D$(H��% H�D$ �oV 3�H��@_À=x�%  u	�=D�%  u�H�&q% H�\$P�$� H��H��uXH�M� A��  H�D$8L��� H���% H�}� H�D$03�H�ߝ% H�D$(H�s�% H�D$ ��U H�\$P3�H��@_�L�ú   H����< H��u8H�X� A��  H�D$8H��% H�D$0H�z�% H�D$(H��% H�D$ �D3�H���� ��ygH���% H�� H�D$8A��  H��% H�D$0H�-�% H�D$(H�T$ L��� 3�H��� �>U H��H�p% 迡 H�\$P3�H��@_�H��H�\$PH��@_�����H�\$H�t$H�|$ AVH��PD��% 3�L��H�ً�E����   @85��% ��  ���% ������yZH�Tt @�5��% H�D$8L�� H��% H�� H�D$0A�,  H�	�% 3�H�D$(H��% H�D$ �qT �w��d  D�y�% E��uD�A�% E���F  �D�.�% D�S8��E���-  H�l$`H�k@f�     ��M��L9D� tH�SHH��tH��H���tI;�rk�   ��A;�rυ���  E����   E����  ���% ��������   H�Rs @�=��% H�D$8A�|  H��% H�D$0H��% �  H�D$HH��� L�D$@H��� H�D$8L��� H�ݟ% A�9  H�D$03�H�!�% H�D$(H���% H�D$ �;S �'  @8=G�% u@8=�% �  A�   9{8v%D  H�K@H��    J�2��H�
N�2;{8r�H�CPL�C0�8u)3�H����� ��yH��� A��  H�D$8H���% �.H�ӹ   �C ����   H��� A��  H�D$8H�t�% H�D$0H�P�% H�D$(L�d� H��% H��� 3�H�D$ �ZR H�� A�B  H�D$8L��� H���% H��� H�D$03�H���% H�D$(H���% H�D$ �R �����H�l$`H�\$h��H�t$pH�|$xH��PA^��������������H�\$WH��@�=��%  H��H����   �=��%  �8  ���% ������ybH�7q ���%  H�D$8A�|  H��% H�D$0H���% H�D$(L�^� H�ߘ% H��� 3�H�D$ �TQ �����H�\$PH��@_À=U�%  u�=!�%  ��   E3�E�HD9C8v#�H�K@J��    H�:A��H�
L�:D;C8r�H�CPL�K0�8u83�H����� ��y*H��� A��  H�D$8H���% H�D$0H���% �?���H�ӹ   �A ��y*H��� A��  H�D$8H�w�% H�D$0H�S�% ����3�H�\$PH��@_��H�\$H�l$H�t$ AVH��@�=l�%  M��I����H����   �=)�%  ��  �G�% �
�����y\H��o �0�%  H�D$8A�+  H�f�% H�D$0H�z�% H�D$(L��� H�_�% H�H� 3�H�D$ ��O ������s  �=��%  u�=��%  �[  H��������y'H��� A�2  H�D$8H���% H�D$0H�[�% �H�|$P�   ��uo�k(H�{0�k8D�C8H�K`I��3��8I H�CPH�|$P�CX �8��   3�H���F� ����   H��� A�\  H�D$8H��% H�D$0H�ٖ% �
���H�Չ{(H��i% �k8�� E3�H�C@H��t' D;C8sH�K@J��    H�2H�
H�<2A����H��H�{0H��i% �ٌ H�CHM��tL��    I��H���? ����E3�H������D;C8�	���H�KHJ��    H�2A��H�
��3�H�\$XH�l$`H�t$hH��@A^��H�t$WH��@�=G�%  H��H����   �=	�%  ��   �'�% �������ybH��m ��%  H�D$8L�� H�E�% H�F� H�D$0A�   H�L�% 3�H�D$(H�6�% H�D$ �M �����H�t$`H��@_À=��%  u�=��%  t3�H�t$`H��@_�H�\$PH��L�t$X�` �^,L�5)� Hc�A;�wH����_ Hc�A��H����_ Hc�A;�L�t$Xv`H�l� A�+  H�D$8L�J� H���% H�|� H�D$03�H�>�% H�D$(H�r�% H�D$ ��L H�\$P�����H�t$`H��@_É^,3�H�\$PH�t$`H��@_�������@WH�� 3�@8=��% tB�OH�\$0�� ���O������ ����������% ��H�\$0Dψ��% H�� _Ë�H�� _������H�\$WH�� 3���8d�% u81�% uY8U�% tQ�   � � H��~3�E3��J��� �   �   ��� H��~3�E3��J�ݦ ����% ��Dǈ�% ��H�\$0H�� _�������������H�\$H�l$H�t$WH��@�=��%  I��A��H��H����   �=��%  ��   ���% �j�����yYH�k ���%  H�D$8A�;  H�Ɣ% H�D$0H�ڒ% H�D$(L�^� H���% H��� 3�H�D$ �4K ������]�=>�%  u	�=
�%  uIE3�H�\$(H�։|$ H��E�A�@C ��y*H�� A�D  H�D$8H�C�% H�D$0H���% �x���3�H�\$PH�l$XH�t$`H��@_������������@SH��@�=��%  L��H��u	�=��%  uq�R8I��h  ��  H��h  H��uVH��� A��  H�D$8L��� H�G�% H��� H�D$03�H��% H�D$(H���% H�D$ �,J �����H��@[�3�H��@[����������@SH�� �=�%  H��u�=��%  t3�H�� [�H��h  �A  3�H��h  H��`  H�� [������������H���=��%  L��u�=��%  t
�   H���D�Y83�E��t�H�\$H��h  H�<$H�y@M�D�`L��    H���   I�I;9w#I�I�x��A;�r�H�\$�   H�<$H���H�\$3�H�<$H����������������@SH��@�=+�%  H��u	�=��%  u^L�D$XH�T$`�&  ��yXH��� A��  H�L$8L��� H�J�% H�� H�L$0H���% H�L$(H�+�% H�L$ 3��H H������H��@[Ã|$`�   D�D$XA�   �S8DC�A��K�H��`  H�H��@[�����H�\$VAVAWH��@E3�3�@85^�% L��H��u@85$�% t3�H�\$hH��@A_A^^�H�|$`L�D$pH�:H�T$x�=  ��yH��� A��  H�D$8H�h�% ��   H�CPD�\$x�T$p��H�CP�H�OH�CP�H�OH�CP�HA�����OD�_�GA�����GA�����GH�G	A��r�W�@�wL�pf�0@�pH���   �K8��K9�H�K:�H�K;�H����  ���!  ��tUH��� A�$  H�D$8H���% H�D$0L�
� H��% H�\� H�D$(3�H�v�% H�D$ ��F �������  H��`  �PH���PH���PH���PH���PH���P	H���P
H���PH��H��h  L��   M���~  @ E3�D9K8vWL�@ K�T�M�@�A��H��H��A�P�H��A�P�H��A�P�H��A�P�H��A�P�H��A�P�H��A�P�D;K8r�M�M��u��  ��`  �H��a  �H��b  �H��c  �HH��H��h  L��   M��tL�K8�E3���t9f�     C�L�K���A���J	�H�J
�H�J�HH���K8D;�r�M�	M��u�A����   �K8��`  �4��o��`  �H��a  �HH��H��h  L��   M��t>�K8�E3���t+f�     C�L�K���A���J	�HH���K8D;�r�M�	M��u�A��uA�6����A�N������A�NA�vI�3�H�|$`H�\$hH��@A_A^^������������AUAWH��  H���% H3�H��$P  E3�H�T$HE��H�L$@D8-��% uD8-��% �E  H��$�  H�H��$�  H��$x  �   H��$p  L��$h  L�!L��$`  M��uT�������L��H��u;H���% H�8� H�D$8A�f  H�L$0H��% H�L$(H���% H�L$ ��  H�D$@H��I���C�����C����C��H��ȍA�;���  ��r�;�@��   HB�H�@���tH�� A�|  H�D$8H���% �a  D� H�X�D�K��D�SA������A��A�����H��uIL��    D��H�L$P�&= E3�L�D$P��I���������y[H��� A��  H�D$8H�u�% ��  A;t$8tH��� A��  H�D$8H�`�% ��  M��I��M�I��L�I��M�@����   @��t{@��tH�N� A��  H�D$8H��% �u  �C	�k
H��H��CH��H��CH��H��CH��H��CH��H��CH��H��CH��H�H���>�C�kH��H��CH��H��CH��H�H����C�kH��H�H��L��I��I���
3 L��H��u;H�ˊ% H��� H�D$8A��  H�L$0H���% H�L$(H�9�% H�L$ �  M��E��H���   �     E�υ���   D  @����   @��tq@����   M�8�CI� �KH��H�I��CH��H�I� �KH��H�I��CH��H�I� �KH��H�I��SH��H�I��H���>�I� �KH��H�I��CH��H�I� �SH��H����I� �SH��H��H�A��I�I��D;��'���A��A��H;�����M��L��3�I���  ��y6H�]� A��  H�D$8H�K�% �OH�
� A��  H�D$8H���% �4H�D$HH�H�D$@L98��   L� �VH�t� A�o  H�D$8H���% H�D$0H��% H�D$(H���% H�D$ L�&� 3�H�M� ��? H�D$@A�����H�8 ubM��t]I���z�����yQH��� A��  H�D$8L��� H���% H��� H�D$03�H�q�% H�D$(H��% H�D$ �? A�����L��$`  L��$h  H��$p  H��$x  H��$�  H��$�  M��tI���X1 A��H��$P  H3��� H�Ĉ  A_A]����������@SH��@�=+�%  H��L��u	�=�%  uH3�9Q8vAfff�     I��h  L��MT�`x,L��I��h  H���   IL�`I����A;Q8r�3�H��@[�H��� A�z  H�D$8L��� H��% H��� H�D$03�H�M�% H�D$(H��% H�D$ �g> �����H��@[�������������H��H�=]�%  L��u�=&�%  t3�H��H�H�    A�   H��h  H�\$PH�Y`H�|$@H�y@L��   �A8I��A+�Lc�x;I+�J��L+�ff�     I�H�Hx+H;s&I��IL�
H��I��y�H�\$P3�H�|$@H��H�H��� A��  H�D$8L��� H���% H��� H�D$03�H�C�% H�D$(H�߄% H�D$ �]= H�\$P�����H�|$@H��H���������̸��������������̀=A�%  u�=�%  t������3�H��`  �������������H��  H�ڰ% H3�H��$   �=��%  u&�=ĵ%  t�   H��$   H3��P H��  �H��h  H��$(  H��$0  Hcr8L��   H��h  H��$  Hcy8H��   �F�Hc�D�W���xFIc�L�$H�$L�CM��H��I��I+�L�H�����+�D� I� M�@�I+	H�H�I�H��y�Ic�E��x#H�$M��L+�fD  I��H�LH��H��y�M�H�M����   H����   L�F�H�G�M��xCL��H�PL+�L�$I��I��M+�L�M+�f�     I�L�H
I;u{H��H��I��y�H��x%H�$M��L+�fD  H��I��H9LuJH��y�M�	H�M���n����   H��$0  H��$(  H��$  H��$   H3�� H��  �3������H�\$H�|$�='�%  I��H��u	�=�%  u\H��h  L��   M��tID�A8�    3�E��t*M��L��L+�H��L+�I�LH;rI;w��H��A;�r�A;�tM�M��u�3�H�\$H�|$�H�\$�   H�|$������H�\$�=��%  H��L��u�=R�%  ��   E�S83�E����   H��H�8 u��H��A;�r�3�H�\$�I��h  L��   M��t;�E��t-L��I�@M+�I��@ ff�     I�L�H)H�@H��u�M� M��u�E��tF�   M��f�     H�� ���H�RI��h  H)�����H������I��h  H)D�I��u�H�\$3�����@SH��@�=��%  H��u	�=d�%  u}H��h  L��   I�8 tVH��� A��  H�D$8L��� H���% H��� H�D$03�H���% H�D$(H���% H�D$ �9 �����H��@[�H�Q@I���I8�;� H�3�H��@[�@SWAUH��p  H�Ŭ% H3�H��$@  �=�%  I��H��L��u�=��%  t3���  H���& ��yUH�=� A��  H�D$8H�[�% H�D$0L�7� H�H�% H��� H�D$(3�H��% H�D$ �Y8 ������  H��S% 装 H��h  H��uH�p� A��  H�D$8H��% �H��$�  A�m8H��$h  L��$`  D�c8L��$X  L��$P  D;��7  3�H�L$@A�   A+��1 I��h  L�<�    M��H�L$@H��   H����( I�U@L�D$@A�M8�շ H�3�I��h  D��H��   H��teE3��    �S8H��R% �u H��H����   L� I�WD�C8H�HI��H��Z( M��uH��h  H��   �I�>H�6L��H��u�3��{8 D����  �     I��h  A�)H��h  E��A��H��J��I��h  H��h  H���   J���   D;K8r��  A��  �   H�    D+�I��h  3�D��L��   M����   fD  �S8H��Q% �t H��H��t^H�8H�HJ�<�    A��L��3��/0 D�C8H�OI��I�VH��U' M��uH��h  H��   �I�7M�6L���    M��u��XA�
	  H��� 3�H�D$8L��� H��~% H�2� H�D$0H��}% H�D$(H�B}% H�D$ ��5 �������   A��D��E��t0H��E��D  H��h  H�IH�|�H��h  H���   H��u�D;K8sKD  I��h  A��H��h  A+�E��A��H��J��I��h  H��h  H���   J���   D;K8r�H��h  H��  H��h  H��  I��`  H��`  H��� H�CP��L��$X  L��$`  H��$h  H��$�  L��$P  H��$@  H3��K H��p  A]_[����������������@SH��@�=��%  H��u�=t�%  ��   ��   %  =   uq�Q8H��h  ��  H��(  H��udH�e� A��   H�D$8L�k� H�$}% H�}� H�D$03�H��{% H�D$(H��{% H�D$ �	4 �����H��@[�H��h  H��(  H��   H��0  H��� H�3�H��@[�H��(�=ݮ%  H��u	�=��%  uD�AH��0  H��I��H���$ 3�H��(������H�\$WH�� �=��%  I��H��H��u	�=Z�%  u6D�AH��0  H��I��H���p$ D�CH��H��0  I��H���U$ H�\$03�H�� _���������H��  ��������̀=!�%  �   u	�=�%  uH��0  3�H9D����������̀=�%  u	�=��%  uH��tH��0  f�H� H��0  H��u�3��������������̀=��%  H��u	�=z�%  uH��0  H�H��0  3���������L�L$ H�T$VWH��8�=q�%  I��H��L��u�=4�%  �X  H��  H;�H�\$PI��0  HB�E3�H��H�$H���  H�l$0L�d$(L��$�   L�l$ McjL�t$I��L�t$xL�|$�    M��  3�M��M��M��x?I��I�EH+�H��H��  H�i H�HH�@�I��L�L(H�I��y�H�t$XM��t.A��   tK;T��rYO�L��K�L��I�H;�uK�9K�D���K��I��  K��I��H�H��I��  I��0  L;�tH��tH�H���>���H�$L�|$L�t$L�l$ L�d$(H�l$0H�D$hH+�H�\$PL� H�D$pH�3�H��8_^�H��(�=�%  u	�=��%  u��   %  =   uH��(  �  3�H��(������@SATAUH��PE3��D8%��% L��uD8%k�% tA��H��PA]A\[�H��K% H�l$p�} H��H��u]H��� A�.  H�D$8L��� H�y% H�� H�D$03�H��w% H�D$(H��w% H�D$ �0 H�l$pI��H��PA]A\[�H�t$xI��H��$�   I��   L�t$HL��L�|$@H����   @ �     I��H��J% ��m H��H��t9N�<�    L� M��H�WH�H�  H��u	H��   �H�H�?H��H��u��`H�9w% H��� H�D$8L��� H�7x% H��� H�D$0A�7  H�L$(H��v% H�L$ 3��%/ H���}   I���DL�<�    I��   H��  H��   M���  M��I��H���  L��  L��  H��L�t$HH��$�   H�t$xL�|$@H�l$pH��PA]A\[���������������@WH�� �=��%  H��u	�=t�%  u@H�\$0H��   H��t@ H��H��I% H��k H��u�H��H��I% ��z H�\$0H�� _����������������H�t$WATAUAVAWH��@3�E3�@85*�% M��M��D��H��u@85�% t3��  H�\$pH�l$x3�M����   �I8@ �     ��H��H% ��k H��H����   H�     H�K�G8D����I��H��    I�� H��uH���I��O8E3�L���tR@ H��h  J��J��J;L�JCL�H�
H��h  J��H��   J;L�JFL�A��H��   �G8D;�r����ŋ�I;��E���E����   A����   H��h  H��    ��   H��  H�0H��h  �   H�h� A�S  H�D$8L�v� H��u% H� � H�D$03�H�rt% H�D$(H�t% H�D$ �, H��t!�    H�H��G% H���i H��H��u������cH��   H��h  �5H��h  H��   H��t
I�H��h  H��   H��h  H��   uL��  E��u	L��`  �L�`  3�H�\$pH�l$xH��$�   H��@A_A^A]A\_�������������H�\$UVWATAUAVAWH��`  H���% H3�H��$P  �-��% E2��5��% E2�3�M��L��H��@��u	@����  3�H�L$PA�   �J% @��u@��uL�w8�Ӆ�tCL��h  @ ff�     ��L�L�`L��    O�M�x8I���   ��I�J�LP;�r�A������   L9�`  ��   A�����   H��� A�z  H�D$8L��� H�@w% H�� H�D$03�H��r% H�D$(H�'r% H�D$ �* H�&� A�.  H�D$8H�t% H�D$0H�Pr% L�!� 3�H��� H�D$(H��q% H�D$ �Z* ������  �W8�˅�tH�D$Pf�L9 wL��H��;�r�   H�T$DH�L$@�� ��y1H��� A�B  H�D$8H�xs% H�D$0H�,r% �o���A����HcD$@H�t� ��;�HcD$DG�;���   E��tH��� A�K  H�D$8H� v% ����3�L�B� H��� E��t*H��� A�N  H�D$8H��u% H�D$0H�9q% �����H��� A�P  H�D$8H��u% H�D$0H�q% �����A�M ���x   ��tH��� A�m  H�D$8H�ou% �~����G8H��`  ��t#H�T$PD��@ H�H�RH;�HF�H��I��u�����H;�vA��H����  �   G�A�6�A���H��$P  H3��/ H��$�  H��`  A_A^A]A\_^]�����H�\$H�l$H�t$WH��P�=}�%  I��I���H����   �=:�%  ��  �X�% ������y\H��G �A�%  H�D$8A��  H�wq% H�D$0H��o% H�D$(L��� H�po% H�A� 3�H�D$ ��' ������6  �=�%  u�=��%  �  ��t	H�CP�8t6H��� ��y*H��� A��  H�D$8H�cq% H�D$0H�Wo% �w���H�CP�8u
H��h   uH��B% H�D$@�����:s H��h  H��u*H�G� A��  H�D$8H�p% H�D$0H�o% ����D�K8H�T$@A�   H��警 D�C83�H��h  I��H��   ��  L��L�ŋ�H��������y*H��� A�  H�D$8H�{s% H�D$0H��n% ����H��� H�CP3�H�\$`H�l$hH�t$pH��P_�H�l$H�|$ AVH��@�=��%  E��H��H��u�=S�%  t3�H�l$`H�|$hH��@A^�H��A% H�\$P�s H��h  H��H��uSH�Z� A��  H�D$8L�h� H��n% H��� H�D$03�H��m% H�D$(H�hm% H�D$ ��% �C��   H�t$XH��h  ���>uH�VA� 
  H�K�� H��h  H��
  H��t=E��t H��h  H��
  H��h  H��
  ��*�U8�]  H��h  H��
  �H��h  Hǀ
      ��
  ��
  H��
  H�t$XH��
  3�H�\$PH�l$`H�|$hH��@A^��������������@SH�� �=�%  H��u	�=�%  uBH��h  Hǁ`      H��t+H��
  H��t�-`  H��h  H�W@% �Jq H��h  3�H�� [������������H���=��%  L��u�=v�%  t
�   H���H��h  ��
   |3�H��Ã8H�\$H�<$uH��  H��	  �H��
  H�XH�xD�Y83�E��t.M�T�`L��    I�I�x+I�A@I�8I�I; s��A;�r�H�\$�   H�<$H���H�\$3�H�<$H����������������H�\$WH��@�מ% 3�H�����% ��u����   H��h  9�
  }h��u��u`�8u+�O8�   ��tOH  f�     H�H�@ H��u��0��u��u(H��
  H��tL�e?% 3�I�@H�X?% 裾  H��L�L$XH��L�D$`H���{a  ��y]H�p� A��  H�L$8L��� H�ol% H��� H�L$0H��j% H�L$(H�Pj% H�L$ 3���" H������H�\$PH��@_ËD$`��uNH���  �W8��t�D$X��H��H��   H�\$PH��@_��L$X���Q�H��H�H�\$PH��@_ËO8��u��H��H��H�\$PH��@_Í�    H��H��H�\$PH��@_�������������@SUWAUAWH��  H��% H3�H��$�  D��% E3�H��H��$�   3�H�L$xE2�H�T$p3�D�l$D2�H�����% E��u��t3��Z  H��$�  �   L��$�  L� H��h  L��$�  D�u8H�D$XH��  H�t$`9�
  }cE��u��uZ�8u$H��E��tMH  I��@ H�8H�@ H+�u��1E��u��u(H��
  H��tL�E=% 3�I�@H�8=% 胼  H��L�L$@H��L�D$HH���[_  ��yH�P� A��  H�D$8H�Vj% ��  H���  D�\$H��D�\$HA����tA�C�E�����   DF�H�EPD�D$@�A�$H�EP�HA�L$H�EP�HA�L$H�EP�HA����A�L$E�\$A�D$A����A�D$A����A�D$I�D$A��rD�8H�PD�@�1A��uD�8�fD�(D�hH��D�(H�PA�   H�T$pI�D�l$DD�2A�����BA�����BA�����BH��E����  A����  A���?  A���^  A��tA��  �  �E8E3҅��'  ff�     E��L�JI��L�I��
H���JH���JH���JH���JH���JH���JH���JI�H�JH���J	H���J
H���JH���JH���JH���JH���JI�II�@H�L$hH��H�L$XH��H���u,L�YI�CI��H�P����D��D��D��D�������@��H�YH��H�S��L��H��D��H��D��H��D��H��D��H����H��H�T$PA�1H�t$h@�.H�l$XD�m D�!D�;I�Y	E�s@�:H�L$PH�\$X�AH�KI�@H�L$PH��H���u/H�yH�GL��L�@��D���D$@D���D$BD���D$AD���C�D$AL�YH��M�C�D$BI��H���D$@H��D��H��D��H��D��H��D��H���\$AI�QH�l$xA��H�t$`A�YH�\$XD�L$BD�H�\$PD�L$@D�D�)E�#D�E�0A�@�E8D;������D�\$H�l$DA����  ����  E3�D9E8��   @ ff�     A��H��H����A�B�A�B�A�B�A�B�A	�B�A
�B�A�BH�AH���u	�B������B�A�B	�A�B
�A�BH�AH���uf�B���B�H������B�A�B�A�BH���A�H��A��D;E8�M����l$D��  E3�D9M8v�fff�     A��H��H����A�B�A�B�A	�BH�AH���uf�B���
�B�A�BH�AH���uf�B���
�B�A�BH��A��D;M8r��l$D�W  �l$DE�N�@�:�������B�������B@�zH��E��t63�M��fff�     H�FH�v H���   H�IH�F�H���  I��u�L�|$XJ��    A��H�D$PH�L$`Mc�H���   H����   H���  F�$�    H��N�,8@ A�E����   H��$�  M��M��fD  �H�H�@�
�H��J�H��J�H��JH��I��u�L��$�  M��   �     E�M�I A�M�R��AA��A�I���A����JA�I���A����JA�I���A����JH��I��u�H�L$`I�  H���  H���4���H�D$PE�N�H���   Mc�E����   H��E�A�J��8  H���   E��xHI��M���  H��J��Ԁ   L�A�   ��u"L)uI�E����AD�H�I�� H��E+�y�Mc�E��t8I��  E3�M��H�AH�I J+��   M�@H�A�HA�J���  I��u�H�D$PE�N�H��    ���/���D�\$HA��wH�L$p����@�)�A�������A@�iH��$�   H�3�L��$�  H��$�  L��$�  H��$�  H3���� H�İ  A_A]_][�A����   A����   A��tUA�M  H��� H�D$8H�ke% H�D$0L��� H��`% H��� H�D$(3�H�[`% H�D$ �� ������Z���@�:H��H���BH���BH���BH���BH���BH���BH���BH���2@�:�����B�����B�����BH���@�:��f���BH��H�T$PA��uA��E�l� A��D�l$DH��h  H�D$PH�D$(H��$�  D�D$ E3�L��$�  H��
  �^�  H�T$P�l$D�Y���@UATAUAWH��$x���H��  H�ʋ% H3�H��`  E2�H�T$PD8-�% I������H�L$@E��uD8-��% tA����  H��$�  H�H��$�  H��$x  �   L��$p  L�1L�t$HM��uY������H�D$HL��H��u;H��a% H�X� H�D$8A��  H�L$0H�	_% H�L$(H��^% H�L$ �
  H�D$@H��I���C�����C����C��ȍA����F
  ����   D�kH����rD�#�A��   HB�H�A���t^H��� A��  H�D$8H��a% H�D$0L�}� H�^^% H�w� H�D$(3�H��]% H�D$ �o I�������
  H��A�A���tH��� A��  ��CH�s��{������CH������H��uID��H��`  I���� E3�L��`  ��I��������yBH�r� A��  H�D$8H�8_% �2���A;~8tH�V� A��  H�D$8H�$b% ����A����  A����  A����  A��tH�D� A�	  H�D$8H��a% �����A�F8I���������  3���fD  �C�K�SD�CD�KD�SD�[I��L��I��L��KI��L��SI��M�D�CI��M�D�K
I��M�D�S	I��L��CL��5`  D�[I��L��CI��L��KI��L��SI��M�D�CI��M�D�KI��M�D�SI��L��CL��5`  D�[I��L��CI��L��KI��L��SI��M�D�CI��M�D�KI��M�D�SI��L��CM;�MD�L�\4`D�[I��L�I���CH�vL�H�� I��L�I��M�I��M�I��M�I��L�M;�MD�L�\5XH���s����  A�F8I���������o  3�D��fD  �CH�v�KD��SH��H��CH��H��KH��I�D�CH��5X  �SH��H��C
H��H��K	H��I�D�CI��L�H��5X  �S�CI��L��KI��L��SA���MD�L�D4XD�CH��I��L�I��L�I��L�A���MD�L�D5XI���-����   A�F8I��������t}3���A���  �H�v�CH��H��KH��5X  �CH��H��KH��H��5X  �CH��CfA;�ID�H�L4X�KH��H��H�fA;�ID�H�L5XH��u�H�E`3�H�D$(L��`  H�D$`I��L��`  H�D$ ���  D������  H�϶ A�  H�D$8L��� H�f[% H��� H�D$03�H��Y% H�D$(H�=Y% H�D$ � E���X  A����   A��t|A��tH�V� A�*  H�D$8H��]% ������FH�^	D�vI��L��FI��L��FI��L��FI��L��FI��L��FI��L��FI��L��CD�3H�^�H��L��CH��L��CH��L�H���D�3H�^�H��L�H��3�D��M����  L�O� A����  A���  A����  H��`  ��thD�� �CH�R�KH��H��CH��H��CH��H��CH��H��CH��H��CH��H��H��H��H�H�J�I��u�H�T$`����  D��@ ff�     �CH�R�KH��H��CH��H��CH��H��CH��H��CH��H��CH��H��H��H��H�H�J�I��u��	  L��`  ��tED��fff�     �SM�I�C�KD�H��H��H�H��H�H��I�I�Q�I��u�L�L$`����   D��f�     �SM�I�C�KD�H��H��H�H��H�H��I�I�Q�I��u��gH��`  ��t,D��f�     �CH�R�H��H��H�H�B�I��u�H�T$`��t'D��@ �CH�R�H��H��H�H�B�I��u�L�E`D��L��`  H�T$`���  ����   �G���L�]`M��H��`  L�}`H��L;�wH��`  L;���   H�D$`H��H�M`H;�wH�D$`L;���   �ǃ��fo~� �AoA���o
f���AoAf���A�oJf���AoA f���AH�oJ f���AoA0I��@f���AH �oJ0H��@f��f���AH0I��@D;�r�L�1� D;�s%L+�L+�A+ʐH�I+H�RH��I�D�H��u�H�L$HH�E`��H�D$(E��L�\$ M��L��`  ���-�  D������   A��A��I;��m���L�t$HH�D$PH�H�D$@H�8 �=  L�0I��������   H��� A�L  H�D$8H�_Y% H�D$0L��� H��T% H��� H�D$(3�H�OT% H�D$ �� I������E���fH��� A�W  H�D$8H�(V% �H��� A��  H�D$8H�Y% H�D$0H�QT% H�D$(H��S% H�D$ L�Q� 3�H�P� �[ H�D$@H�8 ufH�D$HH��t\H���ޘ����yPH�� A�f  H�L$8L�	� H�U% H�� H�L$0H��S% H�L$(H�sS% H�L$ 3��� A���A��H��$x  H��$�  H��$�  L��$p  H��`  H3��H� H�Ĉ  A_A]A\]����������H�\$H�l$VH��@�=��%  I��H��H��u�=e�%  t3�H�\$XH�l$`H��@^�H��h  H�|$P�8uL��  H��	  �H��
  L�XH�x�yX �A8��   3҅���   @ f�     L��    O�L��MJ`x1M�(H��h  ;�
  u	H�������I�8IB`��I�0;Q8r��wH��� A��  H�L$8L� � H�W% H��� H�L$0H�fR% H�L$(H�R% H�L$ 3��~
 ������'L��I��I��H���� D�C8H��I��H���r� 3�H�|$PH�\$XH�l$`H��@^������������H��X  H�
~% H3�H��$@  �=(�%  L��u#�=�%  t3�H��$@  H3��� H��X  �H�    A�   L��h  �A8H�Q@��H��$P  H�Y`A�:Hc�up��x?I��  L��H��H��L�H+�J�Ix@I;s;I��I�� IM�I��H��y�3�H��$P  H��$@  H3���� H��X  �A�L  �   ��x$L�L$@L+�H��fD  M�L� H��H�@�y�I��
  H�H8H��t�H+�L�L$@L+� L�Lx+L;s&J�
I��IH�IH��tH�I8H��H��u��Y���A�n  H��� 3�H�D$8L�� H�U% H��� H�D$0H�gP% H�D$(H�P% H�D$ � ����������������H��h  ��
  ���H��H�=m�%  u	�=9�%  uH��h  ��
   |H��
  H�3�H��H�H��� A��  H�D$8L��� H��T% H�� H�D$03�H��O% H�D$(H�`O% H�D$ �� �����H��H����̀=�%  L��u�=��%  t3��L��h  A�:uxD�A83�E��t/D��I��K��  w#��tI�C@H��K9�   u��A;�rѸ   �3�E��t�@ ��H��J��  w�A�@�;�sJ��   u���A;�s���M��
  I�@8H�x uEH�@H��t�A�   f�L�H8I�y u)I�AI+I�K@H��A��H;�uI�AA��H��uҸ   �3�M���`���I�H8H�y ����A�C8��;�sH�AH;�����L�A������̀=��%  L��u	�=z%  u3H��h  �:u-E�@83�E��t@ ��H��H��  w9��A;�r�   �H��
  H��t�fD  H�@8H�x uH�@H��u�   �3�����@SH�� �=+�%  H��u�=�~%  t�����H�� [�H��h  ���uH���t�  H��h  �3�����H�� [��������������H�\$H�l$ VH��@�=%  H��H��   u�=�~%  ��  H��h  H�|$P�y8L�t$XD�r89u���  H��h  9uH����  L��h  A�:��   H��h  �:��   ��D+�x\H��  Mc�I��Hc�H��M��  H�H��L�H�B�I9@��S  H�I9 �G  H�BI9@�9  ��I�� H�� L+�yɅ��  Hc�H�A!H��I�f�H9�	  H�� H+�y���   I��
   uH���@  ��yA�$  �#H��h  H��
   u^H���b@  ��yRA�(  H�)� 3�H�D$8L�S� H��P% H�5� H�D$0H�	L% H�D$(H��K% H�D$ �# ������RH��h  H��
  A;�v&A+�t!@ H�I8H�y uGH�AH9u>H�I���u�H��h  E��H��
  �-�  ��H�|$PL�t$XH�l$h��H�\$`H��@^�3�������������H�\$H�t$AVH��0�=�~%  I��L��H��u�=d|%  t�����H�\$HH�t$PH��0A^�H��h  H�|$@���uH���ԏ  H��h  ��{8����   �����   H��  D��fff�     3���H�:H�R F���I��u��uy3Ʌ�tsH��h  fD  M�΋�H��H�L��  M;�vGL��  M+�H��  v
3�I��I���3�I��H��H�A!H��L+�L;rH��H+�I+�I;�r��;�r��   �:3��6L��% L��H��
  ��L�D$(�D$     I�@M��H�a% �E  ��H�|$@H�\$HH�t$PH��0A^����H��8�=-}%  L��L��u�=�z%  ��   A�R8E3�A�Ʌ���   I��L9u��H��;�r�3�H��8�I��h  �8u^��tZD  K��A��H��I�h  H)�  I��h  J��K��H)�  I��h  J��K��H)�	  A��E;J8r�I��h  H��
  H��t&H�x% E3�H�T$ M��H�BA�R8H�^% �Y%  3�H��8���@SH��0  H�u% H3�H��$   �=&|%  H��L��u�=�y%  ��   H��h  �8u3H��  A�B8��tgH�T$ D��fD  H�H�I H�H�RI��u��CH��
  E3�H�H8H�H�D$ H�AH��t$fff�     L�@8E�II� J�D� I�@H��u�I�R@L�D$ A�J8襀 H�3�H��$   H3���� H��0  [��������@SWATAWH��h  H�t% H3�H��$@  E3�M��D8%+{% H��H��uD8%�x% tA���  H���R�  ��yUH��� A�r  H�D$8H��I% H�D$0L�� H��G% H��� H�D$(3�H�%G% H�D$ �� ������Q  H�*% ��L H��h  H��uH��� A�v  H�D$8H�PH% �ǀ
  ����H��$`  �o8H��$X  H��h  L��$P  D�s8�>��  D;�sa3�H�L$@A�   H��  ��� ��A+�tH�T$@D��H�H�v H�H�RI��u�H�W@L�D$@��� I�E�܋W8��K8+���   M�'E�܋K8�W8;���    H��h  A��H��A��A��L�dH��h  H�D   H��h  H�D   H��h  H�D    H��h  L��  H��h  HǄ     H��h  HǄ     H�J!H��h  H��H�   �K8���W8+�D;��X���A��;��  @ f�     H��h  H��h  D��I��A��H��D����I�D E��A��H�DH��h  H��h  I�D H�DH��h  H��h  I�D H�DH��h  H��h  I�D  H�D H��h  H��h  I��   H��  H��h  H��h  I��   H��  H��h  H��h  I��   M�B!H��  I�Q!H��h  H��h  I��H��I� H�
;w8������K8E�ԅ�th@ H��h  E��A��A��H��H��  J���  I�A!L��h  H��I��  H��I��  H��J K��  K���	  D;S8r�H��h  �    H��h  L��
  ��   D;��)  3�H�L$@A�   �#� H��
  A��L�@8M��t$D��E+�A;�sI� ����H�D�@I�@L�@8M��u�H�W@L�D$@���:| I�D8%w% u	D8%�t% uWH��h  A��H��
  H��t#D�G8D+C8�    A;�sH�A8��H�HH��u�H��h  H��
  H��h  H��
  �H��h  H��h  � �H��`  H��`  H�׮ H�CPA��H��$X  H��$`  L��$P  H��$@  H3���� H��h  A_A\_[�H��M�'H���܃  ��y�H�9G% H�R� H�D$8L�&� H�L$0H�� H��B% A��  H�L$(H�QB% H�L$ 3���� ������c������@SWH��H�=�u%  H��H��u�=�s%  t	3�H��H_[�ǂ(      L��h  L�|$@D�zA���u��  L��h  A�L�t$x���t  E3�I��  L�sL9�  �  A�W���tF��L��0
  H�J!L�H��M��I�H�y�uI� H9uA�°�2�A�H�� I��I�����u�ƃ0
   E����  H�l$`E�O�H�t$hA�   L�l$p@�E��E+�D��(  A�m�E���  Ic�M��H��H��  H��I�I+�L��  �     I�H9BuE��~L��@��   H�B���H��H�@��tgI��H��0  H�:u�   �H�B�I��H��8  H�M"H�H��H�H�BI��H��H  I�I��H���0  K�I��@2�A�   �;H��0  H�M"H�B�H��8  H�H��H�H�BH��H  I�H���0  K�H���0	  ��H�� I��A������H�t$hH�l$`E��t+H��(  E��H��0  fD  H�H�R H�H��I��u싃(  L��0  L�l$p��HǃP      ��6  H��0  A�   H���A� E��t H��(  I��f�H�H� H�H��H��u�C���HǃP      ��   ��   %  =   u�W8I��
  �d/  H��P  H��H��uxH�f� A��  H�D$8L�l� H��@% H�~� H�D$03�H�P?% H�D$(H��>% H�D$ �j� L�t$x�����L�|$@H��H_[�I��
  H��P  � H��P  E��t-H��(  M��H�B8H��0	  H� H�H��H�B8H�PI��u݋CL�s��2Ɉ�,  L��  HcЅ�x"H��I��I+�f�L��(  L�H��H�I�yꀻ,   u4E��t/H��  I��f�H��  HH��  H��@	  H�IH��u�L�t$xH��� L�|$@H�3�H��H_[�H�l$ AVH�� �=vq%  L��H��u�=<o%  �4  ��,   �  ��(  ����   D�EA;���   A���  H�t$8��H�\$0Hc�H�|$@Ic���(0
   t]A�� A��H��H��H��~
��)/
   u�H���(  3�E��HI�3�E��AI�L�EHc�+���M��M���ft D�C�H��H�G��:H��x5H��(  H��f�     ��(0
   uH�
A��H��I��H��H��y�E���V���H�|$@3�H�t$8H�\$0H�l$HH�� A^�D�EH��(  �D�AH��(  I��I���5� H�l$H3�H�� A^��������H�\$�=p%  M��H��L��u�=�m%  ��   �AE3�D8�,  tK���y   D  K���(  J��    H�H��A��A��H��J��H  H�J�E;Jr�3�H�\$Å�t2K��H��X  N��    A��H�I�H��X  H�HK�E;Jr�H�\$3�����̀=Qo%  u	�=m%  uJD�I3�8�,  t?L��(  E��t0H��8  H�AH��tH��H�HA�I9 u;��H�� I��A;�r�3��E��t�H��X  D  H�H�x u��H��A;�r�3�ø   ���@VH��0  H��g% H3�H��$   �=�n%  L��H��u�=ll%  t3���  ��,   H��$H  H��$(  L��$  ��  L��$   L��$  D��(  E��tD;yrD�yE3�E�g�L��0  E��tsH��$P  H��$   �(  A��H��8  E��H+� H��$   I�H�.L�L+Y�H�yuI���I��3�H�1L��L�H�� J�I��H��u�H��$P  M����   Ic�f�     E��H��E��xsH��H��H  H��H�@ H���   L�H;�uI��H+�L;�IB�L+���   H�H���   I;�r'H��H��L���   H;A�rL��H�� H��A��y�M���y���L��$   E��t=H�$A��H+�f�I�FH�$I�M�v H�J�   I��IF�H��(  H��u�L��$  3�H��$(  H��$H  L��$  H��$   H3��� H��0  ^ËyL��(  ��M����   Hc�@ �     D��L�Å���   I��@ ff�     H��0	  L�L;�uH�HI+�H��L;�IB�L+���   I�H�
H;Hv'H�@H��uI��H��A��y��JJ���X  H�K��E��x6L;�}1L��O��M+�H�HM�IH�Q8I��0	  H�HH�A8H�I�	I��u�M���?���3��������������H��(  H�jd% H3�H��$   �=�k%  L��u#�=Qi%  t3�H��$   H3���� H��(  À�,   H��$8  ��  H��$@  ��(  H��$   ��t;ir�iE3�H��$H  �}�L��0  ����   L��$  H��$   L��$  H��8  A�(  D��L+�E��fD  H��$   I�J�J�8H+Y�H�yuI���H��3�H�1H��H�H�� J�I��I��u�L��$  L��$  ��xgHc�M��H  H��H��H��L�f�I�H���   H��H;�t�   H�H���   H;�r&H��H��L���   I;C�rL��I�� H�Ƀ�y�H��$   H��$H  ��t?H�$��L+�D  I�BH�$I�M�R H�J�   I��IB�I��	(  H��u�H��$@  3�H��$8  H��$   H3��� H��(  �D�AL��(  A��H��X  Mc���   M��K��H��0	  M;�uH�H�H�
H��H�
H;Hv(H�@H��uI��H��A��y��Ic�H��H�I���Ic�E��x5I;�}0M��L+�f�H�HM�@H�Q8I��0	  H�HH�A8H�I�I��u�3��-�����L�L$ H�T$SVWATAUAVAWH��`�=�h%  M��L��H�������u�=�f%  ��  ��,   ��  ��(  ��t;qs�0	  ��q�  L�<3ҍF�L�|$XL���(  H��L�I��I��0  H+�I��8  H��u4L;�t
I��@  t%H��$�   3�L��$�   L��$�   I�H��  I+�H��$�   I��H  I��H�H+�I��@  HD�H��  I;�HB�H;�r
I;�I��HB�H��  L��(  3�H�L$PD��D��D��D�ۃ���   I��H��0  H+�I��H+�L������H����H�D$HL������H�\$H�F�H����������H�L$@L�l$@��D� J�*HB�H�H�RL�I�D�HB�I�D�L�H��u�L��$�   L��(  H�L$P3�L�|$XD;�sA��L���(  M�M��L��$�   K�L��$�   I�H��I�$H��I�I��H��I�������H)�  L+�L��$�   I��H��$�   I�   H�)H��   H��$�   ��   M����   M����   ��tH��@  �H�8u?��H�� ;�r�L��$�   M��L��$�   I��H��$�   H��H��`A_A^A]A\_^[�?  L��$�   M��L��$�   I��H��$�   H��H��`A_A^A]A\_^[�7  3�H��`A_A^A]A\_^[�H��$�   H�D$0H��$�   H�D$(H��$�   H�D$ �/  H��`A_A^A]A\_^[���������H��(�=�e%  u	�=Yc%  uH��P  H��t�%  3�H��(���H�\$WH�� �=We%  H��H��u�=c%  ��   H�QH�GH�H9
��   H�CH�OH� H9��   H�[8H�8H��twD  H��tmH�GH9wH�CH9wH�KH��t_H�W�w�����uRH�GH9CwH�CH��uH�OH��tH���H���H�GH��uH�KH��tH���H��H��u�2�H�\$0H�� _�H�\$0�H�� _�����D�L$ SUVAVAWH��`3�E2�8]d% M����H�\$@H��H�\$HH�\$Pu8b% ��  H��$�   H��$�   L��$�   L��$�   L��$�   L��$�   A�] A�$H9ubA�A���z��H�H��u*H�P� A�$  H�D$8H�2% H�D$0H�z0% �  H��h  A�H��
  �	H�H��h  H��
  H��h  I��L��
  I����������  ���  ����   ����   ����   ��tA�W$  ��  E��uI���#  H��h  H��
  8�$�   u!�U8I���  H��H�H��h  H��
  �H�H��h  L��
  A�E I���	�  L��H�L��`  A�$�P  E��t�U8I���B  H��H�H��h  H��
  A�$�"  H���r ���  H�-� A�+$  H�D$8H��3% H�D$0H�/% �,  E��t�U8I����  H��H�H��h  H��
  8�$�   uv�U8I���  H�H��L���  ����   H��� A�$  H�D$8L�s� H��3% H�ŝ H�D$03�H��.% H�D$(H�3.% H�D$ �� ������8  H�I���<  ��y'H�9� A� $  H�D$8H�73% H�D$0H�C.% �SA�E A�$�   �΃���   ��tt��tg��tZ��tmA�y$  H�� H�D$8H��2% H�D$0H��.% H�D$(L��� H��-% H��� 3�H�D$ ��� ������  A�   �A�   �A�   �A�   D�M8H�D$PH�D$0I��H�D$HI��H�D$(H�D$@H�D$ �s  L�|$P��yZH��� A�$  H�D$8H��1% H�D$0H�E-% H�D$(L��� H��,% H�K� 3�H�D$ �O� H�l$@L�t$H�  ��td�F���w2E��u!H��h  H��
  �{   H��h  H��
  H�H��`  �YH�ң A��$  H�D$8H�H1% H�D$0H�\-% �b���E��t*H��h  �U8H��
  �\  H��H�H��h  H��
  H�l$@H��t.H�H��H��h  H��
  �ŀ  L��H��H�L��`  A�$L�t$HM��t.H�I��H��h  L��
  荀  L��L��H�L��`  A�$M��tCH�I���H@  ��yH�� A��$  H�D$8H��0% �IL�I���>�  I�`  A�$�gA8$ua��t\H��]o ��yPH��� A��$  H�D$8H��/% H�D$0L�D� H�}+% H��� H�D$(3�H�+% H�D$ �� �����H��tH����  M��tI����  M��tI����  L��$�   H��$�   L��$�   ��H��`A_A^^][�������������H�\$H�t$WH��P�=2^%  I��I����u�=�[%  ��   M��h  H�D$@H�\$0E3�H�D$(H�D$AH�D$ M��
  �t�����y`H�� A�)  H�D$8H��.% H�D$0L�� H�t*% H��� H�D$(3�H�*% H�D$ �� �����H�\$`H�t$hH��P_À|$@ tPL��h  H�A�8u3I��  ��H��踂  ��y+H��� A�)  H�D$8H�K.% �o���H��h  �    3�H�\$`H�t$hH��P_��������@SVWATAUAVAWH��p  H��U% H3�H��$P  L��$�  3�@8=�\% I��L��$�  M��D��H�L$HH��u@8=�Z% t���  �I8M��L��H��$h  I��L�d$ �q:  H��H��uSH��� A�%  H�D$8L��� H�.% H�B� H�D$03�H�)% H�D$(H��(% H�D$ �.� �E��  E��uaH��h  H��
  H��t�i  H��h  H��
  H��8
\% u8�Y% uL��$ 3�H��I�@H���$ �<}  H��`  �.  H�D$H@�|$AH�D$0A�H�D$@@�|$@H�D$(L��H�D$AA��H��H�D$ �'�����yUH�̟ A�-%  H�D$8H��,% H�D$0L��� H�'(% H�@� H�D$(3�H��'% H�D$ �8� ������   @8|$@��   H�L$H�A8��tGL+�L�D$XL+�D��L+�fD  I�H�[I�@�M�@ H�C�I�@�I�D�I�@�I�D�I�@�I��u�L�D$PA���3�  ��yH�0� A�A%  H�D$8H��+% �7���@8|$AuH����  ��H��$h  H��$P  H3��� H��p  A_A^A]A\_^[������@SH��@D�jZ% H���5X% L��E��u����   3�E��u��uL�F�$ 3�H��I�@H�6�$ �{  I�`  H��I���;  ��yVH�|� A�*!  H�D$8L��� H��+% H�ĕ H�D$03�H��&% H�D$(H�2&% H�D$ �� �����H��@[�H����  3�H��@[������H�\$H�t$WATAUAVAWH��@E3�M��D8=�Y% I�؋�H��uD8=HW% �I  H�l$pH�i@I�H;M �o  H;M�e  H�MI����L�i@M�e������y*H�K� A��  H�D$8H��*% H�D$0H�-&% �k  A���x@E2�A�������;�s0H��    �H�GL�L;vL�E��uA�A���H��;�r�H�]H�{@I;�uL;g��  �I��L���$ H�[8I�AH���$ H;��]  L�CM��u	H9{���M9HtH�WI���z  M�H��uH�[H;�u��#  H�CH��H;u7H�CI;�uH�GH��H�C�  ��   L�{H��H�EH�X@�  ��   H�OH����   �?  H�CH�G� �   ��uH�EH��H;�uH�E�jH�Ӌ��  H��uSH�+� A��  H�D$8H�y%% H�D$0H�U$% H�D$(L�ٗ H��#% H�[� 3�H�D$ �_� A������FH�EH�G@H�OH�H���v,�   D�F��    H�GH�H;vH�H��I��u�E�>H�l$pH�\$xA��H��$�   H��@A_A^A]A\_���������������H�\$ VWAVH��0�=�V%  I��E���H��u�=�T%  �t  H�l$PH�l$pL�d$XM��I��L�I9l$�F  E3�����   ����   H�QL�I�F�L�|$`L��    M�<;M�I;�wL;�sH�AH�IL�I;�wL;�sjH;�wL;�s`I;�wM;�sVI;�wL;�sLH;�wL;�sBI;�wM;�s8D��A���f��Bo��Bo�f���B��Bo�f���B�A��E;�r�L�|$`D;�s<��J��    A+�D���    H�:H�RH�KH)D�H�D:�H�KH)D�I��u�H�[8H��t5f�H�H)H�H)CH�KH��tL�GH�l$ �V�E���v���H�[H��u�I�l$H�l$PL�d$XH�\$hH��0A^_^�H�t$H�|$ AUAVAWH��@E3�I��D8='U% M��D��H��uD8=�R% ��  L�H�\$`H�l$hM���5  H��$�   E3�L��H��I���(@  H��H��uA�!  �  A����@  H�H����   H�Ґ A�'  H�D$8L�`� H�i"% H�j� H�D$03�H�<!% H�D$(H�� % H�D$ �V� �=gT%  A�����u�=-R%  ��  H�KH��t�  H��H���$ �% �  �    H�H�X8H�H�X@H�H�HL�1H�H�HH�1H����  H�A�]�H�UH��L��H�HH����� H�L��H�UH�HH����� �N  M�@@�����H��$�   I�@H��I;�u&I�PH���  ���tI�pH�H�HH�1�  H��t��yM�@H��I���  ���uL���M��E3�H��I���>  L��H��uSA�]  H�W� 3�H�D$8L�� H�� % H�� H�D$0H��% H�D$(H�c% H�D$ ��� A������{H�H�HH�1H��tZ��uVA�E���tNI��D��D�E@ H�H�HH�CL�N;sN�H�H�HH�CL�N;vN�I��H��I��u�H�H�Q@L�ZH�L�Y@H�\$`H�l$hH�t$pA��H�|$xH��@A_A^A]�������������D�L$ D�D$USVWAWH��H��   E3�A��D8=!R% A��H��H��uD8=�O% �  A��D��A��D��A��A��A��D�M�D�U�D�E�H����   H�EPL�8H�EXL�8H��txE��ts��H���A  H��H�E`H�H����  A��  H�y� 3�H�D$8L�c� H�\% H�U� H�D$0H�% H�D$(H��% H�D$ �C� A������H  H�E`L�8�<  H��uDH�EXL�8H�E`L�8E��t%���  H��H�EPH�H���
  A��  �g���H�EPL�8��
  �  ��tGH�EPL�8H�E`L�8E��t(��H���]  H��H�EXH�H����
  A��  ����H�EXL�8�
  H�[8H�8L�]`L��$�   E2�L�l$xE2�L�t$pH���:	  L�uPH�EXH����	  H�SL�I;�siE��t!H�CL��L���I��H�D$ ��������Z  H�sE��t2D8=+P% u	D8=�M% uH�KH��t�Z  H��H���$ �{! E2�H����  H�L�OI;��u  I;���  D8}�t*H�CM�H�L��H�D$ I�΋��w�������  D�U�H�EXL9{u2E����   L�K��L�H��L�|$ �B�������   A�/  �	  D�E@H�E�H�D$0D�N�L�}�H�E�H�D$(H�E�L�}�L�}�H�WH�KH�D$ ���������  H�E�H��t'L�K��L�I��H�D$ ��������A  H�M��K  H�E�H��t(L�K��L�H�MXH�D$ �������  H�M��  H�E�H��t(L�K��L�H�M`H�D$ �j�������  H�M���  H�KH�WH;�sOL�OH��L�G��9  L��H����  H�sE��tH���_  E2�H��E��tH���L  I��A�L�uP�G  H�sE��tH���,  E2�H��H�wE���  H���  �  D8}�t*H�CM�H�L��H�D$ I�΋��������~  D�U�H�EXL9{u2E����   L�O��L�H��L�|$ �w�������   A��  �8  D�E@H�E�H�D$0D�N�L�}�H�E�H�D$(H�E�L�}�L�}�H�WH�KH�D$ �(������D  H�E�H��t'L�O��L�I��H�D$ ��������  H�M��  H�E�H��t(L�O��L�H�MXH�D$ ���������  H�M��O  H�E�H��t(L�O��L�H�M`H�D$ ��������  H�M��  H�OL�KH��L�CH�S�8  H��H���p  E��t/D8=�L% u	D8=rJ% uH�KH��t��  H��H�+�$ �� H��A��7  I;���  I;�v-D8}�t'H�GL�I�I��H�D$ ��� ������:  D�U�H�EXL9{u2E����   L�K��L�H��L�|$ ���������   A�  �  D�E@H�E�H�D$0D�N�L�}�H�E�H�D$(H�E�L�}�L�}�H�WH�KH�D$ �|�������  H�E�H��t'L�K��L�I��H�D$ �U�������  H�M���  H�E�H��t(L�K��L�H�MXH�D$ �$������t  H�M��  H�E�H��t(L�K��L�H�M`H�D$ ��������N  H�M��r  H�KH�WH;������L�OH��L�G�Q6  L��H�������H�� A�G  H�D$8H��% �~  I;��y  I;�v-D8}�t'H�GL�I�I��H�D$ ���l�������  D�U�H�EXL9{u2E����   L�O��L�H��L�|$ �7�������   A�x  ��  D�E@H�E�H�D$0D�N�L�}�H�E�H�D$(H�E�L�}�L�}�H�WH�KH�D$ ���������  H�E�H��t'L�O��L�I��H�D$ ��������P  H�M��@
  H�E�H��t(L�O��L�H�MXH�D$ �������*  H�M��
  H�E�H��t(L�O��L�H�M`H�D$ �_������  H�M���	  H�OL�KH��L�CH�S��4  H��H����  E��tH���]	  A��,���D8}�tH�G��I��H�D$ ���������  H�wE��t2D8=,I% u	D8=�F% uH�OH��t�[	  H��H���$ �| E2�H���uHL�]`H����  D�U�D�M��g���A�  �b  A�!  �W  A�J  �L  A�X  �A  A�f  �6  H�Ä A�t  H�D$8H�Y% �+  H�u� A�@  H�D$8H�s% �  A��  ��  A��  ��  A��  ��  A��  ��  H�[� A��  H�D$8H��% ��  H�� A��  H�D$8H�% �  A��  �  A�  �|  A�+  �q  A�9  �f  H�É A�  H�D$8H��% �[  A�f  �=  A��  �2  A��  �'  A��  �  H��� A��  H�D$8H�G% �  H�[� A��  H�D$8H�Y% ��   A��  ��   D�E�H���!  E���  ff�     H�G��L�OI��L�H�D$ ���������   H�_E��tH����  L�]`E2�H��H��u���   H����   E��tOfff�     H�C��L�KI��L�H�D$ �f�����xH�{E��tH���  E2�H��H��u��rA��  �E��teH���[A��  H��� H�D$8H��% H�D$0L�-� H�% H�� H�D$(3�H��% H�D$ �� A������E��tH���  L�l$xL��$�   L�t$pA��H�Ā   A__^[]����������������H�\$WH�� �=�E%  H��H���u�=�C%  ��   H;���   H����   H����   H�QH�CH�H9
uqH�CH�WH�H9
uaH�8H�[8D  H��t=H��tJH�H9uBH�CH9Gu8H�OH��uH9KtH�S�\�����tH�H�[�H��u�H�\$0H�� _�2�H�\$0H�� _����������������H�t$ AVH��@3�L��@85�D% u@85�B% t3�H�t$hH��@A^�H�l$X����   �i�����0  H��H��u^H�р A��  H�D$8L��� H�h% H�i� H�D$03�H�;% H�D$(H��% H�D$ �U� 3�H�l$XH�t$hH��@A^�H�HI�VH�\$P��H��L��H�|$`�B� H�NI�VL���2� I�V������H�|$`H�\$PH�F8H��uA��  � H�F@I�E3�H��L���7/  H��uZA��  H�� 3�H�D$8L�σ H��% H�� H�D$0H�m% H�D$(H�	% H�D$ �� H��tH����  3�H�l$XH�t$hH��@A^��������H��H�=mC%  u	�=9A%  ujL�c�$ E3�I�AH�U�$ �`   H��uMH�� A��  H�L$8L�*� H��% H��~ H�L$0H��% H�L$(H�d% H�L$ 3���� 3�H��H����������D�D$WATAUH��P�=�B%  M��A��H��D��u�=�@%  t3�H��PA]A\_�H��$�   H��L�|$@L��M�N9d�uH��H�H��� �q  A��L�t$H�|.  L��H��uRH��~ A�W  H�D$8L��~ H�% H�~ H�D$03�H��% H�D$(H��% H�D$ �	� 3��  H�WH�HH�\$pI��H��L��H�l$x�� H�WL��I�N�� A�   H�FH�N�d�3�L�4�H�8H����   fff�     �=�A%  H��} H�oL�?u�=o?%  �=  H�5�$ �� H��H����   H�h3�H�hH�hL�8H��uI�F8�H�^H�OH��tD��$�   A�U�M���W���H��tAH�CH�H��H���n���I�v@I��H�l$xH�\$pL�t$HH��$�   L�|$@H��PA]A\_�H��} A�u  H�D$8L��} H��% H��| H�D$03�H�|% H�D$(H�% H�D$ �� H���H��| A��
  H�D$8L��| H�Y% H�Z| H�D$03�H�,% H�D$(H��% H�D$ �F� H�w| H� % L��| H�D$8H�| H�L$0A�j  H��% H�L$(H�% H�L$ 3���� 3����������@SH�� �=�?%  H��u	�=�=%  u"H�IH��t�'   H��H�}�$ H�� [�C H�� [��������������@VH�� �=�?%  H��u	�=t=%  ul��ugH�\$0H�Y8H��tEH�|$8�=~?%  H�{u	�=F=%  uH�KH��t����H��H���$ �� H��H��u�H�|$8H��H��$ �N H�\$0H�� ^����@WH��P  H��7% H3�H��$@  �=?%  u�=�<%  t3��H  H��$h  E3��Y8��tnL��h   A��H��N��  I�����   I�@!H��N�I�����   J��  J���@  J��  J���@  N���@  N�T�@A��D;�r�H�D$@3�H�D$(L��$@  H��$@  L��$@  H�D$ �.�������   H��� A�t#  H�D$8H��% H�D$0L�!� H��
% H��y H�D$(3�H�]
% H�D$ ��� ������8H�� A�j#  H�D$8H�% �H��� A�h#  H�D$8H� % �3�H��$h  H��$@  H3��� H��P  _������������H�\$�=|=%  A��L��u	�=A;%  u+H��h  Lc�
  I��L�M��u��tI��  H�\$�3�H�\$�M��   I���t[M��  M;�tO3�I��I��I��H��L+�I��  tI��H�I�H�\$Ä�tI��H�H�\$�H��I��I�H�H�\$�I��  H�\$I���������@SUVWATAVAWH��`  H�o5% H3�H��$P  E2�@2�3�M��@85�<% M��H��H��u@85E:% �p  3�H�L$PA�   �"� H��h  9�
  }nL�D$PH��H��$P  �|�����yUH��o A�  H�D$8L�_y H�p
% H��w H�D$03�H��% H�D$(H�O% H�D$ ��� �������  L��$�  A�����I;�vA��"�W8�΅�tH�D$PL9(w��H��;�r��@�H�T$DH�L$@��y ��y*H�7o A�  H�D$8H��	% H�D$0H��% �  @85];% A�����u	@85#9% u)H��h  ���uH���L  H��h  ���D��A��HcL$@H�t A�   ��}<H��h  9�
  }-E��u@��uE��tH��r����   �A����Ƀ��
��A;�AB�HcD$D;���   E��tH�x A�1  H�D$8H��% ��   3�L��w H�]v @��tEH�!x A�4  H�D$8H��% H�D$0H�% H�D$(H��% H�D$ �-� ������9  H�x A�7  H�D$8H�z% H�D$0H��% H�D$(H�j% H�D$ �� �������  A�����  ����  ��tUH��w A�v  H�D$8H�% H�D$0H�o% H�D$(L��v H�% H�uu 3�H�D$ �y� ������  �W8E���  H��L�ƅ�tDH��h  D��H   f�     H�P�H���tH;�HG�H�H���tH;�HG�H�� I��u��&9% H��D��6% E�ʺ   ��uE��uI;�vA��H����  E��DG�D�W8E��t/H��h  H��  f�H�A�I;�IF�L�L;�LF�H�� I��u���uE��u,M;�v�A��D:���F�A�$�   I����  �   G�D:�A����F�A�$�m��tH�L$PH�H�IH;�HF�H��H��u�@85H8% A��u	@856% u"I;�v���A�$�'H����  A�º   G���A�$�A�$�A�$L��$�  ��H��$P  H3��`� H��`  A_A^A\_^][���������������H�\$ UVWH��0�=�7%  I��I����H��u�=v5%  t2�H�\$hH��0_^]�L�d$PL�t$XL�t$xL�|$`D�|$pA��H��L9tL�$��   3҅�t9L�I@ fff�     L��    K�I90wgH�CI� I98rY��;�r�H�[8H��tE�H�H9Cr/H�H9w8H�KH��tML�OL�t$(L�FD�|$ �U�������u/H�CH��H��u�M�t$2�L�t$XL�d$PL�|$`H�\$hH��0_^]ð�������L�L$ H�T$H�L$SVAWH��0E3�E3�3�H��@856% u@85K4% �w  H�l$`H�|$(L�d$ L��  L�l$LciL�t$E�]�J���X  H��  L;�A��IB�E3�E3�H�$L��A��rZE��W�A���W��    �Bo��P
  A�HA��f��fo��o��P
  f��fo�E;�r�f��fo�fs�f��fI~�3�3�E;�s_A��A+ȃ�r;H�T$PA��A+�����J��H��P
  ��D��E�H HHzH�RI��u�E�]�E;�sH�T$PN��P
  H�L�H�L$PH��$�   H���(  H;��  H�HL�D$xH+�H��I��I;ξ   HF�M�H��I��H�M�<L+�t1H�@H����   L�D$PH�H��I+��(  I��I���(  L��9L�D$PI��(  I���(  H;Hw
I��P
  �8H�@H��t/H�I���(  I���  HI���(  I���P
  I���X  L��H����  E�C�E����   L�T$PIc�H��EI��f�     H��0	  H�H�
H;HvPH�@H��uH��D+�y��RIc�H��    J��X  H�J��(  J��  HJ��(  J��P
  �Ic�I��I���(  H�P
  L��E���?  L�T$PE;�sSMc�A��I��EA+�D��O��H�HM�IH�Q8I��0	  H�HH�A8H�I�	I������HI��   I��(  L+�u�E3�E3�A��rYE��W�A���W�D  �Co��P
  A�HA��f��fo��Ao��P
  f��fo�E;�r�f��fo�fs�f��fI~�E3�3�L��E;�shA��A+ȃ�rAH�T$PA�M�A+�����J��H��P
  ��D��E�H@ f�     LHZH�RL+�u�E;�sH�T$PN��P
  J�L��L�H��$�   M���F   H�|$XH;��5  L��H��twH�L$xL�F�H+�N��H�YfD  H�I+L�PL+I��I��L�M;���   I��M+�I��H��t
M;�uI�N�H��I�HI��H;�sL��M�<	H�@H��u�M��t	H;���   H�H�\$PI�H���(  H;P�d  H�HH��t|H�H���(  H���  HH���(  H���P
  H���X  �N  M��M��I��E3�H��tM;�uH��$�   HL���L�D$xH��$�   M��H��H���c���H�\$PE�M�M�E�E����  I�PEH��ff�     H��0	  E��H�H�
H;HvVH�@H��uA��I��H��E����  N��    I��X  H�I��(  I��  HI��(  I��P
  �N��    I��(  I�P
  E�]�E;�sSI��(  A��L�A+�D��H�HM�@H�Q8I��0	  H�HH�A8H�I�I������HI��   I��(  I��u�E3�E3�A��rZE��W�A���W��    �Bo��P
  A�HA��f��fo��o��P
  f��fo�E;�r�f��fo�fs�f��fI~�3�3�E;�s[A��A+ȃ�r7H�T$PA��A+�����J��H��P
  ��D��E�H HHzH�RI��u�E;�sH�T$PN��P
  H�L�M��t4H��$�   �����H���X  H���  HI�H���(  H���P
  H�D$PH�$L�l$I+�L�t$H)�  H�D$hL�d$ H�|$(H�l$`H�0H�D$pH�3�H��0A_^[�������@UVWAVH��$(���H���  H��'% H3�H���  H��   E3�D85�.% E��H��(  H��0  L�M�L��H�T$PH�L$@H�E�H�t$ H�}�uD8N,% �*  D��(  H��$  L��$�  L��$�  L��$�  L��0  L�|$D�\$E��tD;Ys�0	  �0  �D�Y�  D�\$�   J�A�C�H�T$8�$N�$	I��  M��(  H�D$hI��  I;�LB�L�D$0L�E�E����   L+�A��L�E�H��L+�A��I��	(  HI�H�IH��u�H�t$@M�GA�(  H���  L+�M��ff�     L���  M�I�7J�I+H�I�xuI���H��3�I�0H��J���   I�� I��I�H��u�H�t$ �D$M��M��I��E����rFH�E�I��H+�H�U��$������D��D�< f�H�H�H�RL�H�D�H�B�L�I��uދD$D;�sA��I�L� H�LŰ�$K�L�L$8H�L�D$��H��I�\� L�M�,�D�L$H�T$3�I�@M�xM(M��L�\$hH��H�D$`H�D$0I��H�T$PH;�L�D$HL�|$XHB�L�l$(H�T$E����   L�T$@H���  L�|$I+�H�D$pI��(  H�t$pH���  I��M+�I+�E��H��fff�     M�I�GM� I�$M�d$I��M+O�O�L"�H+�K�T"�N�L'�J�T&�I��u�H�}�M��H�t$ L�l$(H�T$L�|$N����   M���_  M�HI��I+�H;D$HB�L��H��t+L��H��L+�L��f�I�H�L�H�@H��u�L�L$HM�IL)D$I��H�D$XH)D$0K�L�|$I;�D�$J����   �D  J���  N�l��N����   E�y�E����   L�D$L���  Ic�L�M�H��I��H��L�H�D$8L+�H��    I+�H�D$(�    H���  L�M�M�`L�I�H��I�L9��  r`H���   I+�I L�d$(M�I�H���   L���  K,I;@r-I�@�I�� H��  I$L���   H��A��I��z���D�$L�|$H�D$H3�L�d$L�hH�D$I��H�D$(H�D$ H���t  I��H�B����M�EI������� H�B��H���L�D$`ND���J��N��I��H�J��N��I��H�J��N��I��H�J��H�N��I��I��t:J��N��I��H�J��N��I��H�J��N��I��H�J��N��I��H��J���  A����   Ic�M�D$H��    H��L�H�D�H���  H��M�xH�D�L9��  reH���   I+�I H��  H�D�H���   L���  I;@r4H��  H�D$8L���   H�I@�I�� H�D�H��A���x���L�|$H�D$ D�$H���~���L�l$XI��L�L$H��J�T H�T$(L�d$0H��L+�I��L+���   L�D$PM;��z   I��M��t1L��J��L+�M�fff�     I� H�L�H�@H��u�L�D$PJ�T��I��L�L$`I��I�J�T��L+�t"M;�sJ�"J��L�d$hJ�D��N�$�I��M��L$L��$�  L��$�  H��$  ��t6L�D$@H�U�L�L$8L+� H�M�I�H�K+I��I��(  H��u�H�U�I��H�L$@H+�I+�L��$�  H�  H�E�LH�E�H3�H���  H3�谈 H���  A^_^]� M� 9� +� � � w� i� [� AWH��  H��% H3�H��$P  �=�&%  L��H��$�  L��$�  L��$�  H�D$(L�L$ L�D$H�T$0u�=�$%  �a  D��(  H��$�  H��$�  H��$�  H��$x  L��$p  L��0  L��$h  L��$`  D�$E��tD;As�0	  A�  �D�A�  D�$I������H�H��  H�D$8E�p�D�t$L��(  E��tnH��$P  H��H+�H��$P  I��I��f�     H�H�IHH�R H�A�H��u�I��H�T$PH+�H��H+�fD  H��(  HH�
H�II��u�$3�3�E3�3��rPH�D$PM��L+�H�L$P�D$�������Ѝ, �    I�H�H�IH�I�D�H�A�H�H��u�D�t$�$;�s
M��L�D�PH�>H�|$H�t$0L�A��H�D$HH��J��8H  I��  H;�H�l$@HB�3�H��H�|$H��H;�HB�H�t$H���  H�l$8E��uM�I��I�+I���  A�~�Hcυ�x,H��I��H  H��H�@ H�:w��H�� H��y��D��A��H��    J�	H�T$E��u$H��M�I��I�+L�I��H��u�HtP�%  �<$��tH��$P  I��H+�H��$P  ��@ f�     H��(  H�II+$M�d$ H�A�H��u�H��$P  I+�I��H  K�)M�IH+H�I I�A�J�D
�H��u�H�T$H�t$H��E3�Ic�M�E��I�+I��I��L�E��xnH��I��H  H��H�H��    fff�     H��P  H��P  H�DPH;
r+H��P  H�� L�P  H�LPL��P  H��A��y�H�T$H���o���H�t$H��H�L$@I)�  t.�$��t'I��L�L$PH+�L+�J�H+H��;(  H�[H��u�H�T$ L�L$(H�|$H2I	�H�T$ H��L�L$(H��L��$`  L��$h  L��$p  H��$�  H��$�  H;�v3H;t$0s,M�H+�H��H�D$8I�H�D$HI��(  I)�  H�I9H��$�  H��$x  3�H��$P  H3�譃 H�Đ  A_���̉L$VWAVH��   E3�M��A��L��@85"% D��A��u@85�% tA��H�Ā   A^_^�H�\$x�Q�H�l$pL�d$hL�l$`L�|$X�T$@����  H��$�   L+�Hc�L+�L��$�   L+�L��$�   L��$�   L�,�fD  K�)H���&  I�m I��K�+H��O�$*H�M��H��tdfD  H���$ �� H���  H�H�hH�@    H�pH��uH���I�GL��$�   A��L��I�I�A��K�)H;�r�D��$�   H��t�A����  H��H���  H�PL�x@H�x8H�H�
H�H@H�PH�IH�
H�WH��t=��$�   +\$@H�H��H�RH��H��L��蘖 H�WL��H�NH��H�R耖 �T$@I���ʉT$@��xyD��$�   E3�L��$�   L��$�   L��$�   ����A�v!  H�Q\ 3�H�D$8L��b H���$ H��[ H�D$0H���$ H�D$(H�]�$ H�D$ �ۤ 3�����   H��H��uW3�H��tKH��t H9~8HE�H��tH�~8H���$ H����� H�w�    H�_H�E�$ H���� H��H��u�H��u�L�l$`H��H�l$pL�d$hH�\$xL�|$XH�Ā   A^_^�A��!  ����H��a A�g!  H�D$8L��a H���$ H�[ H�D$03�H���$ H�D$(H�t�$ H�D$ �� I���#�������������@SH��@�=�%  H��u	�=�%  u*H��h  H��
  H��uH��
  H��h  H��
  �3�H��@[�D�C8H�|$P�   H��H��uYH��` A��   H�D$8L��` H���$ H�FZ H�D$03�H��$ H�D$(H���$ H�D$ �2� �G�H�|$PH��@[�H��h  H��
  �q���H��h  H��
  3�H�|$PH��@[�������@SWAUH��P�=�%  E��H��HǄ$�       H��u�=�%  t3�H��PA]_[�H�l$pH�t$xL�t$HL�|$@�������twH����  A��H���$���H��$�   H����  H�dZ A�;  H�D$8L��_ H�C�$ H�<Y H�D$03�H���$ H�D$(H���$ H�D$ �(� 3��  H�8@2�H�[8@2�H���  H���w  L�OL�M;�sgH�GH��$�   L�A��H�D$ �������a  L�w@��t2�=�%  u	�=�%  uH�OH��t����H��H�^�$ �)� @2�I���}  L�L�[M;��Z  L�wH�SI������L�t$ A��H��$�   M;��\  ��tM��������y_A�g  �4  M�H�M�����������  H�SE�E�H�O�%���L�OH��$�   L�A��L��H�D$ ���������  I���F���H�OH�SH;���   L�KH��L�C�%  L��H���T  L�w@��t2�=�%  u	�=�%  uH�OH��t�����H��H�F�$ �� @2�I��@��t/�=�%  u	�=S%  uH�KH��t����H��H��$ ��� I��@��+  L�w@��t2�=D%  u	�=%  uH�OH��t�s���H��H�ɻ$ �� @2�I���  ��tM��M��������y_A��  ��  M�H�M����������  H�SE�E�H�O�����L�KH��$�   L�A��L��H�D$ �g������|  I�������H�KL�OH��L�GH�W��  L��H���2  @��t/�=o%  u	�=;%  uH�OH��t����H��H���$ �� I��@���  L�sM;���  L�_I��I���8�����t$A��L�\$ H��$�   ������yqA��  ��  M;�v!M�J�L�t$ A��H��$�   ��������  H�SE�E�H�O����L�OH��$�   L�A��L��H�D$ �Z�������  I�������H�OH�SH;���   L�KH��L�C�  L��H���[  L�w@��t2�=U%  u	�=!%  uH�OH��t����H��H�ڹ$ �� @2�I��@��������=%  u�=�%  �����H�KH��t�B���H��H���$ �c� I��@��  L�w@��������=�%  u�=�%  �����H�OH��t�����H��H�M�$ �� @2�I���.  M;��  H�OI��������t'M��L�t$ A��H��$�   ������yqA�   �7  M;�v!M�J�L�t$ A��H��$�   ��������N  H�SE�E�H�O����L�KH��$�   L�A��L��H�D$ �������?  I���7���H�KL�OH��L�GH�W�  L��H����  @���{����=�%  u�=�%  �e���H�OH��t�����H��H�<�$ �� I��@�� M��L�t$ A��H��$�   �'�������  L�s@��t2�=W%  u	�=#%  uH�KH��t����H��H�ܷ$ �� @2�I��H�������H��tn H�CH��$�   L�KA��L�H�D$ ��������  H�{@��t2�=�%  u	�=�%  uH�KH��t����H��H�e�$ �0� @2�H��H��u�H��$�   L�t$HH�t$xH�l$pL�|$@H��PA]_[�A�V  �_  H��R A��  H�D$8H�4�$ �T  A�u  �6  A�m  �+  H�bR A��  H�D$8H� �$ �   A��  �  A��  ��   A��  ��   H�#R A��  H�D$8H���$ ��   A��  ��   A�   �   H��Q A�#   H�D$8H���$ �   A�   �   A�3   �   H��������H�GH��$�   L�OA��L�H�D$ �0�����xHH�_@��t2�=d%  u	�=0%  uH�OH��t����H��H��$ �� @2�H��H��u�����A�?   �A�K   H�7Q H�D$8H�C�$ H�D$0L�W H���$ H��P H�D$(3�H�C�$ H�D$ ��� H��$�   H��t����3�������������H�\$H�l$H�t$WH��@�=�%  I��I��H��H��u	�=]%  u\H�'�$ ��� H��uOH��P A��
  H�L$8L��P H�%�$ H�&P H�L$0H���$ H�L$(H���$ H�L$ 3��� 3��H�(H�pH�XH�xH��t�H�\$PH�l$XH�t$`H��@_����@SH��@�=�%  ��u	�=�%  ub�H���$ �� H��H��uSH�P A�   H�L$8L�.P H�w�$ H�xO H�L$0H�L�$ H�L$(H���$ H�L$ 3��d� 3�H��@[�H��HH�BH�C	H��H��H�JH��@[����������������@SAWH��HE3�H��D8=3% uD8=�% �M  L��  H�t$hH�|$pL�t$@M���@  @ f�     ��  H��H�HH��trH�@H9��   ��   L��3�L��   H���   M�Z�4  H��  L�4�L��I��H+�H��L��I�BL�@ I;��%  L+�I��M��I+�H��  �/H�PH���   H��H+�H��L;��}  H+�H�A�I�H��  H��H�HH��D��  J��H��tH� J���   �   E����  N���   M��t^��  A�A�L���   A+ы���H��@L�T$ M��H��茼������  ��  H���   ������  L���   D��  A�A���  H���   L��  M���������  H��H�HH9��   �n���M����  D  ��  ��  �B�H��H�@H�@8H�Ӌ�  H��H�H���   D��  N��M9y�?  �    ��  3ҋ�  L��   L��H��H���   M�ZH�IL+�I���(2  H��  L��I�BM��L�@ I;���   M��I+�H��  H��H�HH����  H��H�H���   H��  H���j���H�������  3�H��I��3�H�I��   ��  H��H��  L�AI�p L��H��  �����H�AL A��*  H�D$8H�G�$ ��   3�H��I��3�H�H���   ��  H��H��  L�AI�p H��  �^���M�II��H��  I��J+��   H��H;�ru�    H���   H��I+�H�H��  H��H�HJ�Ë�  H��H�H���   H��  H����   D��  A��J��L�HI��J+��   H��H;�s���H��   �bH��V A��*  H�D$8H�u�$ H�D$0L��V H���$ H��J H�D$(3�H�M�$ H�D$ �˓ A�������	  J�H���   L��  H�l$`�     D��  J��J��N��L�HM���  I��   H;x�m  J�4�3�L��   I��H�n��/  L��  L��H��H+�H��L��M;��2  ��  A+�D8�(  t+H�FI��@L��H�D$ L��J���ظ����yrA�U+  �  L��   A�   H�N����H��H����  D��  H��   ��  A+�H�D$ N��J��N���   M�I�r������m  H���������  H��H�HH+��   H�@H��H�H H)�  �bL�HH��   M��   I��H��  I+�H��L�|$ H;���  �   ���������  ��  H��H���   H+HH��H�  D��A��H��H��H�HH�
D��  J��H��tH� J���   �|E���  ��  A�A�L���   A+ы���J���   H��@M��H�D$ H���d�������  ��  H���   �������  L���   ��  ��  H���   L��  M���������  H��H�HH9��   �����M���H  f���  ��  �B�H��H�@H�@8H�Ӌ�  H��H�H���   D��  J��H�HH����  D��  3�L��   A��J���   L���!-  L��  L��J��H�HH+�H��L��M;��%  @ �     ��  A��A+�H��D8�(  ��  L�	L��H��   H��I�AM�IH�D$ �������   A��+  ��  A�b+  �6  H�;S A�^+  H�D$8H���$ ��  H�vH�N L;������D��  E+�D8�(  t:3�H�t$ I��L�O�H��I��@L��L�A��J��艵������   A�1+  �`  L��   A�   A��H������H��H��uH��R A�:+  H�D$8H�]�$ �5  D��  3�H�|$ J��N���   H�HH��  M�H�H�q ��  A+�L�I��@J��������yA�D+  �'  H���k�����  3�L��H��H�HH��  H�q 3�I�   ��  H��H��  L�AI�p L��H��  ����A��+  �j  L��  M����  H��Q A��+  H�D$8H���$ �O  H�	A�   L��   H�I����H��H���M  D��  H��   ��  A+�H�D$ N��J��N���   M�I��������  H���x�����  H��L��H�QH+��   H�AH��H�P H)�  I� H�HI���  H��H�H���   L��  M����  ��  3ҋ�  D��L��   H���   H��L��H�I��)  L��  L��H��H�HH+�H��L��M;������A��H��H�iH�M L;��  ��  A+�D8�(  t<3�H�l$ I��M��H��H��   ��H��L�H�M���������   A��+  �  L��   A�   ��H������H��H���J  D��  3�H�|$ J��N���   H�HH��  M�H�H�q ��  A+�L�I��@J���h�������  H���������  3�L��H��H�HH��  H�q 3�I�   ��  H��H��  L�AI�p L��H��  M�������U  H�@J+��   L��  H��L;���   N��H��   J��L�|$ N���   �   M�I趱�����e  ��  H��L��H���   H+PH��H�  I� H�HI���  H��H�H���   L��  M����  ��  D��H��H�PH+��   H��L;��V���A��M�J�N���   H��@M�L�|$ �   H����������   ��  H��H��  H�   �7  A��+  �$H�)N A��+  H�D$8H���$ �   A��+  H�B 3�H�D$8L��M H� �$ H��A H�D$0H���$ H�D$(H�)�$ H�D$ 觊 H�������A�������   H��M A��+  H�D$8H�k�$ �FA�,  �+A�,  �#A�|+  �L�J��   M�� �����ySA�s+  H�wA H�D$8H���$ H�D$0L��L H���$ H�	A H�D$(3�H���$ H�D$ �� A������&��  H��H��  H�   L��  D��   H�l$`H�t$hH�|$pL�t$@A��H��HA_[�����D�L$ L�D$H�T$H�L$VATAUH��   E3�E��D8-�% M��H��uD8-a% �  H��$�   E��H��$�   H��$�   H�|$xL�t$pD��  L�|$hE+�tOL�YH�zA��L��    H��K9��   H�FH�RI� I9��   H��$�   A��E;�r�D��$�   ��   D��D�l$@��   H��  H�D$PH��  H�D$HM���:   H�~8H�r8H�/L�6f�H�FH;���  L�M;���  H�OL;�LC�H����   I;���   M��L9�  vH���%�������  D��$�   L��   3�H�O�$  I��H+�H��H�  H�O�dD��$�   E����  L9�  v&H���������yH�/K A�-  �  D��$�   L��   3�H���;$  I��H�  �B  L��H�VE�KM��H�\$ M+�I���������yaH�"K A��,  H�D$8H���$ ��  I;�s+M��L9�  vH���2�������  I��H+�H�  �L��I��I+�H��H�  H�GH;F��   H�H��tH�/H�vH��tL�6D��$�   H����   H���X���L��$�   E;�u�T$@I�D$�H;��  H��  L9o��  H��tH���������N  L��   3�H�O�#  H�OH+�H��H��H�  H�H��tL L9�  vH���?������  L��   3�H�O��"  H�OH+H��H��H�  H�H��u�D��$�   �-I�oI;�����H�L��H����   D��$�   L��$�   �T$@��   D����  �T$@I;��b  H��$�   H��$�   ����L9w�����H��  L9ot?H��tH���r������  D��$�   L��   3�H�O��!  H�OH+�H��H���'H��tH���3�������   D��$�   H�GH+�H��H�  H�H���-���H�/����H��tH�����������   H�GH+�H��H�  H�H�������L9�  vH����������   H�GH+H��H�  H�H��u�D��$�   ����D��$�   ����H��G A�~,  ��  H��G A��,  ��  H��G A��,  �  H��G A��,  �  H��G A��,  �  H��G A��,  �|  H�zG A��,  �j  H�hG A��,  �X  H��  H�D$PH��  H;�uH��I�D$�H+L$HH��H�H��  �oH��H+�H��uI�D$�H��H�H��  �OH��   H+l$HL;�v=fD  H��tH���s�����xVH�  ��H�  H��  ��I;�r�D��$�   E����   L9�  v-H���/�����y!H��F A�!-  �   H��F A�-  �u��  ����   ��H��@H�4�L�M��t;��  �G�L���   +׋���H��@L�L$ M��H��輨����xH��@���L�.H�����u��QH�: A�)-  H�D$8H�	�$ H�D$0L�F H�v�$ H��9 H�D$(3�H�	�$ H�D$ 臂 A�����L�t$pH�|$xH��$�   H��$�   L�|$hA��H�Đ   A]A\^���@SUATAWH���  H�#�$ H3�H��$�  E3�L��$�   A��L�D$x8/�$ L��H�T$hH��H��$�   L�d$PL�d$@�D$Xu8��$ ��
  H�APH�]7 H��$�  H��$�  L��$�  �8L��$�  L�536 ��   H��h  L9�
  uaH��腽����yUH�BE A�j-  H�D$8L�pE H���$ H�Z8 H�D$03�H�,�$ H�D$(H���$ H�D$ �F� ������z	  H��h  H��
  H�L$`�2  L�K@I��@85.�$ I��I��L�d$Pu@85��$ ��  D�C8D�D$LA�P��T$H����  Hc�I��I+�L+�H�T$PL�L$`L�,�f�     I�M H����  K�,)K�)H�H��3�H�I��M��L��D��H��tSH�G�$ ��� H����   H�H�hH�@    H�pH��uH���I�GI�M A��L��I�A��I�H;�r�D�D$LH��t�A���L���H��H���  H�PL�x@H�x8H�H�
H�H@H�PH�IH�
H�WH��t:�\$L+\$HH�H��H�RH��H��L����p H�WL��H�NH��H�R��p �T$HI���ʉT$H��xmD�D$LE3�L�L$`H�T$P�����A�v!  H��6 3�H�D$8L�P= H�Y�$ H�Z6 H�D$0H�.�$ H�D$(H���$ H�D$ �H 3���H�D$P��   H��H�t$PH����   3�H��ukH����   �tA��!  �|���H��< A�g!  H�D$8L��< H�a�$ H��5 H�D$03�H���$ H�D$(H�@�$ H�D$ �~ I��L�d$P�H��t'H9~8HE��    H��tH�~8H�x�$ H��踻 H�w@ H�_H�5�$ H����� H��H��u�H��u�H��uUH�lB A�v-  H�D$8H���$ H�D$0L�.B H���$ H�5 H�D$(3�H���$ H�D$ �~ ������  L�|$hL�5z2 H�l$`E3�I�GP�8��   I��h  H��
   uaI��輹����yUH�	B A��-  H�D$8L��A H� �$ H��4 H�D$03�H�c�$ H�D$(H���$ H�D$ �}} ������  I��h  H��
  �u  �=q�$  I��M�O@I��H�\$@I��u�=+�$  ��  E�G8D�D$HA�P��T$L����  H��2 Hc�M+�L+�L�t$pL�L$@L�,��I�M H����  K�,)K�)J�0H��3�H�I��M��L��D��H��tQH���$ �"� 3�H����   H�H�hH�HH�pH��uH���I�GI�M A��L��I�A��I�H;�r�D�D$HH��t�A������H��H���  H�PL�x@H�x8H�H�
H�H@H�PH�IH�
H�WH��t:�\$H+\$LH�H��H�RH��H��L���6m H�WL��H�NH��H�R�m �T$LI���ʉT$L��xkD�D$HE3�L�L$@L�t$p�����H�3 A�v!  H�D$8L��9 H���$ H��2 H�D$0H�r�$ H�D$(H��$ H�D$ �{ 3���H�D$@��   H��H�\$@H���  3�H����   H���  ��   H��2 A��!  H�D$8L�9 H��$ H�2 H�D$03�H���$ H�D$(H���$ H�D$ �{ 3���H�D$@�H��8 A�g!  H�D$8L��8 H�S�$ H��1 H�D$03�H���$ H�D$(H�2�$ H�D$ �z I��H�\$@�9���H��t&H9~8HE�fD  H��tH�~8H�h�$ H��訷 H�w@ H�_H�%�$ H����� H��H��u�H��u�H�\$@H��uVH��> A��-  H�D$8L�%> H���$ H�1 H�D$03�H���$ H�D$(H�}�$ H�D$ ��y E3�s��  L�|$hH�|$xH��h  H��
   u*H��轵����yH��> A��-  H�D$8H��$ �i���3�H��$�   A�0  �xs H�C8E3�H��h  H�L$`H��$�   H� E�AH��$�  H��$�   �@8��$�  A�G8��$�  H�h�$ H��$�  H��H�V�$ ��$@  ��$�  H��$�   H��
  H�D$ �^�����yH�> A��-  H�D$8H�1�$ ����H��$�   H���<f  ��yH�q* A��-  H�D$8H���$ �x���H��$�   ��   H�<�$ �� H��h  H��uH��0 A��-  H�D$8H�b�$ �3���H��+ E3�H�KPǀ
  ����H��$�  H��h  H��
  H��h  L��$�  H��
  �l  H��H��`  �  A���1H��� ��yH��6 A��-  H�D$8H���$ �����t$XE3�H�\$@H�L$PH��t�3���H��tH���&�����y>��$�  A�܅�t0@ ��H��$�  H��H�<�H��t�����L�'��$�  ��;�r�L��$�  ��H��$�  H��$�  L��$�  H��$�  H3���S H���  A_A\][�����@UWATAUH��HE3�H��A��L��@8=:�$ u@8=�$ tA��H��HA]A\_]�H��h  H�\$pH�t$xL��$�   L��
  �r8L�|$@E��+q8��  D  �M8�����H��H���I  H��tH�GD8%��$ L�5�- uD8%��$ �  H�O�$ ��� L��H����  L� L�`L�`L�`�   A��H�C8H�C@����   L�s�F�L�SH�{��L�CI��M��M;�wI;�sYL;�wH;�sOM;�wI;�sEL;�wL;�s;M;�wM;�s1�ƃ�����;�r�L��    I��3�I��H���H�I��I��I���H�;�s.��H��    ��+��H�CH�IL�d�H�CL�d�H��u�;U8sg@ ff�     ��+�L��    ����H�<�    I��h  H��
  H�AH�KI� H�I��h  H��
  H�AH�KI� H�;U8r�H��h  L9�
  uH��
  A��I��D;��A���I��h  H��
  A��H�O�L��$�   H�t$xH�\$pL�|$@H��HA]A\_]�H���$ L�", L�t$8H��+ H�D$0A��
  H�|�$ 3�H�D$(H��$ H�D$ �t H��uH��H�m�$ 谱 L�t$8A�&  �FH��t/D8%�$ u	D8%K�$ uH�OH��t讯��H��H��$ ��� H��+ A�  H�D$8H��$ L�0 H�D$0H�+ H�ܻ$ 3�H�D$(H�v�$ H�D$ ��s H��h  H��
  H��t`H�8H��t/D8%��$ u	D8%��$ uH�OH��t����H��H�n�$ �9� H��h  H���$ H��
  述 H��h  H��
  ������}����������@SH��0  H�H�$ H3�H��$   �=f�$  H��u�=/�$  ��   L��h  H�T$ I��
  �   ��uA�    �   I�JA�   H�T$ � d H��h  H�T$ H��  A�   �d H��h  D�C8I��H��
  H��  H�R��c H��h  D�C8I��H��
  H��	  H�R�c H��h  �    H��$   H3��	O H��0  [�AVH�� �={�$  L��u�=D�$  t	�H�� A^�H�\$0H�Y8H�l$83�H�t$@�   H�|$H��H�KH��tH�� ������tUL�H��L�CM+�I��D  H��tBH�KH��tH�RH;�t	������t H�CH+H�H��H+�I;�uH��v	H;�t2��&H��H�+H��H�[H��H��u�M��I�~M�FI�vH�t$@H�l$8H�\$0H�|$HH�� A^������������@USVAUAVAWH��$����H��x  H�8�$ H3�H��`  D�5V�$ E3��5!�$ I��H�D$PH��H�T$XE��u	@���<  D�[8A��H��$�  L��$p  E��t)L��h   ��H��J��   ��   ��A;�r�I��E��E��tvH��h  f�E��J��N��H��A��I�H��H��8  H;���  J���	  L;���  I;�IF�H;�J���`  HB�H�D$PH+�A��H�T$XH��J�L�`E;�r�E��u	@���[  H���]  ����  H��! A�r%  H�D$8H��$ ��  2��D$@�D$DA�ŉD$HfD  ��H�D$PD��I��M�L�<�    M�I�I��  M�Y�L�I;���  M���	  M;���  I;�r'L��L;�rtH�F!H��H�O�J� H�L;�w\�D$@�UI��  I��  vI��3�H+�H��L���M��L��H�F!L�H��J� I�P�H�M;�s
I;�r
�D$@I;�sL�M;�s(H�F!I��H��J�< �   H+�H��L;�rb���t$D�]I��  I��  vI��3�H+�H���I��H��H�F!�t$DH�H��J�< L�q�L��   L;�rM;�@��F��t$D��t$DM;���  N��=`  I;�tI+�3�H��I��  H��H�T$XJ��=`  I��  J�D<`�D$H��J�|=`�D$H;C8�S���H�E`H��H�D$8L��`  H��`  H�D$0L�D$`H�D$`H�D$(H��`  H�E`H�D$ �  ��yA�&  ��  D8l$@u	@���  H���٩����yH��- A��&  H�D$8H�$�$ ��  A��H�\$H@85��$ u@85��$ ��  L�|$XH�=# L�d$PL�ϋK8L��I��L�d$ �r���L��H��uPH��, A�%  H�D$8L��, H��$ H�C$ H�D$03�H��$ H�D$(H���$ H�D$ �/m �3  H�D$H@�t$AH�D$0A�H�D$@@�t$@H�D$(M��H�D$A�   H��H�D$ 菃����yUH�4, A�-%  H�D$8H���$ H�D$0L��+ H���$ H��# H�D$(3�H�"�$ H�D$ �l ������   @8t$@t}H�L$H�A8��t>L+�L��h  L+�D�� I�?H�I�@�M�@ H�G�I�@�I�@�I�D<�I�@�I��u�L��`  �   �  ��yH��+ A�A%  H�D$8H�7�$ �@���@8t$A�  I���_������  H�`* A��&  H�D$8H���$ ��   H���Q� ����  H��* A��&  H�D$8H�ط$ �   H���#� ����  H�T* A��%  H�D$8H���$ �   H��$ �Ѹ H��h  H����   H��# A�v%  H�D$8H�0�$ H�D$0L��* H��$ H�" H�D$(3�H���$ H�D$ �k A��%  H��* H�D$8H�}�$ H�D$0L��* H���$ H��! H�D$(3�H�M�$ H�D$ ��j A�������  �   H�=4  H��`  E��ǀ
  ����D9k8�&  fD  H��h  E��A��H��N���`  N�T�`L�\J��H��h  H�D
J��H��h  H�D
H��h  L�T H��h  L��  J��H��h  H��
  J��H��h  H��
  I�I!H��h  H��L�I��J��H��`  H��H��`  H��h  N���  J��H���t(I���t"H�A�H��H��h  H��I�I�J���	  �!H��h  D��
  H��h  JǄ�	  ����A��D;C8�����H��h  D9�
  |PA��H��
  9S8v6�L��h  A;�
  t��H��H�L�`I��
  H��I��
  ��;S8r�Hǃ`  ����H��h  H�r �   H��h  L��
  H�CPH��$�  L��$p  A��H��`  H3��XE H��x  A_A^A]^[]��������H�\$H�t$ UATAVH��H��0�=��$  I��L�eHM��H��I�$H�EHu�=b�$  ��  H�|$PH�y8H����  L�|$XD�}@ H� t9H�L�KH��M��H�GH��I��H�EHH�OH�D$(D�|$ �i���H�EH�C  A����  A���K  A���%  3�H��tVfff�     H��H�H���HH���HH���HH���HH���HH���HH���HH�EHH��H�EHH;�r�H�3҈H���HH���HH���HH���HH���HH���HH���HH�EHH��H�EHH��tW@ �     I��H�H���HH���HH���HH���HH���HH���HH���HH�EHH��H�EHH;�r�H�O�H���HH���HH���HH���HH���HH���HH���HH�EHH����  H��tZH�VL��D  �J�H�R�H�MH�B�H��H�MH�H�MH�B�H��H�MH�H�MH�B�H��H�MH�H�EHH��H�EHI��u���H�MHH��H�MH�G�H�MHH��H�MH�G�H�MHH��H�MH�G�H�MHH��H�MHH��tXI�VL�� �B�H�R�H�MH�B�H��H�MH�H�MH�B�H��H�MH�H�MH�B�H��H�MH�H�MHH��H�MHI��u��G�H�MHH��H�MH�G	�H�MHH��H�MH�G
�H�MHH��H�MH�G�   3�H��t+�ֈH�MH�D�H��H�MHH�H�EHH��H�EHH;�r��3҈H�MHH��H�MH�G�H�MHH��H�MHH��t-A�ֈH�MHA�D�H��H�MHH�H�MHH��H�MHH;�r��G�H�MHH��H�MH�G	�H�EHH��H�EHH�H���p���L�|$XH�|$PI�$H�\$`H�t$hH��0A^A\]���������������H�l$ VWAVH�� 3�D��@8=��$ I��H��u@8=U�$ t��H�l$XH�� A^_^�L�d$HM��M�L�|$PJ9t�uI�FH�H���WH�\$@H�Y8H9{t# H�KL��A������H�[H�H��u�� H�[H��H��u�H�\$@I�FH�J�t�H�|� H��L�d$HL�|$PH�l$XH�� A^_^���̀=��$  u�=��$  t3��L��$ 3�I�@H��$ �   ��@UVAVAWH��(3�D��@85��$ M��H��u@85W�$ t��H��(A_A^^]�L�d$`M��M�L�l$ N9t�uI�GH�H���~H�\$PH�Y8H9su �     H�CH��H+H�[H�H��u��6H�|$X H�{M��H+;A��H�KH���W���H�[H��H�H��u�H�|$XH�\$PI�GH�N�t�H�t� H��L�d$`L�l$ H��(A_A^^]�����@UAVAWH��`  H�t�$ H3�H��$@  �=��$  L��E��H��u�=U�$  t��  H��$�  H�L$ H��$X  3�A�   H��$P  �\ L�]83�M�V8M��H��$   I��H��$(  @�H��$0  H��$8  E���+  H�T$ M�ϐH�I�H;�t	H+�H�@2�I�@H��tL�@8H�CH�X8H��I��u�@����   A�O�Hc���x$H9|� u
��H��y��Hc�Ƅ   H��$   �=��$  �u�=`�$  ��   H�EH�\$ H�I�FH�H;�   H�EH�I�FH�H;ulM��t^M��tbI�H�I;
uVI�CH�I;JuHI�KH��uI9Jt&I�R@��t�-����L��$!  L�D$(�i   ��tM�[M�R�M��u��2��I��H������H��$X  H��$�  H��$P  H��$@  H3��+= H��`  A_A^]���������������H�\$H�l$H�t$WH�� �=}�$  I��I��H��u�=@�$  ��   H�AM� H�H�CI�H;��   H�AH�H�CI�H;usH�y8H�[8H��t]H��taH�H�H�H;uRH�GH�H;KuDH�OH��uH9Kt"�}  H�St�����L�ML�F�D�����tH�H�[�H��u��2�H�\$0H�l$8H�t$@H�� _�������@SVH��h  H�g�$ H3�H��$@  �=��$  I���T$ H��u�=E�$  ��  �ȩ������  H��h  �:��  H��
  H�x8 ��  H��$�  H�L$@L��$�  H��  A�   L��$X  @2��P E3�E��D9s8��  H��$�  H������L��$`  H�nL��$P  L�l$@L�|$HH�l$0L+�L+�H+�H��H�T$(N�T)�L�A�M;�u"H�A�I9D�uH�J9)uH�AI9��  @���D  M�\�H�A�L;�tJ�<)v
H�9�%  J�<)H��uH99vI�D�L��M;�sH�
M��H�4(I��H�QH���$H�AH��H�9M��I�M��J�<)I��N�D)�I�H����   H;���   M�O�M;�vK9|$ u$J�
I;�rI+�I�I��)  I��I��  L;�uI�T�I��I+�J�)   I���  uI�I���  L;�uOL+�J�)   M�L���  I9u43�I��I��I��L��3�I��I;�uI���|$ J���  L;���  H��h  �    H��$�  L��$`  L��$P  H��h  L��$�  H��$�  �8�  D9s8�  f�H��h  I�V!H��E��I��J�D@I��  H��h  J��  J�DH��h  J�DHI��  H��h  J��  J�DH��h  J�DPI��  H��h  J��  J�DH��h  J�DXH�
H��h  H�
I�D H��h  J�L@J;��  sJ���  J�LPJ�T@H��J�LHH��h  H��JLXH�J;��  vJ���	  A��D;s8�����L��$X  3�H��$@  H3��=8 H��h  ^[�L;��y���M+�3�I��I��H�J�)H�T$(@�H�l$0A��H�� D;c8������Q���H��h  �    3������@SVWH��`  H�&�$ H3�H��$P  �=D�$  I����H�L$@H��u�=�$  ��  H��h  H��
   u^������yUH�� A�*  H�D$8H�5�$ H�D$0H���$ H�D$(H�=�$ H�D$ L�A 3�H�� �Z ������"  H��h  ǀ
  ����L��h  I��
   ��   �G8��tOI��  D��E3��    I�@�M�@ J��P  M�II�@�J��H  I�@�J��H  I�@�J�DHI��u�H�D$P��H�D$(L��$P  H��$P  H��L��$P  H�D$ ��  ��yoH�� A�*  H�D$8H�7�$ �����L�L$@L�ǋ�H���v����y;H�ͥ$ H�N H�D$8A�"*  H�L$0H�g�$ H�L$(H��$ H�L$ �����3�H��$P  H3���5 H��`  _^[�����H�\$ATAVAWH��@�=b�$  M��M��L��H��u�="�$  ��  �F  ��y`H��
 A�r%  H�D$8H�ݢ$ H�D$0L�� H�ʠ$ H�� H�D$(3�H�]�$ H�D$ ��X �����H�\$pH��@A_A^A\�H�Wt$ �� H��h  H��uH�� A�v%  H�D$8H�}�$ �L��$�   E3�L��$�   Hǃ`     ǀ
  ����D9C8�W  H�t$`H��$�   H�|$hH��$�   �    K��H��h  A��H��H�DK��H��h  H�DK��H��h  H�DJ��H��h  H�D K��H��h  H��  J��H��h  H��  K��H��h  H��  I�P!K��H��h  H��H�
K��K��H��`  H��H��h  H��`  K��J���  K�<��t2J�<��t+K��K��H��J��H��K�H�H��h  J���	  �!H��h  D��
  H��h  JǄ�	  ����A��D;C8�����H�|$hH�t$`H��h  ��
   |W3�Hǀ
     9S8v:�     L��h  A;�
  tI��I��I��
  H��I��
  ��;S8r�Hǃ`  ����H��h  �    H��h  Hǀ
      H��	 H�CP3�H�\$pH��@A_A^A\��������@UVWATAUAVH��  H�0�$ H3�H��$p  L��$   H��H��$�  3�@8=9�$ I��L��$�  M��H�L$H��H�D$@�T$PL�t$X��   @8=��$ �q  ���$ ������y\H�lu @�=��$ H�D$8L�� H��$ H�� H�D$0A�A(  H�!�$ 3�H�D$(H��$ H�D$ �U ������  @8=��$ u@8=\�$ ��  H�D$@H��H��$�  L��$�  D��L�=�
 I��HE�H�D$HH��LE��F8��t>M��L��L+�I��M+�I�N�I��vH�H9rT�F8M��tvH99tqA��H��D;�r�H�FP�8��  H��h  H��
  H���  H�QH�IH�L$HH�T$@�  H�� A�W(  H�D$8H��$ H�D$0H��$ ��  ����   ��t:~����   ��t*H�= A�t(  H�D$8H���$ H�D$0H�ǜ$ �  A�H��A�������I�H��uH��� A�a(  �L  H���� ���  H�� A�c(  H�D$8H��$ �*  A�3�H������I�H���H  H�S� A�k(  ��  H��  H	  H�D$HH�L$@�F8����   H�L$pM��L+�H�T$pH�L$pM��L+�L��H��D��H+�H�T$pH�L$`I��H�l$`H+�L��@ fff�     H�L$pI�I�
I�H��H�H�)H��IH�J��p  I��I��u�L�t$X�l$PH�L$@H��$p  H9wH�D$HH� H9D$p��  A�H��A������I�H��uH�U� A��(  H�D$8H���$ ��  H��h  H9�
  t!H��h  H��
  �	I�H��h  H��
  �̓��@  ���	  ���.  ��tz��t*H�/ A��(  H�D$8H���$ H�D$0H���$ �  I�M��L�|$8L��L�d$0I��H�\$(L�|$ �������}  H�( A��(  H�D$8H�n�$ �(  H��h  H��
  H��t@�V8�n���I�H��h  H��
  H���*  H�5� A��(  H�D$8H���$ ��  I��� ����  H�? A��(  H�D$8H���$ �  I���� ����  H� A��(  H�D$8H�g�$ �y  �N8M��L��L�|$ I������H�D$XH��uH�# A��(  H�D$8H���$ �;  H��h  H��
  H��t�V8聈��I�H��h  H��
  H�T$XI��cq����yH�` A��(  H�D$8H�^�$ ��   I��A8��tGL+�L��$x  L+�D��L+� J�+H�[I�@�M�@ H�C�I�@�J�D#�I�@�I�D�I�@�I��u�L��$p  ����������   H�� A��(  H�D$8H�@�$ �]A�H��A������I�H��uH��� A��(  �+L�|$(L��M��L�d$ ��H���  ��yPH�� A��(  H�D$8H�!�$ H�D$0H���$ H�D$(L�� H��$ H�� 3�H�D$ �O �����H��$�  L��$�  ��H��$p  H3���+ H�Ę  A^A]A\_^]��������@UWAVH��@�=X�$  M����H����   �=�$  ��  �6�$ �������y`H��n ��$  H�D$8A��  H�U�$ H�D$0H�i�$ H�D$(H�U�$ H�D$ L��
 3�H�� ��N �����H��@A^_]À=��$  u�=��$  ��  H��h  H����  ��H�t$h裵��H��H��u^H�� A��  H�D$8L�
 H�C�$ H�D H�D$03�H��$ H�D$(H���$ H�D$ �0N H�t$h�����H��@A^_]�H�HI��H�\$`H��H��L���"? H�NL��I���? I���   ������H�\$`H�F8H��uH�V	 A��  �)H�Wi$ H�F@�� H��h  H��uXH�{	 A��  H�D$8L�I	 H�r�$ H�s H�D$03�H�E�$ H�D$(H��$ H�D$ �_M H��跈���"���H��
  H��  H�t$hH�GPH��h  �    H��h  ǀ
  ����3�HǇ`     H��@A^_]��D$x����L�L$xH��
  M�Ƌ��Yn����y;H���$ H� H�D$8A�  H�L$0H���$ H�L$(H�,�$ H�L$ �����H��`  3�H��@A^_]���������@SVWATH��h  H�d�$ H3�H��$P  H��3��}�$ H�ڄ���   @85@�$ �  �^�$ �!�����y\H��k @�5G�$ H�D$8L�K H�|�$ H� H�D$0A�@.  H���$ 3�H�D$(H�m�$ H�D$ ��K ������  ���$ ��u���$ ���{  ����$ H��$�  L��$�  L��$�  L��h  L��$`  Mc�
  I��M��H��I�L��  L��  L��  ��u��uaH��   L;�rH���u	H��   �FH��  �=H���tI;�tI��3�I+�H��H�I��H��  �H��I+�H��   Hǅ     H��h  ǀ
  ����H��   H���  H��  H���  I��
  H��I��uMH��`  �   A����?  H��  I�E!H��H��H��  H��J0H�  K���	  �
  H��H��H��`  H��  H+�  H��H��  H�   H;�v�3�H�L$PA�   �D ��9W8v%I������ A;׋�H��IE���H���P  ;W8r�I9�
  u*H��������yH�) A��.  H�D$8H�7�$ �/  A�   D��@85��$ H�|$Hu@85��$ ��  �O8H��$P  H�D$ H�T$PH�� L��L���v���L��H��uPH�� A�%  H�D$8L�� H��$ H�G  H�D$03�H��$ H�D$(H���$ H�D$ �3I �C  H�D$H@�t$AH�D$0�   H�D$@@�t$@H�D$(A�H�D$AM�ċ�H�D$ H���_����yVH�6 A�-%  H�D$8H���$ H�D$0L�  H���$ H��� H�D$(3�H�$�$ H�D$ �H A������   @8t$@��   H�L$H�A8��tPL��$X  L�΋�L��� @ �     J�DPM�II�@�M�@ K�D�I�@�I�@�J��H  I�@�H��u�L��$P  ��������yH�� A�A%  H�D$8H�$�$ �+���@8t$Au(I���P���E��yH�T A��.  H�D$8H���$ �-A�����H���@� ��yPH�u A�\.  H�D$8H�s�$ H�D$0L�� H�`�$ H�y� H�D$(3�H��$ H�D$ �qG �����L��$�  L��$�  H��$�  L��$`  ��H��$P  H3���# H��h  A\_^[��������������H�\$WH��@�='�$  H��H����   �=�$  ��   ��$ �������ybH�wf ���$  H�D$8A��  H�&�$ H�D$0H�:�$ H�D$(L�f H��$ H��� 3�H�D$ �F �����H�\$PH��@_À=��$  u	�=a�$  uJH��H���GD����y'H�� A��  H�D$8H�ʏ$ H�D$0H��$ �D�C8H�K`I��H���H7 3�H�\$PH��@_������������H�\$H�l$H�t$WH��@3�A��8�$ H��H��u~8Ͼ$ ua���$ ������yVH�ae ���$ H�D$8L� H��$ H��� H�D$0A�/  H��$ 3�H�D$(H��$ H�D$ �E H���A8��$ u8Y�$ u�H�GP9tH��h  3�H��`  H��
  H��D��H��H���ɂ��H�\$PH�l$XH�t$`H��@_�����H�\$H�l$H�t$H�|$ AVH��@D��$ 3�A��I��H��L��E����   8ͽ$ ua��$ ������yYH�_d �ٿ$ H�D$8L�5
 H��$ H��� H�D$0A�@/  H��$ 3�H�D$(H���$ H�D$ �}D H����   D���$ E��uD�M�$ E��tH����   D�8�$ H��h  Hc�
  H��H��  L��   H��  L��  E��uE��uEL;�rI���H��IE�HE�L���,I���tL;�t3�H��I+�H��H�H��H���L�Ǻ   M+�M��t4H��t/I��H��t&H��H��H��H��I+�J�H;�vH+�I+�I+�H�D��H��I������H�\$PH�l$XH�t$`H�|$hH��@A^��������H�\$H�t$WH��@�=b�$  I��H��H����   �=!�$  ub�C�$ ������ydH��b �,�$  H�D$8L�0	 H�a�$ H��� H�D$0A��/  H�h�$ 3�H�D$(H�R�$ H�D$ ��B 3�H�\$PH�t$XH��@_À=Ͻ$  u	�=��$  u�H��h  Lc�
  I��M��  L;�s�I��  H��I+�   3�I+�H�H��H��tH��I+�H;����H�\$PH�t$XH��@_������������H�\$WH��P  H��$ H3�H��$@  �=2�$  H��H����   �=��$  ub��$ �������yYH��a ���$  H�D$8A��/  H�5�$ H�D$0H�I�$ H�D$(H�5�$ H�D$ L�Q 3�H��� �A 3���  �=��$  u	�=y�$  u�D�_8E3�H��h  E��tkD��
  H��  3��    E;�uH�AA�   H��H�L�IH�H��@  A��L��@  H�AH��@  H�AH�� H�D@H��E;�r��   ����H��H��u*H�� A��/  H�D$8H�Q�$ H�D$0H���$ ����A�H��H���r�����yH�� A��/  H�D$8H���$ �RH�D$@3�H�D$(L��$@  H��$@  H��L��$@  H�D$ �B  ����   H�s A��/  H�D$8H���$ H�D$0L�� H��$ H�'� H�D$(3�H���$ H�D$ �@ H���������l���H��� A��/  H�L$8H�f�$ H�L$0H���$ H�L$(H�V�$ H�L$ ����H��H��$@  H3��Q H��$h  H��P  _�H�\$H�t$WH��@3�H��8��$ H����   8t�$ �0  ���$ �U�����yfH�_ �|�$ H�D$8A��  H���$ H�D$0H�Ɔ$ H�D$(L��� H���$ H�� 3�H�D$ � ? �����H�\$PH�t$XH��@_�8�$ u8�$ ��   H�GP�8��   8_X��   9_8v)@ �     H�D�`H��H�D�`H��H�D�`��;_8r�H�W`H���<����y*H�<� A��  H�D$8H�
�$ H�D$0H�N�$ �3���D�G8H�O`I��3��H8 �   H�\$PH�t$XH��@_Ë�H�\$PH�t$XH��@_����������������@SUVWAUAVAWH��p  H���$ H3�H��$`  H��$�  3�8�$ I��L��$�  H��L�D$HD�s�Lc���   8ö$ ��  ��$ ������yYH�Q] �˸$ H�D$8L��� H� �$ H��� H�D$0A��&  H��$ 3�H�D$(H��$ H�D$ �o= A���|  8y�$ u8F�$ �h  D�N8H��L��$�  ��L�%�� M��LE�H��I��L�T$XHE�E��tX��H��    N�)I��v
H�I9
raM����   H�H����   I���tH���uE���~   L;�tOD����A;�r�M;���   I;���   M��L�d$@I��L�l$P�l  H��� A��&  H�D$8H� �$ �Y  H�$� A��&  H�D$8H�ʈ$ H�D$0H�.�$ �;  H��� A��&  H�D$8H���$ H�D$0H��$ �  A��wNH�b���B����6 H���H���� ���  H��� A��&  H�D$8H��$ H�D$0H���$ �  A��&  �  L��$`  D��L�\$@H��$`  H�l$PL�d$`E��ttA�    A��M��H��    H�L;�u"J�)H���tL�\`L��`  I;�t!H���J�)I;�MD�L��`  H�D`H��A��H��`  D;F8r�L�\$@H�FP�8��   H��h  Hc�
  ����   E����   E��x*H��� A�'  H�D$8H�K�$ H�D$0H���$ �  A��t0A��t*H��� A�'  H�D$8H��$ H�D$0H�y�$ �  I��L�D$HH��I��I�HT� H���������y*H��� A�$'  H�D$8H�}�$ H�D$0H�)�$ �6  H�NP�����  ���w  ����   ���j  A����   H�Z���B���7 H���H�F@L��� H�D$(L�v� 3�L�L$ H��������yoH��� A�d'  H�D$8H���$ H�D$0H���$ �  H���1� ����  H�b� A�k'  H�D$8H���$ H�D$0H�T�$ �a  A�s'  �7  E����  A�G�����  E���c  H�|$PIc�L�4�    H��h  K�,&I�<>9�
  |*H�� A��'  H�D$8H�u�$ H�D$0H�ـ$ ��  A�G������t*H�r� A��'  H�D$8H�@�$ H�D$0H���$ �  L��$`  H��H��$`  �-����y*H�4� A��'  H�D$8H��$ H�D$0H�^�$ �k  J��4`  L�l$@H��8��$ L�L$HO�.K�u8K�$ uEH;�rH���H��HE�HE�H���,H���tI;�tI��H+�3�H��H�I��H���H���   H+�H��� L;�tJ�l4`H�l$PH;�tJ��4`  �
L�l$@L�L$H�V8A��˅�t��I�<�u��;�r��E2�A��uQE��tLH��h  D98u@L��I��H���3�������  H�D� A��'  H�D$8H�ڀ$ H�D$0H�F$ �S  H��h  H9�
  u6H���Is����y*H�V� A��'  H�D$8H���$ H�D$0H� $ �  L�D$HH��� H�l$(M��A��H�FPH��L�d$ �U�����  H�d� A��'  H�D$8H���$ H�D$0H��~$ �   A��'  �   E��t%A��'  �y   A��wmH�����B���,7 H���H�D$@M��L�D$XH��H�T$HH�l$8L�d$0H�D$(H�|$ ������ywH�� A��'  H�D$8H��$ H�D$0H�~$ �%A�A'  H�� H�D$8H���$ H�D$0H��~$ H�D$(L�B� H��}$ H��� 3�H�D$ ��5 �����L��$�  ��H��$`  H3��i H��p  A_A^A]_^][� �0 �6 �0 �6 �6 �0 $6 �6 $6 �2 �2 3 $6 $6 �6 $6 �6 $6 �����������̀=��$  u�=M�$  t������H�APH�`8H��`  ���������H�\$WH��@�=G�$  H��H����   �=	�$  ��   �'�$ �������ybH��T ��$  H�D$8A�  H�F~$ H�D$0H�Z|$ H�D$(L��� H�?|$ H��� 3�H�D$ �4 �����H�\$PH��@_À=��$  u	�=��$  ukH�CPL�@PM��u'H��� A�
  H�D$8H�̀$ H�D$0H�0|$ �H��H��A�Ѕ�y*H��� A�  H�D$8H�X�$ H�D$0H��{$ �M���3�H�\$PH��@_����������̀=!�$  u�=�$  t������H�APH�`@�=�$  u�=ͬ$  t������H�AP� �̀=�$  u�=��$  t������H�APH�`H@SH��@�=��$  H����   �=��$  ��   ���$ �a�����y]H�S ���$  H�D$8A�W  H��|$ H�D$0H��z$ H�D$(L�E H��z$ H�7� 3�H�D$ �+3 �����H��@[À=1�$  u	�=��$  uCH�H���P@��y'H�� A�_  H�D$8H�X|$ H�D$0H��z$ �H��H��N$ �[ 3�H��@[���̀=ѭ$  u�=��$  t3��H�APH���   �=��$  u�=}�$  t3��H�APH���   @UVATAUAVH��  H�Q�$ H3�H��$`  L��$�  3�@8-e�$ M��E��H��H�T$PH�l$@��   @8-�$ �M  �8�$ �������y\H��Q @�-!�$ H�D$8L��� H�V{$ H��� H�D$0A��  H�]y$ 3�H�D$(H�Gy$ H�D$ ��1 �������  @8-̬$ u@8-��$ ��  L��$`  L��$p  H��$`  H���5���D����yUH�� A��  H�D$8L�M� H��z$ H�W� H�D$03�H�y$ H�D$(H��x$ H�D$ �31 ������G  H��$�  H��$x  E����   H��`  H��yH�5� A��  H�D$8H�cz$ �|  3�����H��H��uH�0� A��  �O  H��u,H�FPH�T$@H�����   ����  H�&� A��  �  H���� ���d  H�,� A��  H�D$8H�:z$ �m  H��$`  E;�vxA��H�D$H   A+�H�T$HD��A�   ���ԯ D��H�T$HA�   H�L$`輯 I��H�<�    H��H��$`  L��H��$`  H��! H�L$`H�H��$`  �8A��H��$`  A+�I��H��L��H�<�    H���  H��$`  H�H�L$`L����  L�D$`A��H��$`  �{���H��H��uUH��� A�4	  H�D$8H��y$ H�D$0L�F� H�'w$ H�P� H�D$(3�H��v$ H�D$ �8/ ������<  H�FPL�D$@H��H�����   ����   H��� A�?	  H�D$8H�xx$ H�D$0L��� H��v$ H��� H�D$(3�H�Hv$ H�D$ ��. H�˽�����Y�������   H��� A�y	  H�D$8L��� H�x$ H��� H�D$03�H�Lv$ H�D$(H��u$ H�D$ �f. �r�~(u?@8nXt9H�K`E;�vL��3��'( H�K`A��H��H�A��D��H�V`I���C �CXH�D$PH�M��t E;�sH�D$@H��$�  I�I�E �M�e H��$x  H��$�  L��$p  ��H��$`  H3��X
 H�Ā  A^A]A\^]���������H�l$H�t$WH��@�=��$  A��H��H����   �=p�$  ub���$ �U�����ygH�M �{�$  H�D$8L��� H��v$ H�I� H�D$0A��   H��t$ 3�H�D$(H��t$ H�D$ �- �����H�l$XH�t$`H��@_À=�$  u	�=�$  u�H�GPH�\$PH�_PH����   H���P��yH�Av$ H�"� H�\$8L�f� H�D$0H��� H�{t$ A�  H�D$(3�H�t$ H�D$ �, H��u$ A��   H�\$8H�D$0H�?t$ H�D$(H��s$ H�D$ �   H�FP�   H���    H���   C�H�K�@�C�H�K�@�C�H�K�@�C�H�K�H��u� D��H��H��HKH�FP�P��yPH��t$ H�D� H�D$8A��   H�L$0H��s$ H�L$(H�!s$ H�L$ L��� 3�H��� �+ �����H�\$PH�l$XH�t$`H��@_������H�\$WH��@�=w�$  H��H��uu�==�$  �6  �[�$ ������yBH��J �D�$  H�D$8A�  H�zt$ H�D$0H��r$ H�D$(H�zr$ H�D$ ��   �=	�$  u�=գ$  ��   H��H�HH�����H��H�����H��H�����H�AH�t9��t&��t��u:H��H����� �(H��H���� �H��H����� �H��H���C� ��yPH�hu$ H�)� H�D$8A�8  H�L$0H�
r$ H�L$(H��q$ H�L$ L��� 3�H�� �* �����H�\$PH��@_�����L�L$ H�L$UAVAWH��   3�M��@8-��$ L����   @8-��$ ��   �٤$ 蜹����ybH�II @�-¤$ H�D$8L��� H��r$ H��� H�D$0A��	  H��p$ 3�H�D$(H��p$ H�D$ �f) �E�H�Đ   A_A^]�@8-g�$ u@8-3�$ t��H�Đ   A_A^]�H�VE$ L�l$p�v H�D$PL��H��uaH�� A��	  H�D$8L��� H��q$ H��� H�D$03�H��p$ H�D$(H�Np$ H�D$ ��( A�E�L�l$pH�Đ   A_A^]�E3�M��I��H���  ��yH��� A��	  H�D$8H��q$ ��  M��`  M��yUH��� A��	  H�D$8L�V� H�wt$ H�P� H�D$03�H�p$ H�D$(H��o$ H�D$ �,( ������9  �   H��$�   H��$ �x H�D$XH��H��uSH�u� A��	  H�D$8L��� H��p$ H��� H�D$03�H��o$ H�D$(H�3o$ H�D$ �' �n��  �   L�d$xH���$ �w H�D$HL��H��uUH�gp$ H� � H�D$8L�d� H�L$0H�`� H�)o$ A��	  H�L$(H��n$ H�L$ 3��;' A�l$��  M���  H��$�   H��$�   �     I�E H�L$`H�t$0L�L$@L�d$(M��H�L$ �   I���P8��xhH��H9l$@vQL��$�   I��I+�L��$�   �H�3�H�M��I��I�I��L���C� H��H�[H;|$@r�L�d$HL�l$PH�t$XL+t$`�k����PH�B� A��	  H�D$8L�X� H��r$ H�R� H�D$03�H��m$ H�D$(H��m$ H�D$ �.& �����H��$�   H��$�   H��H��$ ��u M��tI��H��$ ��u L�d$xH��$�   I�E I���P@��yPH�� A��	  H�D$8H�2o$ H�D$0L��� H�m$ H��� H�D$(3�H�m$ H�D$ �% �����I��H��A$ �r L�l$p��H�Đ   A_A^]���������@SVWH��P  H�6�$ H3�H��$@  �=T�$  I��H��H��uf�=�$  uS�9�$ �������y1H��D �"�$  H�D$8A�  H�Xn$ H�D$0H�ll$ ��   �=��$  u�=ĝ$  t
�   �  H�CP�8 ��   L��$@  H��H�T$@�P8��yH�0� A�%  H�D$8H�n$ �   D�K8E3�E��tPH�D$@L��L+�L��H�D$@L+�3�D  H�T$@H�I�H9��   H��@  I9��   A��H��E;�r�H�CPL��H��H���Px��yPH��� A�0  H�D$8H�@p$ H�D$0H��k$ H�D$(L�X� H�Yk$ H��� 3�H�D$ ��# �����H��$@  H3��I  H��P  _^[�3������������̀=��$  u�=}�$  t������H�APH�`h�=��$  u�=]�$  t������H�APH�``�=q�$  u�==�$  t������H�H�`�H��H�=M�$  u	�=�$  uwH��$�   L�H�D$0H�D$xH�D$(H�D$pH�D$ A�R8��yPH��� A��  H�L$8L��� H�Vl$ H��� H�L$0H��j$ H�L$(H�7j$ H�L$ 3��" �����H��H����������H�\$H�l$H�t$WH�� �=��$  A��I��H��H��u�=]�$  t������b�B8�A��t-D�B8H��H�R@I���h D�C8H�S`I��H��  �P H��  H��H��`  H��H��  ��   H�CP���   H�\$0H�l$8H�t$@H�� _�H�\$WH�� �=��$  H��H��u�=��$  t�����H�\$0H�� _�H��P(H)�  H�\$0H�� _������̀=��$  u�=}�$  t������H�H�`@�@SUVWAUH���  H�S�$ H3�H��$�  L��$   3�8h�$ I��I��H��$�   H��H�L$x��   8�$ uy�=�$ � �����yYH��@ �'�$ H�D$8L��� H�\j$ H��� H�D$0A��  H�ch$ 3�H�D$(H�Mh$ H�D$ ��  �C��|  8՛$ u8��$ t3��e  H��L��$�  ����L��H��uTH�}� A��  H�D$8L�S� H�Tm$ H�m� H�D$03�H��h$ H�D$(H��g$ H�D$ �I  A�G���  H�a<$ L��$�  �m H�D$@L��H��uUH� � A��  H�D$8L��� H��h$ H��� H�D$03�H��g$ H�D$(H�Vg$ H�D$ �� A�D$��s  E3�M��H��H��������yH��� A��  H�D$8H��h$ ��  H��`  H�l$HH��yUH��� A�  H�D$8L�E� H��k$ H�_� H�D$03�H�!g$ H�D$(H��f$ H�D$ �; ������k  L��$�  Lcw8E��tH�W@H��$�   E��I���( A��H��y$ �   L��Ġ   ��n H�D$PH��H��uSH�X� A�  H�D$8L��� H��g$ H��� H�D$03�H�zf$ H�D$(H�f$ H�D$ � �_��  �   H��y$ �n H�D$XH��H��u;H�Og$ H�� H�D$8A�  H�L$0H�f$ H�L$(H��e$ H�L$ �  H���-  ���%  I�$L�L$`H�|$0L��H�L$(�   H��$�   H�L$ I���P8����  H�D$`3�H�T$hH���F  L�D$XH��L+�H�L$pL��$�   ���  L�!I�,M����   H�|$xH�����   E��H��E��x(J��    @ 3�H���   A��H���  H�I�y���t����   H��$�   �H�VL��$�  L�l$ E��H���V�؅�yKH�4� A�O  H�D$8L��� H�;i$ H�� H�D$03�H��d$ H�D$(H�bd$ H�D$ �� I�I�M+��2���H�D$`H�L$pH�T$hL��$�   H��H��H�T$hH�L$pH;������H�|$PL�d$@H�l$HH+�$�   H�l$H��   H�L$X�J���H�e� A�J  H�D$8H��h$ H�D$0H�d$ �%H�� A�   H�D$8H��h$ H�D$0H��c$ H�D$(H��c$ H�D$ L��� 3�H�� � �����H�T$PH��v$ ��k H�D$XH��tH��H��v$ �k L�d$@L��$�  I�$I���P@��yPH��� A�i  H�D$8H�e$ H�D$0L�k� H�\c$ H��� H�D$(3�H��b$ H�D$ �m �����I��H��7$ ��g ��L��$�  L��$�  H��$�  H3���� H���  A]_^][����������@SUVWAUAVAWH��  H��$ H3�H��$`  3�I��8	�$ M��H�\$PH��L��H�D$H���D$@��D����   8��$ ��  �ҕ$ 蕪����y]H�B: @�5��$ H�D$8A�
  H��c$ H�D$0H�b$ H�D$(L��� H��a$ H�k� 3�H�D$ �_ A������e  @85e�$ u@851�$ �m  H�_6$ �f H��H��u*H�+� A�"
  H�D$8H��b$ H�D$0H��a$ �{���H�!6$ ��e H��H��u*H��� A�$
  H�D$8H��b$ H�D$0H��a$ �=����   L��$x  �`���L��H��uH�a� A�(
  H�D$8H��c$ �[  A�H��I���,�����yH�Y� A�*
  H�D$8H�Ob$ �  I�EP���u4E3�H��I���������~  H�Z� A�1
  H�D$8H�b$ �a  M9�`  �+  M9�`  �  L9�`  �  D9u(��   I�GPL�D$`H��$`  I���P8��yH�� A�O
  H�D$8H�.b$ ��  L�D$`I��H��$`  �<�����yH�� A�U
  H�D$8H��d$ ��  I��t-��~� ����  H��� A�Z
  H�D$8H��a$ �  �ã ����  A�]
  �c  ����   �ҫ��H�D$HH��u;H��b$ H��� H�D$8A�l
  H�L$0H��_$ H�L$(H�__$ H�L$ �@  E3�I��H��������yH��� A�p
  H�D$8H��`$ ��  I��h  H��   H��t(ff�     A�U8L�CH�L$H�.�����xgH�H��u�L�l$HH�\$PI�GP�8tjH�EP�8ta��$�  M��M�ňD$ H��I���������v  H��� A��
  H�D$8H�0c$ �Y  H�� A�y
  H�D$8H�"c$ �;  I���m� ��yA��
  �  A�   I��H��E�A��)�����yH�� A��
  H�D$8H�`$ ��  A�   �D$@H��H��E�A��������yH�� A��
  H�D$8H��_$ �  @��     H�H�T$`H���P���  L�D$`I��H�T$`���������   t0H�H�T$`H���P����   �   L�L$`I��D�B�������xSH��   H���P(����   H��  �   H�H���P(��xNH��  L9�  �[���L�#�\$@���  H��� A��
  H�D$8H��a$ �yH�i� A��
  �^H��� A��
  H�D$8H��a$ �OH��� A��
  H�D$8H�}a$ �4H��� A��
  H�D$8H�ra$ �H��� A��
  H�D$8H��^$ H�D$0L�� H��\$ H��� H�D$(3�H�g\$ H�D$ �� �^I���[� ������A�9
  H��� H�D$8H��^$ H�D$0H�~\$ H�D$(H�\$ H�D$ L��� 3�H��� � @2�I��A�����������yKH�L� A��
  H�D$8L�b� H��]$ H�L� H�D$03�H�\$ H�D$(H��[$ H�D$ �( �\$@H�D$HH��t]H��豠����yQH��� A��
  H�D$8L��� H�]]$ H��� H�D$03�H��[$ H�D$(H�D[$ H�D$ �� A�������t^H�H���P@��yQH��� A��
  H�D$8L��� H��\$ H��� H�D$03�H�F[$ H�D$(H��Z$ H�D$ �` A�����@��t^H�H���P@��yQH�a� A��
  H�D$8H��\$ H�D$0L�+� H��Z$ H�� H�D$(3�H�Z$ H�D$ �� A�����L��$x  H��H�/$ �p_ H��H��.$ �a_ A��H��$`  H3��N� H�Ā  A_A^A]_^][�������������H��H�=��$  u	�=y�$  ueH�APH��t\�P��yWH��� A�  H�D$8L�	� H��[$ H�S� H�D$03�H�Z$ H�D$(H��Y$ H�D$ �/ �����H��H�3�H��H��������������̀=!�$  u�=�$  tH�������H�APH�` �������������̀=�$  u�=��$  t3��H�APH�`(���@USVWH��$����H��x  H���$ H3�H��P  �=��$  H��H���D$A �   ��   �=d�$  �<  ���$ �F�����y\H��0 �l�$  H�D$8L��� H��Z$ H�:� H�D$0A��  H��X$ 3�H�D$(H��X$ H�D$ � �������  �=�$  u�=�$  ��  H��`  H9�`  t3��  �O8����  �F8����  L��$�  ;�L��$p  L��$h  L��LB�L��$`  HB�I�FPL�OPE�f8Lco8�0E�9D�d$DE����   ����   L�EPH��H�T$PA�Q8��yH��� A�  H�D$8H��Y$ �  I�FPL��P  H��P  I���P8��yH��� A�  H�D$8H�|Y$ ��   A�D$�Lc�E�M���x:Ic�H��    @ H�LPJ���P  H+LPJ+��P  H;�u^A��H��L+�y�Ic�E��xH�D�PH9D�Pu>H+�y�H�GPH���P`��tI�FPI���P`���'  D;�uH�GPI��H���Pp���  3��  H�}+$ �\$@���\ L��H��uUH�B� A�Q  H�D$8H�X$ H�D$0L�t� H��V$ H�� H�D$(3�H�xV$ H�D$ �� ������  H�+$ �@\ L��H��u;H��W$ H��� H�D$8A�S  H�L$0H��V$ H�L$(H�V$ H�L$ �  E3�E3�H��I���������yH�Q� A�[  H�D$8H��W$ �V  E3�E3�I��I��������yH�N� A�^  H�D$8H��W$ ��  I�L�D$PH�UP�\$AI���P����  Lct$DI��L�t$HI�$L��P  H��P  I���P���S  I�E�E�V�@����   E��xiL������I��H+�H�uPL�t$PH��P  H�4�M�4�H�<�N��P  N�J��P  K�I+�I+�H;���  M+�H��N�I��D+�y�D�t$DH��x�     H�L�PH9L�P�z  H+�y�@2�@�t$@�   E����   L������I��H+�H��P  H�}PL�t$PH�<�H�4�M�4�fff�     M�8I�0N��P  I�I;��  J��P  K�0I+�I+�H;���   H��I��D+�y��t$@D�t$DH��x#@ ff�     H�L�PH9L�P��   H+�y�I�I���P ������   I�$I���R ����   ����   ;���   I�I���P0��xPI�$I���P0��x$I�L�D$PH�UPI���P����   H�|$H����H� � A��  H�D$8H�.X$ �   H��� A��  H�D$8H�X$ �m����   3��   H�`� A��  H�D$8H��W$ �CH�� A��  H�D$8H��W$ �(H��� A�i  �H��� A�g  H�D$8H��T$ H�D$0L��� H�.S$ H�W� H�D$(3�H��R$ H�D$ �? �����I�I���P@��yPH�F� A��  H�D$8H��T$ H�D$0H��R$ H�D$(H�tR$ H�D$ L�H� 3�H��� ��
 �����I��H��&$ �^W �|$A t^I�$I���P@��yPH��� A��  H�D$8L��� H�	T$ H��� H�D$03�H�TR$ H�D$(H��Q$ H�D$ �n
 �����M��tI��H��&$ ��V L��$h  L��$p  L��$�  L��$`  ��H��P  H3��� H��x  _^[]���������H�\$H�t$ WH��P  H��}$ H3�H��$@  3�H��8��$ H��u`8Â$ ��  ��$ 褙����y0H�Q) �˄$ H�D$8A�P  H�S$ H�D$0H�Q$ �g  8��$ u8o�$ �~  H�GP����p  H�FP����b  ��u.H���Ӕ ���M  H�� A�]  H�D$8H�S$ ��   ����   ����   ����   �G8��t>L�G@H�ˋ�f�H��@  HǄ@     HǄ@     J�H�D@H�IH��u�H�D$@3�H�D$(L��$@  H��$@  H��L��$@  H�D$ �l�����yH�Q� A�z  H�D$8H��T$ �HL�ƺ   H��������ykH�� A��  H�D$8H�hT$ �H��� A�b  H�D$8H��T$ H�D$0H��O$ H�D$(L�u� H��O$ H�� 3�H�D$ � �������H��$@  H3��|� L��$P  I�[ I�s(I��_��������H�\$H�l$H�t$H�|$ AVH��@3�@2�8��$ I��H��L��u>���$ ��u:������y*H�m) H�D$8A�  H��P$ H�D$0H��N$ �  �H�$ 8n�$ u#��u�a�$ �� ��y�R�$ H��& ��� 3Ʌ�y*H�&) A�  H�D$8H��P$ H�D$0H��N$ �   � �	   H����p H��H��u'H�ҡ A�$  H�D$8H�0S$ H�D$0H�<O$ �p�	   H���p H��u'H��� A�&  H�D$8H��R$ H�D$0H�O$ �7L��H��I���ú ��ySH�P� A�*  H�D$8H��R$ H�D$0H��M$ 3�H�D$(L�� H��M$ H��� H�D$ �$ �����@��� @��t�� H�l$X��H�\$PH�t$`H�|$hH��@A^���������������H�\$H�t$WH��@@2�H��@8=�~$ H��u>��~$ ��u:�������y*H��' H�D$8A�W   H��N$ H�D$0H�M$ �   �g~$ �=��$  u$��u ��$ �1� ��y�o�$  H��$ ���� 3Ʌ�y%H�C' H�D$8D�IWH��N$ H�D$0H��L$ �Q�( H����   H�P$$ L�òH��軪 H��H��yUH�� A�b   H�D$8H��O$ H�D$0H�^L$ 3�H�D$(L�p� H�1L$ H�z� H�D$ � @�H�������	� @��t�� H�t$XH��H�\$PH��@_�H�##$ H���[� ���Z���H�c� A�^   H�D$8H��P$ H�D$0H��L$ �j�����������H�\$H�t$WH��@@2�H��@8= }$ ��u>��|$ ��u:� �����y*H��% H�D$8A��   H�CM$ H�D$0H�WK$ ��   ��|$ �=ݓ$  u$��u �Г$ 肣 ��y���$  H�8# ��� 3Ʌ�y'H��% A��   H�D$8H��L$ H�D$0H��J$ �{�w ��y'H��� A��   H�D$8H��O$ H�D$0H��K$ �IH����   H�t"$ L�ò���� H��H��yUH�A� A��   H�D$8H��M$ H�D$0H��J$ 3�H�D$(L�=� H�VJ$ H��� H�D$ �� H������@��.� @��t��� H�t$XH��H�\$PH��@_�H�H!$ H���� ���[���H��� A��   H�D$8H��N$ H�D$0H��J$ �j����������������H��H�=^�$  M��u�=&{$  ��   H���   H��uUH��� A��  H�D$8H�nN$ H�D$0L��� H��I$ H��� H�D$(3�H�^I$ H�D$ �� �����H��H�M��I���Ѕ�yH��� A��  H�D$8H��K$ �3�H��H�����H��X�=��$  M��u�=vz$  ��   M���   M��u;H�� A��  H�D$8H��M$ H�D$0H��H$ H�D$(H��H$ H�D$ �   H��$�   M��L��$�   H�D$@H��$�   H�D$8H��$�   H�D$0H��$�   H�D$(H��$�   H�D$ A��H��uMH�QK$ H��� H�D$8A��  H�L$0H�SH$ H�L$(H�/H$ H�L$ L��� 3�H��� �  3�H��X�������@SH��@�=��$  M��A��u�=ay$  ��   L���   M��uVH�[� A�F  H�D$8H��L$ H�D$0L�e� H��G$ H�/� H�D$(3�H��G$ H�D$ �  �����H��@[�H�D$xM��L�L$p��H�D$ A�҅�yH�"� A�J  H�D$8H�PI$ �3�H��@[���������������H��H�=Ώ$  M��u�=�x$  ��   M���   M��u8H�� A�  H�D$8H��K$ H�D$0H�G$ H�D$(H��F$ H�D$ �]H��$�   M��L�L$pH�D$(H�D$xH�D$ A��H��uMH�aI$ H��� H�D$8A�"  H�L$0H��F$ H�L$(H�F$ H�L$ L��� 3�H��� ��� 3�H��H�������@SH��@�=�$  M��A��u�=�w$  t3�H��@[�L���   M��uH��� A�  H�D$8H��J$ �4H�D$xM��L�L$p��H�D$ A�҅�yPH��� A�"  H�D$8H��G$ H�D$0L��� H��E$ H�E� H�D$(3�H��E$ H�D$ �-� �����H��@[���@SH��@�=,�$  M��I��u�=�v$  ��   L���   M��uVH��� A��  H�D$8H�9J$ H�D$0L��� H�VE$ H��� H�D$(3�H�)E$ H�D$ �� �����H��@[�H�D$xM��L�L$pH��H�D$ A�҅�yH��� A��  H�D$8H�F$ �3�H��@[��������������H��H�=^�$  E��u�=&v$  t3�H��H�M���   M��uH��� A��  H�D$8H�kI$ �?H��$�   E��L�L$pH�D$(H�D$xH�D$ A�҅�yPH��� A��  H�D$8H�"F$ H�D$0L�v� H�GD$ H��� H�D$(3�H�D$ H�D$ �� �����H��H���������������@SH��@�=��$  M��I��u�=Qu$  ��   L���   M��uVH��� A��  H�D$8H��H$ H�D$0L��� H��C$ H�� H�D$(3�H��C$ H�D$ �� �����H��@[�H�D$xM��L�L$pH��H�D$ A�҅�yH��� A��  H�D$8H��D$ �3�H��@[��������������@SH��@�=��$  M��I��u�=�t$  ��   L��0  M��uVH�� A��  H�D$8H��G$ H�D$0L�%� H��B$ H�O� H�D$(3�H��B$ H�D$ �7� �����H��@[�H�D$xM��L�L$pH��H�D$ A�҅�yH��� A��  H�D$8H�oD$ �3�H��@[��������������H��H�=�$  E��M��u�=�s$  ��   H��@  H��uUH��� A��  H�D$8H��F$ H�D$0L��� H�B$ H��� H�D$(3�H��A$ H�D$ �i� �����H��H�L�L$pE��I���Ѕ�yH�� A��  H�D$8H��C$ �3�H��H�������������@SH��@�=,�$  M��I��u�=�r$  ��   L��(  M��uVH�� A�t  H�D$8H�9F$ H�D$0L�� H�VA$ H��� H�D$(3�H�)A$ H�D$ �� �����H��@[�H�D$xM��L�L$pH��H�D$ A�҅�yH��� A�x  H�D$8H��B$ �3�H��@[��������������H��H�=^�$  E��M��u�=#r$  ��   H��8  H��uUH�E� A�J  H�D$8H�kE$ H�D$0L�W� H��@$ H��� H�D$(3�H�[@$ H�D$ ��� �����H��H�L�L$pE��I���Ѕ�yH�'� A�N  H�D$8H��A$ �3�H��H�������������H��H�=��$  M��u�=fq$  ��   H���   H��uUH�p� A��	  H�D$8H��D$ H�D$0L��� H��?$ H�4� H�D$(3�H��?$ H�D$ �� �����H��H�M��I���Ѕ�yH�W� A��	  H�D$8H�%B$ �3�H��H�����H��X�=�$  M��u�=�p$  ��   M���   M��u;H��� A��  H�D$8H��C$ H�D$0H�"?$ H�D$(H��>$ H�D$ �   H��$�   M��L��$�   H�D$HH��$�   H�D$@H��$�   H�D$8H��$�   H�D$0H��$�   H�D$(H��$�   H�D$ A��H��uMH��A$ H��� H�D$8A��  H�L$0H��>$ H�L$(H�b>$ H�L$ L�V� 3�H��� ��� 3�H��X����������@SH��@�=̆$  M��A��u�=�o$  ��   L���   M��uVH��� A��  H�D$8H��B$ H�D$0L��� H��=$ H�_� H�D$(3�H��=$ H�D$ �G� �����H��@[�H�D$xM��L�L$p��H�D$ A�҅�yH��� A��  H�D$8H��?$ �3�H��@[���������������H��H�=��$  M��u�=�n$  ��   M���   M��u8H��� A�Q  H�D$8H�B$ H�D$0H�2=$ H�D$(H�=$ H�D$ �]H��$�   M��L�L$pH�D$(H�D$xH�D$ A��H��uMH��?$ H�b� H�D$8A�U  H�L$0H��<$ H�L$(H��<$ H�L$ L�� 3�H�"� �� 3�H��H�������@SH��@�=�$  M��A��u�=�m$  ��   L���   M��uVH�[� A�Z	  H�D$8H�)A$ H�D$0L�m� H�F<$ H��� H�D$(3�H�<$ H�D$ �� �����H��@[�H�D$xM��L�L$p��H�D$ A�҅�yH�2� A�^	  H�D$8H��=$ �3�H��@[���������������@SH��@�=L�$  M��I��u�=m$  ��   L���   M��uVH�C� A��  H�D$8H�Y@$ H�D$0L�U� H�v;$ H��� H�D$(3�H�I;$ H�D$ ��� �����H��@[�H��$�   M��L�L$pH��H�D$0H��$�   H�D$(H�D$xH�D$ A�҅�yH��� A��  H�D$8H�%<$ �o���3�H��@[�@SH��@�=l�$  M��A��u�=1l$  ��   L���   M��uVH�� A��  H�D$8H�y?$ H�D$0L�-� H��:$ H��� H�D$(3�H�i:$ H�D$ ��� �����H��@[�H�D$xM��L�L$p��H�D$ A�҅�yH��� A��  H�D$8H� <$ �3�H��@[���������������@SH��@�=��$  M��I��u�=ak$  ��   L���   M��uVH�#� A�  H�D$8H��>$ H�D$0L�5� H��9$ H�/� H�D$(3�H��9$ H�D$ �� �����H��@[�H��$�   M��L�L$pH��H�D$0H��$�   H�D$(H�D$xH�D$ A�҅�yH��� A�   H�D$8H�}:$ �o���3�H��@[�H��H�=��$  M��u�=�j$  ��   H��(  H��uUH�X� A�G  H�D$8H��=$ H�D$0L�j� H��8$ H�T� H�D$(3�H��8$ H�D$ �<� �����H��H�M��I���Ѕ�yH�?� A�K  H�D$8H�E;$ �3�H��H�����H��X�=�$  M��u�=�i$  ��   M��   M��u;H��� A�2
  H�D$8H�=$ H�D$0H�B8$ H�D$(H�8$ H�D$ �   H��$�   M��L��$�   H�D$@H��$�   H�D$8H��$�   H�D$0H��$�   H�D$(H��$�   H�D$ A��H��uMH��:$ H�:� H�D$8A�7
  H�L$0H��7$ H�L$(H��7$ H�L$ L��� 3�H�� ��� 3�H��X�������@SH��@�=�$  M��A��u�=�h$  ��   L��  M��uVH��� A��
  H�D$8H�	<$ H�D$0L��� H�&7$ H��� H�D$(3�H��6$ H�D$ �w� �����H��@[�H�D$xM��L�L$p��H�D$ A�҅�yH�b� A�  H�D$8H��8$ �3�H��@[���������������H��H�=.$  M��u�=�g$  ��   M��  M��u8H�@� A��
  H�D$8H�>8$ H�D$0H�b6$ H�D$(H�>6$ H�D$ �]H��$�   M��L�L$pH�D$(H�D$xH�D$ A��H��uMH��8$ H�� H�D$8A��
  H�L$0H�6$ H�L$(H��5$ H�L$ L��� 3�H�R� �M� 3�H��H�������@SH��@�=L~$  M��A��u�=g$  ��   L��   M��uVH�S� A��  H�D$8H�Y:$ H�D$0L�e� H�v5$ H��� H�D$(3�H�I5$ H�D$ ��� �����H��@[�H�D$xM��L�L$p��H�D$ A�҅�yH�*� A��  H�D$8H��6$ �3�H��@[���������������@SH��@�=|}$  M��A��u�=Af$  ��   L��  M��uVH��� A�n  H�D$8H��9$ H�D$0L�� H��4$ H�� H�D$(3�H�y4$ H�D$ ��� �����H��@[�H�D$xM��L�L$p��H�D$ A�҅�yH��� A�r  H�D$8H�6$ �3�H��@[���������������H��H�=�|$  M��u�=ve$  ��   H��X  H��uUH��� A�l  H�D$8H��8$ H�D$0L��� H��3$ H�D� H�D$(3�H��3$ H�D$ �,� �����H��H�M��I���Ѕ�yH��� A�p  H�D$8H�}6$ �3�H��H�����H�\$WH��@�=�{$  M��A��H��u�=�d$  ��   L��0  M��u8H�� A��  H�D$8H�8$ H�D$0H�&3$ H�D$(H�3$ H�D$ �bH��$�   M��L�L$p��H�D$(H��H�D$xH�D$ A��H��uMH��5$ H��� H�D$8A��  H�L$0H��2$ H�L$(H��2$ H�L$ L��� 3�H�� �� 3�H�\$PH��@_����������������@SH��@�=�z$  M��A��u�=�c$  ��   L��@  M��uVH�� A�  H�D$8H�	7$ H�D$0L�� H�&2$ H��� H�D$(3�H��1$ H�D$ �w� �����H��@[�H�D$xM��L�L$p��H�D$ A�҅�yH��� A�  H�D$8H��3$ �3�H��@[���������������H�\$WH��@�=(z$  M��A��H��u�=�b$  ��   L��8  M��u8H��� A�  H�D$8H�26$ H�D$0H�V1$ H�D$(H�21$ H�D$ �UH�D$xM��L�L$p��H��H�D$ A��H��uMH��3$ H��� H�D$8A�  H�L$0H��0$ H�L$(H��0$ H�L$ L�W� 3�H�N� �I� 3�H�\$PH��@_�������������@SWH��h3�I��87y$ H��$�   u8�a$ t	��H��h_[�I�@�L�<$ H��H�l$`H�t$X袎 H��H��y;H��3$ H��� H�D$8A�J  H�L$0H�E0$ H�L$(H�!0$ H�L$ ��   H�O�   �qR H��u*H� A�N  H�D$8H��4$ H�D$0H��0$ �   �H��訴 H��H���+  H�51$ H��� H�D$8A�P  H�L$0H�w0$ H�L$(H��/$ H�L$ 3�H�� L�&� �� �����H��x\H����E ��yPH�\� A�q  H�D$8H�
2$ H�D$0H�0$ H�D$(H�2/$ H�D$ L��� 3�H��� �� �����H���  H���E ����  H��1$ H�� H�D$8L��� H�L$0H�\� H��/$ A�s  H�L$(H��.$ H�L$ 3��7� H�l$`�����H�t$XH��h_[ú   H����P H��u;H�� A�R  H�D$8H�^3$ H�D$0H�j/$ H�D$(H�V.$ H�D$ ����E3�H��H���^��3Ʌ�y;H�� A�T  H�D$8H�'0$ H�D$0H��.$ H�D$(H�.$ H�D$ �q���H��$�   L�t$P�#���9�$�   t"L��$�   3�H�T$@����E3�3�3������H��$�   H�L$@����3�3�����L�$ H��$�   H�D$0E3�H�3�H�D$(H�t$ A�Q��.  D��9�$�   tL��$�   3�H�T$@�^���H��$�   H�L$@�z��E��L�t$P�����9�$�   �����H�GH�(H�GH�l$`H�X�   H�wH�t$XH��h_[�H�l$`��H�t$XH��h_[����@SH��@�=|u$  M��A��u�=A^$  ��   L��P  M��uVH��� A��  H�D$8H��1$ H�D$0L��� H��,$ H�� H�D$(3�H�y,$ H�D$ ��� �����H��@[�H�D$xM��L�L$p��H�D$ A�҅�yH��� A�  H�D$8H�.$ �3�H��@[���������������@SH��@�=�t$  M��A��u�=q]$  ��   L��H  M��uVH�K� A�o  H�D$8H��0$ H�D$0L�]� H��+$ H�?� H�D$(3�H��+$ H�D$ �'� �����H��@[�H�D$xM��L�L$p��H�D$ A�҅�yH�"� A�s  H�D$8H�@-$ �3�H��@[���������������H��H�=�s$  M��u�=�\$  ��   H���  H��uUH�X� A��  H�D$8H��/$ H�D$0L�j� H�+$ H�t� H�D$(3�H��*$ H�D$ �\� �����H��H�M��I���Ѕ�yH�?� A��  H�D$8H�e-$ �3�H��H�����H��H�=.s$  M��u�=�[$  ��   M��`  M��u8H��� A��  H�D$8H�>/$ H�D$0H�b*$ H�D$(H�>*$ H�D$ �wH��$�   M��L�L$pH�D$8H��$�   H�D$0H��$�   H�D$(H�D$xH�D$ A��H��uMH��,$ H��� H�D$8A��  H�L$0H��)$ H�L$(H��)$ H�L$ L�i� 3�H�8� �3� 3�H��H�������������@SH��@�=,r$  M��A��u�=�Z$  ��   L��p  M��uVH��� A��  H�D$8H�9.$ H�D$0L�� H�V)$ H��� H�D$(3�H�))$ H�D$ �� �����H��@[�H�D$xM��L�L$p��H�D$ A�҅�yH��� A��  H�D$8H��*$ �3�H��@[���������������H��H�=^q$  M��u�=&Z$  ��   M��h  M��u8H��� A�6  H�D$8H�n-$ H�D$0H��($ H�D$(H�n($ H�D$ �]H��$�   M��L�L$pH�D$(H�D$xH�D$ A��H��uMH��*$ H/*===- TableGen'erated file -------------------------------------*- C++ -*-===*\
|*                                                                            *|
|* Op Declarations                                                            *|
|*                                                                            *|
|* Automatically generated file, do not edit!                                 *|
|*                                                                            *|
\*===----------------------------------------------------------------------===*/

#if defined(GET_OP_CLASSES) || defined(GET_OP_FWD_DEFINES)
#undef GET_OP_FWD_DEFINES
namespace mlir {
namespace acc {
class AttachOp;
} // namespace acc
} // namespace mlir
namespace mlir {
namespace acc {
class CopyinOp;
} // namespace acc
} // namespace mlir
namespace mlir {
namespace acc {
class CopyoutOp;
} // namespace acc
} // namespace mlir
namespace mlir {
namespace acc {
class CreateOp;
} // namespace acc
} // namespace mlir
namespace mlir {
namespace acc {
class DataBoundsOp;
} // namespace acc
} // namespace mlir
namespace mlir {
namespace acc {
class DataOp;
} // namespace acc
} // namespace mlir
namespace mlir {
namespace acc {
class DeleteOp;
} // namespace acc
} // namespace mlir
namespace mlir {
namespace acc {
class DetachOp;
} // namespace acc
} // namespace mlir
namespace mlir {
namespace acc {
class DevicePtrOp;
} // namespace acc
} // namespace mlir
namespace mlir {
namespace acc {
class EnterDataOp;
} // namespace acc
} // namespace mlir
namespace mlir {
namespace acc {
class ExitDataOp;
} // namespace acc
} // namespace mlir
namespace mlir {
namespace acc {
class GetDevicePtrOp;
} // namespace acc
} // namespace mlir
namespace mlir {
namespace acc {
class InitOp;
} // namespace acc
} // namespace mlir
namespace mlir {
namespace acc {
class KernelsOp;
} // namespace acc
} // namespace mlir
namespace mlir {
namespace acc {
class LoopOp;
} // namespace acc
} // namespace mlir
namespace mlir {
namespace acc {
class NoCreateOp;
} // namespace acc
} // namespace mlir
namespace mlir {
namespace acc {
class ParallelOp;
} // namespace acc
} // namespace mlir
namespace mlir {
namespace acc {
class PresentOp;
} // namespace acc
} // namespace mlir
namespace mlir {
namespace acc {
class SerialOp;
} // namespace acc
} // namespace mlir
namespace mlir {
namespace acc {
class ShutdownOp;
} // namespace acc
} // namespace mlir
namespace mlir {
namespace acc {
class TerminatorOp;
} // namespace acc
} // namespace mlir
namespace mlir {
namespace acc {
class UpdateOp;
} // namespace acc
} // namespace mlir
namespace mlir {
namespace acc {
class WaitOp;
} // namespace acc
} // namespace mlir
namespace mlir {
namespace acc {
class YieldOp;
} // namespace acc
} // namespace mlir
#endif

#ifdef GET_OP_CLASSES
#undef GET_OP_CLASSES


//===----------------------------------------------------------------------===//
// Local Utility Method Definitions
//===----------------------------------------------------------------------===//

namespace mlir {
namespace acc {

//===----------------------------------------------------------------------===//
// ::mlir::acc::AttachOp declarations
//===----------------------------------------------------------------------===//

namespace detail {
class AttachOpGenericAdaptorBase {
protected:
  ::mlir::DictionaryAttr odsAttrs;
  ::mlir::RegionRange odsRegions;
  ::std::optional<::mlir::OperationName> odsOpName;
public:
  AttachOpGenericAdaptorBase(::mlir::DictionaryAttr attrs, ::mlir::RegionRange regions = {});

  std::pair<unsigned, unsigned> getODSOperandIndexAndLength(unsigned index, unsigned odsOperandsSize);
  ::mlir::DictionaryAttr getAttributes();
  ::mlir::acc::DataClauseAttr getDataClauseAttr();
  ::mlir::acc::DataClause getDataClause();
  ::mlir::BoolAttr getStructuredAttr();
  bool getStructured();
  ::mlir::BoolAttr getImplicitAttr();
  bool getImplicit();
  ::mlir::StringAttr getNameAttr();
  ::std::optional< ::llvm::StringRef > getName();
};
} // namespace detail
template <typename RangeT>
class AttachOpGenericAdaptor : public detail::AttachOpGenericAdaptorBase {
  using ValueT = ::llvm::detail::ValueOfRange<RangeT>;
  using Base = detail::AttachOpGenericAdaptorBase;
public:
  AttachOpGenericAdaptor(RangeT values, ::mlir::DictionaryAttr attrs, ::mlir::RegionRange regions = {}) : Base(attrs, regions), odsOperands(values) {}

  std::pair<unsigned, unsigned> getODSOperandIndexAndLength(unsigned index) {
    return Base::getODSOperandIndexAndLength(index, odsOperands.size());
  }

  RangeT getODSOperands(unsigned index) {
    auto valueRange = getODSOperandIndexAndLength(index);
    return {std::next(odsOperands.begin(), valueRange.first),
             std::next(odsOperands.begin(), valueRange.first + valueRange.second)};
  }

  ValueT getVarPtr() {
    return (*getODSOperands(0).begin());
  }

  ValueT getVarPtrPtr() {
    auto operands = getODSOperands(1);
    return operands.empty() ? ValueT{} : (*operands.begin());
  }

  RangeT getBounds() {
    return getODSOperands(2);
  }

  RangeT getOperands() {
    return odsOperands;
  }

private:
  RangeT odsOperands;
};
class AttachOpAdaptor : public AttachOpGenericAdaptor<::mlir::ValueRange> {
public:
  using AttachOpGenericAdaptor::AttachOpGenericAdaptor;
  AttachOpAdaptor(AttachOp op);

  ::mlir::LogicalResult verify(::mlir::Location loc);
};
class AttachOp : public ::mlir::Op<AttachOp, ::mlir::OpTrait::ZeroRegions, ::mlir::OpTrait::OneResult, ::mlir::OpTrait::OneTypedResult<::mlir::acc::PointerLikeType>::Impl, ::mlir::OpTrait::ZeroSuccessors, ::mlir::OpTrait::AtLeastNOperands<1>::Impl, ::mlir::OpTrait::AttrSizedOperandSegments, ::mlir::OpTrait::OpInvariants> {
public:
  using Op::Op;
  using Op::print;
  using Adaptor = AttachOpAdaptor;
  template <typename RangeT>
  using GenericAdaptor = AttachOpGenericAdaptor<RangeT>;
  using FoldAdaptor = GenericAdaptor<::llvm::ArrayRef<::mlir::Attribute>>;
  static ::llvm::ArrayRef<::llvm::StringRef> getAttributeNames() {
    static ::llvm::StringRef attrNames[] = {::llvm::StringRef("dataClause"), ::llvm::StringRef("implicit"), ::llvm::StringRef("name"), ::llvm::StringRef("operand_segment_sizes"), ::llvm::StringRef("structured")};
    return ::llvm::ArrayRef(attrNames);
  }

  ::mlir::StringAttr getDataClauseAttrName() {
    return getAttributeNameForIndex(0);
  }

  static ::mlir::StringAttr getDataClauseAttrName(::mlir::OperationName name) {
    return getAttributeNameForIndex(name, 0);
  }

  ::mlir::StringAttr getImplicitAttrName() {
    return getAttributeNameForIndex(1);
  }

  static ::mlir::StringAttr getImplicitAttrName(::mlir::OperationName name) {
    return getAttributeNameForIndex(name, 1);
  }

  ::mlir::StringAttr getNameAttrName() {
    return getAttributeNameForIndex(2);
  }

  static ::mlir::StringAttr getNameAttrName(::mlir::OperationName name) {
    return getAttributeNameForIndex(name, 2);
  }

  ::mlir::StringAttr getOperandSegmentSizesAttrName() {
    return getAttributeNameForIndex(3);
  }

  static ::mlir::StringAttr getOperandSegmentSizesAttrName(::mlir::OperationName name) {
    return getAttributeNameForIndex(name, 3);
  }

  ::mlir::StringAttr getStructuredAttrName() {
    return getAttributeNameForIndex(4);
  }

  static ::mlir::StringAttr getStructuredAttrName(::mlir::OperationName name) {
    return getAttributeNameForIndex(name, 4);
  }

  static constexpr ::llvm::StringLiteral getOperationName() {
    return ::llvm::StringLiteral("acc.attach");
  }

  std::pair<unsigned, unsigned> getODSOperandIndexAndLength(unsigned index);
  ::mlir::Operation::operand_range getODSOperands(unsigned index);
  ::mlir::TypedValue<::mlir::acc::PointerLikeType> getVarPtr();
  ::mlir::TypedValue<::mlir::acc::PointerLikeType> getVarPtrPtr();
  ::mlir::Operation::operand_range getBounds();
  ::mlir::MutableOperandRange getVarPtrMutable();
  ::mlir::MutableOperandRange getVarPtrPtrMutable();
  ::mlir::MutableOperandRange getBoundsMutable();
  std::pair<unsigned, unsigned> getODSResultIndexAndLength(unsigned index);
  ::mlir::Operation::result_range getODSResults(unsigned index);
  ::mlir::TypedValue<::mlir::acc::PointerLikeType> getAccPtr();
  ::mlir::acc::DataClauseAttr getDataClauseAttr();
  ::mlir::acc::DataClause getDataClause();
  ::mlir::BoolAttr getStructuredAttr();
  bool getStructured();
  ::mlir::BoolAttr getImplicitAttr();
  bool getImplicit();
  ::mlir::StringAttr getNameAttr();
  ::std::optional< ::llvm::StringRef > getName();
  void setDataClauseAttr(::mlir::acc::DataClauseAttr attr);
  void setDataClause(::mlir::acc::DataClause attrValue);
  void setStructuredAttr(::mlir::BoolAttr attr);
  void setStructured(bool attrValue);
  void setImplicitAttr(::mlir::BoolAttr attr);
  void setImplicit(bool attrValue);
  void setNameAttr(::mlir::StringAttr attr);
  void setName(::std::optional<::llvm::StringRef> attrValue);
  ::mlir::Attribute removeNameAttr();
  static void build(::mlir::OpBuilder &odsBuilder, ::mlir::OperationState &odsState, ::mlir::Type accPtr, ::mlir::Value varPtr, /*optional*/::mlir::Value varPtrPtr, ::mlir::ValueRange bounds, ::mlir::acc::DataClauseAttr dataClause, ::mlir::BoolAttr structured, ::mlir::BoolAttr implicit, /*optional*/::mlir::StringAttr name);
  static void build(::mlir::OpBuilder &odsBuilder, ::mlir::OperationState &odsState, ::mlir::TypeRange resultTypes, ::mlir::Value varPtr, /*optional*/::mlir::Value varPtrPtr, ::mlir::ValueRange bounds, ::mlir::acc::DataClauseAttr dataClause, ::mlir::BoolAttr structured, ::mlir::BoolAttr implicit, /*optional*/::mlir::StringAttr name);
  static void build(::mlir::OpBuilder &odsBuilder, ::mlir::OperationState &odsState, ::mlir::Type accPtr, ::mlir::Value varPtr, /*optional*/::mlir::Value varPtrPtr, ::mlir::ValueRange bounds, ::mlir::acc::DataClause dataClause, bool structured, bool implicit, /*optional*/::mlir::StringAttr name);
  static void build(::mlir::OpBuilder &odsBuilder, ::mlir::OperationState &odsState, ::mlir::TypeRange resultTypes, ::mlir::Value varPtr, /*optional*/::mlir::Value varPtrPtr, ::mlir::ValueRange bounds, ::mlir::acc::DataClause dataClause, bool structured, bool implicit, /*optional*/::mlir::StringAttr name);
  static void build(::mlir::OpBuilder &, ::mlir::OperationState &odsState, ::mlir::TypeRange resultTypes, ::mlir::ValueRange operands, ::llvm::ArrayRef<::mlir::NamedAttribute> attributes = {});
  static void populateDefaultAttrs(const ::mlir::OperationName &opName, ::mlir::NamedAttrList &attributes);
  ::mlir::LogicalResult verifyInvariantsImpl();
  ::mlir::LogicalResult verifyInvariants();
  ::mlir::LogicalResult verify();
  static ::mlir::ParseResult parse(::mlir::OpAsmParser &parser, ::mlir::OperationState &result);
  void print(::mlir::OpAsmPrinter &_odsPrinter);
private:
  ::mlir::StringAttr getAttributeNameForIndex(unsigned index) {
    return getAttributeNameForIndex((*this)->getName(), index);
  }

  static ::mlir::StringAttr getAttributeNameForIndex(::mlir::OperationName name, unsigned index) {
    assert(index < 5 && "invalid attribute index");
    assert(name.getStringRef() == getOperationName() && "invalid operation name");
    return name.getAttributeNames()[index];
  }

public:
};
} // namespace acc
} // namespace mlir
MLIR_DECLARE_EXPLICIT_TYPE_ID(::mlir::acc::AttachOp)

namespace mlir {
namespace acc {

//===----------------------------------------------------------------------===//
// ::mlir::acc::CopyinOp declarations
//===----------------------------------------------------------------------===//

namespace detail {
class CopyinOpGenericAdaptorBase {
protected:
  ::mlir::DictionaryAttr odsAttrs;
  ::mlir::RegionRange odsRegions;
  ::std::optional<::mlir::OperationName> odsOpName;
public:
  CopyinOpGenericAdaptorBase(::mlir::DictionaryAttr attrs, ::mlir::RegionRange regions = {});

  std::pair<unsigned, unsigned> getODSOperandIndexAndLength(unsigned index, unsigned odsOperandsSize);
  ::mlir::DictionaryAttr getAttributes();
  ::mlir::acc::DataClauseAttr getDataClauseAttr();
  ::mlir::acc::DataClause getDataClause();
  ::mlir::BoolAttr getStructuredAttr();
  bool getStructured();
  ::mlir::BoolAttr getImplicitAttr();
  bool getImplicit();
  ::mlir::StringAttr getNameAttr();
  ::std::optional< ::llvm::StringRef > getName();
};
} // namespace detail
template <typename RangeT>
class CopyinOpGenericAdaptor : public detail::CopyinOpGenericAdaptorBase {
  using ValueT = ::llvm::detail::ValueOfRange<RangeT>;
  using Base = detail::CopyinOpGenericAdaptorBase;
public:
  CopyinOpGenericAdaptor(RangeT values, ::mlir::DictionaryAttr attrs, ::mlir::RegionRange regions = {}) : Base(attrs, regions), odsOperands(values) {}

  std::pair<unsigned, unsigned> getODSOperandIndexAndLength(unsigned index) {
    return Base::getODSOperandIndexAndLength(index, odsOperands.size());
  }

  RangeT getODSOperands(unsigned index) {
    auto valueRange = getODSOperandIndexAndLength(index);
    return {std::next(odsOperands.begin(), valueRange.first),
             std::next(odsOperands.begin(), valueRange.first + valueRange.second)};
  }

  ValueT getVarPtr() {
    return (*getODSOperands(0).begin());
  }

  ValueT getVarPtrPtr() {
    auto operands = getODSOperands(1);
    return operands.empty() ? ValueT{} : (*operands.begin());
  }

  RangeT getBounds() {
    return getODSOperands(2);
  }

  RangeT getOperands() {
    return odsOperands;
  }

private:
  RangeT odsOperands;
};
class CopyinOpAdaptor : public CopyinOpGenericAdaptor<::mlir::ValueRange> {
public:
  using CopyinOpGenericAdaptor::CopyinOpGenericAdaptor;
  CopyinOpAdaptor(CopyinOp op);

  ::mlir::LogicalResult verify(::mlir::Location loc);
};
class CopyinOp : public ::mlir::Op<CopyinOp, ::mlir::OpTrait::ZeroRegions, ::mlir::OpTrait::OneResult, ::mlir::OpTrait::OneTypedResult<::mlir::acc::PointerLikeType>::Impl, ::mlir::OpTrait::ZeroSuccessors, ::mlir::OpTrait::AtLeastNOperands<1>::Impl, ::mlir::OpTrait::AttrSizedOperandSegments, ::mlir::OpTrait::OpInvariants> {
public:
  using Op::Op;
  using Op::print;
  using Adaptor = CopyinOpAdaptor;
  template <typename RangeT>
  using GenericAdaptor = CopyinOpGenericAdaptor<RangeT>;
  using FoldAdaptor = GenericAdaptor<::llvm::ArrayRef<::mlir::Attribute>>;
  static ::llvm::ArrayRef<::llvm::StringRef> getAttributeNames() {
    static ::llvm::StringRef attrNames[] = {::llvm::StringRef("dataClause"), ::llvm::StringRef("implicit"), ::llvm::StringRef("name"), ::llvm::StringRef("operand_segment_sizes"), ::llvm::StringRef("structured")};
    return ::llvm::ArrayRef(attrNames);
  }

  ::mlir::StringAttr getDataClauseAttrName() {
    return getAttributeNameForIndex(0);
  }

  static ::mlir::StringAttr getDataClauseAttrName(::mlir::OperationName name) {
    return getAttributeNameForIndex(name, 0);
  }

  ::mlir::StringAttr getImplicitAttrName() {
    return getAttributeNameForIndex(1);
  }

  static ::mlir::StringAttr getImplicitAttrName(::mlir::OperationName name) {
    return getAttributeNameForIndex(name, 1);
  }

  ::mlir::StringAttr getNameAttrName() {
    return getAttributeNameForIndex(2);
  }

  static ::mlir::StringAttr getNameAttrName(::mlir::OperationName name) {
    return getAttributeNameForIndex(name, 2);
  }

  ::mlir::StringAttr getOperandSegmentSizesAttrName() {
    return getAttributeNameForIndex(3);
  }

  static ::mlir::StringAttr getOperandSegmentSizesAttrName(::mlir::OperationName name) {
    return getAttributeNameForIndex(name, 3);
  }

  ::mlir::StringAttr getStructuredAttrName() {
    return getAttributeNameForIndex(4);
  }

  static ::mlir::StringAttr getStructuredAttrName(::mlir::OperationName name) {
    return getAttributeNameForIndex(name, 4);
  }

  static constexpr ::llvm::StringLiteral getOperationName() {
    return ::llvm::StringLiteral("acc.copyin");
  }

  std::pair<unsigned, unsigned> getODSOperandIndexAndLength(unsigned index);
  ::mlir::Operation::operand_range getODSOperands(unsigned index);
  ::mlir::TypedValue<::mlir::acc::PointerLikeType> getVarPtr();
  ::mlir::TypedValue<::mlir::acc::PointerLikeType> getVarPtrPtr();
  ::mlir::Operation::operand_range getBounds();
  ::mlir::MutableOperandRange getVarPtrMutable();
  ::mlir::MutableOperandRange getVarPtrPtrMutable();
  ::mlir::MutableOperandRange getBoundsMutable();
  std::pair<unsigned, unsigned> getODSResultIndexAndLength(unsigned index);
  ::mlir::Operation::result_range getODSResults(unsigned index);
  ::mlir::TypedValue<::mlir::acc::PointerLikeType> getAccPtr();
  ::mlir::acc::DataClauseAttr getDataClauseAttr();
  ::mlir::acc::DataClause getDataClause();
  ::mlir::BoolAttr getStructuredAttr();
  bool getStructured();
  ::mlir::BoolAttr getImplicitAttr();
  bool getImplicit();
  ::mlir::StringAttr getNameAttr();
  ::std::optional< ::llvm::StringRef > getName();
  void setDataClauseAttr(::mlir::acc::DataClauseAttr attr);
  void setDataClause(::mlir::acc::DataClause attrValue);
  void setStructuredAttr(::mlir::BoolAttr attr);
  void setStructured(bool attrValue);
  void setImplicitAttr(::mlir::BoolAttr attr);
  void setImplicit(bool attrValue);
  void setNameAttr(::mlir::StringAttr attr);
  void setName(::std::optional<::llvm::StringRef> attrValue);
  ::mlir::Attribute removeNameAttr();
  static void build(::mlir::OpBuilder &odsBuilder, ::mlir::OperationState &odsState, ::mlir::Type accPtr, ::mlir::Value varPtr, /*optional*/::mlir::Value varPtrPtr, ::mlir::ValueRange bounds, ::mlir::acc::DataClauseAttr dataClause, ::mlir::BoolAttr structured, ::mlir::BoolAttr implicit, /*optional*/::mlir::StringAttr name);
  static void build(::mlir::OpBuilder &odsBuilder, ::mlir::OperationState &odsState, ::mlir::TypeRange resultTypes, ::mlir::Value varPtr, /*optional*/::mlir::Value varPtrPtr, ::mlir::ValueRange bounds, ::mlir::acc::DataClauseAttr dataClause, ::mlir::BoolAttr structured, ::mlir::BoolAttr implicit, /*optional*/::mlir::StringAttr name);
  static void build(::mlir::OpBuilder &odsBuilder, ::mlir::OperationState &odsState, ::mlir::Type accPtr, ::mlir::Value varPtr, /*optional*/::mlir::Value varPtrPtr, ::mlir::ValueRange bounds, ::mlir::acc::DataClause dataClause, bool structured, bool implicit, /*optional*/::mlir::StringAttr name);
  static void build(::mlir::OpBuilder &odsBuilder, ::mlir::OperationState &odsState, ::mlir::TypeRange resultTypes, ::mlir::Value varPtr, /*optional*/::mlir::Value varPtrPtr, ::mlir::ValueRange bounds, ::mlir::acc::DataClause dataClause, bool structured, bool implicit, /*optional*/::mlir::StringAttr name);
  static void build(::mlir::OpBuilder &, ::mlir::OperationState &odsState, ::mlir::TypeRange resultTypes, ::mlir::ValueRange operands, ::llvm::ArrayRef<::mlir::NamedAttribute> attributes = {});
  static void populateDefaultAttrs(const ::mlir::OperationName &opName, ::mlir::NamedAttrList &attributes);
  ::mlir::LogicalResult verifyInvariantsImpl();
  ::mlir::LogicalResult verifyInvariants();
  ::mlir::LogicalResult verify();
  static ::mlir::ParseResult parse(::mlir::OpAsmParser &parser, ::mlir::OperationState &result);
  void print(::mlir::OpAsmPrinter &_odsPrinter);
private:
  ::mlir::StringAttr getAttributeNameForIndex(unsigned index) {
    return getAttributeNameForIndex((*this)->getName(), index);
  }

  static ::mlir::StringAttr getAttributeNameForIndex(::mlir::OperationName name, unsigned index) {
    assert(index < 5 && "invalid attribute index");
    assert(name.getStringRef() == getOperationName() && "invalid operation name");
    return name.getAttributeNames()[index];
  }

public:
  /// Check if this is a copyin with readonly modifier.
  bool isCopyinReadonly();
};
} // namespace acc
} // namespace mlir
MLIR_DECLARE_EXPLICIT_TYPE_ID(::mlir::acc::CopyinOp)

namespace mlir {
namespace acc {

//===----------------------------------------------------------------------===//
// ::mlir::acc::CopyoutOp declarations
//===----------------------------------------------------------------------===//

namespace detail {
class CopyoutOpGenericAdaptorBase {
protected:
  ::mlir::DictionaryAttr odsAttrs;
  ::mlir::RegionRange odsRegions;
  ::std::optional<::mlir::OperationName> odsOpName;
public:
  CopyoutOpGenericAdaptorBase(::mlir::DictionaryAttr attrs, ::mlir::RegionRange regions = {});

  std::pair<unsigned, unsigned> getODSOperandIndexAndLength(unsigned index, unsigned odsOperandsSize);
  ::mlir::DictionaryAttr getAttributes();
  ::mlir::acc::DataClauseAttr getDataClauseAttr();
  ::mlir::acc::DataClause getDataClause();
  ::mlir::BoolAttr getStructuredAttr();
  bool getStructured();
  ::mlir::BoolAttr getImplicitAttr();
  bool getImplicit();
  ::mlir::StringAttr getNameAttr();
  ::std::optional< ::llvm::StringRef > getName();
};
} // namespace detail
template <typename RangeT>
class CopyoutOpGenericAdaptor : public detail::CopyoutOpGenericAdaptorBase {
  using ValueT = ::llvm::detail::ValueOfRange<RangeT>;
  using Base = detail::CopyoutOpGenericAdaptorBase;
public:
  CopyoutOpGenericAdaptor(RangeT values, ::mlir::DictionaryAttr attrs, ::mlir::RegionRange regions = {}) : Base(attrs, regions), odsOperands(values) {}

  std::pair<unsigned, unsigned> getODSOperandIndexAndLength(unsigned index) {
    return Base::getODSOperandIndexAndLength(index, odsOperands.size());
  }

  RangeT getODSOperands(unsigned index) {
    auto valueRange = getODSOperandIndexAndLength(index);
    return {std::next(odsOperands.begin(), valueRange.first),
             std::next(odsOperands.begin(), valueRange.first + valueRange.second)};
  }

  ValueT getVarPtr() {
    auto operands = getODSOperands(0);
    return operands.empty() ? ValueT{} : (*operands.begin());
  }

  ValueT getAccPtr() {
    return (*getODSOperands(1).begin());
  }

  RangeT getBounds() {
    return getODSOperands(2);
  }

  RangeT getOperands() {
    return odsOperands;
  }

private:
  RangeT odsOperands;
};
class CopyoutOpAdaptor : public CopyoutOpGenericAdaptor<::mlir::ValueRange> {
public:
  using CopyoutOpGenericAdaptor::CopyoutOpGenericAdaptor;
  CopyoutOpAdaptor(CopyoutOp op);

  ::mlir::LogicalResult verify(::mlir::Location loc);
};
class CopyoutOp : public ::mlir::Op<CopyoutOp, ::mlir::OpTrait::ZeroRegions, ::mlir::OpTrait::ZeroResults, ::mlir::OpTrait::ZeroSuccessors, ::mlir::OpTrait::AtLeastNOperands<1>::Impl, ::mlir::OpTrait::AttrSizedOperandSegments, ::mlir::OpTrait::OpInvariants> {
public:
  using Op::Op;
  using Op::print;
  using Adaptor = CopyoutOpAdaptor;
  template <typename RangeT>
  using GenericAdaptor = CopyoutOpGenericAdaptor<RangeT>;
  using FoldAdaptor = GenericAdaptor<::llvm::ArrayRef<::mlir::Attribute>>;
  static ::llvm::ArrayRef<::llvm::StringRef> getAttributeNames() {
    static ::llvm::StringRef attrNames[] = {::llvm::StringRef("dataClause"), ::llvm::StringRef("implicit"), ::llvm::StringRef("name"), ::llvm::StringRef("operand_segment_sizes"), ::llvm::StringRef("structured")};
    return ::llvm::ArrayRef(attrNames);
  }

  ::mlir::StringAttr getDataClauseAttrName() {
    return getAttributeNameForIndex(0);
  }

  static ::mlir::StringAttr getDataClauseAttrName(::mlir::OperationName name) {
    return getAttributeNameForIndex(name, 0);
  }

  ::mlir::StringAttr getImplicitAttrName() {
    return getAttributeNameForIndex(1);
  }

  static ::mlir::StringAttr getImplicitAttrName(::mlir::OperationName name) {
    return getAttributeNameForIndex(name, 1);
  }

  ::mlir::StringAttr getNameAttrName() {
    return getAttributeNameForIndex(2);
  }

  static ::mlir::StringAttr getNameAttrName(::mlir::OperationName name) {
    return getAttributeNameForIndex(name, 2);
  }

  ::mlir::StringAttr getOperandSegmentSizesAttrName() {
    return getAttributeNameForIndex(3);
  }

  static ::mlir::StringAttr getOperandSegmentSizesAttrName(::mlir::OperationName name) {
    return getAttributeNameForIndex(name, 3);
  }

  ::mlir::StringAttr getStructuredAttrName() {
    return getAttributeNameForIndex(4);
  }

  static ::mlir::StringAttr getStructuredAttrName(::mlir::OperationName name) {
    return getAttributeNameForIndex(name, 4);
  }

  static constexpr ::llvm::StringLiteral getOperationName() {
    return ::llvm::StringLiteral("acc.copyout");
  }

  std::pair<unsigned, unsigned> getODSOperandIndexAndLength(unsigned index);
  ::mlir::Operation::operand_range getODSOperands(unsigned index);
  ::mlir::TypedValue<::mlir::acc::PointerLikeType> getVarPtr();
  ::mlir::TypedValue<::mlir::acc::PointerLikeType> getAccPtr();
  ::mlir::Operation::operand_range getBounds();
  ::mlir::MutableOperandRange getVarPtrMutable();
  ::mlir::MutableOperandRange getAccPtrMutable();
  ::mlir::MutableOperandRange getBoundsMutable();
  std::pair<unsigned, unsigned> getODSResultIndexAndLength(unsigned index);
  ::mlir::Operation::result_range getODSResults(unsigned index);
  ::mlir::acc::DataClauseAttr getDataClauseAttr();
  ::mlir::acc::DataClause getDataClause();
  ::mlir::BoolAttr getStructuredAttr();
  bool getStructured();
  ::mlir::BoolAttr getImplicitAttr();
  bool getImplicit();
  ::mlir::StringAttr getNameAttr();
  ::std::optional< ::llvm::StringRef > getName();
  void setDataClauseAttr(::mlir::acc::DataClauseAttr attr);
  void setDataClause(::mlir::acc::DataClause attrValue);
  void setStructuredAttr(::mlir::BoolAttr attr);
  void setStructured(bool attrValue);
  void setImplicitAttr(::mlir::BoolAttr attr);
  void setImplicit(bool attrValue);
  void setNameAttr(::mlir::StringAttr attr);
  void setName(::std::optional<::llvm::StringRef> attrValue);
  ::mlir::Attribute removeNameAttr();
  static void build(::mlir::OpBuilder &odsBuilder, ::mlir::OperationState &odsState, /*optional*/::mlir::Value varPtr, ::mlir::Value accPtr, ::mlir::ValueRange bounds, ::mlir::acc::DataClauseAttr dataClause, ::mlir::BoolAttr structured, ::mlir::BoolAttr implicit, /*optional*/::mlir::StringAttr name);
  static void build(::mlir::OpBuilder &odsBuilder, ::mlir::OperationState &odsState, ::mlir::TypeRange resultTypes, /*optional*/::mlir::Value varPtr, ::mlir::Value accPtr, ::mlir::ValueRange bounds, ::mlir::acc::DataClauseAttr dataClause, ::mlir::BoolAttr structured, ::mlir::BoolAttr implicit, /*optional*/::mlir::StringAttr name);
  static void build(::mlir::OpBuilder &odsBuilder, ::mlir::OperationState &odsState, /*optional*/::mlir::Value varPtr, ::mlir::Value accPtr, ::mlir::ValueRange bounds, ::mlir::acc::DataClause dataClause, bool structured, bool implicit, /*optional*/::mlir::StringAttr name);
  static void build(::mlir::OpBuilder &odsBuilder, ::mlir::OperationState &odsState, ::mlir::TypeRange resultTypes, /*optional*/::mlir::Value varPtr, ::mlir::Value accPtr, ::mlir::ValueRange bounds, ::mlir::acc::DataClause dataClause, bool structured, bool implicit, /*optional*/::mlir::StringAttr name);
  static void build(::mlir::OpBuilder &, ::mlir::OperationState &odsState, ::mlir::TypeRange resultTypes, ::mlir::ValueRange operands, ::llvm::ArrayRef<::mlir::NamedAttribute> attributes = {});
  static void populateDefaultAttrs(const ::mlir::OperationName &opName, ::mlir::NamedAttrList &attributes);
  ::mlir::LogicalResult verifyInvariantsImpl();
  ::mlir::LogicalResult verifyInvariants();
  ::mlir::LogicalResult verify();
  static ::mlir::ParseResult parse(::mlir::OpAsmParser &parser, ::mlir::OperationState &result);
  void print(::mlir::OpAsmPrinter &_odsPrinter);
private:
  ::mlir::StringAttr getAttributeNameForIndex(unsigned index) {
    return getAttributeNameForIndex((*this)->getName(), index);
  }

  static ::mlir::StringAttr getAttributeNameForIndex(::mlir::OperationName name, unsigned index) {
    assert(index < 5 && "invalid attribute index");
    assert(name.getStringRef() == getOperationName() && "invalid operation name");
    return name.getAttributeNames()[index];
  }

public:
  /// Check if this is a copyout with zero modifier.
  bool isCopyoutZero();
};
} // namespace acc
} // namespace mlir
MLIR_DECLARE_EXPLICIT_TYPE_ID(::mlir::acc::CopyoutOp)

namespace mlir {
namespace acc {

//===----------------------------------------------------------------------===//
// ::mlir::acc::CreateOp declarations
//===----------------------------------------------------------------------===//

namespace detail {
class CreateOpGenericAdaptorBase {
protected:
  ::mlir::DictionaryAttr odsAttrs;
  ::mlir::RegionRange odsRegions;
  ::std::optional<::mlir::OperationName> odsOpName;
public:
  CreateOpGenericAdaptorBase(::mlir::DictionaryAttr attrs, ::mlir::RegionRange regions = {});

  std::pair<unsigned, unsigned> getODSOperandIndexAndLength(unsigned index, unsigned odsOperandsSize);
  ::mlir::DictionaryAttr getAttributes();
  ::mlir::acc::DataClauseAttr getDataClauseAttr();
  ::mlir::acc::DataClause getDataClause();
  ::mlir::BoolAttr getStructuredAttr();
  bool getStructured();
  ::mlir::BoolAttr getImplicitAttr();
  bool getImplicit();
  ::mlir::StringAttr getNameAttr();
  ::std::optional< ::llvm::StringRef > getName();
};
} // namespace detail
template <typename RangeT>
class CreateOpGenericAdaptor : public detail::CreateOpGenericAdaptorBase {
  using ValueT = ::llvm::detail::ValueOfRange<RangeT>;
  using Base = detail::CreateOpGenericAdaptorBase;
public:
  CreateOpGenericAdaptor(RangeT values, ::mlir::DictionaryAttr attrs, ::mlir::RegionRange regions = {}) : Base(attrs, regions), odsOperands(values) {}

  std::pair<unsigned, unsigned> getODSOperandIndexAndLength(unsigned index) {
    return Base::getODSOperandIndexAndLength(index, odsOperands.size());
  }

  RangeT getODSOperands(unsigned index) {
    auto valueRange = getODSOperandIndexAndLength(index);
    return {std::next(odsOperands.begin(), valueRange.first),
             std::next(odsOperands.begin(), valueRange.first + valueRange.second)};
  }

  ValueT getVarPtr() {
    return (*getODSOperands(0).begin());
  }

  ValueT getVarPtrPtr() {
    auto operands = getODSOperands(1);
    return operands.empty() ? ValueT{} : (*operands.begin());
  }

  RangeT getBounds() {
    return getODSOperands(2);
  }

  RangeT getOperands() {
    return odsOperands;
  }

private:
  RangeT odsOperands;
};
class CreateOpAdaptor : public CreateOpGenericAdaptor<::mlir::ValueRange> {
public:
  using CreateOpGenericAdaptor::CreateOpGenericAdaptor;
  CreateOpAdaptor(CreateOp op);

  ::mlir::LogicalResult verify(::mlir::Location loc);
};
class CreateOp : public ::mlir::Op<CreateOp, ::mlir::OpTrait::ZeroRegions, ::mlir::OpTrait::OneResult, ::mlir::OpTrait::OneTypedResult<::mlir::acc::PointerLikeType>::Impl, ::mlir::OpTrait::ZeroSuccessors, ::mlir::OpTrait::AtLeastNOperands<1>::Impl, ::mlir::OpTrait::AttrSizedOperandSegments, ::mlir::OpTrait::OpInvariants> {
public:
  using Op::Op;
  using Op::print;
  using Adaptor = CreateOpAdaptor;
  template <typename RangeT>
  using GenericAdaptor = CreateOpGenericAdaptor<RangeT>;
  using FoldAdaptor = GenericAdaptor<::llvm::ArrayRef<::mlir::Attribute>>;
  static ::llvm::ArrayRef<::llvm::StringRef> getAttributeNames() {
    static ::llvm::StringRef attrNames[] = {::llvm::StringRef("dataClause"), ::llvm::StringRef("implicit"), ::llvm::StringRef("name"), ::llvm::StringRef("operand_segment_sizes"), ::llvm::StringRef("structured")};
    return ::llvm::ArrayRef(attrNames);
  }

  ::mlir::StringAttr getDataClauseAttrName() {
    return getAttributeNameForIndex(0);
  }

  static ::mlir::StringAttr getDataClauseAttrName(::mlir::OperationName name) {
    return getAttributeNameForIndex(name, 0);
  }

  ::mlir::StringAttr getImplicitAttrName() {
    return getAttributeNameForIndex(1);
  }

  static ::mlir::StringAttr getImplicitAttrName(::mlir::OperationName name) {
    return getAttributeNameForIndex(name, 1);
  }

  ::mlir::StringAttr getNameAttrName() {
    return getAttributeNameForIndex(2);
  }

  static ::mlir::StringAttr getNameAttrName(::mlir::OperationName name) {
    return getAttributeNameForIndex(name, 2);
  }

  ::mlir::StringAttr getOperandSegmentSizesAttrName() {
    return getAttributeNameForIndex(3);
  }

  static ::mlir::StringAttr getOperandSegmentSizesAttrName(::mlir::OperationName name) {
    return getAttributeNameForIndex(name, 3);
  }

  ::mlir::StringAttr getStructuredAttrName() {
    return getAttributeNameForIndex(4);
  }

  static ::mlir::StringAttr getStructuredAttrName(::mlir::OperationName name) {
    return getAttributeNameForIndex(name, 4);
  }

  static constexpr ::llvm::StringLiteral getOperationName() {
    return ::llvm::StringLiteral("acc.create");
  }

  std::pair<unsigned, unsigned> getODSOperandIndexAndLength(unsigned index);
  ::mlir::Operation::operand_range getODSOperands(unsigned index);
  ::mlir::TypedValue<::mlir::acc::PointerLikeType> getVarPtr();
  ::mlir::TypedValue<::mlir::acc::PointerLikeType> getVarPtrPtr();
  ::mlir::Operation::operand_range getBounds();
  ::mlir::MutableOperandRange getVarPtrMutable();
  ::mlir::MutableOperandRange getVarPtrPtrMutable();
  ::mlir::MutableOperandRange getBoundsMutable();
  std::pair<unsigned, unsigned> getODSResultIndexAndLength(unsigned index);
  ::mlir::Operation::result_range getODSResults(unsigned index);
  ::mlir::TypedValue<::mlir::acc::PointerLikeType> getAccPtr();
  ::mlir::acc::DataClauseAttr getDataClauseAttr();
  ::mlir::acc::DataClause getDataClause();
  ::mlir::BoolAttr getStructuredAttr();
  bool getStructured();
  ::mlir::BoolAttr getImplicitAttr();
  bool getImplicit();
  ::mlir::StringAttr getNameAttr();
  ::std::optional< ::llvm::StringRef > getName();
  void setDataClauseAttr(::mlir::acc::DataClauseAttr attr);
  void setDataClause(::mlir::acc::DataClause attrValue);
  void setStructuredAttr(::mlir::BoolAttr attr);
  void setStructured(bool attrValue);
  void setImplicitAttr(::mlir::BoolAttr attr);
  void setImplicit(bool attrValue);
  void setNameAttr(::mlir::StringAttr attr);
  void setName(::std::optional<::llvm::StringRef> attrValue);
  ::mlir::Attribute removeNameAttr();
  static void build(::mlir::OpBuilder &odsBuilder, ::mlir::OperationState &odsState, ::mlir::Type accPtr, ::mlir::Value varPtr, /*optional*/::mlir::Value varPtrPtr, ::mlir::ValueRange bounds, ::mlir::acc::DataClauseAttr dataClause, ::mlir::BoolAttr structured, ::mlir::BoolAttr implicit, /*optional*/::mlir::StringAttr name);
  static void build(::mlir::OpBuilder &odsBuilder, ::mlir::OperationState &odsState, ::mlir::TypeRange resultTypes, ::mlir::Value varPtr, /*optional*/::mlir::Value varPtrPtr, ::mlir::ValueRange bounds, ::mlir::acc::DataClauseAttr dataClause, ::mlir::BoolAttr structured, ::mlir::BoolAttr implicit, /*optional*/::mlir::StringAttr name);
  static void build(::mlir::OpBuilder &odsBuilder, ::mlir::OperationState &odsState, ::mlir::Type accPtr, ::mlir::Value varPtr, /*optional*/::mlir::Value varPtrPtr, ::mlir::ValueRange bounds, ::mlir::acc::DataClause dataClause, bool structured, bool implicit, /*optional*/::mlir::StringAttr name);
  static void build(::mlir::OpBuilder &odsBuilder, ::mlir::OperationState &odsState, ::mlir::TypeRange resultTypes, ::mlir::Value varPtr, /*optional*/::mlir::Value varPtrPtr, ::mlir::ValueRange bounds, ::mlir::acc::DataClause dataClause, bool structured, bool implicit, /*optional*/::mlir::StringAttr name);
  static void build(::mlir::OpBuilder &, ::mlir::OperationState &odsState, ::mlir::TypeRange resultTypes, ::mlir::ValueRange operands, ::llvm::ArrayRef<::mlir::NamedAttribute> attributes = {});
  static void populateDefaultAttrs(const ::mlir::OperationName &opName, ::mlir::NamedAttrList &attributes);
  ::mlir::LogicalResult verifyInvariantsImpl();
  ::mlir::LogicalResult verifyInvariants();
  ::mlir::LogicalResult verify();
  static ::mlir::ParseResult parse(::mlir::OpAsmParser &parser, ::mlir::OperationState &result);
  void print(::mlir::OpAsmPrinter &_odsPrinter);
private:
  ::mlir::StringAttr getAttributeNameForIndex(unsigned index) {
    return getAttributeNameForIndex((*this)->getName(), index);
  }

  static ::mlir::StringAttr getAttributeNameForIndex(::mlir::OperationName name, unsigned index) {
    assert(index < 5 && "invalid attribute index");
    assert(name.getStringRef() == getOperationName() && "invalid operation name");
    return name.getAttributeNames()[index];
  }

public:
  /// Check if this is a create with zero modifier.
  bool isCreateZero();
};
} // namespace acc
} // namespace mlir
MLIR_DECLARE_EXPLICIT_TYPE_ID(::mlir::acc::CreateOp)

namespace mlir {
namespace acc {

//===----------------------------------------------------------------------===//
// ::mlir::acc::DataBoundsOp declarations
//===----------------------------------------------------------------------===//

namespace detail {
class DataBoundsOpGenericAdaptorBase {
protected:
  ::mlir::DictionaryAttr odsAttrs;
  ::mlir::RegionRange odsRegions;
  ::std::optional<::mlir::OperationName> odsOpName;
public:
  DataBoundsOpGenericAdaptorBase(::mlir::DictionaryAttr attrs, ::mlir::RegionRange regions = {});

  std::pair<unsigned, unsigned> getODSOperandIndexAndLength(unsigned index, unsigned odsOperandsSize);
  ::mlir::DictionaryAttr getAttributes();
  ::mlir::BoolAttr getStrideInBytesAttr();
  bool getStrideInBytes();
};
} // namespace detail
template <typename RangeT>
class DataBoundsOpGenericAdaptor : public detail::DataBoundsOpGenericAdaptorBase {
  using ValueT = ::llvm::detail::ValueOfRange<RangeT>;
  using Base = detail::DataBoundsOpGenericAdaptorBase;
public:
  DataBoundsOpGenericAdaptor(RangeT values, ::mlir::DictionaryAttr attrs, ::mlir::RegionRange regions = {}) : Base(attrs, regions), odsOperands(values) {}

  std::pair<unsigned, unsigned> getODSOperandIndexAndLength(unsigned index) {
    return Base::getODSOperandIndexAndLength(index, odsOperands.size());
  }

  RangeT getODSOperands(unsigned index) {
    auto valueRange = getODSOperandIndexAndLength(index);
    return {std::next(odsOperands.begin(), valueRange.first),
             std::next(odsOperands.begin(), valueRange.first + valueRange.second)};
  }

  ValueT getLowerbound() {
    auto operands = getODSOperands(0);
    return operands.empty() ? ValueT{} : (*operands.begin());
  }

  ValueT getUpperbound() {
    auto operands = getODSOperands(1);
    return operands.empty() ? ValueT{} : (*operands.begin());
  }

  ValueT getExtent() {
    auto operands = getODSOperands(2);
    return operands.empty() ? ValueT{} : (*operands.begin());
  }

  ValueT getStride() {
    auto operands = getODSOperands(3);
    return operands.empty() ? ValueT{} : (*operands.begin());
  }

  ValueT getStartIdx() {
    auto operands = getODSOperands(4);
    return operands.empty() ? ValueT{} : (*operands.begin());
  }

  RangeT getOperands() {
    return odsOperands;
  }

private:
  RangeT odsOperands;
};
class DataBoundsOpAdaptor : public DataBoundsOpGenericAdaptor<::mlir::ValueRange> {
public:
  using DataBoundsOpGenericAdaptor::DataBoundsOpGenericAdaptor;
  DataBoundsOpAdaptor(DataBoundsOp op);

  ::mlir::LogicalResult verify(::mlir::Location loc);
};
class DataBoundsOp : public ::mlir::Op<DataBoundsOp, ::mlir::OpTrait::ZeroRegions, ::mlir::OpTrait::OneResult, ::mlir::OpTrait::OneTypedResult<::mlir::acc::DataBoundsType>::Impl, ::mlir::OpTrait::ZeroSuccessors, ::mlir::OpTrait::VariadicOperands, ::mlir::OpTrait::AttrSizedOperandSegments, ::mlir::OpTrait::OpInvariants, ::mlir::MemoryEffectOpInterface::Trait> {
public:
  using Op::Op;
  using Op::print;
  using Adaptor = DataBoundsOpAdaptor;
  template <typename RangeT>
  using GenericAdaptor = DataBoundsOpGenericAdaptor<RangeT>;
  using FoldAdaptor = GenericAdaptor<::llvm::ArrayRef<::mlir::Attribute>>;
  static ::llvm::ArrayRef<::llvm::StringRef> getAttributeNames() {
    static ::llvm::StringRef attrNames[] = {::llvm::StringRef("operand_segment_sizes"), ::llvm::StringRef("strideInBytes")};
    return ::llvm::ArrayRef(attrNames);
  }

  ::mlir::StringAttr getOperandSegmentSizesAttrName() {
    return getAttributeNameForIndex(0);
  }

  static ::mlir::StringAttr getOperandSegmentSizesAttrName(::mlir::OperationName name) {
    return getAttributeNameForIndex(name, 0);
  }

  ::mlir::StringAttr getStrideInBytesAttrName() {
    return getAttributeNameForIndex(1);
  }

  static ::mlir::StringAttr getStrideInBytesAttrName(::mlir::OperationName name) {
    return getAttributeNameForIndex(name, 1);
  }

  static constexpr ::llvm::StringLiteral getOperationName() {
    return ::llvm::StringLiteral("acc.bounds");
  }

  std::pair<unsigned, unsigned> getODSOperandIndexAndLength(unsigned index);
  ::mlir::Operation::operand_range getODSOperands(unsigned index);
  ::mlir::Value getLowerbound();
  ::mlir::Value getUpperbound();
  ::mlir::Value getExtent();
  ::mlir::Value getStride();
  ::mlir::Value getStartIdx();
  ::mlir::MutableOperandRange getLowerboundMutable();
  ::mlir::MutableOperandRange getUpperboundMutable();
  ::mlir::MutableOperandRange getExtentMutable();
  ::mlir::MutableOperandRange getStrideMutable();
  ::mlir::MutableOperandRange getStartIdxMutable();
  std::pair<unsigned, unsigned> getODSResultIndexAndLength(unsigned index);
  ::mlir::Operation::result_range getODSResults(unsigned index);
  ::mlir::TypedValue<::mlir::acc::DataBoundsType> getResult();
  ::mlir::BoolAttr getStrideInBytesAttr();
  bool getStrideInBytes();
  void setStrideInBytesAttr(::mlir::BoolAttr attr);
  void setStrideInBytes(bool attrValue);
  static void build(::mlir::OpBuilder &odsBuilder, ::mlir::OperationState &odsState, ::mlir::Type result, /*optional*/::mlir::Value lowerbound, /*optional*/::mlir::Value upperbound, /*optional*/::mlir::Value extent, /*optional*/::mlir::Value stride, ::mlir::BoolAttr strideInBytes, /*optional*/::mlir::Value startIdx);
  static void build(::mlir::OpBuilder &odsBuilder, ::mlir::OperationState &odsState, ::mlir::TypeRange resultTypes, /*optional*/::mlir::Value lowerbound, /*optional*/::mlir::Value upperbound, /*optional*/::mlir::Value extent, /*optional*/::mlir::Value stride, ::mlir::BoolAttr strideInBytes, /*optional*/::mlir::Value startIdx);
  static void build(::mlir::OpBuilder &odsBuilder, ::mlir::OperationState &odsState, ::mlir::Type result, /*optional*/::mlir::Value lowerbound, /*optional*/::mlir::Value upperbound, /*optional*/::mlir::Value extent, /*optional*/::mlir::Value stride, bool strideInBytes, /*optional*/::mlir::Value startIdx);
  static void build(::mlir::OpBuilder &odsBuilder, ::mlir::OperationState &odsState, ::mlir::TypeRange resultTypes, /*optional*/::mlir::Value lowerbound, /*optional*/::mlir::Value upperbound, /*optional*/::mlir::Value extent, /*optional*/::mlir::Value stride, bool strideInBytes, /*optional*/::mlir::Value startIdx);
  static void build(::mlir::OpBuilder &, ::mlir::OperationState &odsState, ::mlir::TypeRange resultTypes, ::mlir::ValueRange operands, ::llvm::ArrayRef<::mlir::NamedAttribute> attributes = {});
  static void populateDefaultAttrs(const ::mlir::OperationName &opName, ::mlir::NamedAttrList &attributes);
  ::mlir::LogicalResult verifyInvariantsImpl();
  ::mlir::LogicalResult verifyInvariants();
  ::mlir::LogicalResult verify();
  static ::mlir::ParseResult parse(::mlir::OpAsmParser &parser, ::mlir::OperationState &result);
  void print(::mlir::OpAsmPrinter &_odsPrinter);
  void getEffects(::llvm::SmallVectorImpl<::mlir::SideEffects::EffectInstance<::mlir::MemoryEffects::Effect>> &effects);
private:
  ::mlir::StringAttr getAttributeNameForIndex(unsigned index) {
    return getAttributeNameForIndex((*this)->getName(), index);
  }

  static ::mlir::StringAttr getAttributeNameForIndex(::mlir::OperationName name, unsigned index) {
    assert(index < 2 && "invalid attribute index");
    assert(name.getStringRef() == getOperationName() && "invalid operation name");
    return name.getAttributeNames()[index];
  }

public:
};
} // namespace acc
} // namespace mlir
MLIR_DECLARE_EXPLICIT_TYPE_ID(::mlir::acc::DataBoundsOp)

namespace mlir {
namespace acc {

//===----------------------------------------------------------------------===//
// ::mlir::acc::DataOp declarations
//===----------------------------------------------------------------------===//

namespace detail {
class DataOpGenericAdaptorBase {
protected:
  ::mlir::DictionaryAttr odsAttrs;
  ::mlir::RegionRange odsRegions;
  ::std::optional<::mlir::OperationName> odsOpName;
public:
  DataOpGenericAdaptorBase(::mlir::DictionaryAttr attrs, ::mlir::RegionRange regions = {});

  std::pair<unsigned, unsigned> getODSOperandIndexAndLength(unsigned index, unsigned odsOperandsSize);
  ::mlir::DictionaryAttr getAttributes();
  ::mlir::acc::ClauseDefaultValueAttr getDefaultAttrAttr();
  ::std::optional<::mlir::acc::ClauseDefaultValue> getDefaultAttr();
  ::mlir::Region &getRegion();
  ::mlir::RegionRange getRegions();
};
} // namespace detail
template <typename RangeT>
class DataOpGenericAdaptor : public detail::DataOpGenericAdaptorBase {
  using ValueT = ::llvm::detail::ValueOfRange<RangeT>;
  using Base = detail::DataOpGenericAdaptorBase;
public:
  DataOpGenericAdaptor(RangeT values, ::mlir::DictionaryAttr attrs, ::mlir::RegionRange regions = {}) : Base(attrs, regions), odsOperands(values) {}

  std::pair<unsigned, unsigned> getODSOperandIndexAndLength(unsigned index) {
    return Base::getODSOperandIndexAndLength(index, odsOperands.size());
  }

  RangeT getODSOperands(unsigned index) {
    auto valueRange = getODSOperandIndexAndLength(index);
    return {std::next(odsOperands.begin(), valueRange.first),
             std::next(odsOperands.begin(), valueRange.first + valueRange.second)};
  }

  ValueT getIfCond() {
    auto operands = getODSOperands(0);
    return operands.empty() ? ValueT{} : (*operands.begin());
  }

  RangeT getCopyOperands() {
    return getODSOperands(1);
  }

  RangeT getCopyinOperands() {
    return getODSOperands(2);
  }

  RangeT getCopyinReadonlyOperands() {
    return getODSOperands(3);
  }

  RangeT getCopyoutOperands() {
    return getODSOperands(4);
  }

  RangeT getCopyoutZeroOperands() {
    return getODSOperands(5);
  }

  RangeT getCreateOperands() {
    return getODSOperands(6);
  }

  RangeT getCreateZeroOperands() {
    return getODSOperands(7);
  }

  RangeT getNoCreateOperands() {
    return getODSOperands(8);
  }

  RangeT getPresentOperands() {
    return getODSOperands(9);
  }

  RangeT getDeviceptrOperands() {
    return getODSOperands(10);
  }

  RangeT getAttachOperands() {
    return getODSOperands(11);
  }

  RangeT getDataClauseOperands() {
    return getODSOperands(12);
  }

  RangeT getOperands() {
    return odsOperands;
  }

private:
  RangeT odsOperands;
};
class DataOpAdaptor : public DataOpGenericAdaptor<::mlir::ValueRange> {
public:
  using DataOpGenericAdaptor::DataOpGenericAdaptor;
  DataOpAdaptor(DataOp op);

  ::mlir::LogicalResult verify(::mlir::Location loc);
};
class DataOp : public ::mlir::Op<DataOp, ::mlir::OpTrait::OneRegion, ::mlir::OpTrait::ZeroResults, ::mlir::OpTrait::ZeroSuccessors, ::mlir::OpTrait::VariadicOperands, ::mlir::OpTrait::AttrSizedOperandSegments, ::mlir::OpTrait::OpInvariants, ::mlir::OpTrait::HasRecursiveMemoryEffects> {
public:
  using Op::Op;
  using Op::print;
  using Adaptor = DataOpAdaptor;
  template <typename RangeT>
  using GenericAdaptor = DataOpGenericAdaptor<RangeT>;
  using FoldAdaptor = GenericAdaptor<::llvm::ArrayRef<::mlir::Attribute>>;
  static ::llvm::ArrayRef<::llvm::StringRef> getAttributeNames() {
    static ::llvm::StringRef attrNames[] = {::llvm::StringRef("defaultAttr"), ::llvm::StringRef("operand_segment_sizes")};
    return ::llvm::ArrayRef(attrNames);
  }

  ::mlir::StringAttr getDefaultAttrAttrName() {
    return getAttributeNameForIndex(0);
  }

  static ::mlir::StringAttr getDefaultAttrAttrName(::mlir::OperationName name) {
    return getAttributeNameForIndex(name, 0);
  }

  ::mlir::StringAttr getOperandSegmentSizesAttrName() {
    return getAttributeNameForIndex(1);
  }

  static ::mlir::StringAttr getOperandSegmentSizesAttrName(::mlir::OperationName name) {
    return getAttributeNameForIndex(name, 1);
  }

  static constexpr ::llvm::StringLiteral getOperationName() {
    return ::llvm::StringLiteral("acc.data");
  }

  std::pair<unsigned, unsigned> getODSOperandIndexAndLength(unsigned index);
  ::mlir::Operation::operand_range getODSOperands(unsigned index);
  ::mlir::TypedValue<::mlir::IntegerType> getIfCond();
  ::mlir::Operation::operand_range getCopyOperands();
  ::mlir::Operation::operand_range getCopyinOperands();
  ::mlir::Operation::operand_range getCopyinReadonlyOperands();
  ::mlir::Operation::operand_range getCopyoutOperands();
  ::mlir::Operation::operand_range getCopyoutZeroOperands();
  ::mlir::Operation::operand_range getCreateOperands();
  ::mlir::Operation::operand_range getCreateZeroOperands();
  ::mlir::Operation::operand_range getNoCreateOperands();
  ::mlir::Operation::operand_range getPresentOperands();
  ::mlir::Operation::operand_range getDeviceptrOperands();
  ::mlir::Operation::operand_range getAttachOperands();
  ::mlir::Operation::operand_range getDataClauseOperands();
  ::mlir::MutableOperandRange getIfCondMutable();
  ::mlir::MutableOperandRange getCopyOperandsMutable();
  ::mlir::MutableOperandRange getCopyinOperandsMutable();
  ::mlir::MutableOperandRange getCopyinReadonlyOperandsMutable();
  ::mlir::MutableOperandRange getCopyoutOperandsMutable();
  ::mlir::MutableOperandRange getCopyoutZeroOperandsMutable();
  ::mlir::MutableOperandRange getCreateOperandsMutable();
  ::mlir::MutableOperandRange getCreateZeroOperandsMutable();
  ::mlir::MutableOperandRange getNoCreateOperandsMutable();
  ::mlir::MutableOperandRange getPresentOperandsMutable();
  ::mlir::MutableOperandRange getDeviceptrOperandsMutable();
  ::mlir::MutableOperandRange getAttachOperandsMutable();
  ::mlir::MutableOperandRange getDataClauseOperandsMutable();
  std::pair<unsigned, unsigned> getODSResultIndexAndLength(unsigned index);
  ::mlir::Operation::result_range getODSResults(unsigned index);
  ::mlir::Region &getRegion();
  ::mlir::acc::ClauseDefaultValueAttr getDefaultAttrAttr();
  ::std::optional<::mlir::acc::ClauseDefaultValue> getDefaultAttr();
  void setDefaultAttrAttr(::mlir::acc::ClauseDefaultValueAttr attr);
  void setDefaultAttr(::std::optional<::mlir::acc::ClauseDefaultValue> attrValue);
  ::mlir::Attribute removeDefaultAttrAttr();
  static void build(::mlir::OpBuilder &odsBuilder, ::mlir::OperationState &odsState, /*optional*/::mlir::Value ifCond, ::mlir::ValueRange copyOperands, ::mlir::ValueRange copyinOperands, ::mlir::ValueRange copyinReadonlyOperands, ::mlir::ValueRange copyoutOperands, ::mlir::ValueRange copyoutZeroOperands, ::mlir::ValueRange createOperands, ::mlir::ValueRange createZeroOperands, ::mlir::ValueRange noCreateOperands, ::mlir::ValueRange presentOperands, ::mlir::ValueRange deviceptrOperands, ::mlir::ValueRange attachOperands, ::mlir::ValueRange dataClauseOperands, /*optional*/::mlir::acc::ClauseDefaultValueAttr defaultAttr);
  static void build(::mlir::OpBuilder &odsBuilder, ::mlir::OperationState &odsState, ::mlir::TypeRange resultTypes, /*optional*/::mlir::Value ifCond, ::mlir::ValueRange copyOperands, ::mlir::ValueRange copyinOperands, ::mlir::ValueRange copyinReadonlyOperands, ::mlir::ValueRange copyoutOperands, ::mlir::ValueRange copyoutZeroOperands, ::mlir::ValueRange createOperands, ::mlir::ValueRange createZeroOperands, ::mlir::ValueRange noCreateOperands, ::mlir::ValueRange presentOperands, ::mlir::ValueRange deviceptrOperands, ::mlir::ValueRange attachOperands, ::mlir::ValueRange dataClauseOperands, /*optional*/::mlir::acc::ClauseDefaultValueAttr defaultAttr);
  static void build(::mlir::OpBuilder &, ::mlir::OperationState &odsState, ::mlir::TypeRange resultTypes, ::mlir::ValueRange operands, ::llvm::ArrayRef<::mlir::NamedAttribute> attributes = {});
  ::mlir::LogicalResult verifyInvariantsImpl();
  ::mlir::LogicalResult verifyInvariants();
  ::mlir::LogicalResult verify();
  static ::mlir::ParseResult parse(::mlir::OpAsmParser &parser, ::mlir::OperationState &result);
  void print(::mlir::OpAsmPrinter &_odsPrinter);
private:
  ::mlir::StringAttr getAttributeNameForIndex(unsigned index) {
    return getAttributeNameForIndex((*this)->getName(), index);
  }

  static ::mlir::StringAttr getAttributeNameForIndex(::mlir::OperationName name, unsigned index) {
    assert(index < 2 && "invalid attribute index");
    assert(name.getStringRef() == getOperationName() && "invalid operation name");
    return name.getAttributeNames()[index];
  }

public:
  /// The number of data operands.
  unsigned getNumDataOperands();

  /// The i-th data operand passed.
  Value getDataOperand(unsigned i);
};
} // namespace acc
} // namespace mlir
MLIR_DECLARE_EXPLICIT_TYPE_ID(::mlir::acc::DataOp)

namespace mlir {
namespace acc {

//===----------------------------------------------------------------------===//
// ::mlir::acc::DeleteOp declarations
//===----------------------------------------------------------------------===//

namespace detail {
class DeleteOpGenericAdaptorBase {
protected:
  ::mlir::DictionaryAttr odsAttrs;
  ::mlir::RegionRange odsRegions;
  ::std::optional<::mlir::OperationName> odsOpName;
public:
  DeleteOpGenericAdaptorBase(::mlir::DictionaryAttr attrs, ::mlir::RegionRange regions = {});

  std::pair<unsigned, unsigned> getODSOperandIndexAndLength(unsigned index, unsigned odsOperandsSize);
  ::mlir::DictionaryAttr getAttributes();
  ::mlir::acc::DataClauseAttr getDataClauseAttr();
  ::mlir::acc::DataClause getDataClause();
  ::mlir::BoolAttr getStructuredAttr();
  bool getStructured();
  ::mlir::BoolAttr getImplicitAttr();
  bool getImplicit();
  ::mlir::StringAttr getNameAttr();
  ::std::optional< ::llvm::StringRef > getName();
};
} // namespace detail
template <typename RangeT>
class DeleteOpGenericAdaptor : public detail::DeleteOpGenericAdaptorBase {
  using ValueT = ::llvm::detail::ValueOfRange<RangeT>;
  using Base = detail::DeleteOpGenericAdaptorBase;
public:
  DeleteOpGenericAdaptor(RangeT values, ::mlir::DictionaryAttr attrs, ::mlir::RegionRange regions = {}) : Base(attrs, regions), odsOperands(values) {}

  std::pair<unsigned, unsigned> getODSOperandIndexAndLength(unsigned index) {
    return Base::getODSOperandIndexAndLength(index, odsOperands.size());
  }

  RangeT getODSOperands(unsigned index) {
    auto valueRange = getODSOperandIndexAndLength(index);
    return {std::next(odsOperands.begin(), valueRange.first),
             std::next(odsOperands.begin(), valueRange.first + valueRange.second)};
  }

  ValueT getVarPtr() {
    auto operands = getODSOperands(0);
    return operands.empty() ? ValueT{} : (*operands.begin());
  }

  ValueT getAccPtr() {
    return (*getODSOperands(1).begin());
  }

  RangeT getBounds() {
    return getODSOperands(2);
  }

  RangeT getOperands() {
    return odsOperands;
  }

private:
  RangeT odsOperands;
};
class DeleteOpAdaptor : public DeleteOpGenericAdaptor<::mlir::ValueRange> {
public:
  using DeleteOpGenericAdaptor::DeleteOpGenericAdaptor;
  DeleteOpAdaptor(DeleteOp op);

  ::mlir::LogicalResult verify(::mlir::Location loc);
};
class DeleteOp : public ::mlir::Op<DeleteOp, ::mlir::OpTrait::ZeroRegions, ::mlir::OpTrait::ZeroResults, ::mlir::OpTrait::ZeroSuccessors, ::mlir::OpTrait::AtLeastNOperands<1>::Impl, ::mlir::OpTrait::AttrSizedOperandSegments, ::mlir::OpTrait::OpInvariants> {
public:
  using Op::Op;
  using Op::print;
  using Adaptor = DeleteOpAdaptor;
  template <typename RangeT>
  using GenericAdaptor = DeleteOpGenericAdaptor<RangeT>;
  using FoldAdaptor = GenericAdaptor<::llvm::ArrayRef<::mlir::Attribute>>;
  static ::llvm::ArrayRef<::llvm::StringRef> getAttributeNames() {
    static ::llvm::StringRef attrNames[] = {::llvm::StringRef("dataClause"), ::llvm::StringRef("implicit"), ::llvm::StringRef("name"), ::llvm::StringRef("operand_segment_sizes"), ::llvm::StringRef("structured")};
    return ::llvm::ArrayRef(attrNames);
  }

  ::mlir::StringAttr getDataClauseAttrName() {
    return getAttributeNameForIndex(0);
  }

  static ::mlir::StringAttr getDataClauseAttrName(::mlir::OperationName name) {
    return getAttributeNameForIndex(name, 0);
  }

  ::mlir::StringAttr getImplicitAttrName() {
    return getAttributeNameForIndex(1);
  }

  static ::mlir::StringAttr getImplicitAttrName(::mlir::OperationName name) {
    return getAttributeNameForIndex(name, 1);
  }

  ::mlir::StringAttr getNameAttrName() {
    return getAttributeNameForIndex(2);
  }

  static ::mlir::StringAttr getNameAttrName(::mlir::OperationName name) {
    return getAttributeNameForIndex(name, 2);
  }

  ::mlir::StringAttr getOperandSegmentSizesAttrName() {
    return getAttributeNameForIndex(3);
  }

  static ::mlir::StringAttr getOperandSegmentSizesAttrName(::mlir::OperationName name) {
    return getAttributeNameForIndex(name, 3);
  }

  ::mlir::StringAttr getStructuredAttrName() {
    return getAttributeNameForIndex(4);
  }

  static ::mlir::StringAttr getStructuredAttrName(::mlir::OperationName name) {
    return getAttributeNameForIndex(name, 4);
  }

  static constexpr ::llvm::StringLiteral getOperationName() {
    return ::llvm::StringLiteral("acc.delete");
  }

  std::pair<unsigned, unsigned> getODSOperandIndexAndLength(unsigned index);
  ::mlir::Operation::operand_range getODSOperands(unsigned index);
  ::mlir::TypedValue<::mlir::acc::PointerLikeType> getVarPtr();
  ::mlir::TypedValue<::mlir::acc::PointerLikeType> getAccPtr();
  ::mlir::Operation::operand_range getBounds();
  ::mlir::MutableOperandRange getVarPtrMutable();
  ::mlir::MutableOperandRange getAccPtrMutable();
  ::mlir::MutableOperandRange getBoundsMutable();
  std::pair<unsigned, unsigned> getODSResultIndexAndLength(unsigned index);
  ::mlir::Operation::result_range getODSResults(unsigned index);
  ::mlir::acc::DataClauseAttr getDataClauseAttr();
  ::mlir::acc::DataClause getDataClause();
  ::mlir::BoolAttr getStructuredAttr();
  bool getStructured();
  ::mlir::BoolAttr getImplicitAttr();
  bool getImplicit();
  ::mlir::StringAttr getNameAttr();
  ::std::optional< ::llvm::StringRef > getName();
  void setDataClauseAttr(::mlir::acc::DataClauseAttr attr);
  void setDataClause(::mlir::acc::DataClause attrValue);
  void setStructuredAttr(::mlir::BoolAttr attr);
  void setStructured(bool attrValue);
  void setImplicitAttr(::mlir::BoolAttr attr);
  void setImplicit(bool attrValue);
  void setNameAttr(::mlir::StringAttr attr);
  void setName(::std::optional<::llvm::StringRef> attrValue);
  ::mlir::Attribute removeNameAttr();
  static void build(::mlir::OpBuilder &odsBuilder, ::mlir::OperationState &odsState, /*optional*/::mlir::Value varPtr, ::mlir::Value accPtr, ::mlir::ValueRange bounds, ::mlir::acc::DataClauseAttr dataClause, ::mlir::BoolAttr structured, ::mlir::BoolAttr implicit, /*optional*/::mlir::StringAttr name);
  static void build(::mlir::OpBuilder &odsBuilder, ::mlir::OperationState &odsState, ::mlir::TypeRange resultTypes, /*optional*/::mlir::Value varPtr, ::mlir::Value accPtr, ::mlir::ValueRange bounds, ::mlir::acc::DataClauseAttr dataClause, ::mlir::BoolAttr structured, ::mlir::BoolAttr implicit, /*optional*/::mlir::StringAttr name);
  static void build(::mlir::OpBuilder &odsBuilder, ::mlir::OperationState &odsState, /*optional*/::mlir::Value varPtr, ::mlir::Value accPtr, ::mlir::ValueRange bounds, ::mlir::acc::DataClause dataClause, bool structured, bool implicit, /*optional*/::mlir::StringAttr name);
  static void build(::mlir::OpBuilder &odsBuilder, ::mlir::OperationState &odsState, ::mlir::TypeRange resultTypes, /*optional*/::mlir::Value varPtr, ::mlir::Value accPtr, ::mlir::ValueRange bounds, ::mlir::acc::DataClause dataClause, bool structured, bool implicit, /*optional*/::mlir::StringAttr name);
  static void build(::mlir::OpBuilder &, ::mlir::OperationState &odsState, ::mlir::TypeRange resultTypes, ::mlir::ValueRange operands, ::llvm::ArrayRef<::mlir::NamedAttribute> attributes = {});
  static void populateDefaultAttrs(const ::mlir::OperationName &opName, ::mlir::NamedAttrList &attributes);
  ::mlir::LogicalResult verifyInvariantsImpl();
  ::mlir::LogicalResult verifyInvariants();
  ::mlir::LogicalResult verify();
  static ::mlir::ParseResult parse(::mlir::OpAsmParser &parser, ::mlir::OperationState &result);
  void print(::mlir::OpAsmPrinter &_odsPrinter);
private:
  ::mlir::StringAttr getAttributeNameForIndex(unsigned index) {
    return getAttributeNameForIndex((*this)->getName(), index);
  }

  static ::mlir::StringAttr getAttributeNameForIndex(::mlir::OperationName name, unsigned index) {
    assert(index < 5 && "invalid attribute index");
    assert(name.getStringRef() == getOperationName() && "invalid operation name");
    return name.getAttributeNames()[index];
  }

public:
};
} //